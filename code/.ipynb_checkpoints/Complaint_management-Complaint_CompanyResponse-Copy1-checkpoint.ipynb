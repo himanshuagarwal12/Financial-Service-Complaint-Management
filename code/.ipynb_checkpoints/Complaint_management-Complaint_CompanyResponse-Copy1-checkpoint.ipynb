{
 "cells": [
  {
   "cell_type": "code",
   "execution_count": 1,
   "metadata": {
    "collapsed": false
   },
   "outputs": [],
   "source": [
    "import pandas as pd\n",
    "from pandas import DataFrame, Series\n",
    "import numpy as np\n",
    "import matplotlib.pyplot as plt\n",
    "import datetime\n",
    "import random\n",
    "from sklearn.feature_extraction.text import TfidfVectorizer,CountVectorizer\n",
    "from sklearn.preprocessing import StandardScaler\n",
    "%matplotlib inline"
   ]
  },
  {
   "cell_type": "markdown",
   "metadata": {},
   "source": [
    "# Exploratory Data Analysis"
   ]
  },
  {
   "cell_type": "markdown",
   "metadata": {},
   "source": [
    "## Data Overview"
   ]
  },
  {
   "cell_type": "code",
   "execution_count": 2,
   "metadata": {
    "collapsed": false
   },
   "outputs": [
    {
     "name": "stderr",
     "output_type": "stream",
     "text": [
      "/home/ubuntu/anaconda2/lib/python2.7/site-packages/IPython/core/interactiveshell.py:2902: DtypeWarning: Columns (5,6,11) have mixed types. Specify dtype option on import or set low_memory=False.\n",
      "  interactivity=interactivity, compiler=compiler, result=result)\n"
     ]
    }
   ],
   "source": [
    "df=pd.read_csv('Consumer_complaints.csv')"
   ]
  },
  {
   "cell_type": "code",
   "execution_count": 3,
   "metadata": {
    "collapsed": false,
    "scrolled": false
   },
   "outputs": [
    {
     "data": {
      "text/html": [
       "<div>\n",
       "<table border=\"1\" class=\"dataframe\">\n",
       "  <thead>\n",
       "    <tr style=\"text-align: right;\">\n",
       "      <th></th>\n",
       "      <th>0</th>\n",
       "      <th>1</th>\n",
       "      <th>2</th>\n",
       "      <th>3</th>\n",
       "      <th>4</th>\n",
       "    </tr>\n",
       "  </thead>\n",
       "  <tbody>\n",
       "    <tr>\n",
       "      <th>Date received</th>\n",
       "      <td>03/21/2016</td>\n",
       "      <td>03/21/2016</td>\n",
       "      <td>03/21/2016</td>\n",
       "      <td>03/21/2016</td>\n",
       "      <td>03/21/2016</td>\n",
       "    </tr>\n",
       "    <tr>\n",
       "      <th>Product</th>\n",
       "      <td>Debt collection</td>\n",
       "      <td>Consumer Loan</td>\n",
       "      <td>Debt collection</td>\n",
       "      <td>Consumer Loan</td>\n",
       "      <td>Bank account or service</td>\n",
       "    </tr>\n",
       "    <tr>\n",
       "      <th>Sub-product</th>\n",
       "      <td>Other (i.e. phone, health club, etc.)</td>\n",
       "      <td>Personal line of credit</td>\n",
       "      <td>Other (i.e. phone, health club, etc.)</td>\n",
       "      <td>Vehicle loan</td>\n",
       "      <td>Checking account</td>\n",
       "    </tr>\n",
       "    <tr>\n",
       "      <th>Issue</th>\n",
       "      <td>Cont'd attempts collect debt not owed</td>\n",
       "      <td>Problems when you are unable to pay</td>\n",
       "      <td>Cont'd attempts collect debt not owed</td>\n",
       "      <td>Taking out the loan or lease</td>\n",
       "      <td>Problems caused by my funds being low</td>\n",
       "    </tr>\n",
       "    <tr>\n",
       "      <th>Sub-issue</th>\n",
       "      <td>Debt was paid</td>\n",
       "      <td>NaN</td>\n",
       "      <td>Debt is not mine</td>\n",
       "      <td>NaN</td>\n",
       "      <td>NaN</td>\n",
       "    </tr>\n",
       "    <tr>\n",
       "      <th>Consumer complaint narrative</th>\n",
       "      <td>NaN</td>\n",
       "      <td>NaN</td>\n",
       "      <td>NaN</td>\n",
       "      <td>NaN</td>\n",
       "      <td>NaN</td>\n",
       "    </tr>\n",
       "    <tr>\n",
       "      <th>Company public response</th>\n",
       "      <td>Company believes it acted appropriately as aut...</td>\n",
       "      <td>NaN</td>\n",
       "      <td>NaN</td>\n",
       "      <td>NaN</td>\n",
       "      <td>NaN</td>\n",
       "    </tr>\n",
       "    <tr>\n",
       "      <th>Company</th>\n",
       "      <td>Eastern Account Systems of Connecticut, Inc.</td>\n",
       "      <td>OneMain Financial Holdings, LLC</td>\n",
       "      <td>Transworld Systems Inc.</td>\n",
       "      <td>Navy FCU</td>\n",
       "      <td>Navy FCU</td>\n",
       "    </tr>\n",
       "    <tr>\n",
       "      <th>State</th>\n",
       "      <td>CA</td>\n",
       "      <td>AL</td>\n",
       "      <td>CT</td>\n",
       "      <td>VA</td>\n",
       "      <td>IN</td>\n",
       "    </tr>\n",
       "    <tr>\n",
       "      <th>ZIP code</th>\n",
       "      <td>900XX</td>\n",
       "      <td>35094</td>\n",
       "      <td>06516</td>\n",
       "      <td>235XX</td>\n",
       "      <td>46143</td>\n",
       "    </tr>\n",
       "    <tr>\n",
       "      <th>Tags</th>\n",
       "      <td>NaN</td>\n",
       "      <td>NaN</td>\n",
       "      <td>NaN</td>\n",
       "      <td>Servicemember</td>\n",
       "      <td>NaN</td>\n",
       "    </tr>\n",
       "    <tr>\n",
       "      <th>Consumer consent provided?</th>\n",
       "      <td>NaN</td>\n",
       "      <td>NaN</td>\n",
       "      <td>NaN</td>\n",
       "      <td>NaN</td>\n",
       "      <td>NaN</td>\n",
       "    </tr>\n",
       "    <tr>\n",
       "      <th>Submitted via</th>\n",
       "      <td>Web</td>\n",
       "      <td>Phone</td>\n",
       "      <td>Web</td>\n",
       "      <td>Web</td>\n",
       "      <td>Referral</td>\n",
       "    </tr>\n",
       "    <tr>\n",
       "      <th>Date sent to company</th>\n",
       "      <td>03/21/2016</td>\n",
       "      <td>03/21/2016</td>\n",
       "      <td>03/21/2016</td>\n",
       "      <td>03/21/2016</td>\n",
       "      <td>03/21/2016</td>\n",
       "    </tr>\n",
       "    <tr>\n",
       "      <th>Company response to consumer</th>\n",
       "      <td>Closed with explanation</td>\n",
       "      <td>In progress</td>\n",
       "      <td>In progress</td>\n",
       "      <td>In progress</td>\n",
       "      <td>In progress</td>\n",
       "    </tr>\n",
       "    <tr>\n",
       "      <th>Timely response?</th>\n",
       "      <td>Yes</td>\n",
       "      <td>Yes</td>\n",
       "      <td>Yes</td>\n",
       "      <td>Yes</td>\n",
       "      <td>Yes</td>\n",
       "    </tr>\n",
       "    <tr>\n",
       "      <th>Consumer disputed?</th>\n",
       "      <td>No</td>\n",
       "      <td>No</td>\n",
       "      <td>No</td>\n",
       "      <td>No</td>\n",
       "      <td>No</td>\n",
       "    </tr>\n",
       "    <tr>\n",
       "      <th>Complaint ID</th>\n",
       "      <td>1841695</td>\n",
       "      <td>1842862</td>\n",
       "      <td>1841754</td>\n",
       "      <td>1841976</td>\n",
       "      <td>1842011</td>\n",
       "    </tr>\n",
       "  </tbody>\n",
       "</table>\n",
       "</div>"
      ],
      "text/plain": [
       "                                                                              0  \\\n",
       "Date received                                                        03/21/2016   \n",
       "Product                                                         Debt collection   \n",
       "Sub-product                               Other (i.e. phone, health club, etc.)   \n",
       "Issue                                     Cont'd attempts collect debt not owed   \n",
       "Sub-issue                                                         Debt was paid   \n",
       "Consumer complaint narrative                                                NaN   \n",
       "Company public response       Company believes it acted appropriately as aut...   \n",
       "Company                            Eastern Account Systems of Connecticut, Inc.   \n",
       "State                                                                        CA   \n",
       "ZIP code                                                                  900XX   \n",
       "Tags                                                                        NaN   \n",
       "Consumer consent provided?                                                  NaN   \n",
       "Submitted via                                                               Web   \n",
       "Date sent to company                                                 03/21/2016   \n",
       "Company response to consumer                            Closed with explanation   \n",
       "Timely response?                                                            Yes   \n",
       "Consumer disputed?                                                           No   \n",
       "Complaint ID                                                            1841695   \n",
       "\n",
       "                                                                1  \\\n",
       "Date received                                          03/21/2016   \n",
       "Product                                             Consumer Loan   \n",
       "Sub-product                               Personal line of credit   \n",
       "Issue                         Problems when you are unable to pay   \n",
       "Sub-issue                                                     NaN   \n",
       "Consumer complaint narrative                                  NaN   \n",
       "Company public response                                       NaN   \n",
       "Company                           OneMain Financial Holdings, LLC   \n",
       "State                                                          AL   \n",
       "ZIP code                                                    35094   \n",
       "Tags                                                          NaN   \n",
       "Consumer consent provided?                                    NaN   \n",
       "Submitted via                                               Phone   \n",
       "Date sent to company                                   03/21/2016   \n",
       "Company response to consumer                          In progress   \n",
       "Timely response?                                              Yes   \n",
       "Consumer disputed?                                             No   \n",
       "Complaint ID                                              1842862   \n",
       "\n",
       "                                                                  2  \\\n",
       "Date received                                            03/21/2016   \n",
       "Product                                             Debt collection   \n",
       "Sub-product                   Other (i.e. phone, health club, etc.)   \n",
       "Issue                         Cont'd attempts collect debt not owed   \n",
       "Sub-issue                                          Debt is not mine   \n",
       "Consumer complaint narrative                                    NaN   \n",
       "Company public response                                         NaN   \n",
       "Company                                     Transworld Systems Inc.   \n",
       "State                                                            CT   \n",
       "ZIP code                                                      06516   \n",
       "Tags                                                            NaN   \n",
       "Consumer consent provided?                                      NaN   \n",
       "Submitted via                                                   Web   \n",
       "Date sent to company                                     03/21/2016   \n",
       "Company response to consumer                            In progress   \n",
       "Timely response?                                                Yes   \n",
       "Consumer disputed?                                               No   \n",
       "Complaint ID                                                1841754   \n",
       "\n",
       "                                                         3  \\\n",
       "Date received                                   03/21/2016   \n",
       "Product                                      Consumer Loan   \n",
       "Sub-product                                   Vehicle loan   \n",
       "Issue                         Taking out the loan or lease   \n",
       "Sub-issue                                              NaN   \n",
       "Consumer complaint narrative                           NaN   \n",
       "Company public response                                NaN   \n",
       "Company                                           Navy FCU   \n",
       "State                                                   VA   \n",
       "ZIP code                                             235XX   \n",
       "Tags                                         Servicemember   \n",
       "Consumer consent provided?                             NaN   \n",
       "Submitted via                                          Web   \n",
       "Date sent to company                            03/21/2016   \n",
       "Company response to consumer                   In progress   \n",
       "Timely response?                                       Yes   \n",
       "Consumer disputed?                                      No   \n",
       "Complaint ID                                       1841976   \n",
       "\n",
       "                                                                  4  \n",
       "Date received                                            03/21/2016  \n",
       "Product                                     Bank account or service  \n",
       "Sub-product                                        Checking account  \n",
       "Issue                         Problems caused by my funds being low  \n",
       "Sub-issue                                                       NaN  \n",
       "Consumer complaint narrative                                    NaN  \n",
       "Company public response                                         NaN  \n",
       "Company                                                    Navy FCU  \n",
       "State                                                            IN  \n",
       "ZIP code                                                      46143  \n",
       "Tags                                                            NaN  \n",
       "Consumer consent provided?                                      NaN  \n",
       "Submitted via                                              Referral  \n",
       "Date sent to company                                     03/21/2016  \n",
       "Company response to consumer                            In progress  \n",
       "Timely response?                                                Yes  \n",
       "Consumer disputed?                                               No  \n",
       "Complaint ID                                                1842011  "
      ]
     },
     "execution_count": 3,
     "metadata": {},
     "output_type": "execute_result"
    }
   ],
   "source": [
    "df.head().T"
   ]
  },
  {
   "cell_type": "code",
   "execution_count": 4,
   "metadata": {
    "collapsed": false
   },
   "outputs": [
    {
     "data": {
      "text/plain": [
       "(537992, 18)"
      ]
     },
     "execution_count": 4,
     "metadata": {},
     "output_type": "execute_result"
    }
   ],
   "source": [
    "df.shape"
   ]
  },
  {
   "cell_type": "code",
   "execution_count": 5,
   "metadata": {
    "collapsed": false
   },
   "outputs": [
    {
     "name": "stdout",
     "output_type": "stream",
     "text": [
      "<class 'pandas.core.frame.DataFrame'>\n",
      "Int64Index: 537992 entries, 0 to 537991\n",
      "Data columns (total 18 columns):\n",
      "Date received                   537992 non-null object\n",
      "Product                         537992 non-null object\n",
      "Sub-product                     386187 non-null object\n",
      "Issue                           537979 non-null object\n",
      "Sub-issue                       203546 non-null object\n",
      "Consumer complaint narrative    59697 non-null object\n",
      "Company public response         75922 non-null object\n",
      "Company                         537992 non-null object\n",
      "State                           530979 non-null object\n",
      "ZIP code                        533186 non-null object\n",
      "Tags                            75267 non-null object\n",
      "Consumer consent provided?      110728 non-null object\n",
      "Submitted via                   537989 non-null object\n",
      "Date sent to company            537992 non-null object\n",
      "Company response to consumer    537992 non-null object\n",
      "Timely response?                537992 non-null object\n",
      "Consumer disputed?              537992 non-null object\n",
      "Complaint ID                    537992 non-null int64\n",
      "dtypes: int64(1), object(17)\n",
      "memory usage: 78.0+ MB\n"
     ]
    }
   ],
   "source": [
    "df.info()"
   ]
  },
  {
   "cell_type": "code",
   "execution_count": 6,
   "metadata": {
    "collapsed": false
   },
   "outputs": [],
   "source": [
    "df=df.dropna(subset=['Consumer complaint narrative'])"
   ]
  },
  {
   "cell_type": "code",
   "execution_count": 7,
   "metadata": {
    "collapsed": false
   },
   "outputs": [
    {
     "data": {
      "text/plain": [
       "This company continues to report on my credit report after I sent them a letter telling them that this account was not mine and I have no idea what it is or who it belongs to! \\n\\nI asked for proof of a signed contract, I asked for a license to collect in my state, I asked for copies of all information referenced for this debt and still to date, I have not received anything but harassment from this company! \\n\\nTHIS IS NOT MY DEBT! \\n\\nI WANT THIS ACCOUNT REMOVED FROM MY CREDIT REPORT AND THIS COMPANY TO STOP CONTACTING ME IMMEDIATELY!                                                                                                                                                                                                                                                                                                                                                                                                                                                                                                                                                                                                                                                                                                                                                                                                                                                                                                                                                                                                                                                                                                                                                                                                                                                                                                                                                                                                                                                                                                                                                                                                                                                                                                                                                                                                                                                                                                                                                                                                                                                                                                                                                                                                                                                                                                                                                                                                                                                                                                                                                                                                                                                                                                                                                                                                                                                                                                                                                                                                                                                                                                                                                                                                                                                                                                                                                                                                                                                                                       37\n",
       "I have been a victim of Identity Theft. I have been trying to work with the Credit Reporting Agency but they are refusing to honor my valid identity theft case thus these incorrect/fraudulent items are still on my credit report and they must be removed immediately but they are do not belong to me. I have provided all of the proof to show that I was a victim of Identity Theft and that to the best of my knowledge these fraudulent accounts do not belong to me. Please take immediate action on my behalf so I can have these items removed, deleted and permanently blocked from my credit report, so that I can get back on track to a normal life. \\n\\nRegards                                                                                                                                                                                                                                                                                                                                                                                                                                                                                                                                                                                                                                                                                                                                                                                                                                                                                                                                                                                                                                                                                                                                                                                                                                                                                                                                                                                                                                                                                                                                                                                                                                                                                                                                                                                                                                                                                                                                                                                                                                                                                                                                                                                                                                                                                                                                                                                                                                                                                                                                                                                                                                                                                                                                                                                                                                                                                                                                                                                                                                                                                                                                                                                                                                                                                                                                                                     27\n",
       "I have sent several requests to Experian requesting an investigation of my accounts. It has been months and I still have not received a response to my concerns. The only thing I have received is some automated rejection letter stating that they wo n't do anything to help me ( please see attached ). \\nThis has to be a violation of my rights. I feel like I 've already wasted so much time just trying to get Experian to look at the errors on my credit report and I 'm so frustrated that Experian is intentionally not responding to my inquiries. I need to have this issue resolved immediately. There are many things I need to do with my life and they all involve my credit. But I am not able to move forward all because of this credit bureau!                                                                                                                                                                                                                                                                                                                                                                                                                                                                                                                                                                                                                                                                                                                                                                                                                                                                                                                                                                                                                                                                                                                                                                                                                                                                                                                                                                                                                                                                                                                                                                                                                                                                                                                                                                                                                                                                                                                                                                                                                                                                                                                                                                                                                                                                                                                                                                                                                                                                                                                                                                                                                                                                                                                                                                                                                                                                                                                                                                                                                                                                                                                                                                                                                                                                               26\n",
       "This company continues to report on my credit report after I sent them a letter telling them that this account was not mine and I have no idea what it is or who it belongs to! \\n\\nI asked for proof of a signed contract, I asked for a license to collect in my state, I asked for copies of all information referenced for this debt and still to date, I have not received anything but harassment from this company! \\n\\nTHIS IS NOT MY DEBT!                                                                                                                                                                                                                                                                                                                                                                                                                                                                                                                                                                                                                                                                                                                                                                                                                                                                                                                                                                                                                                                                                                                                                                                                                                                                                                                                                                                                                                                                                                                                                                                                                                                                                                                                                                                                                                                                                                                                                                                                                                                                                                                                                                                                                                                                                                                                                                                                                                                                                                                                                                                                                                                                                                                                                                                                                                                                                                                                                                                                                                                                                                                                                                                                                                                                                                                                                                                                                                                                                                                                                                                                 24\n",
       "I am filing this complaint because I think what Experian is doing to me is wrong, unethical and may be against the law. A letter was mailed to Experian on or around [ XXXX/XXXX/15 ]. \\nI clearly stated my concerns to them regarding inaccurate, questionable or unverifiable information listed on my credit report. I also provided a clear copy of my ID, proof of my social security number and a proof of my current mailing address. \\nOn [ XXXX/XXXX/15 ] I received a notice from Experian stating the following : '' We received a suspicious request in the mail regarding your personal credit report and determined that it was not sent by you. Suspicious requests are reviewed by Experian security personnel who work regularly with law enforcement officials and regulatory agencies to identify fraudulent and deceptive correspondence purporting to originate from consumers. \\nIn an effort to safeguard your personal credit information from fraud, we will not be initiating any disputes based on the suspicious correspondence. \\nExperian will apply this same policy to any future suspicious requests that we receive regarding your personal credit information, but we will not send additional notices to you of suspicious correspondence. \\nIf you believe that information in your personal credit report is inaccurate or incomplete, please visit our website at experian.com/validate dispute or call us at XXXX ( XXXX ) XXXX to speak directly to an Experian consumer assistance representative. \" However, an Experian confirmation number was not even provided on this notice. I can not imagine what could have possibly been \" suspicious '' about my correspondence to Experian. I should not have to spend endless hours on phone calling the credit bureau back and forth attempting to resolve the issues on my credit report! I am filing this complaint because Experian will not respond to any letters that I am sending in. I 'm sure this could be a violation of my rights and Experian should not be deliberately disregarding my concerns!                                                                                                                                                                                                                                                                                                                                                                                                                                                                                                                                                                                                                                                                                                                                                                                                                                                                                                                                                                                                                                                                                                                                                                                                                                                                                                                                                                                                                                                                                                                                                                                                                                                                                                                                                                                                                                                                                                                                           14\n",
       "This company continues to report on my credit report after I sent them a letter telling them that this account was not mine and I have no idea what it is or who it belongs to! \\n\\nI asked for proof of a signed contract, I asked for a license to collect in my state, I asked for copies of all information referenced for this debt and still to date, I have not received anything but harassment from this company!                                                                                                                                                                                                                                                                                                                                                                                                                                                                                                                                                                                                                                                                                                                                                                                                                                                                                                                                                                                                                                                                                                                                                                                                                                                                                                                                                                                                                                                                                                                                                                                                                                                                                                                                                                                                                                                                                                                                                                                                                                                                                                                                                                                                                                                                                                                                                                                                                                                                                                                                                                                                                                                                                                                                                                                                                                                                                                                                                                                                                                                                                                                                                                                                                                                                                                                                                                                                                                                                                                                                                                                                                          14\n",
       "While checking my personal credit report, I noticed an unauthorized and fraudulent credit inquiry made by XXXX on or about XX/XX/XXXX on Transunion. I did not authorized anyone employed by this company to make any inquiry and view my credit report. XXXX has violated the Fair Credit Reporting Act Section 1681b ( c ). They were not legally entitled to make this fraudulent inquiry. This is a serious breach of my privacy rights. \\nI have requested that they mail me a copy of my signed authorization form that gave them the right to view my credit within five ( 5 ) business days so that I can verify its validity and advised them that if they can not provide me with proof that I authorized them to view my credit report then I am demanding that they contact the credit bureaus immediately and have them remove the unauthorized and fraudulent hard inquiry immediately. I also requested that they remove my personal information from their records. My Social Security # is XXXX and my Date of Birth is XX/XX/XXXX in case it is needed to locate the fraudulent inquiry in their system.                                                                                                                                                                                                                                                                                                                                                                                                                                                                                                                                                                                                                                                                                                                                                                                                                                                                                                                                                                                                                                                                                                                                                                                                                                                                                                                                                                                                                                                                                                                                                                                                                                                                                                                                                                                                                                                                                                                                                                                                                                                                                                                                                                                                                                                                                                                                                                                                                                                                                                                                                                                                                                                                                                                                                                                                                                                                                                                          14\n",
       "In XXXX, I requested my free annual credit report. After viewing my credit report, I noticed over XXXX credit/loan inquiries on my account that was not authorized by me. I contacted each company and was told that there was not any account open under my information. I explained that I have a hard inquiry on my credit report and need it removed as soon as possible so that I could apply for a home. I was told that the inquiries would be removed from my credit report. As of XXXX/XXXX/XXXX, none of the inquiries have been removed dating back to XXXX. I had a initial fraud alert placed on my report on XXXX XXXX, so if any credit reports are being pulled with my information, I was to be contacted by the company before any action was taken place. I just want the inquiries to be removed so that my scores and credit is not being impacted any longer. I would like to purchase a house, but until all of the inquires are removed I will not be approved with XXXX inquires on my credit report.                                                                                                                                                                                                                                                                                                                                                                                                                                                                                                                                                                                                                                                                                                                                                                                                                                                                                                                                                                                                                                                                                                                                                                                                                                                                                                                                                                                                                                                                                                                                                                                                                                                                                                                                                                                                                                                                                                                                                                                                                                                                                                                                                                                                                                                                                                                                                                                                                                                                                                                                                                                                                                                                                                                                                                                                                                                                                                                                                                                                                      12\n",
       "While checking my personal credit report, I noticed an unauthorized and fraudulent credit inquiry made by XXXX on or about XX/XX/XXXX on Experian. I did not authorized anyone employed by this company to make any inquiry and view my credit report. XXXX has violated the Fair Credit Reporting Act Section 1681b ( c ). They were not legally entitled to make this fraudulent inquiry. This is a serious breach of my privacy rights. \\nI have requested that they mail me a copy of my signed authorization form that gave them the right to view my credit within five ( 5 ) business days so that I can verify its validity and advised them that if they can not provide me with proof that I authorized them to view my credit report then I am demanding that they contact the credit bureaus immediately and have them remove the unauthorized and fraudulent hard inquiry immediately. I also requested that they remove my personal information from their records. My Social Security # is XXXX and my Date of Birth is XX/XX/XXXX in case it is needed to locate the fraudulent inquiry in their system.                                                                                                                                                                                                                                                                                                                                                                                                                                                                                                                                                                                                                                                                                                                                                                                                                                                                                                                                                                                                                                                                                                                                                                                                                                                                                                                                                                                                                                                                                                                                                                                                                                                                                                                                                                                                                                                                                                                                                                                                                                                                                                                                                                                                                                                                                                                                                                                                                                                                                                                                                                                                                                                                                                                                                                                                                                                                                                                            11\n",
       "I have been a victim of Identity Theft, and I am trying to dispute inaccurate items on my credit report.                                                                                                                                                                                                                                                                                                                                                                                                                                                                                                                                                                                                                                                                                                                                                                                                                                                                                                                                                                                                                                                                                                                                                                                                                                                                                                                                                                                                                                                                                                                                                                                                                                                                                                                                                                                                                                                                                                                                                                                                                                                                                                                                                                                                                                                                                                                                                                                                                                                                                                                                                                                                                                                                                                                                                                                                                                                                                                                                                                                                                                                                                                                                                                                                                                                                                                                                                                                                                                                                                                                                                                                                                                                                                                                                                                                                                                                                                                                                            10\n",
       "I am requesting that EXPERIAN immediately delete the address listed on my credit file as reported and previously listed on the EXPERIAN Credit File as : XXXX XXXX XXXX XXXX XXXX WA XXXX. Address indentification number : XXXX, Geographical code : XXXX                                                                                                                                                                                                                                                                                                                                                                                                                                                                                                                                                                                                                                                                                                                                                                                                                                                                                                                                                                                                                                                                                                                                                                                                                                                                                                                                                                                                                                                                                                                                                                                                                                                                                                                                                                                                                                                                                                                                                                                                                                                                                                                                                                                                                                                                                                                                                                                                                                                                                                                                                                                                                                                                                                                                                                                                                                                                                                                                                                                                                                                                                                                                                                                                                                                                                                                                                                                                                                                                                                                                                                                                                                                                                                                                                                                           9\n",
       "I am responding to a letter I received from Experian regarding a request made on my credit file. Based on my understanding of the letter, it looks like Experian is refusing to complete my request because they do n't think I am smart enough to write a dispute letter. \\nI would like Experian to know that I did in-fact send them a letter disputing information on my credit report. I also give Experian my full written consent to continue with the investigation of my accounts per the dispute letter I wrote to them. \\nI researched a dispute letter online and just used that to complete my dispute. So I guess it is possible that I may have missed something. I would very much appreciate Experian providing me with an explanation of my rights specifically pertaining to how I am allowed to dispute information on my credit report. \\nI would also like to know what made my letter \" suspicious '' and why Experian thinks I did not write my letter to them. Did I say something in my letter that was inappropriate? \\nI would like Experian to let me know if I am allowed to re-write my letter, and if so, would Experian be so kind as to provide me with an example of a letter that would be acceptable to them? \\nI do not have the money to be represented by an attorney or any other agency. I work all day and can not afford to take time off work to dispute my accounts. Would completing a dispute over the phone provide me with the same benefits as the letter? And if the results would be the same, why not just accept my letter?                                                                                                                                                                                                                                                                                                                                                                                                                                                                                                                                                                                                                                                                                                                                                                                                                                                                                                                                                                                                                                                                                                                                                                                                                                                                                                                                                                                                                                                                                                                                                                                                                                                                                                                                                                                                                                                                                                                                                                                                                                                                                                                                                                                                                                                                                                                                                                                                                                                                   9\n",
       "This is a formal complaint against TRANSUNIONAccording to my credit report, XXXX is currently reporting to TRANSUNION that I applied for credit with XXXX on XXXX/XXXX/2014 I did not grant TRANSUNION authorization to provide access to my credit report to XXXX ; or share my credit report with XXXX. \\n\\nThe Fair Credit Reporting Act requires that a creditor be able to verify the written authorization of the consumer giving the creditor permission to review their credit. If you can provide a copy of a credit application authorizing the disclosure of my credit files with my signature, I will accept the inquiry. If a signed authorization can not be found please remove the inquiry. \\n\\nThe presence of this inquiry is adversely affecting my credit report. Time is of the essence so I would greatly appreciate a response from you immediately. Please mail me the copy of a signed application or a letter indicating your intention to delete the inquiry.                                                                                                                                                                                                                                                                                                                                                                                                                                                                                                                                                                                                                                                                                                                                                                                                                                                                                                                                                                                                                                                                                                                                                                                                                                                                                                                                                                                                                                                                                                                                                                                                                                                                                                                                                                                                                                                                                                                                                                                                                                                                                                                                                                                                                                                                                                                                                                                                                                                                                                                                                                                                                                                                                                                                                                                                                                                                                                                                                                                                                                                             7\n",
       "this not my account                                                                                                                                                                                                                                                                                                                                                                                                                                                                                                                                                                                                                                                                                                                                                                                                                                                                                                                                                                                                                                                                                                                                                                                                                                                                                                                                                                                                                                                                                                                                                                                                                                                                                                                                                                                                                                                                                                                                                                                                                                                                                                                                                                                                                                                                                                                                                                                                                                                                                                                                                                                                                                                                                                                                                                                                                                                                                                                                                                                                                                                                                                                                                                                                                                                                                                                                                                                                                                                                                                                                                                                                                                                                                                                                                                                                                                                                                                                                                                                                                                  7\n",
       "While checking my personal credit report, I noticed an unauthorized and fraudulent credit inquiry made by XXXX on or about XX/XX/XXXX on Equifax. I did not authorized anyone employed by this company to make any inquiry and view my credit report. XXXX has violated the Fair Credit Reporting Act Section 1681b ( c ). They were not legally entitled to make this fraudulent inquiry. This is a serious breach of my privacy rights. \\nI have requested that they mail me a copy of my signed authorization form that gave them the right to view my credit within five ( 5 ) business days so that I can verify its validity and advised them that if they can not provide me with proof that I authorized them to view my credit report then I am demanding that they contact the credit bureaus immediately and have them remove the unauthorized and fraudulent hard inquiry immediately. I also requested that they remove my personal information from their records. My Social Security # is XXXX and my Date of Birth is XX/XX/XXXX in case it is needed to locate the fraudulent inquiry in their system.                                                                                                                                                                                                                                                                                                                                                                                                                                                                                                                                                                                                                                                                                                                                                                                                                                                                                                                                                                                                                                                                                                                                                                                                                                                                                                                                                                                                                                                                                                                                                                                                                                                                                                                                                                                                                                                                                                                                                                                                                                                                                                                                                                                                                                                                                                                                                                                                                                                                                                                                                                                                                                                                                                                                                                                                                                                                                                                              7\n",
       "TO WHOM IT MAY CONCERN-THIS ACCOUNTIS REPORTING AS OPEN AND PAST DUE THAT WAS INCLUDED IN MY CHAPTER XXXX CASE # XXXX. I HAVE MADE MANY ATTEMPTS TO THE COLLECTIONS AGENCIES TO CORRECT THIS INFORMATION WITH NO SUCCESS. THESE ACCOUNTS HAVE ALSO BEEN SOLD TO NEW COLLECTION AGENCIES THAT ARE REPORTING THESE ACCOUNTS AS NEW ACCOUNTS, WHICH I UNDERSTAND TO BE ILLEGAL PRACTICES AND HINDERING BY ABILITY IN REHABILITATING MY CREDIT AND MY PROTECTION UNDER THE CHAPTER XXXX BANKRUPTCY LAWS. \\nATTACHED YOU WILL FIND A COPY OF MY CREDIT REPORT AND CHAPETER XXXX PAY SCHEDULE OF CREDITORS                                                                                                                                                                                                                                                                                                                                                                                                                                                                                                                                                                                                                                                                                                                                                                                                                                                                                                                                                                                                                                                                                                                                                                                                                                                                                                                                                                                                                                                                                                                                                                                                                                                                                                                                                                                                                                                                                                                                                                                                                                                                                                                                                                                                                                                                                                                                                                                                                                                                                                                                                                                                                                                                                                                                                                                                                                                                                                                                                                                                                                                                                                                                                                                                                                                                                                                                                                                                                                                 7\n",
       "This is a formal complaint against TRANSUNIONAccording to my credit report, XXXX XXXX is currently reporting to TRANSUNION that I applied for credit with XXXX XXXX on XXXX/XXXX/2015 I did not grant TRANSUNION authorization to provide access to my credit report to XXXX XXXX ; or share my credit report with XXXX XXXX. \\n\\nThe Fair Credit Reporting Act requires that a creditor be able to verify the written authorization of the consumer giving the creditor permission to review their credit. If you can provide a copy of a credit application authorizing the disclosure of my credit files with my signature, I will accept the inquiry. If a signed authorization can not be found please remove the inquiry. \\n\\nThe presence of this inquiry is adversely affecting my credit report. Time is of the essence so I would greatly appreciate a response from you immediately. Please mail me the copy of a signed application or a letter indicating your intention to delete the inquiry.                                                                                                                                                                                                                                                                                                                                                                                                                                                                                                                                                                                                                                                                                                                                                                                                                                                                                                                                                                                                                                                                                                                                                                                                                                                                                                                                                                                                                                                                                                                                                                                                                                                                                                                                                                                                                                                                                                                                                                                                                                                                                                                                                                                                                                                                                                                                                                                                                                                                                                                                                                                                                                                                                                                                                                                                                                                                                                                                                                                                                                         7\n",
       "I am responding to a letter I received from Experian regarding a suspicious request made on my credit file. Based on my understanding of the letter, it looks like Experian is refusing to complete my request because they believe the letter I wrote them was not sent by me. \\nI would like Experian to know that I did in-fact send them a letter disputing information on my credit report. I also give Experian my expressed and written consent to continue with the investigation of my accounts per the dispute letter I wrote to them. \\nSince I have not experienced this situation before, I would very much appreciate Experian providing me with an explanation of my rights specifically pertaining to how I am allowed to dispute information on my credit report. \\nI would also like to know specifically what made my letter \" suspicious '' and why Experian thinks I did not write my letter to them. Did I say something in my letter that they think I am not smart enough to write myself? \\nI have reviewed Experian 's website to determine what steps I am required to take to dispute my accounts and thought I had followed all instructions : I sent in a copy of my ID, proof of my social security number and proof of my address. I would be very grateful for a step by step explanation from Experian detailing the specific information I may have missed from their website. \\nI would like Experian to let me know if I am allowed to re-write my letter, and if so, would Experian be so kind as to provide me with an example of a letter that would be acceptable to them? \\nI am just a regular person and do not have the money to be represented by an attorney or any other agency. I work all day and can not afford to take time off work to dispute my accounts. So I would like Experian to tell me if completing a dispute over the phone would provide me with the same outcome as a letter? And if the results would be the same, why is Experian choosing to not accept my letter and my humble request for an investigation of my accounts?                                                                                                                                                                                                                                                                                                                                                                                                                                                                                                                                                                                                                                                                                                                                                                                                                                                                                                                                                                                                                                                                                                                                                                                                                                                                                                                                                                                                                                                                                                                                                                                                                                                                                                                                                                                                                                                                                                                                                    7\n",
       "While checking my personal credit report, I noticed an unauthorized and fraudulent credit inquiry made by XXXX XXXX on or about XX/XX/XXXX on Experian. I did not authorized anyone employed by this company to make any inquiry and view my credit report. XXXX XXXX has violated the Fair Credit Reporting Act Section 1681b ( c ). They were not legally entitled to make this fraudulent inquiry. This is a serious breach of my privacy rights. \\nI have requested that they mail me a copy of my signed authorization form that gave them the right to view my credit within five ( 5 ) business days so that I can verify its validity and advised them that if they can not provide me with proof that I authorized them to view my credit report then I am demanding that they contact the credit bureaus immediately and have them remove the unauthorized and fraudulent hard inquiry immediately. I also requested that they remove my personal information from their records. My Social Security # is XXXX and my Date of Birth is XX/XX/XXXX in case it is needed to locate the fraudulent inquiry in their system.                                                                                                                                                                                                                                                                                                                                                                                                                                                                                                                                                                                                                                                                                                                                                                                                                                                                                                                                                                                                                                                                                                                                                                                                                                                                                                                                                                                                                                                                                                                                                                                                                                                                                                                                                                                                                                                                                                                                                                                                                                                                                                                                                                                                                                                                                                                                                                                                                                                                                                                                                                                                                                                                                                                                                                                                                                                                                                                   7\n",
       "This debt was created as a result of identity theft ... ... and this account has been reported on my credit with attempts to collect as this debt is fraudulent i have filed police and ftc reports regarding this matter                                                                                                                                                                                                                                                                                                                                                                                                                                                                                                                                                                                                                                                                                                                                                                                                                                                                                                                                                                                                                                                                                                                                                                                                                                                                                                                                                                                                                                                                                                                                                                                                                                                                                                                                                                                                                                                                                                                                                                                                                                                                                                                                                                                                                                                                                                                                                                                                                                                                                                                                                                                                                                                                                                                                                                                                                                                                                                                                                                                                                                                                                                                                                                                                                                                                                                                                                                                                                                                                                                                                                                                                                                                                                                                                                                                                                            6\n",
       "A few months ago I requested my credit report from Experian. I got back this letter from them telling me that they received something that looked like fraud. I did n't get a chance to call them right away and I honestly thought it was some kind of mistake so I just went online and got my report from some website instead. \\nI ended up filing some disputes because there was incorrect and incomplete information on my credit report. So I prepared a nice letter and sent it with a copy of my driver 's license, proof of my social security number and proof of my mailing address so that Experian would be able to verify my identity. \\nIt has been at least XXXX months since I mailed my letter and I have n't heard back. When I try calling their XXXX number they want a report number before I speak with an agent and since I do n't have XXXX I ca n't speak to anyone. \\nI thought that the credit companies had to respond back to me within XXXX days otherwise they are supposed to remove things from my credit report?! \\nWell it 's been way more than XXXX days and all of the stuff I disputed is still there. I know I can go online and buy a credit monitoring service and try to dispute things online but I thought that Experian is supposed to help me for free! \\nI 'm at the point where I 'm done wasting time and need to get this fixed immediately.                                                                                                                                                                                                                                                                                                                                                                                                                                                                                                                                                                                                                                                                                                                                                                                                                                                                                                                                                                                                                                                                                                                                                                                                                                                                                                                                                                                                                                                                                                                                                                                                                                                                                                                                                                                                                                                                                                                                                                                                                                                                                                                                                                                                                                                                                                                                                                                                                                                                                                                                                                                                                                                   6\n",
       "A few months ago I ended up filing some disputes because there was incorrect and incomplete information on my credit report. So I prepared a nice letter and sent it with a copy of my driver 's license, proof of my social security number and proof of my mailing address so that Experian would be able to verify my identity. \\nIt has been at least 2 months since I mailed my letter and I have n't heard back. When I try calling their XXXX number they want a report number before I speak with an agent and since I do n't have XXXX I ca n't speak to anyone. \\nI thought that the credit companies had to respond back to me within 30 days otherwise they are supposed to remove things from my credit report?! \\nWell it 's been way more than 30 days and all of the stuff I disputed is still there. I know I can go online and buy a credit monitoring service and try to dispute things online but I thought that Experian is supposed to help me for free! \\nI 'm at the point where I 'm done wasting time and need to get this fixed immediately.                                                                                                                                                                                                                                                                                                                                                                                                                                                                                                                                                                                                                                                                                                                                                                                                                                                                                                                                                                                                                                                                                                                                                                                                                                                                                                                                                                                                                                                                                                                                                                                                                                                                                                                                                                                                                                                                                                                                                                                                                                                                                                                                                                                                                                                                                                                                                                                                                                                                                                                                                                                                                                                                                                                                                                                                                                                                                                                                                                              6\n",
       "My spouse and I have sent the credit bureaus multiple dispute letters certified with documentation supporting our claims and they have completely disregarded our concerns. There is a debt and some late payments reporting inaccurately and we are trying everything in our power to get it rectified. Hoping this process will make them take us seriously.                                                                                                                                                                                                                                                                                                                                                                                                                                                                                                                                                                                                                                                                                                                                                                                                                                                                                                                                                                                                                                                                                                                                                                                                                                                                                                                                                                                                                                                                                                                                                                                                                                                                                                                                                                                                                                                                                                                                                                                                                                                                                                                                                                                                                                                                                                                                                                                                                                                                                                                                                                                                                                                                                                                                                                                                                                                                                                                                                                                                                                                                                                                                                                                                                                                                                                                                                                                                                                                                                                                                                                                                                                                                                       6\n",
       "I would like this collection to be removed from my XXXX credit report was reported as collection debt without my knowledge.                                                                                                                                                                                                                                                                                                                                                                                                                                                                                                                                                                                                                                                                                                                                                                                                                                                                                                                                                                                                                                                                                                                                                                                                                                                                                                                                                                                                                                                                                                                                                                                                                                                                                                                                                                                                                                                                                                                                                                                                                                                                                                                                                                                                                                                                                                                                                                                                                                                                                                                                                                                                                                                                                                                                                                                                                                                                                                                                                                                                                                                                                                                                                                                                                                                                                                                                                                                                                                                                                                                                                                                                                                                                                                                                                                                                                                                                                                                          5\n",
       "I was advised by the Internal Revenue Service that my social security number and other confidential information were compromised. Sometime in XXXX to XXXX my personal details were stolen and have been used up to XXXX XXXX when a security alert had been placed on my credit files. These fraudulent accounts range from medical ; utility accounts and credit card accounts and must be deleted from my history. I forward the details of these accounts in question and a copy of the Identity Theft Affidavit and I have had no response from both the credit bureaus and the creditor/collections agent.                                                                                                                                                                                                                                                                                                                                                                                                                                                                                                                                                                                                                                                                                                                                                                                                                                                                                                                                                                                                                                                                                                                                                                                                                                                                                                                                                                                                                                                                                                                                                                                                                                                                                                                                                                                                                                                                                                                                                                                                                                                                                                                                                                                                                                                                                                                                                                                                                                                                                                                                                                                                                                                                                                                                                                                                                                                                                                                                                                                                                                                                                                                                                                                                                                                                                                                                                                                                                                     5\n",
       "While checking my personal credit report, I noticed an unauthorized and fraudulent credit inquiry made by XXXX XXXX XXXX on or about XX/XX/XXXX on Experian. I did not authorized anyone employed by this company to make any inquiry and view my credit report. XXXX XXXX XXXX has violated the Fair Credit Reporting Act Section 1681b ( c ). They were not legally entitled to make this fraudulent inquiry. This is a serious breach of my privacy rights. \\nI have requested that they mail me a copy of my signed authorization form that gave them the right to view my credit within five ( 5 ) business days so that I can verify its validity and advised them that if they can not provide me with proof that I authorized them to view my credit report then I am demanding that they contact the credit bureaus immediately and have them remove the unauthorized and fraudulent hard inquiry immediately. I also requested that they remove my personal information from their records. My Social Security # is XXXX and my Date of Birth is XX/XX/XXXX in case it is needed to locate the fraudulent inquiry in their system.                                                                                                                                                                                                                                                                                                                                                                                                                                                                                                                                                                                                                                                                                                                                                                                                                                                                                                                                                                                                                                                                                                                                                                                                                                                                                                                                                                                                                                                                                                                                                                                                                                                                                                                                                                                                                                                                                                                                                                                                                                                                                                                                                                                                                                                                                                                                                                                                                                                                                                                                                                                                                                                                                                                                                                                                                                                                                                         5\n",
       "I am filing this complaint because I think what Experian is doing to me is wrong, unethical and may be against the law. A letter was mailed to Experian on or around XXXX/XXXX/15. \\nI clearly stated my concerns to them regarding inaccurate, questionable or unverifiable information listed on my credit report. I also provided a clear copy of my ID, proof of my social security number and a proof of my current mailing address. \\nOn XXXX/XXXX/15 I received a notice from Experian stating the following : '' We received a suspicious request in the mail regarding your personal credit report and determined that it was not sent by you. Suspicious requests are reviewed by Experian security personnel who work regularly with law enforcement officials and regulatory agencies to identify fraudulent and deceptive correspondence purporting to originate from consumers. \\nIn an effort to safeguard your personal credit information from fraud, we will not be initiating any disputes based on the suspicious correspondence. \\nExperian will apply this same policy to any future suspicious requests that we receive regarding your personal credit information, but we will not send additional notices to you of suspicious correspondence. \\nIf you believe that information in your personal credit report is inaccurate or incomplete, please visit our website at experian.com/validate dispute or call us at XXXX ( XXXX ) XXXX to speak directly to an Experian consumer assistance representative. \" However, an Experian confirmation number was not even provided on this notice. I can not imagine what could have possibly been \" suspicious '' about my correspondence to Experian. I should not have to spend endless hours on phone calling the credit bureau back and forth attempting to resolve the issues on my credit report! I am filing this complaint because Experian will not respond to any letters that I am sending in. I 'm sure this could be a violation of my rights and Experian should not be deliberately disregarding my concerns!                                                                                                                                                                                                                                                                                                                                                                                                                                                                                                                                                                                                                                                                                                                                                                                                                                                                                                                                                                                                                                                                                                                                                                                                                                                                                                                                                                                                                                                                                                                                                                                                                                                                                                                                                                                                                                                                                                                                                    5\n",
       "I never received any communication from this company that my account will be send to collection without my knowledge. Do n't even know this company and find out get bad review with XXXX.                                                                                                                                                                                                                                                                                                                                                                                                                                                                                                                                                                                                                                                                                                                                                                                                                                                                                                                                                                                                                                                                                                                                                                                                                                                                                                                                                                                                                                                                                                                                                                                                                                                                                                                                                                                                                                                                                                                                                                                                                                                                                                                                                                                                                                                                                                                                                                                                                                                                                                                                                                                                                                                                                                                                                                                                                                                                                                                                                                                                                                                                                                                                                                                                                                                                                                                                                                                                                                                                                                                                                                                                                                                                                                                                                                                                                                                           5\n",
       "While I was XXXX I was protected by the Soldiers and Sailors Civil Relief Act. I was unfairly charged massive late fees and compound interest during this time that was illegal for them to do so. I had contacted all of my creditors and sent them a copy of my orders because they are required by law to reduce interest rate to 6 %. Since then the debt from those credit cards has been sold and I can not get this issue resolved.                                                                                                                                                                                                                                                                                                                                                                                                                                                                                                                                                                                                                                                                                                                                                                                                                                                                                                                                                                                                                                                                                                                                                                                                                                                                                                                                                                                                                                                                                                                                                                                                                                                                                                                                                                                                                                                                                                                                                                                                                                                                                                                                                                                                                                                                                                                                                                                                                                                                                                                                                                                                                                                                                                                                                                                                                                                                                                                                                                                                                                                                                                                                                                                                                                                                                                                                                                                                                                                                                                                                                                                                           5\n",
       "On at least XXXX previous occasions, I request Scottrade cease and desist communicating with me via email and other methods of communication, citing State Unsolicited Email Law, and Federal Debt Collection Practices, yet Scottrade has failed to acknowledge these email and has sent me another email, in violation of numerous State and Federal statutes.                                                                                                                                                                                                                                                                                                                                                                                                                                                                                                                                                                                                                                                                                                                                                                                                                                                                                                                                                                                                                                                                                                                                                                                                                                                                                                                                                                                                                                                                                                                                                                                                                                                                                                                                                                                                                                                                                                                                                                                                                                                                                                                                                                                                                                                                                                                                                                                                                                                                                                                                                                                                                                                                                                                                                                                                                                                                                                                                                                                                                                                                                                                                                                                                                                                                                                                                                                                                                                                                                                                                                                                                                                                                                     5\n",
       "                                                                                                                                                                                                                                                                                                                                                                                                                                                                                                                                                                                                                                                                                                                                                                                                                                                                                                                                                                                                                                                                                                                                                                                                                                                                                                                                                                                                                                                                                                                                                                                                                                                                                                                                                                                                                                                                                                                                                                                                                                                                                                                                                                                                                                                                                                                                                                                                                                                                                                                                                                                                                                                                                                                                                                                                                                                                                                                                                                                                                                                                                                                                                                                                                                                                                                                                                                                                                                                                                                                                                                                                                                                                                                                                                                                                                                                                                                                                                                                                                                                    ..\n",
       "I disputed inaccurate information with Experian regarding the accounts that are listed on this dispute. First of all, I 've contacted the companies via USPS certified mail and sent them a letter of debt validation. None of these companies responded with any verification or validation of the accounts or the information regarding the accounts. By law, these companies are supposed to verify to me that these accounts and the information is accurate. I would like to know what verification/ validation did Experian receive regarding these accounts that was competent since they say the investigated my dispute.                                                                                                                                                                                                                                                                                                                                                                                                                                                                                                                                                                                                                                                                                                                                                                                                                                                                                                                                                                                                                                                                                                                                                                                                                                                                                                                                                                                                                                                                                                                                                                                                                                                                                                                                                                                                                                                                                                                                                                                                                                                                                                                                                                                                                                                                                                                                                                                                                                                                                                                                                                                                                                                                                                                                                                                                                                                                                                                                                                                                                                                                                                                                                                                                                                                                                                                                                                                                                    1\n",
       "Pursuant to the Fair Debt Collection Practices Act, I sent this company a request to validate a frivilous account they had reported on my account. The company responded refusing to provide any proof and persevered with reporting this frivolous account on my credit report.                                                                                                                                                                                                                                                                                                                                                                                                                                                                                                                                                                                                                                                                                                                                                                                                                                                                                                                                                                                                                                                                                                                                                                                                                                                                                                                                                                                                                                                                                                                                                                                                                                                                                                                                                                                                                                                                                                                                                                                                                                                                                                                                                                                                                                                                                                                                                                                                                                                                                                                                                                                                                                                                                                                                                                                                                                                                                                                                                                                                                                                                                                                                                                                                                                                                                                                                                                                                                                                                                                                                                                                                                                                                                                                                                                     1\n",
       "They are almost impossible to reach. Their new customer friendly interface for consumers to update such ridiculous ad information that as a financial professional, it completely amazes me that the US Gov't who themselves can not be held up of a model of efficiency, can not seem to get what are very simple common sense facts regarding credit reporting that is set up to receive within those same fixed fields the exact same information they have received for decades. Moreover, there are secure and approved data filters that will remove garbage so as to at least give the appearance that the nation 's system of credit is not based on XXXX databases that if my people had two days, I could bring down the error ration from its present ( yet denied ) accuracy rate of if I am generous, about 65 %. And here is the real kicker, 90 % of those that pull a credit report and then use their algorithm to create a FICO Score, an algorithm hidden within the most secret places beneath the White House complete with a special decoder ring. Every piece of data that is considered to be unavailable due to national security, has been hacked and stolen long ago. But i do n't want to get off track by traveling down the multiple roads that have led to our systemic meltdown that is only being artificially propped up today by printing XXXX of XXXX of dollars and depositing it the next day. And yet be that as it may, out of the XXXX Credit Bureau 's, historically ( even though it is rarely brought up ), the Bureau with the WORST Database has always been XXXX! I simply had to laugh when I even read the first page a couple years ago and the addresses that were listed as addresses in which creditors would view that attested to where I have lived since maybe 1985, if they were n't actually used as a source of reference would cause anyone to simply just laugh. It is so obvious that ( and I have no idea what we are paying these people ) that there has NEVER been a time when Equifax actually attempted to at least set up within the fixed fields, what types of even characters would ever be there and simply start with that. Second, because this was dealing with the physical addresses of the consumer that it would EVER occur to anyone with the Federal Gov't Regulatory Agencies so suggest that they request copies of what was supposed to be identical data that made up these fixed fields and so the logical conclusion is that the data should either match or be pretty close. But NOOOO!. The government, which has become the arbiter of creating unethical conflict of interest exceptions which allow for these protected Credit Bureau 's to create products and sell this vaporware ( monitoring nothing subscription ) to the public. Now outside the beltway. those of us who remain that have not drank the kool-aid and completely sold out to the point where the term \" conflict of interest '', or \" unethical '' has no point of reference because the basis for any Standard was determined to be unconstitutional. In addition, Equifax who holds the golden trophy for possessing the most inaccurate database of any of the other XXXX, is the credit bureau of choice for most of those that extend credit. In addition, the appearance that a consumer can easily make changes just to their personal data so it is at least accurate and verifiable is fruitless. Once the changes are made, the consumer hits enter and is kicked out for any number of reasons. Primarily they use that due to security and lack of activity, the consumer has been timed out. Once that happens multiple times, you just give up. I have NEVER been able to reach a human to lodge a complaint or seek assistance, however, XXXX XXXX made all of my corrections and yet these so called bogus \" credit agencies '' which are simply a cover for the industry they represent continue to use them thus producing totally incorrect conclusions.      1\n",
       "Applied for Mortgage assistance with Fay servicing and recieved and offer of a loan modification by phone on XXXX/XXXX/15 and recieved written offer on XXXX/XXXX/2015. The new mortage payment under the TPP was more than I had been expecting at almost fifty percent of my take home pay. I consulted with my housing counselor who was unable to determine from the modification offer letter the type of modification i was being offered. My housing couselor then contacted my assisigned specialist at Fay servicing to enquire about the offer I had recieved. The specialist informed him that it was a propriortory, that the HAMP modification had been denied due to insufficant income and insufficant yeild. When my housing counselor asked him if a denial letter had been sent, he was told that no letter had been sent to me because they were able to offer me the propriotory modification. Because I was not sent a denial letter, and therefore did not know that my modification offer was not a HAMP, I was unaware of oppurtunity to appeal HAMP denial. Fay servicing specialist has advised me to appeal denial at this time however if a denial letter had been sent to me at time of HAMP denial, I could have appealed sooner and avoided delays in modification process.                                                                                                                                                                                                                                                                                                                                                                                                                                                                                                                                                                                                                                                                                                                                                                                                                                                                                                                                                                                                                                                                                                                                                                                                                                                                                                                                                                                                                                                                                                                                                                                                                                                                                                                                                                                                                                                                                                                                                                                                                                                                                                                                                                                                                                                                                                                                                                                                                                                                                                                                                                                                                                                                                                                                           1\n",
       "Please refer to original complaint # XXXXXXXXBrief summary, I made final payment on HELOC on XX/XX/XXXX in the amount of {$45.00}. On XX/XX/XXXX more than 7 years later, I get a notice of a lien hold on my house in the amount of {$36.00}. So I submitted a complaint to you. \\nOn XX/XX/XXXX, I get a call from XXXX XXXX at XXXX xt XXXX confirming that there was never any communication made to me about outstanding fees. She stated the only communication they sent me was dated XXXX that the account was at a XXXX balance and instructions on how to pull more money out. She advised that the {$36.00} were fees when I closed my account, that the {$45.00} was interest and the reason that I was not told about the {$36.00} fee could be from the Wamu merger. She assured me that the lien would be lifted and she would send me a letter stating so. \\nI got her letter dated XX/XX/XXXX advising that this communication is an attempt to collect a dept. Which is in direct conflict to what she told me on the phone the day before. \\nI tried to log on to my account several times to file a dispute, however, can not log in. I called your tech support on XXXX, was able to get in and now today XXXX am locked out again.                                                                                                                                                                                                                                                                                                                                                                                                                                                                                                                                                                                                                                                                                                                                                                                                                                                                                                                                                                                                                                                                                                                                                                                                                                                                                                                                                                                                                                                                                                                                                                                                                                                                                                                                                                                                                                                                                                                                                                                                                                                                                                                                                                                                                                                                                                                                                                                                                                                                                                                                                                                                                                                                                                                                                                                             1\n",
       "I checking my credit report There is collection agency reporting information that is not mine I am retired and have XXXX and XXXX and all my medical bills are paid 100 % I have received no correspondence from this collection agency whats so ever                                                                                                                                                                                                                                                                                                                                                                                                                                                                                                                                                                                                                                                                                                                                                                                                                                                                                                                                                                                                                                                                                                                                                                                                                                                                                                                                                                                                                                                                                                                                                                                                                                                                                                                                                                                                                                                                                                                                                                                                                                                                                                                                                                                                                                                                                                                                                                                                                                                                                                                                                                                                                                                                                                                                                                                                                                                                                                                                                                                                                                                                                                                                                                                                                                                                                                                                                                                                                                                                                                                                                                                                                                                                                                                                                                                                1\n",
       "OCWEN Loan Servicing took over my mortgage and the interest rate on XXXX house is 10 % and interest on the other house is 7.9 % I asked, called and wrote a letter asking them to lower interest rate. They will not do it. I do not qualify for a loan re-financing because I am unemployed and poverty level. I do have school loans which are also considered for the rejection of the re-financing.                                                                                                                                                                                                                                                                                                                                                                                                                                                                                                                                                                                                                                                                                                                                                                                                                                                                                                                                                                                                                                                                                                                                                                                                                                                                                                                                                                                                                                                                                                                                                                                                                                                                                                                                                                                                                                                                                                                                                                                                                                                                                                                                                                                                                                                                                                                                                                                                                                                                                                                                                                                                                                                                                                                                                                                                                                                                                                                                                                                                                                                                                                                                                                                                                                                                                                                                                                                                                                                                                                                                                                                                                                              1\n",
       "AMEX Prepaid card purchased by my company in XX/XX/XXXX and handed out to employees at a sales training event. Card has been in my possession since I received it. I did not attempt to the use card until XX/XX/XXXX. Merchant declined the card due to {$0.00} balance. Called AMEX and found out the card was used at a gas station in XXXX XX/XX/XXXX. I live in XXXX, XXXX and have never been to XXXX. AMEX tells me they can not do anything. They tried to give me the phone # of the merchant in XXXX which was unavailable.                                                                                                                                                                                                                                                                                                                                                                                                                                                                                                                                                                                                                                                                                                                                                                                                                                                                                                                                                                                                                                                                                                                                                                                                                                                                                                                                                                                                                                                                                                                                                                                                                                                                                                                                                                                                                                                                                                                                                                                                                                                                                                                                                                                                                                                                                                                                                                                                                                                                                                                                                                                                                                                                                                                                                                                                                                                                                                                                                                                                                                                                                                                                                                                                                                                                                                                                                                                                                                                                                                                1\n",
       "XXXX XXXX, received a loan modification from Ocwen Loan Servicing, we were behind in our payments, by XXXX of XXXX the modification expired, and I was to obtain a loan., I applied to XXXX , HUD , Keep Your Home California and several private lending agencies. Ocwen gave us a loan for 6.25 %., this is outrageous., I paid them on time for 6 years, I was never late, and my FICA score was XXXX. The investor is XXXX. The Department of Justice instructed the banks to work with the homeowners for low interest loans., We applied for another modification about XXXX times, and OCWEN refuse us every time. \\nThis started in XXXX when our home taxes were behind, and Ocwen stated they would impound the taxes., well they did until they were brought current., unaware that they stopped paying the taxes, they got behind., we then took a {$40000.00} second on the property from XXXX ( XXXX XXXX XXXX ) , predator loan, to pay back taxes. Fast forward to XXXX XXXX, the XXXX is due ( {$40000.00} ), they refused to give us time to pay, unable to pay the full amount ( XXXX ) XXXX filed for \" Foreclosure. '' My husband and I faced with option of losing our home filed for Chapter XXXX Bankruptcy. \\nI know you do n't want to hear customers private lives, but XXXX in XXXX XXXX, I had XXXX in XXXX/XXXX/XXXX, we are both XXXX., we are both on Social Security, and choking trying to make the payments. I still try to work and my childrenhelp us financially, when they can.                                                                                                                                                                                                                                                                                                                                                                                                                                                                                                                                                                                                                                                                                                                                                                                                                                                                                                                                                                                                                                                                                                                                                                                                                                                                                                                                                                                                                                                                                                                                                                                                                                                                                                                                                                                                                                                                                                                                                                                                                                                                                                                                                                                                                                                                                                                                                                                                                                                                                                                               1\n",
       "My mortgage was bought out by M & T Bank XXXX XXXX XXXX XXXX, NY XXXX. I pay my payment through bill pay and it is set up to be delivered to M & T Bank by a certain date. If it arrives XX/XX/XXXX or after they will charge me a late fee according to their statement. They have gotten my payment before XX/XX/XXXX and charged me a late fee on several occasions. I brought this to their attention and they have failed to refund the fees for all of the times they have charged me a late fee when it was n't late, according to their terms. It happens often that they charge the fee regardless. I usually pay my payment between XX/XX/XXXX and XX/XX/XXXX the first years they had the contract, but now since they have been charging me a late fee regardless, and I ca n't get them to stop, I just pay it reluctantly with the late fee as part of my monthly payment.                                                                                                                                                                                                                                                                                                                                                                                                                                                                                                                                                                                                                                                                                                                                                                                                                                                                                                                                                                                                                                                                                                                                                                                                                                                                                                                                                                                                                                                                                                                                                                                                                                                                                                                                                                                                                                                                                                                                                                                                                                                                                                                                                                                                                                                                                                                                                                                                                                                                                                                                                                                                                                                                                                                                                                                                                                                                                                                                                                                                                                                                                                                                                             1\n",
       "I applied for a loan with XXXX XXXX, was denied credit because my FICO score showed a pending bankruptcy with Trans union. This is incorrect! The bankruptcy is final and discharged on XXXX/XXXX/2008. I called Trans Union XXXX times! I cant understand any of them!!! Tell them to hire Americans, the ones that pay taxes in this country! They deny that it 's pending and the FICO score shows it is pending. I called FICO, they wo n't tell me nothing and tell me I have to contact the Credit Bureaus to change my FICO score. So what do! One denies the credit report and FICO wo n't give me no information! This is not right, If some organization is using a system to judge me, I should have the right to any information used on me!! I do n't know who to contact. I want my credit straightened out.                                                                                                                                                                                                                                                                                                                                                                                                                                                                                                                                                                                                                                                                                                                                                                                                                                                                                                                                                                                                                                                                                                                                                                                                                                                                                                                                                                                                                                                                                                                                                                                                                                                                                                                                                                                                                                                                                                                                                                                                                                                                                                                                                                                                                                                                                                                                                                                                                                                                                                                                                                                                                                                                                                                                                                                                                                                                                                                                                                                                                                                                                                                                                                                                                           1\n",
       "Contacted Quicken loans prior to XXXX XXXX, 2015. Received notice from them dated XXXX XXXX, 2015 that my application for a mortgage was \" taken out of process '' on that date. I did not authorize the XXXX inquiries made by Quicken Loans on that date. XXXX XXXX XXXX has erroneously made this inquiries. What can be done to stop these nefarious inquiries, restore the points lost because of his fraudulent behavior?                                                                                                                                                                                                                                                                                                                                                                                                                                                                                                                                                                                                                                                                                                                                                                                                                                                                                                                                                                                                                                                                                                                                                                                                                                                                                                                                                                                                                                                                                                                                                                                                                                                                                                                                                                                                                                                                                                                                                                                                                                                                                                                                                                                                                                                                                                                                                                                                                                                                                                                                                                                                                                                                                                                                                                                                                                                                                                                                                                                                                                                                                                                                                                                                                                                                                                                                                                                                                                                                                                                                                                                                                      1\n",
       "My wife and I have completed successfully XXXX trial loan modifications with Wells Fargo/ASC on loan number XXXX an Investment property. \\nWe also completed XXXX trial payments on another Separate Wells Fargo loan number XXXX. Wells Fargo said they would not modify these loans if the liens were not addressed. \\nThese liens which the Wells Fargo Home Preservation specialists provided us with were cleared. \\nIn XXXX 2015 Wells Fargo modified loan number XXXX, but they have refused to modify this loan number XXXX. They want us to pay off the second lienholder or have them subordinate the lien. \\nThe second lienholder has modified their loan twice but Wells Fargo said they will not modify the loan. Our even speak to the Second lienholder who agreed to work with me if Wells Fargo contacts them. I have no single point of contact at Wells Fargo, I keep getting letters but when I call in to Wells Fargo I am transferred from person to persons who keeps telling me to send in documents or call back when I get my second lienholder to subordinate the loan.                                                                                                                                                                                                                                                                                                                                                                                                                                                                                                                                                                                                                                                                                                                                                                                                                                                                                                                                                                                                                                                                                                                                                                                                                                                                                                                                                                                                                                                                                                                                                                                                                                                                                                                                                                                                                                                                                                                                                                                                                                                                                                                                                                                                                                                                                                                                                                                                                                                                                                                                                                                                                                                                                                                                                                                                                                                                                                                                                  1\n",
       "could not get free credit report from Experian.                                                                                                                                                                                                                                                                                                                                                                                                                                                                                                                                                                                                                                                                                                                                                                                                                                                                                                                                                                                                                                                                                                                                                                                                                                                                                                                                                                                                                                                                                                                                                                                                                                                                                                                                                                                                                                                                                                                                                                                                                                                                                                                                                                                                                                                                                                                                                                                                                                                                                                                                                                                                                                                                                                                                                                                                                                                                                                                                                                                                                                                                                                                                                                                                                                                                                                                                                                                                                                                                                                                                                                                                                                                                                                                                                                                                                                                                                                                                                                                                      1\n",
       "XXXX XXXX XXXX XXXX, SC XXXXMERCHANTS CREDIT ASSOC. SCXXXX XXXX XXXX XXXX XXXX, SC XXXXRe : Social XXXXTo Whom It May Concern : I have attempted on multiple occasions to contact your company via XXXX yet you have failed to respond. At this time I feel it is necessary to file this complaint and advise you of the following. Due to your company violating FCRA ( Title 15 United States Code Section 1681 ), FDCPA ( 5 U.S.C. 1692 -1692p ), and UDAPP this letter will serve as my Notice Of Intent to File Suit. Pursuant to South Carolina Code Annotated, Title 22, Ch. 3, Article 1, Sections 10-30 ; Title 22, Ch. 3, Article 3, Sections 110-320 ; Title 15, Ch. 7, Sections 10-30 ; Title 18, Ch. 7, Article 1, Section 20 ; Administrative and Procedural Rules for XXXX Court, Rules 1-19. I will be filing suit in South Carolina XXXX Court in the amount of {$20000.00} that is to include Statutory and Actual damages incurred by myself as a result of increased APR 's as well as out right denial of credit. As we XXXX know companies tend to wait until the suit is filed and wait until the last day before their answer is due to the court to offer settlement. I will advise you once the case is filed I will not even entertain an offer for settlement. I have already spoke with a law firm and advised them of the situation and if an agreement for settlement is not reached between myself and your company 14 calendar days from today he will be retained and take over the case in its entirety. But he will hold no settlement authority due to the disrespect your company displayed when ignoring documentation and request for validation of this fraudulent account. \\nYour company listed an account with XXXX XXXX in the amount of {$1600.00} on my credit. This account was opened fraudulently and I had notified the original creditor/rental agency as soon as I had seen them listed on my credit. Apparently they must have received the Fraud Affidavit and Dispute after selling it to your company. Never the less your company without mailing any documentation attempted to collect on this debt. FDCPA requires mailed documentation within 5 business days which to this day has still not been done. Now even after mailing the request for Validation of Debt and my letter of dispute for the XXXX time back on XX/XX/XXXX I have still have not received any response or correspondence. Yet, the account is still being listed on my credit as a derogatory account thus violating FCRA and FDCPA. \\nWhat I am proposing as an agreeable settlement would be your company immediately updates all XXXX credit bureaus to remove this charge off account as well as any associated inquiries and pays me {$5000.00} payment to settle any and all violations. Payment must be made to myself at the address listed above on or before XX/XX/XXXX. Considering the cost of hiring representation in South Carolina plus the cost you would incur for my court cost and attorneys fees I believe that is a fair offer. Once a settlement is agreed to I would be willing to sign a \" Release of all claims ''. As far as contacting me in reference to this offer for resolution I am giving you permission to speak with my husband XXXX XXXX at XXXX he can also be reached by email at XXXXXXXXXXXX. If an agreement is not reached on or before XX/XX/XXXX we will move forward with the legal proceedings. \\n\\nThank you for your prompt attention to this matter, XXXX XXXX                                                                                                                                                                                                                                                                                                                                                                                                                                                                                                 1\n",
       "I am currently paying off a Discover Loan through XXXX XXXX XXXX law firm ( debt collector ) and I have been since XXXX 2012. XXXX XXXX XXXX, XXXX are now trying to collect on the SAME debt!                                                                                                                                                                                                                                                                                                                                                                                                                                                                                                                                                                                                                                                                                                                                                                                                                                                                                                                                                                                                                                                                                                                                                                                                                                                                                                                                                                                                                                                                                                                                                                                                                                                                                                                                                                                                                                                                                                                                                                                                                                                                                                                                                                                                                                                                                                                                                                                                                                                                                                                                                                                                                                                                                                                                                                                                                                                                                                                                                                                                                                                                                                                                                                                                                                                                                                                                                                                                                                                                                                                                                                                                                                                                                                                                                                                                                                                       1\n",
       "i recently make a purchase using how payment metode paypal butthe seller never give me the service i make a claim inside paypal butthey go in seller favor this is the unique transaction number XXXX and i thinking this is fraudulent seller soplease helpme to get back my money                                                                                                                                                                                                                                                                                                                                                                                                                                                                                                                                                                                                                                                                                                                                                                                                                                                                                                                                                                                                                                                                                                                                                                                                                                                                                                                                                                                                                                                                                                                                                                                                                                                                                                                                                                                                                                                                                                                                                                                                                                                                                                                                                                                                                                                                                                                                                                                                                                                                                                                                                                                                                                                                                                                                                                                                                                                                                                                                                                                                                                                                                                                                                                                                                                                                                                                                                                                                                                                                                                                                                                                                                                                                                                                                                                  1\n",
       "I am still waiting for the documents I requested. \\n\\nSee attachment.                                                                                                                                                                                                                                                                                                                                                                                                                                                                                                                                                                                                                                                                                                                                                                                                                                                                                                                                                                                                                                                                                                                                                                                                                                                                                                                                                                                                                                                                                                                                                                                                                                                                                                                                                                                                                                                                                                                                                                                                                                                                                                                                                                                                                                                                                                                                                                                                                                                                                                                                                                                                                                                                                                                                                                                                                                                                                                                                                                                                                                                                                                                                                                                                                                                                                                                                                                                                                                                                                                                                                                                                                                                                                                                                                                                                                                                                                                                                                                                1\n",
       "only autorized XXXX pull on XXXX XXXX 2015 and that was XXXX XXXX                                                                                                                                                                                                                                                                                                                                                                                                                                                                                                                                                                                                                                                                                                                                                                                                                                                                                                                                                                                                                                                                                                                                                                                                                                                                                                                                                                                                                                                                                                                                                                                                                                                                                                                                                                                                                                                                                                                                                                                                                                                                                                                                                                                                                                                                                                                                                                                                                                                                                                                                                                                                                                                                                                                                                                                                                                                                                                                                                                                                                                                                                                                                                                                                                                                                                                                                                                                                                                                                                                                                                                                                                                                                                                                                                                                                                                                                                                                                                                                    1\n",
       "Contacted Experian after getting a credit report from XXXX XXXX showing my Social Security Number for only their credit reporting agency was completely wrong. This caused a lot of negative reporting items to show up on my credit report and is keeping me from closing my loan. I sent proof of social security and my identification as well as a form from the social security administration. They claimed it would be taken care of immediately. I have been trying to get it resolved since XX/XX/XXXX. My loan is clear to close and still it has not changed with Experian and I am not able to close my loan. this is causing me financial distress. I have called in to Experian and have had my loan officer as well and each time they claim it will be fixed. When I asked them to send me proof its been changed they tell me they will send it and never do. I need this resolved right away!                                                                                                                                                                                                                                                                                                                                                                                                                                                                                                                                                                                                                                                                                                                                                                                                                                                                                                                                                                                                                                                                                                                                                                                                                                                                                                                                                                                                                                                                                                                                                                                                                                                                                                                                                                                                                                                                                                                                                                                                                                                                                                                                                                                                                                                                                                                                                                                                                                                                                                                                                                                                                                                                                                                                                                                                                                                                                                                                                                                                                                                                                                                                      1\n",
       "I was notify by my credit union of the writ of garnishment. They have put a hold on my account and my step-father account too. I do not recall this credit card account. I did not receive either notice of either kind. The debt collector paid the amount owed or make a settlement offer. I repeat I do not recall this account.                                                                                                                                                                                                                                                                                                                                                                                                                                                                                                                                                                                                                                                                                                                                                                                                                                                                                                                                                                                                                                                                                                                                                                                                                                                                                                                                                                                                                                                                                                                                                                                                                                                                                                                                                                                                                                                                                                                                                                                                                                                                                                                                                                                                                                                                                                                                                                                                                                                                                                                                                                                                                                                                                                                                                                                                                                                                                                                                                                                                                                                                                                                                                                                                                                                                                                                                                                                                                                                                                                                                                                                                                                                                                                                  1\n",
       "XX/XX/XXXX modification granted. Error made where late payments added to payments. Customer Account manager told my wife and I NOT to make a payment until they corrected it. Spent every month updating modification documents. Foreclosure proceedings began. The sell date was for XX/XX/XXXX. XX/XX/XXXX the XXXX modification package was sent to Bank of America. Was told that the sale was stopped. The last notice of the sale was in the state paper on XX/XX/XXXX. XXXX requests for validation of debt has been ignored. Told on XX/XX/XXXX house sold on XX/XX/XXXX. On XX/XX/XXXX found house on site listed as REO to be sold on XXXX starting bid at {$25000.00} on XX/XX/XXXX-XX/XX/XXXX. XXXX customer service managers assigned since XX/XX/XXXX. XXXX faxes sent giving the permission for Bank of America to discuss loan with my wife. XXXX appointments scheduled for customer account manager to call to discuss account. No calls received. Sat on hold for XXXX hours for one call XXXX times. Wrong phone number given on the loan modification status web site. An extension number was never given, without extension number call would hang up on my wife. Bank of America is guilty of breaking several laws : refusal to validate debt, dual tracking of a foreclosure ( packet in more than 37 days before the sale ), not posting notice in local paper, when posted it was in a state paper not widely circulated in our area more than 10 days before the sale. We were not properly notified of the foreclosure. The attorney 's letter was received almost 1 month after XX/XX/XXXX.                                                                                                                                                                                                                                                                                                                                                                                                                                                                                                                                                                                                                                                                                                                                                                                                                                                                                                                                                                                                                                                                                                                                                                                                                                                                                                                                                                                                                                                                                                                                                                                                                                                                                                                                                                                                                                                                                                                                                                                                                                                                                                                                                                                                                                                                                                                                                                                                                           1\n",
       "On XX/XX/XXXX, I mailed a money order in the amount of {$120.00} to XXXX XXXX for payment of a medical bill showing on our credit report. Enclosed with the payment was a letter of explanation to XXXX XXXX. Also on XX/XX/XXXX, I mailed a money order in the amount of {$150.00} to XXXX XXXX for payment of a medical bill for my husband, XXXX XXXX showing on our credit report. Enclosed with the payment was a letter of explanation to XXXX XXXX. \\nOn Tuesday, XX/XX/XXXX, I called Revenue Collection to follow up on the XXXX payments since I had not received anything in writing as requested in both letters of XX/XX/XXXX. I spoke with XXXX XXXX who informed me that XXXX XXXX handles only municipal collections and does not deal with unpaid medical bills for collection. XXXX XXXX stated that the XXXX payments in question had been posted to fines imposed by the City of XXXX for non-filing of business tax return in XX/XX/XXXX. I requested documentation to prove that the medical bill payments sent to XXXX XXXX where applied to the City of XXXX. XXXX XXXX offered to write a letter stating the payments were posted to fines imposed by the City of XXXX for non-filing of business tax return in XX/XX/XXXX. I declined this offer as proof. I requested that XXXX XXXX send me an internal record that showed this transaction had occurred with the City of XXXX. XXXX XXXX stated that she would have to call me back the next day. \\nI did not hear from XXXX XXXX on Wednesday, XXXX XXXX. Therefore, I sent XXXX XXXX an email requesting that the combined amount of {$270.00} be returned to us since they did not provide proof of payment to the City of XXXX. On Thursday, XXXX XXXX, I received an email from XXXX XXXX XXXX, VP of Operations for XXXX XXXX XXXX ( see copy of email ). XXXX XXXX states that the payments made to XXXX XXXX was my error. XXXX XXXX is the bureau listed on the report for the unpaid medical bills. \\nOn XXXX XXXX, I visited the office for City of XXXX business tax issues. A representative examined my file and found that no payments had been made by XXXX XXXX. \\nAccording to Fair Debt Collection Practice Act 809. Validation of debts, ( a ) Within five days after the initial communication with a consumer in connection with the collection of any debt, a debt collector shall, unless the following information is contained in the initial communication or the consumer has paid the debt, send the consumer a written notice containing ( 1 ) the amount of the debt ; ( 2 ) the name of the creditor to whom the debt is owed ; ( 3 ) a statement that unless the consumer, within thirty days after receipt of the notice, disputes the validity of the debt, or any portion thereof, the debt will be assumed to be valid by the debt collector. \\nThe law does not specify which party needs to initiate communication. It is my position that initial communication with XXXX XXXX occurred about XX/XX/XXXX when the payments for unpaid medical bills were sent with letters of explanation. It is my position that XXXX XXXX should have sent written notice that the accounts referenced in the letters of XXXX XXXX were not in their possession. By law, this should have occurred within five days of the receipt of payment for the medical bills. It is my position that XXXX XXXX should have notified me in writing within 5 days of the receipt of payments for medical bills that they intended to pay the City of XXXX with the money orders clearly sent for a different purpose.                                                                                                                                                                                                                                                                                                                                                                                                                                    1\n",
       "Do to health issues, loss of employment and a divorce I fell behind which sent me in to the foreclosure process. This started in XXXX, I made every attempt to get a loan modification. I was assigned a Single Point if contact, XXXX throughout the 3 yr process. I 've never spoken to XXXX them. I 've spend over 40 hrs on hold, being transferred to n fro from Dept to Dept. I ended up having to file bankruptcy to get them to work with me. This entire bankruptcy cost me more than my arrears. I finally got my loan modification in XXXX of XXXX. Thank you. But because I was still in the bankruptcy process I was n't allowed to make payments online. To make a payment by phone I 'm charged an extra {$15.00} per month. I 've been told for 3 months now I can pay online but when I try, I receive a msg telling me I have to call. Then I 'm charged extra, on hold and bounced to a minimum if XXXX depts and told I should pay online to avoid the {$15.00} charge. I 'd love to. I 'm very grateful to have gotten the loan modification and am doing great financially but feel I 'm still be prohibited from paying in a normal manner, and charged a bogus fee. This month I started trying to pay on the XXXX and was unable to get payment thru til the XXXX due to being bounced and on hold. I have to work, when I 'm available to hold for extended periods the phone lines are closed. Sometimes people really are trying. But the loop and hoop sytem puts them further behind.                                                                                                                                                                                                                                                                                                                                                                                                                                                                                                                                                                                                                                                                                                                                                                                                                                                                                                                                                                                                                                                                                                                                                                                                                                                                                                                                                                                                                                                                                                                                                                                                                                                                                                                                                                                                                                                                                                                                                                                                                                                                                                                                                                                                                                                                                                                                                                                                                                                                                                                                  1\n",
       "Esser, James & Associates called my fathers phone and stated that they were trying to get a hold of me. They stated that their client is giving me one last chance to speak to them before the start the litigation process. They left message also stating that if he is in contact with me to please have me call them at XXXX. I am not associated with my father except by address from XXXX years ago. It startled my father in thinking I was in trouble because of the agents tone by stating \" last chance ''.                                                                                                                                                                                                                                                                                                                                                                                                                                                                                                                                                                                                                                                                                                                                                                                                                                                                                                                                                                                                                                                                                                                                                                                                                                                                                                                                                                                                                                                                                                                                                                                                                                                                                                                                                                                                                                                                                                                                                                                                                                                                                                                                                                                                                                                                                                                                                                                                                                                                                                                                                                                                                                                                                                                                                                                                                                                                                                                                                                                                                                                                                                                                                                                                                                                                                                                                                                                                                                                                                                                               1\n",
       "I can not get these people to stop taking this money out for some insurance that would pay off the money on this card- The card companies wo n't block it and the insurance company wo n't stop taking it! I have called a number of times over the last 5 years to both and I just get the run around! Can you help me? \\nCapital One XX/XX/XXXX XXXX XXXX XXXX XXXX Household Bank XX/XX/XXXX XX/XX/XXXX NUF IPP XXXX XXXX                                                                                                                                                                                                                                                                                                                                                                                                                                                                                                                                                                                                                                                                                                                                                                                                                                                                                                                                                                                                                                                                                                                                                                                                                                                                                                                                                                                                                                                                                                                                                                                                                                                                                                                                                                                                                                                                                                                                                                                                                                                                                                                                                                                                                                                                                                                                                                                                                                                                                                                                                                                                                                                                                                                                                                                                                                                                                                                                                                                                                                                                                                                                                                                                                                                                                                                                                                                                                                                                                                                                                                                                                         1\n",
       "have complained to XXXX XXXX and filed a complaint with the XXXX 's office. This account was overcharged for usage and wireless internet access for over 9 months. Now XXXX XXXX is filing a write off on my account for XXXX when in fact they have overcharged me over XXXX dollars in the past two years. Per the XXXX 's office I will be filing a district magistrate request for hearing shortly to get my funds returned. This is reported on XXXX Equifax credit reports.                                                                                                                                                                                                                                                                                                                                                                                                                                                                                                                                                                                                                                                                                                                                                                                                                                                                                                                                                                                                                                                                                                                                                                                                                                                                                                                                                                                                                                                                                                                                                                                                                                                                                                                                                                                                                                                                                                                                                                                                                                                                                                                                                                                                                                                                                                                                                                                                                                                                                                                                                                                                                                                                                                                                                                                                                                                                                                                                                                                                                                                                                                                                                                                                                                                                                                                                                                                                                                                                                                                                                                    1\n",
       "Green Tree ( for Georgia ) I paid my {$1300.00} mortgage payment on XX/XX/XXXX, due XX/XX/XXXX, the same amount I always pay. However, escrow caused the amount to change. Therefore, I owe {$34.00} in addition to what I paid on XX/XX/XXXX. XXXX, XXXX called me today, XX/XX/XXXX, at XXXX XXXX., threatened me, said if I did n't pay {$34.00} by the close of business today I would be charged {$54.00} late fee. And it would go on my credit. Why did n't he call sooner? Because he will take my money over the phone for a {$12.00} transaction fee. **So I must immediately pay {$34.00} plus {$12.00} payment fee, or be charged {$54.00} late fee. ** I did n't pay it. He harassed me about next month 's payment, when would I pay that, and it 's not due until XX/XX/XXXX. I make payments usually before the due date each month. \\nOnly one number for Green Tree : XXXX -- XXXX, XXXX is rude and wo n't help me, said I would be charged the late fee if the full amount of my mortgage payment was not received today, XX/XX/XXXX. I tried to get a payoff amount, and ca n't get that. I contacted the only other number I could find ( refinancing ) and they would n't even help me with a payoff amount! They hide like mice behind one phone number with very few options. Also my social security number is never recognized by this loan.                                                                                                                                                                                                                                                                                                                                                                                                                                                                                                                                                                                                                                                                                                                                                                                                                                                                                                                                                                                                                                                                                                                                                                                                                                                                                                                                                                                                                                                                                                                                                                                                                                                                                                                                                                                                                                                                                                                                                                                                                                                                                                                                                                                                                                                                                                                                                                                                                                                                                                                                                                                                                                                                              1\n",
       "Our servicer, Select Portfolio Servicing in Utah, has requested require documents in order to negotiate a loan modification with the borrower. The borrower had received a completion notice from XXXX in XX/XX/XXXX, saying within one month, the examination will be notified to the borrower. The notification to this effect has never been received thus far, whereas Required Information Notice has been numerously received by the borrower. SPS has been repeatedly extending the expiration date for submission of Required Information, and the latest notification said the date has been set for XX/XX/XXXX. However, the borrower has recently been receiving numerous solicitation letters from attorneys at law and other private companies that are offering legal assistance regarding violation of \" Dual Tracking '' and \" Single Point of Contact '' because they insisted public notice has it that non-judicial trust sale date has been set for XX/XX/XXXX. The borrower has not received the Notice of Sale from Select portfolio servicing yet XXXX has listed the property to be auctioned off on XX/XX/XXXX. XXXX XXXX, Consumer Ombudsman Specialist at SPS wrote to the borrower with its carbon copy of XX/XX/XXXX addressed to CALIFORNIA ATTORNEY GENERAL 'S OFFICE, saying \" Please keep in mind that each time documents are received an Acknowledgement Letter will be sent out. Once the processor has reviewed the documents another letter will be mailed out advising of documents that are needed or advising that we have a complete packet. '' See the last paragraph of the XXXX page of the said letter by XXXX XXXX as per attached hereto. Since XX/XX/XXXX, the borrower has submitted information numerously all along, but the said Acknowledgement Letter has never been received. The borrower has received Required Information Notices with pre-printed boilerplate letters containing all-encompassing documents. The borrower has never been able to speak to the so-called XXXX relationship managers, XXXX XXXX, and XXXX XXXX, as a single point of contact, but more than a XXXX different people from SPS called the borrower, asking redundantly for already-submitted documents and information. The borrower finally gave up on talking to them on the phone and SPS notified the borrower stating they will terminate any verbal communication with borrower yet SPS calls numerous times without leaving voice mail.                                                                                                                                                                                                                                                                                                                                                                                                                                                                                                                                                                                                                                                                                                                                                                                                                                                                                                                                                                                                                                                                                                                                                                                                                                                                                                                                                                                                                                                                                                                                                               1\n",
       "I was lay off from my job on XX/XX/2014 making it impossible to pay back a XXXX pay day loan with Checksmart and a $XXXX loan XXXX. I have tried to make arrangements to pay back through an installment plan. Instead I am getting threatening phone calls about being summoned because of fraudulent transactions compromising my social security. I have checked the number that calls and I have read some comments about being a collection agency. The number is XXXX Pleas help me stopping the illegal practice by the collection agency.                                                                                                                                                                                                                                                                                                                                                                                                                                                                                                                                                                                                                                                                                                                                                                                                                                                                                                                                                                                                                                                                                                                                                                                                                                                                                                                                                                                                                                                                                                                                                                                                                                                                                                                                                                                                                                                                                                                                                                                                                                                                                                                                                                                                                                                                                                                                                                                                                                                                                                                                                                                                                                                                                                                                                                                                                                                                                                                                                                                                                                                                                                                                                                                                                                                                                                                                                                                                                                                                                                    1\n",
       "Name: Consumer complaint narrative, dtype: int64"
      ]
     },
     "execution_count": 7,
     "metadata": {},
     "output_type": "execute_result"
    }
   ],
   "source": [
    "df['Consumer complaint narrative'].value_counts().T"
   ]
  },
  {
   "cell_type": "code",
   "execution_count": 8,
   "metadata": {
    "collapsed": false
   },
   "outputs": [],
   "source": [
    "df=df.sample(frac=0.1,replace=True)"
   ]
  },
  {
   "cell_type": "code",
   "execution_count": 9,
   "metadata": {
    "collapsed": false
   },
   "outputs": [
    {
     "data": {
      "text/plain": [
       "(5970, 18)"
      ]
     },
     "execution_count": 9,
     "metadata": {},
     "output_type": "execute_result"
    }
   ],
   "source": [
    "df.shape"
   ]
  },
  {
   "cell_type": "code",
   "execution_count": 10,
   "metadata": {
    "collapsed": false
   },
   "outputs": [
    {
     "data": {
      "text/plain": [
       "(837,)"
      ]
     },
     "execution_count": 10,
     "metadata": {},
     "output_type": "execute_result"
    }
   ],
   "source": [
    "df['Company'].value_counts(dropna=False).shape"
   ]
  },
  {
   "cell_type": "code",
   "execution_count": 11,
   "metadata": {
    "collapsed": false
   },
   "outputs": [
    {
     "data": {
      "text/plain": [
       "Debt collection            1584\n",
       "Mortgage                   1376\n",
       "Credit reporting           1094\n",
       "Credit card                 690\n",
       "Bank account or service     512\n",
       "Consumer Loan               321\n",
       "Student loan                172\n",
       "Payday loan                  87\n",
       "Prepaid card                 65\n",
       "Money transfers              57\n",
       "Other financial service      12\n",
       "Name: Product, dtype: int64"
      ]
     },
     "execution_count": 11,
     "metadata": {},
     "output_type": "execute_result"
    }
   ],
   "source": [
    "df['Product'].value_counts(dropna=False)"
   ]
  },
  {
   "cell_type": "code",
   "execution_count": 12,
   "metadata": {
    "collapsed": false
   },
   "outputs": [
    {
     "data": {
      "text/plain": [
       "(64,)"
      ]
     },
     "execution_count": 12,
     "metadata": {},
     "output_type": "execute_result"
    }
   ],
   "source": [
    "df['Sub-issue'].value_counts().shape"
   ]
  },
  {
   "cell_type": "code",
   "execution_count": 13,
   "metadata": {
    "collapsed": false,
    "scrolled": true
   },
   "outputs": [
    {
     "data": {
      "text/plain": [
       "Incorrect information on credit report      714\n",
       "Cont'd attempts collect debt not owed       691\n",
       "Loan servicing, payments, escrow account    570\n",
       "Loan modification,collection,foreclosure    499\n",
       "Disclosure verification of debt             260\n",
       "Communication tactics                       224\n",
       "Account opening, closing, or management     196\n",
       "Credit reporting company's investigation    171\n",
       "False statements or representation          158\n",
       "Application, originator, mortgage broker    143\n",
       "Improper contact or sharing of info         128\n",
       "Managing the loan or lease                  125\n",
       "Taking/threatening an illegal action        123\n",
       "Deposits and withdrawals                    111\n",
       "Dealing with my lender or servicer          110\n",
       "Billing disputes                            108\n",
       "Settlement process and costs                104\n",
       "Problems when you are unable to pay         101\n",
       "Unable to get credit report/credit score    100\n",
       "Problems caused by my funds being low        97\n",
       "Other                                        76\n",
       "Using a debit or ATM card                    64\n",
       "Improper use of my credit report             63\n",
       "Identity theft / Fraud / Embezzlement        61\n",
       "Credit decision / Underwriting               60\n",
       "Can't repay my loan                          58\n",
       "Taking out the loan or lease                 58\n",
       "Closing/Cancelling account                   53\n",
       "Credit monitoring or identity protection     46\n",
       "Making/receiving payments, sending money     44\n",
       "                                           ... \n",
       "Can't stop charges to bank account           10\n",
       "Received a loan I didn't apply for            9\n",
       "Payment to acct not credited                  8\n",
       "Charged bank acct wrong day or amt            8\n",
       "Other service issues                          8\n",
       "Bankruptcy                                    6\n",
       "Applied for loan/did not receive money        6\n",
       "Getting a loan                                4\n",
       "Adding money                                  3\n",
       "Privacy                                       3\n",
       "Application processing delay                  3\n",
       "Cash advance                                  3\n",
       "Customer service/Customer relations           3\n",
       "Forbearance / Workout plans                   2\n",
       "Balance transfer fee                          2\n",
       "Sale of account                               2\n",
       "Excessive fees                                2\n",
       "Disclosures                                   1\n",
       "Incorrect/missing disclosures or info         1\n",
       "Managing the line of credit                   1\n",
       "Wrong amount charged or received              1\n",
       "Lost or stolen money order                    1\n",
       "Lost or stolen check                          1\n",
       "Account terms and changes                     1\n",
       "Fees                                          1\n",
       "Lender repossessed or sold the vehicle        1\n",
       "Unexpected/Other fees                         1\n",
       "Shopping for a line of credit                 1\n",
       "Cash advance fee                              1\n",
       "Arbitration                                   1\n",
       "Name: Issue, dtype: int64"
      ]
     },
     "execution_count": 13,
     "metadata": {},
     "output_type": "execute_result"
    }
   ],
   "source": [
    "df['Issue'].value_counts()"
   ]
  },
  {
   "cell_type": "code",
   "execution_count": 14,
   "metadata": {
    "collapsed": false
   },
   "outputs": [
    {
     "data": {
      "text/plain": [
       "NaN                                                                                                                        3046\n",
       "Company chooses not to provide a public response                                                                           1948\n",
       "Company believes it acted appropriately as authorized by contract or law                                                    560\n",
       "Company has responded to the consumer and the CFPB and chooses not to provide a public response                             121\n",
       "Company believes the complaint is the result of a misunderstanding                                                           62\n",
       "Company believes complaint caused principally by actions of third party outside the control or direction of the company      60\n",
       "Company disputes the facts presented in the complaint                                                                        55\n",
       "Company can't verify or dispute the facts in the complaint                                                                   54\n",
       "Company believes complaint is the result of an isolated error                                                                33\n",
       "Company believes complaint represents an opportunity for improvement to better serve consumers                               31\n",
       "Name: Company public response, dtype: int64"
      ]
     },
     "execution_count": 14,
     "metadata": {},
     "output_type": "execute_result"
    }
   ],
   "source": [
    "df['Company public response'].value_counts(dropna=False)"
   ]
  },
  {
   "cell_type": "code",
   "execution_count": 15,
   "metadata": {
    "collapsed": false
   },
   "outputs": [
    {
     "data": {
      "text/plain": [
       "Closed with explanation            4542\n",
       "Closed with non-monetary relief     775\n",
       "Closed with monetary relief         443\n",
       "Closed                              163\n",
       "Untimely response                    47\n",
       "Name: Company response to consumer, dtype: int64"
      ]
     },
     "execution_count": 15,
     "metadata": {},
     "output_type": "execute_result"
    }
   ],
   "source": [
    "df['Company response to consumer'].value_counts(dropna=False)"
   ]
  },
  {
   "cell_type": "code",
   "execution_count": 16,
   "metadata": {
    "collapsed": false
   },
   "outputs": [
    {
     "data": {
      "text/plain": [
       "NaN                              4942\n",
       "Older American                    514\n",
       "Servicemember                     416\n",
       "Older American, Servicemember      98\n",
       "Name: Tags, dtype: int64"
      ]
     },
     "execution_count": 16,
     "metadata": {},
     "output_type": "execute_result"
    }
   ],
   "source": [
    "df['Tags'].value_counts(dropna=False)"
   ]
  },
  {
   "cell_type": "code",
   "execution_count": 17,
   "metadata": {
    "collapsed": false
   },
   "outputs": [
    {
     "data": {
      "text/plain": [
       "'12/31/2015'"
      ]
     },
     "execution_count": 17,
     "metadata": {},
     "output_type": "execute_result"
    }
   ],
   "source": [
    "df['Date received'].max()"
   ]
  },
  {
   "cell_type": "code",
   "execution_count": 18,
   "metadata": {
    "collapsed": false
   },
   "outputs": [
    {
     "data": {
      "text/plain": [
       "'01/01/2016'"
      ]
     },
     "execution_count": 18,
     "metadata": {},
     "output_type": "execute_result"
    }
   ],
   "source": [
    "df['Date received'].min()"
   ]
  },
  {
   "cell_type": "code",
   "execution_count": 19,
   "metadata": {
    "collapsed": false
   },
   "outputs": [
    {
     "data": {
      "text/plain": [
       "Web    5970\n",
       "Name: Submitted via, dtype: int64"
      ]
     },
     "execution_count": 19,
     "metadata": {},
     "output_type": "execute_result"
    }
   ],
   "source": [
    "df['Submitted via'].value_counts(dropna=False)"
   ]
  },
  {
   "cell_type": "code",
   "execution_count": 20,
   "metadata": {
    "collapsed": false
   },
   "outputs": [
    {
     "data": {
      "text/plain": [
       "Yes    5773\n",
       "No      197\n",
       "Name: Timely response?, dtype: int64"
      ]
     },
     "execution_count": 20,
     "metadata": {},
     "output_type": "execute_result"
    }
   ],
   "source": [
    "df['Timely response?'].value_counts(dropna=False)"
   ]
  },
  {
   "cell_type": "code",
   "execution_count": 21,
   "metadata": {
    "collapsed": false
   },
   "outputs": [
    {
     "data": {
      "text/plain": [
       "No     4599\n",
       "Yes    1371\n",
       "Name: Consumer disputed?, dtype: int64"
      ]
     },
     "execution_count": 21,
     "metadata": {},
     "output_type": "execute_result"
    }
   ],
   "source": [
    "df['Consumer disputed?'].value_counts(dropna=False)"
   ]
  },
  {
   "cell_type": "code",
   "execution_count": 22,
   "metadata": {
    "collapsed": false
   },
   "outputs": [],
   "source": [
    "temp= pd.crosstab(df['Product'], df['Consumer disputed?'])"
   ]
  },
  {
   "cell_type": "code",
   "execution_count": 23,
   "metadata": {
    "collapsed": false
   },
   "outputs": [
    {
     "data": {
      "text/plain": [
       "<matplotlib.axes._subplots.AxesSubplot at 0x7f91b339f4d0>"
      ]
     },
     "execution_count": 23,
     "metadata": {},
     "output_type": "execute_result"
    },
    {
     "data": {
      "image/png": "[encoded data removed]",
      "text/plain": [
       "<matplotlib.figure.Figure at 0x7f91b339fa90>"
      ]
     },
     "metadata": {},
     "output_type": "display_data"
    }
   ],
   "source": [
    "temp.plot(kind='bar',figsize=(8,6))## The disputed percentages are about same between \n",
    "###Consent and Consent Not \"complaint narrative text\"."
   ]
  },
  {
   "cell_type": "code",
   "execution_count": 24,
   "metadata": {
    "collapsed": false
   },
   "outputs": [],
   "source": [
    "temp1= pd.crosstab(df['Company response to consumer'], df['Consumer disputed?'])"
   ]
  },
  {
   "cell_type": "code",
   "execution_count": 25,
   "metadata": {
    "collapsed": false
   },
   "outputs": [
    {
     "data": {
      "text/html": [
       "<div>\n",
       "<table border=\"1\" class=\"dataframe\">\n",
       "  <thead>\n",
       "    <tr style=\"text-align: right;\">\n",
       "      <th>Consumer disputed?</th>\n",
       "      <th>No</th>\n",
       "      <th>Yes</th>\n",
       "    </tr>\n",
       "    <tr>\n",
       "      <th>Company response to consumer</th>\n",
       "      <th></th>\n",
       "      <th></th>\n",
       "    </tr>\n",
       "  </thead>\n",
       "  <tbody>\n",
       "    <tr>\n",
       "      <th>Closed</th>\n",
       "      <td>114</td>\n",
       "      <td>49</td>\n",
       "    </tr>\n",
       "    <tr>\n",
       "      <th>Closed with explanation</th>\n",
       "      <td>3370</td>\n",
       "      <td>1172</td>\n",
       "    </tr>\n",
       "    <tr>\n",
       "      <th>Closed with monetary relief</th>\n",
       "      <td>400</td>\n",
       "      <td>43</td>\n",
       "    </tr>\n",
       "    <tr>\n",
       "      <th>Closed with non-monetary relief</th>\n",
       "      <td>668</td>\n",
       "      <td>107</td>\n",
       "    </tr>\n",
       "    <tr>\n",
       "      <th>Untimely response</th>\n",
       "      <td>47</td>\n",
       "      <td>0</td>\n",
       "    </tr>\n",
       "  </tbody>\n",
       "</table>\n",
       "</div>"
      ],
      "text/plain": [
       "Consumer disputed?                 No   Yes\n",
       "Company response to consumer               \n",
       "Closed                            114    49\n",
       "Closed with explanation          3370  1172\n",
       "Closed with monetary relief       400    43\n",
       "Closed with non-monetary relief   668   107\n",
       "Untimely response                  47     0"
      ]
     },
     "execution_count": 25,
     "metadata": {},
     "output_type": "execute_result"
    }
   ],
   "source": [
    "temp1"
   ]
  },
  {
   "cell_type": "code",
   "execution_count": 26,
   "metadata": {
    "collapsed": false
   },
   "outputs": [
    {
     "data": {
      "text/plain": [
       "<matplotlib.axes._subplots.AxesSubplot at 0x7f916ae4b4d0>"
      ]
     },
     "execution_count": 26,
     "metadata": {},
     "output_type": "execute_result"
    },
    {
     "data": {
      "image/png": "[encoded data removed]",
      "text/plain": [
       "<matplotlib.figure.Figure at 0x7f916ae4be90>"
      ]
     },
     "metadata": {},
     "output_type": "display_data"
    }
   ],
   "source": [
    "temp1.plot(kind='bar',figsize=(8,6)) ###Most cases are fall in closed with explaination"
   ]
  },
  {
   "cell_type": "code",
   "execution_count": 27,
   "metadata": {
    "collapsed": true
   },
   "outputs": [],
   "source": [
    "temp3= pd.crosstab(df['Product'], df['Consumer disputed?'])"
   ]
  },
  {
   "cell_type": "code",
   "execution_count": 28,
   "metadata": {
    "collapsed": false
   },
   "outputs": [
    {
     "data": {
      "text/plain": [
       "<matplotlib.axes._subplots.AxesSubplot at 0x7f91b3275a50>"
      ]
     },
     "execution_count": 28,
     "metadata": {},
     "output_type": "execute_result"
    },
    {
     "data": {
      "image/png": "[encoded data removed]",
      "text/plain": [
       "<matplotlib.figure.Figure at 0x7f91b3277650>"
      ]
     },
     "metadata": {},
     "output_type": "display_data"
    }
   ],
   "source": [
    "temp3.plot(kind='bar',figsize=(8,6))"
   ]
  },
  {
   "cell_type": "code",
   "execution_count": 29,
   "metadata": {
    "collapsed": false
   },
   "outputs": [],
   "source": [
    "##plt.hist(np.log(df['Company'].value_counts()))\n",
    "##plt.xlabel(df['Company'].value_counts().index)"
   ]
  },
  {
   "cell_type": "code",
   "execution_count": 30,
   "metadata": {
    "collapsed": false
   },
   "outputs": [
    {
     "data": {
      "text/plain": [
       "(57,)"
      ]
     },
     "execution_count": 30,
     "metadata": {},
     "output_type": "execute_result"
    }
   ],
   "source": [
    "df['State'].value_counts().shape"
   ]
  },
  {
   "cell_type": "code",
   "execution_count": 31,
   "metadata": {
    "collapsed": false
   },
   "outputs": [],
   "source": [
    "df['Date received']=pd.DatetimeIndex(df['Date received'],format='%m/%d/%Y').date\n",
    "df['Date sent to company']=pd.DatetimeIndex(df['Date sent to company'],format='%m/%d/%Y').date"
   ]
  },
  {
   "cell_type": "code",
   "execution_count": 32,
   "metadata": {
    "collapsed": false
   },
   "outputs": [
    {
     "data": {
      "text/plain": [
       "(1611, 18)"
      ]
     },
     "execution_count": 32,
     "metadata": {},
     "output_type": "execute_result"
    }
   ],
   "source": [
    "df[df['Date received']!=df['Date sent to company']].shape"
   ]
  },
  {
   "cell_type": "markdown",
   "metadata": {},
   "source": [
    "## Missing Value Handling"
   ]
  },
  {
   "cell_type": "code",
   "execution_count": 33,
   "metadata": {
    "collapsed": false
   },
   "outputs": [
    {
     "data": {
      "text/html": [
       "<div>\n",
       "<table border=\"1\" class=\"dataframe\">\n",
       "  <thead>\n",
       "    <tr style=\"text-align: right;\">\n",
       "      <th></th>\n",
       "      <th>Date received</th>\n",
       "      <th>Product</th>\n",
       "      <th>Sub-product</th>\n",
       "      <th>Issue</th>\n",
       "      <th>Sub-issue</th>\n",
       "      <th>Consumer complaint narrative</th>\n",
       "      <th>Company public response</th>\n",
       "      <th>Company</th>\n",
       "      <th>State</th>\n",
       "      <th>ZIP code</th>\n",
       "      <th>Tags</th>\n",
       "      <th>Consumer consent provided?</th>\n",
       "      <th>Submitted via</th>\n",
       "      <th>Date sent to company</th>\n",
       "      <th>Company response to consumer</th>\n",
       "      <th>Timely response?</th>\n",
       "      <th>Consumer disputed?</th>\n",
       "      <th>Complaint ID</th>\n",
       "    </tr>\n",
       "  </thead>\n",
       "  <tbody>\n",
       "  </tbody>\n",
       "</table>\n",
       "</div>"
      ],
      "text/plain": [
       "Empty DataFrame\n",
       "Columns: [Date received, Product, Sub-product, Issue, Sub-issue, Consumer complaint narrative, Company public response, Company, State, ZIP code, Tags, Consumer consent provided?, Submitted via, Date sent to company, Company response to consumer, Timely response?, Consumer disputed?, Complaint ID]\n",
       "Index: []"
      ]
     },
     "execution_count": 33,
     "metadata": {},
     "output_type": "execute_result"
    }
   ],
   "source": [
    "df[pd.isnull(df['Issue'])]"
   ]
  },
  {
   "cell_type": "code",
   "execution_count": 34,
   "metadata": {
    "collapsed": false
   },
   "outputs": [],
   "source": [
    "df['Sub-product'].fillna('Not Provided',inplace=True)\n",
    "df['Sub-issue'].fillna('Not Provided',inplace=True)\n",
    "df['Consumer complaint narrative'].fillna('None or Not Provided',inplace=True)\n",
    "###Combine \"company public missing value\" with \"Company chose not to provide\"\n",
    "df['Company public response'].fillna('Company chooses not to provide',inplace=True) \n",
    "\n",
    "###Combine missing value of \"Issue\" with \"Other\"\n",
    "df['Issue'].fillna('Other',inplace=True) \n",
    "\n",
    "### Replace missing vlaues of 'Tags' with \"'Unknown'\n",
    "df['Tags'].fillna('Unknown',inplace=True) \n",
    "\n",
    "### Replace missing vlaues of 'Submitted via' with \"'other'\n",
    "df['Submitted via'].fillna('Other',inplace=True) \n",
    "\n",
    "###Combine missing value,other,and withdrawn of \"Consumer consent provided? \" \n",
    "###with Consumer consent not provided, since only users's complaints narrative will be provided\n",
    "### with the type of Consumer consent provided\n",
    "df['Consumer consent provided?'].fillna('Consent not provided',inplace=True) \n",
    "df['Consumer consent provided?']=df['Consumer consent provided?'].apply(lambda x: \n",
    "            'Consent not provided' if x=='Other' or x=='Consent withdrawn' else x)"
   ]
  },
  {
   "cell_type": "code",
   "execution_count": 35,
   "metadata": {
    "collapsed": false
   },
   "outputs": [],
   "source": [
    "### Fill missing 'State' info using valide zipcode.\n",
    "from pyzipcode import ZipCodeDatabase\n",
    "zip=ZipCodeDatabase()\n",
    "for i in df[pd.isnull(df['State'])&pd.notnull(df['ZIP code'])].index:\n",
    "    try:\n",
    "        df['State'][i]=str(zip[df['ZIP code'][i]].state)\n",
    "    except:\n",
    "        continue"
   ]
  },
  {
   "cell_type": "code",
   "execution_count": 36,
   "metadata": {
    "collapsed": false
   },
   "outputs": [
    {
     "data": {
      "text/plain": [
       "(11, 18)"
      ]
     },
     "execution_count": 36,
     "metadata": {},
     "output_type": "execute_result"
    }
   ],
   "source": [
    "df[pd.isnull(df['State'])&pd.isnull(df['ZIP code'])].shape ###Still 4268 users has no state info"
   ]
  },
  {
   "cell_type": "code",
   "execution_count": 37,
   "metadata": {
    "collapsed": true
   },
   "outputs": [],
   "source": [
    "df['State'].fillna('Not provided',inplace=True)\n",
    "df['ZIP code'].fillna('Not Provided',inplace=True)"
   ]
  },
  {
   "cell_type": "code",
   "execution_count": 38,
   "metadata": {
    "collapsed": false
   },
   "outputs": [
    {
     "data": {
      "text/plain": [
       "Consent provided    5970\n",
       "Name: Consumer consent provided?, dtype: int64"
      ]
     },
     "execution_count": 38,
     "metadata": {},
     "output_type": "execute_result"
    }
   ],
   "source": [
    "df['Consumer consent provided?'].value_counts(dropna=False)"
   ]
  },
  {
   "cell_type": "code",
   "execution_count": 39,
   "metadata": {
    "collapsed": false
   },
   "outputs": [
    {
     "name": "stdout",
     "output_type": "stream",
     "text": [
      "<class 'pandas.core.frame.DataFrame'>\n",
      "Int64Index: 5970 entries, 167683 to 72763\n",
      "Data columns (total 18 columns):\n",
      "Date received                   5970 non-null object\n",
      "Product                         5970 non-null object\n",
      "Sub-product                     5970 non-null object\n",
      "Issue                           5970 non-null object\n",
      "Sub-issue                       5970 non-null object\n",
      "Consumer complaint narrative    5970 non-null object\n",
      "Company public response         5970 non-null object\n",
      "Company                         5970 non-null object\n",
      "State                           5970 non-null object\n",
      "ZIP code                        5970 non-null object\n",
      "Tags                            5970 non-null object\n",
      "Consumer consent provided?      5970 non-null object\n",
      "Submitted via                   5970 non-null object\n",
      "Date sent to company            5970 non-null object\n",
      "Company response to consumer    5970 non-null object\n",
      "Timely response?                5970 non-null object\n",
      "Consumer disputed?              5970 non-null object\n",
      "Complaint ID                    5970 non-null int64\n",
      "dtypes: int64(1), object(17)\n",
      "memory usage: 886.2+ KB\n"
     ]
    }
   ],
   "source": [
    "df.info()"
   ]
  },
  {
   "cell_type": "code",
   "execution_count": 40,
   "metadata": {
    "collapsed": false
   },
   "outputs": [
    {
     "data": {
      "text/html": [
       "<div>\n",
       "<table border=\"1\" class=\"dataframe\">\n",
       "  <thead>\n",
       "    <tr style=\"text-align: right;\">\n",
       "      <th></th>\n",
       "      <th>Date received</th>\n",
       "      <th>Product</th>\n",
       "      <th>Sub-product</th>\n",
       "      <th>Issue</th>\n",
       "      <th>Sub-issue</th>\n",
       "      <th>Consumer complaint narrative</th>\n",
       "      <th>Company public response</th>\n",
       "      <th>Company</th>\n",
       "      <th>State</th>\n",
       "      <th>ZIP code</th>\n",
       "      <th>Tags</th>\n",
       "      <th>Consumer consent provided?</th>\n",
       "      <th>Submitted via</th>\n",
       "      <th>Date sent to company</th>\n",
       "      <th>Company response to consumer</th>\n",
       "      <th>Timely response?</th>\n",
       "      <th>Consumer disputed?</th>\n",
       "      <th>Complaint ID</th>\n",
       "    </tr>\n",
       "  </thead>\n",
       "  <tbody>\n",
       "    <tr>\n",
       "      <th>167683</th>\n",
       "      <td>2015-03-19</td>\n",
       "      <td>Consumer Loan</td>\n",
       "      <td>Vehicle loan</td>\n",
       "      <td>Managing the loan or lease</td>\n",
       "      <td>Not Provided</td>\n",
       "      <td>I have a car loan with PNC bank. In XXXX of 20...</td>\n",
       "      <td>Company chooses not to provide</td>\n",
       "      <td>PNC Bank N.A.</td>\n",
       "      <td>MD</td>\n",
       "      <td>212XX</td>\n",
       "      <td>Unknown</td>\n",
       "      <td>Consent provided</td>\n",
       "      <td>Web</td>\n",
       "      <td>2015-03-19</td>\n",
       "      <td>Closed with explanation</td>\n",
       "      <td>Yes</td>\n",
       "      <td>No</td>\n",
       "      <td>1290617</td>\n",
       "    </tr>\n",
       "    <tr>\n",
       "      <th>104538</th>\n",
       "      <td>2015-07-30</td>\n",
       "      <td>Credit card</td>\n",
       "      <td>Not Provided</td>\n",
       "      <td>Delinquent account</td>\n",
       "      <td>Not Provided</td>\n",
       "      <td>I received a denial for credit due to \" poor c...</td>\n",
       "      <td>Company chooses not to provide a public response</td>\n",
       "      <td>Wells Fargo &amp; Company</td>\n",
       "      <td>CA</td>\n",
       "      <td>945XX</td>\n",
       "      <td>Unknown</td>\n",
       "      <td>Consent provided</td>\n",
       "      <td>Web</td>\n",
       "      <td>2015-07-31</td>\n",
       "      <td>Closed with explanation</td>\n",
       "      <td>Yes</td>\n",
       "      <td>No</td>\n",
       "      <td>1494705</td>\n",
       "    </tr>\n",
       "    <tr>\n",
       "      <th>62865</th>\n",
       "      <td>2015-10-23</td>\n",
       "      <td>Debt collection</td>\n",
       "      <td>Medical</td>\n",
       "      <td>Disclosure verification of debt</td>\n",
       "      <td>Not given enough info to verify debt</td>\n",
       "      <td>Debt collector - threatened to obtain legal ac...</td>\n",
       "      <td>Company chooses not to provide</td>\n",
       "      <td>Rickart Collection Systems, Inc.</td>\n",
       "      <td>NJ</td>\n",
       "      <td>070XX</td>\n",
       "      <td>Unknown</td>\n",
       "      <td>Consent provided</td>\n",
       "      <td>Web</td>\n",
       "      <td>2015-10-23</td>\n",
       "      <td>Closed with explanation</td>\n",
       "      <td>Yes</td>\n",
       "      <td>Yes</td>\n",
       "      <td>1621467</td>\n",
       "    </tr>\n",
       "    <tr>\n",
       "      <th>139049</th>\n",
       "      <td>2015-05-20</td>\n",
       "      <td>Debt collection</td>\n",
       "      <td>I do not know</td>\n",
       "      <td>Cont'd attempts collect debt not owed</td>\n",
       "      <td>Debt is not mine</td>\n",
       "      <td>In XX/XX/XXXX, I sold my interest in a XXXX co...</td>\n",
       "      <td>Company chooses not to provide a public response</td>\n",
       "      <td>Law Office of Joe Pezzuto, LLC</td>\n",
       "      <td>CA</td>\n",
       "      <td>926XX</td>\n",
       "      <td>Unknown</td>\n",
       "      <td>Consent provided</td>\n",
       "      <td>Web</td>\n",
       "      <td>2015-05-20</td>\n",
       "      <td>Closed with explanation</td>\n",
       "      <td>Yes</td>\n",
       "      <td>No</td>\n",
       "      <td>1384417</td>\n",
       "    </tr>\n",
       "    <tr>\n",
       "      <th>113460</th>\n",
       "      <td>2015-07-13</td>\n",
       "      <td>Debt collection</td>\n",
       "      <td>I do not know</td>\n",
       "      <td>Cont'd attempts collect debt not owed</td>\n",
       "      <td>Debt resulted from identity theft</td>\n",
       "      <td>Someon stole my identity and use my name and g...</td>\n",
       "      <td>Company chooses not to provide</td>\n",
       "      <td>Afni, Inc.</td>\n",
       "      <td>PA</td>\n",
       "      <td>191XX</td>\n",
       "      <td>Unknown</td>\n",
       "      <td>Consent provided</td>\n",
       "      <td>Web</td>\n",
       "      <td>2015-07-14</td>\n",
       "      <td>Closed with explanation</td>\n",
       "      <td>Yes</td>\n",
       "      <td>No</td>\n",
       "      <td>1465231</td>\n",
       "    </tr>\n",
       "  </tbody>\n",
       "</table>\n",
       "</div>"
      ],
      "text/plain": [
       "       Date received          Product    Sub-product  \\\n",
       "167683    2015-03-19    Consumer Loan   Vehicle loan   \n",
       "104538    2015-07-30      Credit card   Not Provided   \n",
       "62865     2015-10-23  Debt collection        Medical   \n",
       "139049    2015-05-20  Debt collection  I do not know   \n",
       "113460    2015-07-13  Debt collection  I do not know   \n",
       "\n",
       "                                        Issue  \\\n",
       "167683             Managing the loan or lease   \n",
       "104538                     Delinquent account   \n",
       "62865         Disclosure verification of debt   \n",
       "139049  Cont'd attempts collect debt not owed   \n",
       "113460  Cont'd attempts collect debt not owed   \n",
       "\n",
       "                                   Sub-issue  \\\n",
       "167683                          Not Provided   \n",
       "104538                          Not Provided   \n",
       "62865   Not given enough info to verify debt   \n",
       "139049                      Debt is not mine   \n",
       "113460     Debt resulted from identity theft   \n",
       "\n",
       "                             Consumer complaint narrative  \\\n",
       "167683  I have a car loan with PNC bank. In XXXX of 20...   \n",
       "104538  I received a denial for credit due to \" poor c...   \n",
       "62865   Debt collector - threatened to obtain legal ac...   \n",
       "139049  In XX/XX/XXXX, I sold my interest in a XXXX co...   \n",
       "113460  Someon stole my identity and use my name and g...   \n",
       "\n",
       "                                 Company public response  \\\n",
       "167683                    Company chooses not to provide   \n",
       "104538  Company chooses not to provide a public response   \n",
       "62865                     Company chooses not to provide   \n",
       "139049  Company chooses not to provide a public response   \n",
       "113460                    Company chooses not to provide   \n",
       "\n",
       "                                 Company State ZIP code     Tags  \\\n",
       "167683                     PNC Bank N.A.    MD    212XX  Unknown   \n",
       "104538             Wells Fargo & Company    CA    945XX  Unknown   \n",
       "62865   Rickart Collection Systems, Inc.    NJ    070XX  Unknown   \n",
       "139049    Law Office of Joe Pezzuto, LLC    CA    926XX  Unknown   \n",
       "113460                        Afni, Inc.    PA    191XX  Unknown   \n",
       "\n",
       "       Consumer consent provided? Submitted via Date sent to company  \\\n",
       "167683           Consent provided           Web           2015-03-19   \n",
       "104538           Consent provided           Web           2015-07-31   \n",
       "62865            Consent provided           Web           2015-10-23   \n",
       "139049           Consent provided           Web           2015-05-20   \n",
       "113460           Consent provided           Web           2015-07-14   \n",
       "\n",
       "       Company response to consumer Timely response? Consumer disputed?  \\\n",
       "167683      Closed with explanation              Yes                 No   \n",
       "104538      Closed with explanation              Yes                 No   \n",
       "62865       Closed with explanation              Yes                Yes   \n",
       "139049      Closed with explanation              Yes                 No   \n",
       "113460      Closed with explanation              Yes                 No   \n",
       "\n",
       "        Complaint ID  \n",
       "167683       1290617  \n",
       "104538       1494705  \n",
       "62865        1621467  \n",
       "139049       1384417  \n",
       "113460       1465231  "
      ]
     },
     "execution_count": 40,
     "metadata": {},
     "output_type": "execute_result"
    }
   ],
   "source": [
    "df.head()"
   ]
  },
  {
   "cell_type": "code",
   "execution_count": 41,
   "metadata": {
    "collapsed": false
   },
   "outputs": [
    {
     "name": "stdout",
     "output_type": "stream",
     "text": [
      "<pandas.core.groupby.SeriesGroupBy object at 0x7f916a8a2050>\n"
     ]
    }
   ],
   "source": [
    "print df.groupby(df['Consumer disputed?'])['Date received']"
   ]
  },
  {
   "cell_type": "markdown",
   "metadata": {},
   "source": [
    "# Feature Engineering"
   ]
  },
  {
   "cell_type": "markdown",
   "metadata": {},
   "source": [
    "## Creating label"
   ]
  },
  {
   "cell_type": "code",
   "execution_count": 42,
   "metadata": {
    "collapsed": false
   },
   "outputs": [],
   "source": [
    "replace={'Yes':True, 'No':False}"
   ]
  },
  {
   "cell_type": "code",
   "execution_count": 43,
   "metadata": {
    "collapsed": false
   },
   "outputs": [],
   "source": [
    "df['Consumer disputed?']= df['Consumer disputed?'].apply(lambda x: replace[x])"
   ]
  },
  {
   "cell_type": "code",
   "execution_count": 44,
   "metadata": {
    "collapsed": true
   },
   "outputs": [],
   "source": [
    "replace1={'Consent provided':True, 'Consent not provided':False}\n",
    "df['Consumer consent provided?']= df['Consumer consent provided?'].apply(lambda x: replace1[x])"
   ]
  },
  {
   "cell_type": "markdown",
   "metadata": {
    "collapsed": true
   },
   "source": [
    "## Feature creating"
   ]
  },
  {
   "cell_type": "code",
   "execution_count": 45,
   "metadata": {
    "collapsed": false
   },
   "outputs": [],
   "source": [
    "##process time refers to days between the date CFPB received complaitns and the date \n",
    "##when complaints were sent to company on behal of comsume\n",
    "df['Process time']=(df['Date sent to company']-df['Date received']).astype('timedelta64[D]').astype(int)"
   ]
  },
  {
   "cell_type": "code",
   "execution_count": 46,
   "metadata": {
    "collapsed": false
   },
   "outputs": [],
   "source": [
    "df['Timely response?'] = df['Timely response?'].apply(lambda x: replace[x])"
   ]
  },
  {
   "cell_type": "code",
   "execution_count": 47,
   "metadata": {
    "collapsed": false
   },
   "outputs": [],
   "source": [
    "company_complaitns_counts = df['Company'].value_counts()\n",
    "df['company_complaint_counts'] = df['Company'].apply(lambda x: company_complaitns_counts[x])"
   ]
  },
  {
   "cell_type": "code",
   "execution_count": 48,
   "metadata": {
    "collapsed": true
   },
   "outputs": [],
   "source": [
    "df_model = DataFrame()"
   ]
  },
  {
   "cell_type": "code",
   "execution_count": 49,
   "metadata": {
    "collapsed": true
   },
   "outputs": [],
   "source": [
    "feature_for_model=['Product', 'Sub-product','Issue','Sub-issue', 'Company public response','Tags',\n",
    "                'Company response to consumer', 'State']\n",
    "for name in feature_for_model:\n",
    "    repl={}\n",
    "    i=0\n",
    "    for value in df[name].unique():\n",
    "        repl[value] = i\n",
    "        i+=1\n",
    "       \n",
    "    df[name] = df[name].apply(lambda x: repl[x])\n",
    "    df_model[name] = df[name].astype('category')\n",
    "           "
   ]
  },
  {
   "cell_type": "code",
   "execution_count": 50,
   "metadata": {
    "collapsed": true
   },
   "outputs": [],
   "source": [
    "df_model=pd.concat([df_model,df['Process time']],axis=1)"
   ]
  },
  {
   "cell_type": "code",
   "execution_count": 51,
   "metadata": {
    "collapsed": false
   },
   "outputs": [],
   "source": [
    "df_model=pd.concat([df_model,df['Timely response?']],axis=1)"
   ]
  },
  {
   "cell_type": "code",
   "execution_count": 52,
   "metadata": {
    "collapsed": false
   },
   "outputs": [],
   "source": [
    "##Create features about complaint submitted time\n",
    "df_model['Date_received_year'] = df['Date received'].apply(lambda x: x.year)\n",
    "df_model['Date_received_month'] = df['Date received'].apply(lambda x: x.month)\n",
    "df_model['Date_received_day'] = df['Date received'].apply(lambda x: x.day)"
   ]
  },
  {
   "cell_type": "code",
   "execution_count": 53,
   "metadata": {
    "collapsed": true
   },
   "outputs": [],
   "source": [
    "#Create features about 'Consumenr complaint narrative'\n",
    "\n",
    "from string import punctuation, ascii_letters\n",
    "\n",
    "def process_text_field(text):\n",
    "    '''\n",
    "    text: string\n",
    "    OUTPUT: int, int, int, float (length, word count, uppercase_count_rate, punctuation_rate)\n",
    "    '''\n",
    "    length = len(text)\n",
    "    word_count = 0\n",
    "    last_char = False\n",
    "    for c in text:\n",
    "        if c in ascii_letters:\n",
    "            if last_char==False:\n",
    "                word_count += 1\n",
    "                last_char=True\n",
    "        else:\n",
    "            last_char = False\n",
    "    \n",
    "    punct_count = 0\n",
    "    uppercase_count = 0\n",
    "    for c in text:\n",
    "        if c in punctuation:\n",
    "            punct_count += 1\n",
    "        if c.isupper():\n",
    "            uppercase_count += 1\n",
    "    punctuation_rate = punct_count / float(length+1)\n",
    "    uppercase_count_rate = uppercase_count / float(length+1)\n",
    "    \n",
    "    return length, word_count, uppercase_count_rate, punctuation_rate\n",
    "\n",
    "def process_text_column(df, fieldname):\n",
    "    length_list = []\n",
    "    word_count_list = []\n",
    "    punctuation_rate_list = []\n",
    "    uppercase_count_rate_list=[]\n",
    "    for row_ix in df.index:\n",
    "        length, word_count, uppercase_count_rate, punctuation_rate = process_text_field(df[fieldname][row_ix])\n",
    "        length_list.append(length)\n",
    "        word_count_list.append(word_count)\n",
    "        uppercase_count_rate_list.append(uppercase_count_rate)\n",
    "        punctuation_rate_list.append(punctuation_rate)\n",
    "    return length_list, word_count_list, uppercase_count_rate_list, punctuation_rate_list"
   ]
  },
  {
   "cell_type": "code",
   "execution_count": 54,
   "metadata": {
    "collapsed": false
   },
   "outputs": [],
   "source": [
    "length_list, word_count_list, uppercase_count_rate_list, punctuation_rate_list = process_text_column(df, 'Consumer complaint narrative')"
   ]
  },
  {
   "cell_type": "code",
   "execution_count": 55,
   "metadata": {
    "collapsed": true
   },
   "outputs": [],
   "source": [
    "df_model['complaint_length'] = length_list\n",
    "df_model['complaint_wordcount'] = word_count_list\n",
    "df_model['complaint_uppercaserate'] = uppercase_count_rate_list\n",
    "df_model['complaint_punctuationrate'] = punctuation_rate_list"
   ]
  },
  {
   "cell_type": "code",
   "execution_count": null,
   "metadata": {
    "collapsed": true
   },
   "outputs": [],
   "source": []
  },
  {
   "cell_type": "code",
   "execution_count": 56,
   "metadata": {
    "collapsed": false
   },
   "outputs": [
    {
     "data": {
      "text/html": [
       "<div>\n",
       "<table border=\"1\" class=\"dataframe\">\n",
       "  <thead>\n",
       "    <tr style=\"text-align: right;\">\n",
       "      <th></th>\n",
       "      <th>167683</th>\n",
       "      <th>104538</th>\n",
       "      <th>62865</th>\n",
       "      <th>139049</th>\n",
       "      <th>113460</th>\n",
       "    </tr>\n",
       "  </thead>\n",
       "  <tbody>\n",
       "    <tr>\n",
       "      <th>Product</th>\n",
       "      <td>0</td>\n",
       "      <td>1</td>\n",
       "      <td>2</td>\n",
       "      <td>2</td>\n",
       "      <td>2</td>\n",
       "    </tr>\n",
       "    <tr>\n",
       "      <th>Sub-product</th>\n",
       "      <td>0</td>\n",
       "      <td>1</td>\n",
       "      <td>2</td>\n",
       "      <td>3</td>\n",
       "      <td>3</td>\n",
       "    </tr>\n",
       "    <tr>\n",
       "      <th>Issue</th>\n",
       "      <td>0</td>\n",
       "      <td>1</td>\n",
       "      <td>2</td>\n",
       "      <td>3</td>\n",
       "      <td>3</td>\n",
       "    </tr>\n",
       "    <tr>\n",
       "      <th>Sub-issue</th>\n",
       "      <td>0</td>\n",
       "      <td>0</td>\n",
       "      <td>1</td>\n",
       "      <td>2</td>\n",
       "      <td>3</td>\n",
       "    </tr>\n",
       "    <tr>\n",
       "      <th>Company public response</th>\n",
       "      <td>0</td>\n",
       "      <td>1</td>\n",
       "      <td>0</td>\n",
       "      <td>1</td>\n",
       "      <td>0</td>\n",
       "    </tr>\n",
       "    <tr>\n",
       "      <th>Tags</th>\n",
       "      <td>0</td>\n",
       "      <td>0</td>\n",
       "      <td>0</td>\n",
       "      <td>0</td>\n",
       "      <td>0</td>\n",
       "    </tr>\n",
       "    <tr>\n",
       "      <th>Company response to consumer</th>\n",
       "      <td>0</td>\n",
       "      <td>0</td>\n",
       "      <td>0</td>\n",
       "      <td>0</td>\n",
       "      <td>0</td>\n",
       "    </tr>\n",
       "    <tr>\n",
       "      <th>State</th>\n",
       "      <td>0</td>\n",
       "      <td>1</td>\n",
       "      <td>2</td>\n",
       "      <td>1</td>\n",
       "      <td>3</td>\n",
       "    </tr>\n",
       "    <tr>\n",
       "      <th>Process time</th>\n",
       "      <td>0</td>\n",
       "      <td>1</td>\n",
       "      <td>0</td>\n",
       "      <td>0</td>\n",
       "      <td>1</td>\n",
       "    </tr>\n",
       "    <tr>\n",
       "      <th>Timely response?</th>\n",
       "      <td>True</td>\n",
       "      <td>True</td>\n",
       "      <td>True</td>\n",
       "      <td>True</td>\n",
       "      <td>True</td>\n",
       "    </tr>\n",
       "    <tr>\n",
       "      <th>Date_received_year</th>\n",
       "      <td>2015</td>\n",
       "      <td>2015</td>\n",
       "      <td>2015</td>\n",
       "      <td>2015</td>\n",
       "      <td>2015</td>\n",
       "    </tr>\n",
       "    <tr>\n",
       "      <th>Date_received_month</th>\n",
       "      <td>3</td>\n",
       "      <td>7</td>\n",
       "      <td>10</td>\n",
       "      <td>5</td>\n",
       "      <td>7</td>\n",
       "    </tr>\n",
       "    <tr>\n",
       "      <th>Date_received_day</th>\n",
       "      <td>19</td>\n",
       "      <td>30</td>\n",
       "      <td>23</td>\n",
       "      <td>20</td>\n",
       "      <td>13</td>\n",
       "    </tr>\n",
       "    <tr>\n",
       "      <th>complaint_length</th>\n",
       "      <td>413</td>\n",
       "      <td>98</td>\n",
       "      <td>274</td>\n",
       "      <td>509</td>\n",
       "      <td>124</td>\n",
       "    </tr>\n",
       "    <tr>\n",
       "      <th>complaint_wordcount</th>\n",
       "      <td>78</td>\n",
       "      <td>17</td>\n",
       "      <td>47</td>\n",
       "      <td>91</td>\n",
       "      <td>26</td>\n",
       "    </tr>\n",
       "    <tr>\n",
       "      <th>complaint_uppercaserate</th>\n",
       "      <td>0.0531401</td>\n",
       "      <td>0.030303</td>\n",
       "      <td>0.0254545</td>\n",
       "      <td>0.0803922</td>\n",
       "      <td>0.016</td>\n",
       "    </tr>\n",
       "    <tr>\n",
       "      <th>complaint_punctuationrate</th>\n",
       "      <td>0.0434783</td>\n",
       "      <td>0.030303</td>\n",
       "      <td>0.0290909</td>\n",
       "      <td>0.0431373</td>\n",
       "      <td>0.016</td>\n",
       "    </tr>\n",
       "  </tbody>\n",
       "</table>\n",
       "</div>"
      ],
      "text/plain": [
       "                                 167683    104538     62865      139049 113460\n",
       "Product                               0         1          2          2      2\n",
       "Sub-product                           0         1          2          3      3\n",
       "Issue                                 0         1          2          3      3\n",
       "Sub-issue                             0         0          1          2      3\n",
       "Company public response               0         1          0          1      0\n",
       "Tags                                  0         0          0          0      0\n",
       "Company response to consumer          0         0          0          0      0\n",
       "State                                 0         1          2          1      3\n",
       "Process time                          0         1          0          0      1\n",
       "Timely response?                   True      True       True       True   True\n",
       "Date_received_year                 2015      2015       2015       2015   2015\n",
       "Date_received_month                   3         7         10          5      7\n",
       "Date_received_day                    19        30         23         20     13\n",
       "complaint_length                    413        98        274        509    124\n",
       "complaint_wordcount                  78        17         47         91     26\n",
       "complaint_uppercaserate       0.0531401  0.030303  0.0254545  0.0803922  0.016\n",
       "complaint_punctuationrate     0.0434783  0.030303  0.0290909  0.0431373  0.016"
      ]
     },
     "execution_count": 56,
     "metadata": {},
     "output_type": "execute_result"
    }
   ],
   "source": [
    "df_model.head().T"
   ]
  },
  {
   "cell_type": "markdown",
   "metadata": {},
   "source": [
    "# Modeling"
   ]
  },
  {
   "cell_type": "code",
   "execution_count": 57,
   "metadata": {
    "collapsed": true
   },
   "outputs": [],
   "source": [
    "from sklearn.naive_bayes import MultinomialNB\n",
    "from sklearn.feature_extraction.text import TfidfVectorizer\n",
    "from sklearn.cross_validation import train_test_split\n",
    "import sklearn.metrics as skm\n",
    "from sklearn.preprocessing import MaxAbsScaler\n",
    "from sklearn.pipeline import Pipeline\n",
    "from scipy import interp\n",
    "from nltk import word_tokenize\n",
    "from nltk.stem.snowball import SnowballStemmer\n",
    "from sklearn.linear_model import LogisticRegression\n",
    "from sklearn.grid_search import GridSearchCV\n",
    "from sklearn.feature_extraction.text import CountVectorizer\n",
    "from sklearn.feature_extraction.text import TfidfTransformer\n",
    "from sklearn.linear_model import SGDClassifier\n",
    "from sklearn.multiclass import OneVsRestClassifier\n",
    "from sklearn.ensemble import RandomForestClassifier\n",
    "from sklearn.metrics import roc_curve, auc\n",
    "from sklearn.multiclass import OneVsRestClassifier\n",
    "from sklearn.preprocessing import label_binarize"
   ]
  },
  {
   "cell_type": "code",
   "execution_count": 58,
   "metadata": {
    "collapsed": false
   },
   "outputs": [],
   "source": [
    "X_word = df['Consumer complaint narrative'].values\n",
    "y = df['Company response to consumer'].values\n",
    "\n",
    "y = label_binarize(y, classes=[0, 1, 2, 3, 4])\n",
    "n_classes = 5\n",
    "\n",
    "X_train_word, X_test_word, y_train, y_test = train_test_split(X_word, y, test_size=0.20, random_state=67)\n",
    "vectorizer = TfidfVectorizer(stop_words='english',lowercase=False, min_df=0.001, max_df = 0.2,\n",
    "                             )\n",
    "words_matrix_train = vectorizer.fit_transform(X_train_word)\n",
    "words_matrix_test = vectorizer.transform(X_test_word)\n",
    "words_matrix = vectorizer.transform(X_word)\n"
   ]
  },
  {
   "cell_type": "code",
   "execution_count": 59,
   "metadata": {
    "collapsed": false
   },
   "outputs": [
    {
     "data": {
      "image/png": "[encoded data removed]",
      "text/plain": [
       "<matplotlib.figure.Figure at 0x7f916a88cf10>"
      ]
     },
     "metadata": {},
     "output_type": "display_data"
    }
   ],
   "source": [
    "# Learn to predict each class against the other using random forest over tfidf text\n",
    "rfc = OneVsRestClassifier(RandomForestClassifier(n_estimators=2000, n_jobs=-1, class_weight='auto' ),n_jobs=-1)\n",
    "y_score = rfc.fit(words_matrix_train, y_train).predict_proba(words_matrix_test)\n",
    "\n",
    "# Compute ROC curve and ROC area for each class\n",
    "fpr = dict()\n",
    "tpr = dict()\n",
    "roc_auc = dict()\n",
    "for i in range(n_classes):\n",
    "    fpr[i], tpr[i], _ = roc_curve(y_test[:, i], y_score[:, i])\n",
    "    roc_auc[i] = auc(fpr[i], tpr[i])\n",
    "\n",
    "# Compute micro-average ROC curve and ROC area\n",
    "fpr[\"micro\"], tpr[\"micro\"], _ = roc_curve(y_test.ravel(), y_score.ravel())\n",
    "roc_auc[\"micro\"] = auc(fpr[\"micro\"], tpr[\"micro\"])\n",
    "\n",
    "\n",
    "##############################################################################\n",
    "# Plot ROC curves for the multiclass problem\n",
    "\n",
    "# Compute macro-average ROC curve and ROC area\n",
    "\n",
    "# First aggregate all false positive rates\n",
    "all_fpr = np.unique(np.concatenate([fpr[i] for i in range(n_classes)]))\n",
    "\n",
    "# Then interpolate all ROC curves at this points\n",
    "mean_tpr = np.zeros_like(all_fpr)\n",
    "for i in range(n_classes):\n",
    "    mean_tpr += interp(all_fpr, fpr[i], tpr[i])\n",
    "\n",
    "# Finally average it and compute AUC\n",
    "mean_tpr /= n_classes\n",
    "\n",
    "fpr[\"macro\"] = all_fpr\n",
    "tpr[\"macro\"] = mean_tpr\n",
    "roc_auc[\"macro\"] = auc(fpr[\"macro\"], tpr[\"macro\"])\n",
    "\n",
    "# Plot all ROC curves\n",
    "plt.figure(figsize=(10,8))\n",
    "plt.plot(fpr[\"micro\"], tpr[\"micro\"],\n",
    "         label='micro-average ROC curve (area = {0:0.2f})'\n",
    "               ''.format(roc_auc[\"micro\"]),\n",
    "         linewidth=2)\n",
    "\n",
    "plt.plot(fpr[\"macro\"], tpr[\"macro\"],\n",
    "         label='macro-average ROC curve (area = {0:0.2f})'\n",
    "               ''.format(roc_auc[\"macro\"]),\n",
    "         linewidth=2)\n",
    "\n",
    "for i in range(n_classes):\n",
    "    plt.plot(fpr[i], tpr[i], label='ROC curve of class {0} (area = {1:0.2f})'\n",
    "                                   ''.format(i, roc_auc[i]))\n",
    "    \n",
    "plt.plot([0, 1], [0, 1], 'k--')\n",
    "\n",
    "plt.xlim([0.0, 1.0])\n",
    "plt.ylim([0.0, 1.05])\n",
    "plt.xlabel('False Positive Rate')\n",
    "plt.ylabel('True Positive Rate')\n",
    "plt.title('Some extension of Receiver operating characteristic to multi-class')\n",
    "plt.legend(loc=\"lower right\")\n",
    "\n",
    "plt.show()"
   ]
  },
  {
   "cell_type": "code",
   "execution_count": 60,
   "metadata": {
    "collapsed": false,
    "scrolled": true
   },
   "outputs": [
    {
     "data": {
      "image/png": "[encoded data removed]",
      "text/plain": [
       "<matplotlib.figure.Figure at 0x7f916ad6ddd0>"
      ]
     },
     "metadata": {},
     "output_type": "display_data"
    }
   ],
   "source": [
    "# Learn to predict each class against the other using random forest over tfidf text\n",
    "rfc = OneVsRestClassifier(MultinomialNB(),n_jobs=-1)\n",
    "y_score = rfc.fit(words_matrix_train, y_train).predict_proba(words_matrix_test)\n",
    "\n",
    "# Compute ROC curve and ROC area for each class\n",
    "fpr = dict()\n",
    "tpr = dict()\n",
    "roc_auc = dict()\n",
    "for i in range(n_classes):\n",
    "    fpr[i], tpr[i], _ = roc_curve(y_test[:, i], y_score[:, i])\n",
    "    roc_auc[i] = auc(fpr[i], tpr[i])\n",
    "\n",
    "# Compute micro-average ROC curve and ROC area\n",
    "fpr[\"micro\"], tpr[\"micro\"], _ = roc_curve(y_test.ravel(), y_score.ravel())\n",
    "roc_auc[\"micro\"] = auc(fpr[\"micro\"], tpr[\"micro\"])\n",
    "\n",
    "\n",
    "##############################################################################\n",
    "# Plot ROC curves for the multiclass problem\n",
    "\n",
    "# Compute macro-average ROC curve and ROC area\n",
    "\n",
    "# First aggregate all false positive rates\n",
    "all_fpr = np.unique(np.concatenate([fpr[i] for i in range(n_classes)]))\n",
    "\n",
    "# Then interpolate all ROC curves at this points\n",
    "mean_tpr = np.zeros_like(all_fpr)\n",
    "for i in range(n_classes):\n",
    "    mean_tpr += interp(all_fpr, fpr[i], tpr[i])\n",
    "\n",
    "# Finally average it and compute AUC\n",
    "mean_tpr /= n_classes\n",
    "\n",
    "fpr[\"macro\"] = all_fpr\n",
    "tpr[\"macro\"] = mean_tpr\n",
    "roc_auc[\"macro\"] = auc(fpr[\"macro\"], tpr[\"macro\"])\n",
    "\n",
    "# Plot all ROC curves\n",
    "plt.figure(figsize=(10,8))\n",
    "plt.plot(fpr[\"micro\"], tpr[\"micro\"],\n",
    "         label='micro-average ROC curve (area = {0:0.2f})'\n",
    "               ''.format(roc_auc[\"micro\"]),\n",
    "         linewidth=2)\n",
    "\n",
    "plt.plot(fpr[\"macro\"], tpr[\"macro\"],\n",
    "         label='macro-average ROC curve (area = {0:0.2f})'\n",
    "               ''.format(roc_auc[\"macro\"]),\n",
    "         linewidth=2)\n",
    "\n",
    "for i in range(n_classes):\n",
    "    plt.plot(fpr[i], tpr[i], label='ROC curve of class {0} (area = {1:0.2f})'\n",
    "                                   ''.format(i, roc_auc[i]))\n",
    "    \n",
    "plt.plot([0, 1], [0, 1], 'k--')\n",
    "\n",
    "plt.xlim([0.0, 1.0])\n",
    "plt.ylim([0.0, 1.05])\n",
    "plt.xlabel('False Positive Rate')\n",
    "plt.ylabel('True Positive Rate')\n",
    "plt.title('Some extension of Receiver operating characteristic to multi-class')\n",
    "plt.legend(loc=\"lower right\")\n",
    "\n",
    "plt.show()"
   ]
  },
  {
   "cell_type": "code",
   "execution_count": 61,
   "metadata": {
    "collapsed": false
   },
   "outputs": [
    {
     "ename": "SyntaxError",
     "evalue": "'break' outside loop (<ipython-input-61-b20fcc2397e7>, line 1)",
     "output_type": "error",
     "traceback": [
      "\u001b[1;36m  File \u001b[1;32m\"<ipython-input-61-b20fcc2397e7>\"\u001b[1;36m, line \u001b[1;32m1\u001b[0m\n\u001b[1;33m    break\u001b[0m\n\u001b[1;31mSyntaxError\u001b[0m\u001b[1;31m:\u001b[0m 'break' outside loop\n"
     ]
    }
   ],
   "source": [
    "break"
   ]
  },
  {
   "cell_type": "code",
   "execution_count": null,
   "metadata": {
    "collapsed": false
   },
   "outputs": [],
   "source": [
    "# random forest directly using tfidf\n",
    "rfc = RandomForestClassifier(n_estimators=2000, n_jobs=-1, class_weight='auto' )\n",
    "rfc.fit(words_matrix_train, y_train)\n",
    "skm.roc_auc_score(y_test, rfc.predict_proba(words_matrix_test)[:, 1])"
   ]
  },
  {
   "cell_type": "code",
   "execution_count": null,
   "metadata": {
    "collapsed": true
   },
   "outputs": [],
   "source": [
    "#NMF dimension reduction\n",
    "from sklearn.decomposition import NMF\n"
   ]
  },
  {
   "cell_type": "code",
   "execution_count": null,
   "metadata": {
    "collapsed": false
   },
   "outputs": [],
   "source": [
    "nmf = NMF(n_components = 100, random_state=1, alpha=.1, l1_ratio=.5).fit(words_matrix)"
   ]
  },
  {
   "cell_type": "code",
   "execution_count": null,
   "metadata": {
    "collapsed": true
   },
   "outputs": [],
   "source": [
    "nmf_train = nmf.fit(words_matrix_train, y_train).transform(words_matrix_train)\n",
    "nmf_test = nmf.transform(words_matrix_test)\n",
    "nmf_word = nmf.transform(words_matrix)"
   ]
  },
  {
   "cell_type": "code",
   "execution_count": null,
   "metadata": {
    "collapsed": false
   },
   "outputs": [],
   "source": [
    "#Radom forest classifier on nmf reduced matrix\n",
    "rfc_nmf = RandomForestClassifier(n_estimators=2000, n_jobs=-1, class_weight='auto',max_features=10)\n",
    "rfc_nmf.fit(nmf_train,y_train)\n",
    "skm.roc_auc_score(y_test, rfc_nmf.predict_proba(nmf_test)[:, 1])"
   ]
  },
  {
   "cell_type": "code",
   "execution_count": null,
   "metadata": {
    "collapsed": true
   },
   "outputs": [],
   "source": []
  },
  {
   "cell_type": "code",
   "execution_count": null,
   "metadata": {
    "collapsed": false
   },
   "outputs": [],
   "source": [
    "#Combine tfidf model of 'Consumer complaint narrative' prediction probability with other features\n",
    "#df_model['tfidf_prob_narrative']= rfc_nmf.predict_proba(nmf_word)[:,1]"
   ]
  },
  {
   "cell_type": "code",
   "execution_count": null,
   "metadata": {
    "collapsed": false
   },
   "outputs": [],
   "source": [
    "X = np.concatenate((df_model.values, nmf_word), axis=1)"
   ]
  },
  {
   "cell_type": "code",
   "execution_count": null,
   "metadata": {
    "collapsed": false
   },
   "outputs": [],
   "source": [
    "df_model.head()"
   ]
  },
  {
   "cell_type": "code",
   "execution_count": null,
   "metadata": {
    "collapsed": true
   },
   "outputs": [],
   "source": [
    "X_train, X_test, y_train, y_test = train_test_split(X, y, test_size=0.20, random_state=67)"
   ]
  },
  {
   "cell_type": "code",
   "execution_count": null,
   "metadata": {
    "collapsed": false
   },
   "outputs": [],
   "source": [
    "from sklearn.preprocessing import StandardScaler\n",
    "scaler = StandardScaler()\n",
    "scaler.fit(X_train)  \n",
    "X_train = scaler.transform(X_train)\n",
    "X_test = scaler.transform(X_test)  "
   ]
  },
  {
   "cell_type": "code",
   "execution_count": null,
   "metadata": {
    "collapsed": true
   },
   "outputs": [],
   "source": [
    "def roc_curve(probabilities, labels):\n",
    "    '''\n",
    "    INPUT: numpy array, numpy array\n",
    "    OUTPUT: list, list, list\n",
    "\n",
    "    Take a numpy array of the predicted probabilities and a numpy array of the\n",
    "    true labels.\n",
    "    Return the True Positive Rates, False Positive Rates and Thresholds for the\n",
    "    ROC curve.\n",
    "    '''\n",
    "\n",
    "    thresholds = np.sort(probabilities)\n",
    "\n",
    "    tprs = []\n",
    "    fprs = []\n",
    "\n",
    "    num_positive_cases = sum(labels)\n",
    "    num_negative_cases = len(labels) - num_positive_cases\n",
    "\n",
    "    for threshold in thresholds:\n",
    "        # With this threshold, give the prediction of each instance\n",
    "        predicted_positive = probabilities >= threshold\n",
    "        # Calculate the number of correctly predicted positive cases\n",
    "        true_positives = np.sum(predicted_positive * labels)\n",
    "        # Calculate the number of incorrectly predicted positive cases\n",
    "        false_positives = np.sum(predicted_positive) - true_positives\n",
    "        # Calculate the True Positive Rate\n",
    "        tpr = true_positives / float(num_positive_cases)\n",
    "        # Calculate the False Positive Rate\n",
    "        fpr = false_positives / float(num_negative_cases)\n",
    "\n",
    "        fprs.append(fpr)\n",
    "        tprs.append(tpr)\n",
    "    \n",
    "    return tprs, fprs, thresholds.tolist()\n",
    "\n",
    "def plot_roc(probs, y_true, title, xlabel, ylabel):\n",
    "    # ROC\n",
    "    tpr, fpr, thresholds = roc_curve(v_probs, y_test)\n",
    "\n",
    "    plt.hold(True)\n",
    "    plt.plot(fpr, tpr)\n",
    "\n",
    "    # 45 degree line\n",
    "    xx = np.linspace(0, 1.0, 20)\n",
    "    plt.plot(xx, xx, color='red')\n",
    "\n",
    "    plt.xlabel(xlabel)\n",
    "    plt.ylabel(ylabel)\n",
    "    plt.title(title)\n",
    "\n",
    "    plt.show()"
   ]
  },
  {
   "cell_type": "markdown",
   "metadata": {},
   "source": [
    "## First Logistic Regression Model"
   ]
  },
  {
   "cell_type": "code",
   "execution_count": null,
   "metadata": {
    "collapsed": false
   },
   "outputs": [],
   "source": [
    "lr = LogisticRegression(class_weight='auto')\n",
    "lr.fit(X_train, y_train)"
   ]
  },
  {
   "cell_type": "code",
   "execution_count": null,
   "metadata": {
    "collapsed": false
   },
   "outputs": [],
   "source": [
    "lr.score(X_test,y_test)"
   ]
  },
  {
   "cell_type": "code",
   "execution_count": null,
   "metadata": {
    "collapsed": true
   },
   "outputs": [],
   "source": [
    "v_probs = lr.predict_proba(X_test)[:, 1]"
   ]
  },
  {
   "cell_type": "code",
   "execution_count": null,
   "metadata": {
    "collapsed": false
   },
   "outputs": [],
   "source": [
    "plot_roc(v_probs, y_test, \"ROC plot of  complaint dispute\", \n",
    "         \"False Positive Rate (1 - Specificity)\", \"True Positive Rate (Sensitivity, Recall)\")"
   ]
  },
  {
   "cell_type": "code",
   "execution_count": null,
   "metadata": {
    "collapsed": false
   },
   "outputs": [],
   "source": [
    "import sklearn.metrics as skm\n",
    "skm.roc_auc_score(y_test, v_probs)"
   ]
  },
  {
   "cell_type": "code",
   "execution_count": null,
   "metadata": {
    "collapsed": false
   },
   "outputs": [],
   "source": [
    "skm.recall_score(y_test, lr.predict(X_test))"
   ]
  },
  {
   "cell_type": "code",
   "execution_count": null,
   "metadata": {
    "collapsed": false
   },
   "outputs": [],
   "source": [
    "pd.crosstab(y_test, lr.predict(X_test))"
   ]
  },
  {
   "cell_type": "code",
   "execution_count": null,
   "metadata": {
    "collapsed": true
   },
   "outputs": [],
   "source": [
    "from sklearn.metrics import confusion_matrix\n",
    "\n",
    "def plot_confusion_matrix(model, X_test, y_true):\n",
    "    cm = confusion_matrix(y_true, model.predict(X_test))\n",
    "\n",
    "    print(cm)\n",
    "\n",
    "    # Show confusion matrix in a separate window\n",
    "    plt.matshow(cm)\n",
    "    plt.title('Confusion matrix')\n",
    "    plt.colorbar()\n",
    "    plt.ylabel('True label')\n",
    "    plt.xlabel('Predicted label')\n",
    "    plt.show()"
   ]
  },
  {
   "cell_type": "code",
   "execution_count": null,
   "metadata": {
    "collapsed": false
   },
   "outputs": [],
   "source": [
    "plot_confusion_matrix(lr, X_test, y_test)"
   ]
  },
  {
   "cell_type": "code",
   "execution_count": null,
   "metadata": {
    "collapsed": false
   },
   "outputs": [],
   "source": [
    "np.argsort(lr.coef_)[::-1]"
   ]
  },
  {
   "cell_type": "code",
   "execution_count": null,
   "metadata": {
    "collapsed": false
   },
   "outputs": [],
   "source": [
    "#sub_column = df_model.columns[np.argsort(lr.coef_)[::-1]][0][:245]"
   ]
  },
  {
   "cell_type": "code",
   "execution_count": null,
   "metadata": {
    "collapsed": false
   },
   "outputs": [],
   "source": [
    "#sub_column.shape"
   ]
  },
  {
   "cell_type": "code",
   "execution_count": null,
   "metadata": {
    "collapsed": false
   },
   "outputs": [],
   "source": [
    "#X_sub_column = df_model[sub_column]\n",
    "#X_sub_train, X_sub_test, y_train, y_test = train_test_split(X_sub_column, y, test_size=0.20, random_state=67)"
   ]
  },
  {
   "cell_type": "code",
   "execution_count": null,
   "metadata": {
    "collapsed": false
   },
   "outputs": [],
   "source": [
    "#lr_sub = LogisticRegression(class_weight='auto')\n",
    "#lr_sub.fit(X_sub_train, y_train)"
   ]
  },
  {
   "cell_type": "code",
   "execution_count": null,
   "metadata": {
    "collapsed": false
   },
   "outputs": [],
   "source": [
    "#lr_sub.score(X_sub_test,y_test)"
   ]
  },
  {
   "cell_type": "code",
   "execution_count": null,
   "metadata": {
    "collapsed": false
   },
   "outputs": [],
   "source": [
    "#skm.roc_auc_score(y_test,lr_sub.predict_proba(X_sub_test)[:, 1])"
   ]
  },
  {
   "cell_type": "markdown",
   "metadata": {},
   "source": [
    "## Now try descision tree model"
   ]
  },
  {
   "cell_type": "code",
   "execution_count": null,
   "metadata": {
    "collapsed": false
   },
   "outputs": [],
   "source": [
    "#Gradiend Boosting Classifier\n",
    "from sklearn.ensemble import GradientBoostingClassifier"
   ]
  },
  {
   "cell_type": "code",
   "execution_count": null,
   "metadata": {
    "collapsed": false
   },
   "outputs": [],
   "source": [
    "from sklearn.preprocessing import StandardScaler\n",
    "scaler = StandardScaler()\n",
    "scaler.fit(X_train)  \n",
    "X_train = scaler.transform(X_train)\n",
    "X_test = scaler.transform(X_test)  "
   ]
  },
  {
   "cell_type": "code",
   "execution_count": null,
   "metadata": {
    "collapsed": false
   },
   "outputs": [],
   "source": [
    "#gbc = GradientBoostingClassifier(n_estimators=1000, max_depth=8, subsample=0.5, \n",
    "                            #    max_features='auto', learning_rate=0.01)\n",
    "#gbc.fit(X_train, y_train)"
   ]
  },
  {
   "cell_type": "code",
   "execution_count": null,
   "metadata": {
    "collapsed": false
   },
   "outputs": [],
   "source": [
    "#gbc.score(X_test,y_test)"
   ]
  },
  {
   "cell_type": "code",
   "execution_count": null,
   "metadata": {
    "collapsed": false
   },
   "outputs": [],
   "source": [
    "#pd.crosstab(y_test, gbc.predict(X_test))"
   ]
  },
  {
   "cell_type": "code",
   "execution_count": null,
   "metadata": {
    "collapsed": false
   },
   "outputs": [],
   "source": [
    "#plot_confusion_matrix(gbc, X_test, y_test)"
   ]
  },
  {
   "cell_type": "code",
   "execution_count": null,
   "metadata": {
    "collapsed": false
   },
   "outputs": [],
   "source": [
    "#skm.roc_auc_score(y_test, gbc.predict_proba(X_test)[:, 1])"
   ]
  },
  {
   "cell_type": "code",
   "execution_count": null,
   "metadata": {
    "collapsed": true
   },
   "outputs": [],
   "source": [
    "## Random Forest Classifier"
   ]
  },
  {
   "cell_type": "code",
   "execution_count": null,
   "metadata": {
    "collapsed": false
   },
   "outputs": [],
   "source": [
    "rfc = RandomForestClassifier(n_estimators=2000, n_jobs=-1, class_weight='auto', max_features=1)\n",
    "rfc.fit(X_train, y_train)"
   ]
  },
  {
   "cell_type": "code",
   "execution_count": null,
   "metadata": {
    "collapsed": false
   },
   "outputs": [],
   "source": [
    "rfc.score(X_test, y_test)"
   ]
  },
  {
   "cell_type": "code",
   "execution_count": null,
   "metadata": {
    "collapsed": false
   },
   "outputs": [],
   "source": [
    "pd.crosstab(y_test, rfc.predict(X_test))"
   ]
  },
  {
   "cell_type": "code",
   "execution_count": null,
   "metadata": {
    "collapsed": false
   },
   "outputs": [],
   "source": [
    "skm.roc_auc_score(y_test, rfc.predict_proba(X_test)[:, 1])"
   ]
  },
  {
   "cell_type": "code",
   "execution_count": null,
   "metadata": {
    "collapsed": false
   },
   "outputs": [],
   "source": [
    "skm.recall_score(y_test, rfc.predict(X_test))"
   ]
  },
  {
   "cell_type": "code",
   "execution_count": null,
   "metadata": {
    "collapsed": false
   },
   "outputs": [],
   "source": [
    "plot_confusion_matrix(rfc, X_test, y_test)"
   ]
  },
  {
   "cell_type": "code",
   "execution_count": null,
   "metadata": {
    "collapsed": true
   },
   "outputs": [],
   "source": [
    "def plot_importance(clf, X, max_features=10):\n",
    "    '''Plot feature importance'''\n",
    "    feature_importance = clf.feature_importances_\n",
    "    # make importances relative to max importance\n",
    "    feature_importance = 100.0 * (feature_importance / feature_importance.max())\n",
    "    sorted_idx = np.argsort(feature_importance)\n",
    "    pos = np.arange(sorted_idx.shape[0]) + .5\n",
    "    \n",
    "    # Show only top features\n",
    "    pos = pos[-max_features:]\n",
    "    feature_importance = (feature_importance[sorted_idx])[-max_features:]\n",
    "    feature_names = (X.columns[sorted_idx])[-max_features:]\n",
    "    \n",
    "    plt.barh(pos, feature_importance, align='center')\n",
    "    plt.yticks(pos, feature_names)\n",
    "    plt.xlabel('Relative Importance')\n",
    "    plt.title('Variable Importance')"
   ]
  },
  {
   "cell_type": "code",
   "execution_count": null,
   "metadata": {
    "collapsed": false
   },
   "outputs": [],
   "source": [
    "plot_importance(rfc, df_model, max_features=10)"
   ]
  },
  {
   "cell_type": "code",
   "execution_count": null,
   "metadata": {
    "collapsed": true
   },
   "outputs": [],
   "source": []
  },
  {
   "cell_type": "code",
   "execution_count": null,
   "metadata": {
    "collapsed": true
   },
   "outputs": [],
   "source": []
  },
  {
   "cell_type": "code",
   "execution_count": null,
   "metadata": {
    "collapsed": true
   },
   "outputs": [],
   "source": []
  }
 ],
 "metadata": {
  "kernelspec": {
   "display_name": "Python 2",
   "language": "python",
   "name": "python2"
  },
  "language_info": {
   "codemirror_mode": {
    "name": "ipython",
    "version": 2
   },
   "file_extension": ".py",
   "mimetype": "text/x-python",
   "name": "python",
   "nbconvert_exporter": "python",
   "pygments_lexer": "ipython2",
   "version": "2.7.11"
  }
 },
 "nbformat": 4,
 "nbformat_minor": 0
}
