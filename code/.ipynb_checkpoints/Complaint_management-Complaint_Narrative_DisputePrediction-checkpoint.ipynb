{
 "cells": [
  {
   "cell_type": "code",
   "execution_count": 177,
   "metadata": {
    "collapsed": false
   },
   "outputs": [],
   "source": [
    "import pandas as pd\n",
    "from pandas import DataFrame, Series\n",
    "import numpy as np\n",
    "import matplotlib.pyplot as plt\n",
    "import datetime\n",
    "import random\n",
    "from sklearn.feature_extraction.text import TfidfVectorizer,CountVectorizer\n",
    "from sklearn.preprocessing import StandardScaler\n",
    "%matplotlib inline"
   ]
  },
  {
   "cell_type": "markdown",
   "metadata": {},
   "source": [
    "# Exploratory Data Analysis"
   ]
  },
  {
   "cell_type": "markdown",
   "metadata": {},
   "source": [
    "## Data Overview"
   ]
  },
  {
   "cell_type": "code",
   "execution_count": 178,
   "metadata": {
    "collapsed": false
   },
   "outputs": [],
   "source": [
    "df=pd.read_csv('Consumer_complaints.csv')"
   ]
  },
  {
   "cell_type": "code",
   "execution_count": 179,
   "metadata": {
    "collapsed": false,
    "scrolled": false
   },
   "outputs": [
    {
     "data": {
      "text/html": [
       "<div>\n",
       "<table border=\"1\" class=\"dataframe\">\n",
       "  <thead>\n",
       "    <tr style=\"text-align: right;\">\n",
       "      <th></th>\n",
       "      <th>0</th>\n",
       "      <th>1</th>\n",
       "      <th>2</th>\n",
       "      <th>3</th>\n",
       "      <th>4</th>\n",
       "    </tr>\n",
       "  </thead>\n",
       "  <tbody>\n",
       "    <tr>\n",
       "      <th>Date received</th>\n",
       "      <td>03/21/2016</td>\n",
       "      <td>03/21/2016</td>\n",
       "      <td>03/21/2016</td>\n",
       "      <td>03/21/2016</td>\n",
       "      <td>03/21/2016</td>\n",
       "    </tr>\n",
       "    <tr>\n",
       "      <th>Product</th>\n",
       "      <td>Debt collection</td>\n",
       "      <td>Consumer Loan</td>\n",
       "      <td>Debt collection</td>\n",
       "      <td>Consumer Loan</td>\n",
       "      <td>Bank account or service</td>\n",
       "    </tr>\n",
       "    <tr>\n",
       "      <th>Sub-product</th>\n",
       "      <td>Other (i.e. phone, health club, etc.)</td>\n",
       "      <td>Personal line of credit</td>\n",
       "      <td>Other (i.e. phone, health club, etc.)</td>\n",
       "      <td>Vehicle loan</td>\n",
       "      <td>Checking account</td>\n",
       "    </tr>\n",
       "    <tr>\n",
       "      <th>Issue</th>\n",
       "      <td>Cont'd attempts collect debt not owed</td>\n",
       "      <td>Problems when you are unable to pay</td>\n",
       "      <td>Cont'd attempts collect debt not owed</td>\n",
       "      <td>Taking out the loan or lease</td>\n",
       "      <td>Problems caused by my funds being low</td>\n",
       "    </tr>\n",
       "    <tr>\n",
       "      <th>Sub-issue</th>\n",
       "      <td>Debt was paid</td>\n",
       "      <td>NaN</td>\n",
       "      <td>Debt is not mine</td>\n",
       "      <td>NaN</td>\n",
       "      <td>NaN</td>\n",
       "    </tr>\n",
       "    <tr>\n",
       "      <th>Consumer complaint narrative</th>\n",
       "      <td>NaN</td>\n",
       "      <td>NaN</td>\n",
       "      <td>NaN</td>\n",
       "      <td>NaN</td>\n",
       "      <td>NaN</td>\n",
       "    </tr>\n",
       "    <tr>\n",
       "      <th>Company public response</th>\n",
       "      <td>Company believes it acted appropriately as aut...</td>\n",
       "      <td>NaN</td>\n",
       "      <td>NaN</td>\n",
       "      <td>NaN</td>\n",
       "      <td>NaN</td>\n",
       "    </tr>\n",
       "    <tr>\n",
       "      <th>Company</th>\n",
       "      <td>Eastern Account Systems of Connecticut, Inc.</td>\n",
       "      <td>OneMain Financial Holdings, LLC</td>\n",
       "      <td>Transworld Systems Inc.</td>\n",
       "      <td>Navy FCU</td>\n",
       "      <td>Navy FCU</td>\n",
       "    </tr>\n",
       "    <tr>\n",
       "      <th>State</th>\n",
       "      <td>CA</td>\n",
       "      <td>AL</td>\n",
       "      <td>CT</td>\n",
       "      <td>VA</td>\n",
       "      <td>IN</td>\n",
       "    </tr>\n",
       "    <tr>\n",
       "      <th>ZIP code</th>\n",
       "      <td>900XX</td>\n",
       "      <td>35094</td>\n",
       "      <td>06516</td>\n",
       "      <td>235XX</td>\n",
       "      <td>46143</td>\n",
       "    </tr>\n",
       "    <tr>\n",
       "      <th>Tags</th>\n",
       "      <td>NaN</td>\n",
       "      <td>NaN</td>\n",
       "      <td>NaN</td>\n",
       "      <td>Servicemember</td>\n",
       "      <td>NaN</td>\n",
       "    </tr>\n",
       "    <tr>\n",
       "      <th>Consumer consent provided?</th>\n",
       "      <td>NaN</td>\n",
       "      <td>NaN</td>\n",
       "      <td>NaN</td>\n",
       "      <td>NaN</td>\n",
       "      <td>NaN</td>\n",
       "    </tr>\n",
       "    <tr>\n",
       "      <th>Submitted via</th>\n",
       "      <td>Web</td>\n",
       "      <td>Phone</td>\n",
       "      <td>Web</td>\n",
       "      <td>Web</td>\n",
       "      <td>Referral</td>\n",
       "    </tr>\n",
       "    <tr>\n",
       "      <th>Date sent to company</th>\n",
       "      <td>03/21/2016</td>\n",
       "      <td>03/21/2016</td>\n",
       "      <td>03/21/2016</td>\n",
       "      <td>03/21/2016</td>\n",
       "      <td>03/21/2016</td>\n",
       "    </tr>\n",
       "    <tr>\n",
       "      <th>Company response to consumer</th>\n",
       "      <td>Closed with explanation</td>\n",
       "      <td>In progress</td>\n",
       "      <td>In progress</td>\n",
       "      <td>In progress</td>\n",
       "      <td>In progress</td>\n",
       "    </tr>\n",
       "    <tr>\n",
       "      <th>Timely response?</th>\n",
       "      <td>Yes</td>\n",
       "      <td>Yes</td>\n",
       "      <td>Yes</td>\n",
       "      <td>Yes</td>\n",
       "      <td>Yes</td>\n",
       "    </tr>\n",
       "    <tr>\n",
       "      <th>Consumer disputed?</th>\n",
       "      <td>No</td>\n",
       "      <td>No</td>\n",
       "      <td>No</td>\n",
       "      <td>No</td>\n",
       "      <td>No</td>\n",
       "    </tr>\n",
       "    <tr>\n",
       "      <th>Complaint ID</th>\n",
       "      <td>1841695</td>\n",
       "      <td>1842862</td>\n",
       "      <td>1841754</td>\n",
       "      <td>1841976</td>\n",
       "      <td>1842011</td>\n",
       "    </tr>\n",
       "  </tbody>\n",
       "</table>\n",
       "</div>"
      ],
      "text/plain": [
       "                                                                              0  \\\n",
       "Date received                                                        03/21/2016   \n",
       "Product                                                         Debt collection   \n",
       "Sub-product                               Other (i.e. phone, health club, etc.)   \n",
       "Issue                                     Cont'd attempts collect debt not owed   \n",
       "Sub-issue                                                         Debt was paid   \n",
       "Consumer complaint narrative                                                NaN   \n",
       "Company public response       Company believes it acted appropriately as aut...   \n",
       "Company                            Eastern Account Systems of Connecticut, Inc.   \n",
       "State                                                                        CA   \n",
       "ZIP code                                                                  900XX   \n",
       "Tags                                                                        NaN   \n",
       "Consumer consent provided?                                                  NaN   \n",
       "Submitted via                                                               Web   \n",
       "Date sent to company                                                 03/21/2016   \n",
       "Company response to consumer                            Closed with explanation   \n",
       "Timely response?                                                            Yes   \n",
       "Consumer disputed?                                                           No   \n",
       "Complaint ID                                                            1841695   \n",
       "\n",
       "                                                                1  \\\n",
       "Date received                                          03/21/2016   \n",
       "Product                                             Consumer Loan   \n",
       "Sub-product                               Personal line of credit   \n",
       "Issue                         Problems when you are unable to pay   \n",
       "Sub-issue                                                     NaN   \n",
       "Consumer complaint narrative                                  NaN   \n",
       "Company public response                                       NaN   \n",
       "Company                           OneMain Financial Holdings, LLC   \n",
       "State                                                          AL   \n",
       "ZIP code                                                    35094   \n",
       "Tags                                                          NaN   \n",
       "Consumer consent provided?                                    NaN   \n",
       "Submitted via                                               Phone   \n",
       "Date sent to company                                   03/21/2016   \n",
       "Company response to consumer                          In progress   \n",
       "Timely response?                                              Yes   \n",
       "Consumer disputed?                                             No   \n",
       "Complaint ID                                              1842862   \n",
       "\n",
       "                                                                  2  \\\n",
       "Date received                                            03/21/2016   \n",
       "Product                                             Debt collection   \n",
       "Sub-product                   Other (i.e. phone, health club, etc.)   \n",
       "Issue                         Cont'd attempts collect debt not owed   \n",
       "Sub-issue                                          Debt is not mine   \n",
       "Consumer complaint narrative                                    NaN   \n",
       "Company public response                                         NaN   \n",
       "Company                                     Transworld Systems Inc.   \n",
       "State                                                            CT   \n",
       "ZIP code                                                      06516   \n",
       "Tags                                                            NaN   \n",
       "Consumer consent provided?                                      NaN   \n",
       "Submitted via                                                   Web   \n",
       "Date sent to company                                     03/21/2016   \n",
       "Company response to consumer                            In progress   \n",
       "Timely response?                                                Yes   \n",
       "Consumer disputed?                                               No   \n",
       "Complaint ID                                                1841754   \n",
       "\n",
       "                                                         3  \\\n",
       "Date received                                   03/21/2016   \n",
       "Product                                      Consumer Loan   \n",
       "Sub-product                                   Vehicle loan   \n",
       "Issue                         Taking out the loan or lease   \n",
       "Sub-issue                                              NaN   \n",
       "Consumer complaint narrative                           NaN   \n",
       "Company public response                                NaN   \n",
       "Company                                           Navy FCU   \n",
       "State                                                   VA   \n",
       "ZIP code                                             235XX   \n",
       "Tags                                         Servicemember   \n",
       "Consumer consent provided?                             NaN   \n",
       "Submitted via                                          Web   \n",
       "Date sent to company                            03/21/2016   \n",
       "Company response to consumer                   In progress   \n",
       "Timely response?                                       Yes   \n",
       "Consumer disputed?                                      No   \n",
       "Complaint ID                                       1841976   \n",
       "\n",
       "                                                                  4  \n",
       "Date received                                            03/21/2016  \n",
       "Product                                     Bank account or service  \n",
       "Sub-product                                        Checking account  \n",
       "Issue                         Problems caused by my funds being low  \n",
       "Sub-issue                                                       NaN  \n",
       "Consumer complaint narrative                                    NaN  \n",
       "Company public response                                         NaN  \n",
       "Company                                                    Navy FCU  \n",
       "State                                                            IN  \n",
       "ZIP code                                                      46143  \n",
       "Tags                                                            NaN  \n",
       "Consumer consent provided?                                      NaN  \n",
       "Submitted via                                              Referral  \n",
       "Date sent to company                                     03/21/2016  \n",
       "Company response to consumer                            In progress  \n",
       "Timely response?                                                Yes  \n",
       "Consumer disputed?                                               No  \n",
       "Complaint ID                                                1842011  "
      ]
     },
     "execution_count": 179,
     "metadata": {},
     "output_type": "execute_result"
    }
   ],
   "source": [
    "df.head().T"
   ]
  },
  {
   "cell_type": "code",
   "execution_count": 180,
   "metadata": {
    "collapsed": false
   },
   "outputs": [
    {
     "data": {
      "text/plain": [
       "(537992, 18)"
      ]
     },
     "execution_count": 180,
     "metadata": {},
     "output_type": "execute_result"
    }
   ],
   "source": [
    "df.shape"
   ]
  },
  {
   "cell_type": "code",
   "execution_count": 181,
   "metadata": {
    "collapsed": false
   },
   "outputs": [
    {
     "name": "stdout",
     "output_type": "stream",
     "text": [
      "<class 'pandas.core.frame.DataFrame'>\n",
      "Int64Index: 537992 entries, 0 to 537991\n",
      "Data columns (total 18 columns):\n",
      "Date received                   537992 non-null object\n",
      "Product                         537992 non-null object\n",
      "Sub-product                     386187 non-null object\n",
      "Issue                           537979 non-null object\n",
      "Sub-issue                       203546 non-null object\n",
      "Consumer complaint narrative    59697 non-null object\n",
      "Company public response         75922 non-null object\n",
      "Company                         537992 non-null object\n",
      "State                           530979 non-null object\n",
      "ZIP code                        533186 non-null object\n",
      "Tags                            75267 non-null object\n",
      "Consumer consent provided?      110728 non-null object\n",
      "Submitted via                   537989 non-null object\n",
      "Date sent to company            537992 non-null object\n",
      "Company response to consumer    537992 non-null object\n",
      "Timely response?                537992 non-null object\n",
      "Consumer disputed?              537992 non-null object\n",
      "Complaint ID                    537992 non-null int64\n",
      "dtypes: int64(1), object(17)\n",
      "memory usage: 78.0+ MB\n"
     ]
    }
   ],
   "source": [
    "df.info()"
   ]
  },
  {
   "cell_type": "code",
   "execution_count": 182,
   "metadata": {
    "collapsed": false
   },
   "outputs": [],
   "source": [
    "#df=df.dropna(subset=['Consumer complaint narrative'])"
   ]
  },
  {
   "cell_type": "code",
   "execution_count": 183,
   "metadata": {
    "collapsed": false
   },
   "outputs": [
    {
     "data": {
      "text/plain": [
       "This company continues to report on my credit report after I sent them a letter telling them that this account was not mine and I have no idea what it is or who it belongs to! \\n\\nI asked for proof of a signed contract, I asked for a license to collect in my state, I asked for copies of all information referenced for this debt and still to date, I have not received anything but harassment from this company! \\n\\nTHIS IS NOT MY DEBT! \\n\\nI WANT THIS ACCOUNT REMOVED FROM MY CREDIT REPORT AND THIS COMPANY TO STOP CONTACTING ME IMMEDIATELY!                                                                                                                                                                                                                                                                                                                                                                                                                                                                                                                                                                                                                                                                                                                                                                                                                                                                                                                                                                                                                                                                                                                                                                                                                                                                                                                                                                                                                                                                                                                                                                                                                                                                                                                                                                                                                                                                                                                                                                                                                                                                                                                                                                                                                                                                                                                                                                                                                                                                                                                                                                                                                                                                                                                                                                                                                                                                                                                                                                                                                                                                                                                                                                                                                                                                                                                                                                                                                                                                                                                 37\n",
       "I have been a victim of Identity Theft. I have been trying to work with the Credit Reporting Agency but they are refusing to honor my valid identity theft case thus these incorrect/fraudulent items are still on my credit report and they must be removed immediately but they are do not belong to me. I have provided all of the proof to show that I was a victim of Identity Theft and that to the best of my knowledge these fraudulent accounts do not belong to me. Please take immediate action on my behalf so I can have these items removed, deleted and permanently blocked from my credit report, so that I can get back on track to a normal life. \\n\\nRegards                                                                                                                                                                                                                                                                                                                                                                                                                                                                                                                                                                                                                                                                                                                                                                                                                                                                                                                                                                                                                                                                                                                                                                                                                                                                                                                                                                                                                                                                                                                                                                                                                                                                                                                                                                                                                                                                                                                                                                                                                                                                                                                                                                                                                                                                                                                                                                                                                                                                                                                                                                                                                                                                                                                                                                                                                                                                                                                                                                                                                                                                                                                                                                                                                                                                                                                                                                                               27\n",
       "I have sent several requests to Experian requesting an investigation of my accounts. It has been months and I still have not received a response to my concerns. The only thing I have received is some automated rejection letter stating that they wo n't do anything to help me ( please see attached ). \\nThis has to be a violation of my rights. I feel like I 've already wasted so much time just trying to get Experian to look at the errors on my credit report and I 'm so frustrated that Experian is intentionally not responding to my inquiries. I need to have this issue resolved immediately. There are many things I need to do with my life and they all involve my credit. But I am not able to move forward all because of this credit bureau!                                                                                                                                                                                                                                                                                                                                                                                                                                                                                                                                                                                                                                                                                                                                                                                                                                                                                                                                                                                                                                                                                                                                                                                                                                                                                                                                                                                                                                                                                                                                                                                                                                                                                                                                                                                                                                                                                                                                                                                                                                                                                                                                                                                                                                                                                                                                                                                                                                                                                                                                                                                                                                                                                                                                                                                                                                                                                                                                                                                                                                                                                                                                                                                                                                                                                                         26\n",
       "This company continues to report on my credit report after I sent them a letter telling them that this account was not mine and I have no idea what it is or who it belongs to! \\n\\nI asked for proof of a signed contract, I asked for a license to collect in my state, I asked for copies of all information referenced for this debt and still to date, I have not received anything but harassment from this company! \\n\\nTHIS IS NOT MY DEBT!                                                                                                                                                                                                                                                                                                                                                                                                                                                                                                                                                                                                                                                                                                                                                                                                                                                                                                                                                                                                                                                                                                                                                                                                                                                                                                                                                                                                                                                                                                                                                                                                                                                                                                                                                                                                                                                                                                                                                                                                                                                                                                                                                                                                                                                                                                                                                                                                                                                                                                                                                                                                                                                                                                                                                                                                                                                                                                                                                                                                                                                                                                                                                                                                                                                                                                                                                                                                                                                                                                                                                                                                                           24\n",
       "While checking my personal credit report, I noticed an unauthorized and fraudulent credit inquiry made by XXXX on or about XX/XX/XXXX on Transunion. I did not authorized anyone employed by this company to make any inquiry and view my credit report. XXXX has violated the Fair Credit Reporting Act Section 1681b ( c ). They were not legally entitled to make this fraudulent inquiry. This is a serious breach of my privacy rights. \\nI have requested that they mail me a copy of my signed authorization form that gave them the right to view my credit within five ( 5 ) business days so that I can verify its validity and advised them that if they can not provide me with proof that I authorized them to view my credit report then I am demanding that they contact the credit bureaus immediately and have them remove the unauthorized and fraudulent hard inquiry immediately. I also requested that they remove my personal information from their records. My Social Security # is XXXX and my Date of Birth is XX/XX/XXXX in case it is needed to locate the fraudulent inquiry in their system.                                                                                                                                                                                                                                                                                                                                                                                                                                                                                                                                                                                                                                                                                                                                                                                                                                                                                                                                                                                                                                                                                                                                                                                                                                                                                                                                                                                                                                                                                                                                                                                                                                                                                                                                                                                                                                                                                                                                                                                                                                                                                                                                                                                                                                                                                                                                                                                                                                                                                                                                                                                                                                                                                                                                                                                                                                                                                                                                                    14\n",
       "This company continues to report on my credit report after I sent them a letter telling them that this account was not mine and I have no idea what it is or who it belongs to! \\n\\nI asked for proof of a signed contract, I asked for a license to collect in my state, I asked for copies of all information referenced for this debt and still to date, I have not received anything but harassment from this company!                                                                                                                                                                                                                                                                                                                                                                                                                                                                                                                                                                                                                                                                                                                                                                                                                                                                                                                                                                                                                                                                                                                                                                                                                                                                                                                                                                                                                                                                                                                                                                                                                                                                                                                                                                                                                                                                                                                                                                                                                                                                                                                                                                                                                                                                                                                                                                                                                                                                                                                                                                                                                                                                                                                                                                                                                                                                                                                                                                                                                                                                                                                                                                                                                                                                                                                                                                                                                                                                                                                                                                                                                                                    14\n",
       "I am filing this complaint because I think what Experian is doing to me is wrong, unethical and may be against the law. A letter was mailed to Experian on or around [ XXXX/XXXX/15 ]. \\nI clearly stated my concerns to them regarding inaccurate, questionable or unverifiable information listed on my credit report. I also provided a clear copy of my ID, proof of my social security number and a proof of my current mailing address. \\nOn [ XXXX/XXXX/15 ] I received a notice from Experian stating the following : '' We received a suspicious request in the mail regarding your personal credit report and determined that it was not sent by you. Suspicious requests are reviewed by Experian security personnel who work regularly with law enforcement officials and regulatory agencies to identify fraudulent and deceptive correspondence purporting to originate from consumers. \\nIn an effort to safeguard your personal credit information from fraud, we will not be initiating any disputes based on the suspicious correspondence. \\nExperian will apply this same policy to any future suspicious requests that we receive regarding your personal credit information, but we will not send additional notices to you of suspicious correspondence. \\nIf you believe that information in your personal credit report is inaccurate or incomplete, please visit our website at experian.com/validate dispute or call us at XXXX ( XXXX ) XXXX to speak directly to an Experian consumer assistance representative. \" However, an Experian confirmation number was not even provided on this notice. I can not imagine what could have possibly been \" suspicious '' about my correspondence to Experian. I should not have to spend endless hours on phone calling the credit bureau back and forth attempting to resolve the issues on my credit report! I am filing this complaint because Experian will not respond to any letters that I am sending in. I 'm sure this could be a violation of my rights and Experian should not be deliberately disregarding my concerns!                                                                                                                                                                                                                                                                                                                                                                                                                                                                                                                                                                                                                                                                                                                                                                                                                                                                                                                                                                                                                                                                                                                                                                                                                                                                                                                                                                                                                                                                                                                                                                                                                                                                                                                                                                                                                                                                                                                                                                     14\n",
       "In XXXX, I requested my free annual credit report. After viewing my credit report, I noticed over XXXX credit/loan inquiries on my account that was not authorized by me. I contacted each company and was told that there was not any account open under my information. I explained that I have a hard inquiry on my credit report and need it removed as soon as possible so that I could apply for a home. I was told that the inquiries would be removed from my credit report. As of XXXX/XXXX/XXXX, none of the inquiries have been removed dating back to XXXX. I had a initial fraud alert placed on my report on XXXX XXXX, so if any credit reports are being pulled with my information, I was to be contacted by the company before any action was taken place. I just want the inquiries to be removed so that my scores and credit is not being impacted any longer. I would like to purchase a house, but until all of the inquires are removed I will not be approved with XXXX inquires on my credit report.                                                                                                                                                                                                                                                                                                                                                                                                                                                                                                                                                                                                                                                                                                                                                                                                                                                                                                                                                                                                                                                                                                                                                                                                                                                                                                                                                                                                                                                                                                                                                                                                                                                                                                                                                                                                                                                                                                                                                                                                                                                                                                                                                                                                                                                                                                                                                                                                                                                                                                                                                                                                                                                                                                                                                                                                                                                                                                                                                                                                                                                12\n",
       "While checking my personal credit report, I noticed an unauthorized and fraudulent credit inquiry made by XXXX on or about XX/XX/XXXX on Experian. I did not authorized anyone employed by this company to make any inquiry and view my credit report. XXXX has violated the Fair Credit Reporting Act Section 1681b ( c ). They were not legally entitled to make this fraudulent inquiry. This is a serious breach of my privacy rights. \\nI have requested that they mail me a copy of my signed authorization form that gave them the right to view my credit within five ( 5 ) business days so that I can verify its validity and advised them that if they can not provide me with proof that I authorized them to view my credit report then I am demanding that they contact the credit bureaus immediately and have them remove the unauthorized and fraudulent hard inquiry immediately. I also requested that they remove my personal information from their records. My Social Security # is XXXX and my Date of Birth is XX/XX/XXXX in case it is needed to locate the fraudulent inquiry in their system.                                                                                                                                                                                                                                                                                                                                                                                                                                                                                                                                                                                                                                                                                                                                                                                                                                                                                                                                                                                                                                                                                                                                                                                                                                                                                                                                                                                                                                                                                                                                                                                                                                                                                                                                                                                                                                                                                                                                                                                                                                                                                                                                                                                                                                                                                                                                                                                                                                                                                                                                                                                                                                                                                                                                                                                                                                                                                                                                                      11\n",
       "I have been a victim of Identity Theft, and I am trying to dispute inaccurate items on my credit report.                                                                                                                                                                                                                                                                                                                                                                                                                                                                                                                                                                                                                                                                                                                                                                                                                                                                                                                                                                                                                                                                                                                                                                                                                                                                                                                                                                                                                                                                                                                                                                                                                                                                                                                                                                                                                                                                                                                                                                                                                                                                                                                                                                                                                                                                                                                                                                                                                                                                                                                                                                                                                                                                                                                                                                                                                                                                                                                                                                                                                                                                                                                                                                                                                                                                                                                                                                                                                                                                                                                                                                                                                                                                                                                                                                                                                                                                                                                                                                      10\n",
       "I am requesting that EXPERIAN immediately delete the address listed on my credit file as reported and previously listed on the EXPERIAN Credit File as : XXXX XXXX XXXX XXXX XXXX WA XXXX. Address indentification number : XXXX, Geographical code : XXXX                                                                                                                                                                                                                                                                                                                                                                                                                                                                                                                                                                                                                                                                                                                                                                                                                                                                                                                                                                                                                                                                                                                                                                                                                                                                                                                                                                                                                                                                                                                                                                                                                                                                                                                                                                                                                                                                                                                                                                                                                                                                                                                                                                                                                                                                                                                                                                                                                                                                                                                                                                                                                                                                                                                                                                                                                                                                                                                                                                                                                                                                                                                                                                                                                                                                                                                                                                                                                                                                                                                                                                                                                                                                                                                                                                                                                     9\n",
       "I am responding to a letter I received from Experian regarding a request made on my credit file. Based on my understanding of the letter, it looks like Experian is refusing to complete my request because they do n't think I am smart enough to write a dispute letter. \\nI would like Experian to know that I did in-fact send them a letter disputing information on my credit report. I also give Experian my full written consent to continue with the investigation of my accounts per the dispute letter I wrote to them. \\nI researched a dispute letter online and just used that to complete my dispute. So I guess it is possible that I may have missed something. I would very much appreciate Experian providing me with an explanation of my rights specifically pertaining to how I am allowed to dispute information on my credit report. \\nI would also like to know what made my letter \" suspicious '' and why Experian thinks I did not write my letter to them. Did I say something in my letter that was inappropriate? \\nI would like Experian to let me know if I am allowed to re-write my letter, and if so, would Experian be so kind as to provide me with an example of a letter that would be acceptable to them? \\nI do not have the money to be represented by an attorney or any other agency. I work all day and can not afford to take time off work to dispute my accounts. Would completing a dispute over the phone provide me with the same benefits as the letter? And if the results would be the same, why not just accept my letter?                                                                                                                                                                                                                                                                                                                                                                                                                                                                                                                                                                                                                                                                                                                                                                                                                                                                                                                                                                                                                                                                                                                                                                                                                                                                                                                                                                                                                                                                                                                                                                                                                                                                                                                                                                                                                                                                                                                                                                                                                                                                                                                                                                                                                                                                                                                                                                                                                                                                                             9\n",
       "This is a formal complaint against TRANSUNIONAccording to my credit report, XXXX XXXX is currently reporting to TRANSUNION that I applied for credit with XXXX XXXX on XXXX/XXXX/2015 I did not grant TRANSUNION authorization to provide access to my credit report to XXXX XXXX ; or share my credit report with XXXX XXXX. \\n\\nThe Fair Credit Reporting Act requires that a creditor be able to verify the written authorization of the consumer giving the creditor permission to review their credit. If you can provide a copy of a credit application authorizing the disclosure of my credit files with my signature, I will accept the inquiry. If a signed authorization can not be found please remove the inquiry. \\n\\nThe presence of this inquiry is adversely affecting my credit report. Time is of the essence so I would greatly appreciate a response from you immediately. Please mail me the copy of a signed application or a letter indicating your intention to delete the inquiry.                                                                                                                                                                                                                                                                                                                                                                                                                                                                                                                                                                                                                                                                                                                                                                                                                                                                                                                                                                                                                                                                                                                                                                                                                                                                                                                                                                                                                                                                                                                                                                                                                                                                                                                                                                                                                                                                                                                                                                                                                                                                                                                                                                                                                                                                                                                                                                                                                                                                                                                                                                                                                                                                                                                                                                                                                                                                                                                                                                                                                                                                   7\n",
       "While checking my personal credit report, I noticed an unauthorized and fraudulent credit inquiry made by XXXX on or about XX/XX/XXXX on Equifax. I did not authorized anyone employed by this company to make any inquiry and view my credit report. XXXX has violated the Fair Credit Reporting Act Section 1681b ( c ). They were not legally entitled to make this fraudulent inquiry. This is a serious breach of my privacy rights. \\nI have requested that they mail me a copy of my signed authorization form that gave them the right to view my credit within five ( 5 ) business days so that I can verify its validity and advised them that if they can not provide me with proof that I authorized them to view my credit report then I am demanding that they contact the credit bureaus immediately and have them remove the unauthorized and fraudulent hard inquiry immediately. I also requested that they remove my personal information from their records. My Social Security # is XXXX and my Date of Birth is XX/XX/XXXX in case it is needed to locate the fraudulent inquiry in their system.                                                                                                                                                                                                                                                                                                                                                                                                                                                                                                                                                                                                                                                                                                                                                                                                                                                                                                                                                                                                                                                                                                                                                                                                                                                                                                                                                                                                                                                                                                                                                                                                                                                                                                                                                                                                                                                                                                                                                                                                                                                                                                                                                                                                                                                                                                                                                                                                                                                                                                                                                                                                                                                                                                                                                                                                                                                                                                                                                        7\n",
       "While checking my personal credit report, I noticed an unauthorized and fraudulent credit inquiry made by XXXX XXXX on or about XX/XX/XXXX on Experian. I did not authorized anyone employed by this company to make any inquiry and view my credit report. XXXX XXXX has violated the Fair Credit Reporting Act Section 1681b ( c ). They were not legally entitled to make this fraudulent inquiry. This is a serious breach of my privacy rights. \\nI have requested that they mail me a copy of my signed authorization form that gave them the right to view my credit within five ( 5 ) business days so that I can verify its validity and advised them that if they can not provide me with proof that I authorized them to view my credit report then I am demanding that they contact the credit bureaus immediately and have them remove the unauthorized and fraudulent hard inquiry immediately. I also requested that they remove my personal information from their records. My Social Security # is XXXX and my Date of Birth is XX/XX/XXXX in case it is needed to locate the fraudulent inquiry in their system.                                                                                                                                                                                                                                                                                                                                                                                                                                                                                                                                                                                                                                                                                                                                                                                                                                                                                                                                                                                                                                                                                                                                                                                                                                                                                                                                                                                                                                                                                                                                                                                                                                                                                                                                                                                                                                                                                                                                                                                                                                                                                                                                                                                                                                                                                                                                                                                                                                                                                                                                                                                                                                                                                                                                                                                                                                                                                                                                             7\n",
       "TO WHOM IT MAY CONCERN-THIS ACCOUNTIS REPORTING AS OPEN AND PAST DUE THAT WAS INCLUDED IN MY CHAPTER XXXX CASE # XXXX. I HAVE MADE MANY ATTEMPTS TO THE COLLECTIONS AGENCIES TO CORRECT THIS INFORMATION WITH NO SUCCESS. THESE ACCOUNTS HAVE ALSO BEEN SOLD TO NEW COLLECTION AGENCIES THAT ARE REPORTING THESE ACCOUNTS AS NEW ACCOUNTS, WHICH I UNDERSTAND TO BE ILLEGAL PRACTICES AND HINDERING BY ABILITY IN REHABILITATING MY CREDIT AND MY PROTECTION UNDER THE CHAPTER XXXX BANKRUPTCY LAWS. \\nATTACHED YOU WILL FIND A COPY OF MY CREDIT REPORT AND CHAPETER XXXX PAY SCHEDULE OF CREDITORS                                                                                                                                                                                                                                                                                                                                                                                                                                                                                                                                                                                                                                                                                                                                                                                                                                                                                                                                                                                                                                                                                                                                                                                                                                                                                                                                                                                                                                                                                                                                                                                                                                                                                                                                                                                                                                                                                                                                                                                                                                                                                                                                                                                                                                                                                                                                                                                                                                                                                                                                                                                                                                                                                                                                                                                                                                                                                                                                                                                                                                                                                                                                                                                                                                                                                                                                                                                                                                                                           7\n",
       "This is a formal complaint against TRANSUNIONAccording to my credit report, XXXX is currently reporting to TRANSUNION that I applied for credit with XXXX on XXXX/XXXX/2014 I did not grant TRANSUNION authorization to provide access to my credit report to XXXX ; or share my credit report with XXXX. \\n\\nThe Fair Credit Reporting Act requires that a creditor be able to verify the written authorization of the consumer giving the creditor permission to review their credit. If you can provide a copy of a credit application authorizing the disclosure of my credit files with my signature, I will accept the inquiry. If a signed authorization can not be found please remove the inquiry. \\n\\nThe presence of this inquiry is adversely affecting my credit report. Time is of the essence so I would greatly appreciate a response from you immediately. Please mail me the copy of a signed application or a letter indicating your intention to delete the inquiry.                                                                                                                                                                                                                                                                                                                                                                                                                                                                                                                                                                                                                                                                                                                                                                                                                                                                                                                                                                                                                                                                                                                                                                                                                                                                                                                                                                                                                                                                                                                                                                                                                                                                                                                                                                                                                                                                                                                                                                                                                                                                                                                                                                                                                                                                                                                                                                                                                                                                                                                                                                                                                                                                                                                                                                                                                                                                                                                                                                                                                                                                                       7\n",
       "I am responding to a letter I received from Experian regarding a suspicious request made on my credit file. Based on my understanding of the letter, it looks like Experian is refusing to complete my request because they believe the letter I wrote them was not sent by me. \\nI would like Experian to know that I did in-fact send them a letter disputing information on my credit report. I also give Experian my expressed and written consent to continue with the investigation of my accounts per the dispute letter I wrote to them. \\nSince I have not experienced this situation before, I would very much appreciate Experian providing me with an explanation of my rights specifically pertaining to how I am allowed to dispute information on my credit report. \\nI would also like to know specifically what made my letter \" suspicious '' and why Experian thinks I did not write my letter to them. Did I say something in my letter that they think I am not smart enough to write myself? \\nI have reviewed Experian 's website to determine what steps I am required to take to dispute my accounts and thought I had followed all instructions : I sent in a copy of my ID, proof of my social security number and proof of my address. I would be very grateful for a step by step explanation from Experian detailing the specific information I may have missed from their website. \\nI would like Experian to let me know if I am allowed to re-write my letter, and if so, would Experian be so kind as to provide me with an example of a letter that would be acceptable to them? \\nI am just a regular person and do not have the money to be represented by an attorney or any other agency. I work all day and can not afford to take time off work to dispute my accounts. So I would like Experian to tell me if completing a dispute over the phone would provide me with the same outcome as a letter? And if the results would be the same, why is Experian choosing to not accept my letter and my humble request for an investigation of my accounts?                                                                                                                                                                                                                                                                                                                                                                                                                                                                                                                                                                                                                                                                                                                                                                                                                                                                                                                                                                                                                                                                                                                                                                                                                                                                                                                                                                                                                                                                                                                                                                                                                                                                                                                                                                                                                                                                                                                                                                              7\n",
       "this not my account                                                                                                                                                                                                                                                                                                                                                                                                                                                                                                                                                                                                                                                                                                                                                                                                                                                                                                                                                                                                                                                                                                                                                                                                                                                                                                                                                                                                                                                                                                                                                                                                                                                                                                                                                                                                                                                                                                                                                                                                                                                                                                                                                                                                                                                                                                                                                                                                                                                                                                                                                                                                                                                                                                                                                                                                                                                                                                                                                                                                                                                                                                                                                                                                                                                                                                                                                                                                                                                                                                                                                                                                                                                                                                                                                                                                                                                                                                                                                                                                                                                            7\n",
       "A few months ago I ended up filing some disputes because there was incorrect and incomplete information on my credit report. So I prepared a nice letter and sent it with a copy of my driver 's license, proof of my social security number and proof of my mailing address so that Experian would be able to verify my identity. \\nIt has been at least 2 months since I mailed my letter and I have n't heard back. When I try calling their XXXX number they want a report number before I speak with an agent and since I do n't have XXXX I ca n't speak to anyone. \\nI thought that the credit companies had to respond back to me within 30 days otherwise they are supposed to remove things from my credit report?! \\nWell it 's been way more than 30 days and all of the stuff I disputed is still there. I know I can go online and buy a credit monitoring service and try to dispute things online but I thought that Experian is supposed to help me for free! \\nI 'm at the point where I 'm done wasting time and need to get this fixed immediately.                                                                                                                                                                                                                                                                                                                                                                                                                                                                                                                                                                                                                                                                                                                                                                                                                                                                                                                                                                                                                                                                                                                                                                                                                                                                                                                                                                                                                                                                                                                                                                                                                                                                                                                                                                                                                                                                                                                                                                                                                                                                                                                                                                                                                                                                                                                                                                                                                                                                                                                                                                                                                                                                                                                                                                                                                                                                                                                                                                                                        6\n",
       "My spouse and I have sent the credit bureaus multiple dispute letters certified with documentation supporting our claims and they have completely disregarded our concerns. There is a debt and some late payments reporting inaccurately and we are trying everything in our power to get it rectified. Hoping this process will make them take us seriously.                                                                                                                                                                                                                                                                                                                                                                                                                                                                                                                                                                                                                                                                                                                                                                                                                                                                                                                                                                                                                                                                                                                                                                                                                                                                                                                                                                                                                                                                                                                                                                                                                                                                                                                                                                                                                                                                                                                                                                                                                                                                                                                                                                                                                                                                                                                                                                                                                                                                                                                                                                                                                                                                                                                                                                                                                                                                                                                                                                                                                                                                                                                                                                                                                                                                                                                                                                                                                                                                                                                                                                                                                                                                                                                 6\n",
       "This debt was created as a result of identity theft ... ... and this account has been reported on my credit with attempts to collect as this debt is fraudulent i have filed police and ftc reports regarding this matter                                                                                                                                                                                                                                                                                                                                                                                                                                                                                                                                                                                                                                                                                                                                                                                                                                                                                                                                                                                                                                                                                                                                                                                                                                                                                                                                                                                                                                                                                                                                                                                                                                                                                                                                                                                                                                                                                                                                                                                                                                                                                                                                                                                                                                                                                                                                                                                                                                                                                                                                                                                                                                                                                                                                                                                                                                                                                                                                                                                                                                                                                                                                                                                                                                                                                                                                                                                                                                                                                                                                                                                                                                                                                                                                                                                                                                                      6\n",
       "A few months ago I requested my credit report from Experian. I got back this letter from them telling me that they received something that looked like fraud. I did n't get a chance to call them right away and I honestly thought it was some kind of mistake so I just went online and got my report from some website instead. \\nI ended up filing some disputes because there was incorrect and incomplete information on my credit report. So I prepared a nice letter and sent it with a copy of my driver 's license, proof of my social security number and proof of my mailing address so that Experian would be able to verify my identity. \\nIt has been at least XXXX months since I mailed my letter and I have n't heard back. When I try calling their XXXX number they want a report number before I speak with an agent and since I do n't have XXXX I ca n't speak to anyone. \\nI thought that the credit companies had to respond back to me within XXXX days otherwise they are supposed to remove things from my credit report?! \\nWell it 's been way more than XXXX days and all of the stuff I disputed is still there. I know I can go online and buy a credit monitoring service and try to dispute things online but I thought that Experian is supposed to help me for free! \\nI 'm at the point where I 'm done wasting time and need to get this fixed immediately.                                                                                                                                                                                                                                                                                                                                                                                                                                                                                                                                                                                                                                                                                                                                                                                                                                                                                                                                                                                                                                                                                                                                                                                                                                                                                                                                                                                                                                                                                                                                                                                                                                                                                                                                                                                                                                                                                                                                                                                                                                                                                                                                                                                                                                                                                                                                                                                                                                                                                                                                                                                                                                                                             6\n",
       "I was advised by the Internal Revenue Service that my social security number and other confidential information were compromised. Sometime in XXXX to XXXX my personal details were stolen and have been used up to XXXX XXXX when a security alert had been placed on my credit files. These fraudulent accounts range from medical ; utility accounts and credit card accounts and must be deleted from my history. I forward the details of these accounts in question and a copy of the Identity Theft Affidavit and I have had no response from both the credit bureaus and the creditor/collections agent.                                                                                                                                                                                                                                                                                                                                                                                                                                                                                                                                                                                                                                                                                                                                                                                                                                                                                                                                                                                                                                                                                                                                                                                                                                                                                                                                                                                                                                                                                                                                                                                                                                                                                                                                                                                                                                                                                                                                                                                                                                                                                                                                                                                                                                                                                                                                                                                                                                                                                                                                                                                                                                                                                                                                                                                                                                                                                                                                                                                                                                                                                                                                                                                                                                                                                                                                                                                                                                                               5\n",
       "I would like this collection to be removed from my XXXX credit report was reported as collection debt without my knowledge.                                                                                                                                                                                                                                                                                                                                                                                                                                                                                                                                                                                                                                                                                                                                                                                                                                                                                                                                                                                                                                                                                                                                                                                                                                                                                                                                                                                                                                                                                                                                                                                                                                                                                                                                                                                                                                                                                                                                                                                                                                                                                                                                                                                                                                                                                                                                                                                                                                                                                                                                                                                                                                                                                                                                                                                                                                                                                                                                                                                                                                                                                                                                                                                                                                                                                                                                                                                                                                                                                                                                                                                                                                                                                                                                                                                                                                                                                                                                                    5\n",
       "I recently pulled my credit report and discovered that this company has reported that I owe them several debts to my knowledge I received not prior notification that I owed them any debt. My rights under the FDCPA have been violated as I was not granted the right of validation                                                                                                                                                                                                                                                                                                                                                                                                                                                                                                                                                                                                                                                                                                                                                                                                                                                                                                                                                                                                                                                                                                                                                                                                                                                                                                                                                                                                                                                                                                                                                                                                                                                                                                                                                                                                                                                                                                                                                                                                                                                                                                                                                                                                                                                                                                                                                                                                                                                                                                                                                                                                                                                                                                                                                                                                                                                                                                                                                                                                                                                                                                                                                                                                                                                                                                                                                                                                                                                                                                                                                                                                                                                                                                                                                                                          5\n",
       "On at least XXXX previous occasions, I request Scottrade cease and desist communicating with me via email and other methods of communication, citing State Unsolicited Email Law, and Federal Debt Collection Practices, yet Scottrade has failed to acknowledge these email and has sent me another email, in violation of numerous State and Federal statutes.                                                                                                                                                                                                                                                                                                                                                                                                                                                                                                                                                                                                                                                                                                                                                                                                                                                                                                                                                                                                                                                                                                                                                                                                                                                                                                                                                                                                                                                                                                                                                                                                                                                                                                                                                                                                                                                                                                                                                                                                                                                                                                                                                                                                                                                                                                                                                                                                                                                                                                                                                                                                                                                                                                                                                                                                                                                                                                                                                                                                                                                                                                                                                                                                                                                                                                                                                                                                                                                                                                                                                                                                                                                                                                               5\n",
       "Pulled credit report without permission.                                                                                                                                                                                                                                                                                                                                                                                                                                                                                                                                                                                                                                                                                                                                                                                                                                                                                                                                                                                                                                                                                                                                                                                                                                                                                                                                                                                                                                                                                                                                                                                                                                                                                                                                                                                                                                                                                                                                                                                                                                                                                                                                                                                                                                                                                                                                                                                                                                                                                                                                                                                                                                                                                                                                                                                                                                                                                                                                                                                                                                                                                                                                                                                                                                                                                                                                                                                                                                                                                                                                                                                                                                                                                                                                                                                                                                                                                                                                                                                                                                       5\n",
       "I received my degree from University XXXX XXXX, applied for Federal Loans and worked full time. My wife was a stay at home mom and the University sold me on Private Loans that they said worked like Federal loans to supplement my income. I ended up with over XXXX in Private Loans the school should have never presented and an economy that will never return to pay them off.                                                                                                                                                                                                                                                                                                                                                                                                                                                                                                                                                                                                                                                                                                                                                                                                                                                                                                                                                                                                                                                                                                                                                                                                                                                                                                                                                                                                                                                                                                                                                                                                                                                                                                                                                                                                                                                                                                                                                                                                                                                                                                                                                                                                                                                                                                                                                                                                                                                                                                                                                                                                                                                                                                                                                                                                                                                                                                                                                                                                                                                                                                                                                                                                                                                                                                                                                                                                                                                                                                                                                                                                                                                                                          5\n",
       "I never received any communication from this company that my account will be send to collection without my knowledge. Do n't even know this company and find out get bad review with XXXX.                                                                                                                                                                                                                                                                                                                                                                                                                                                                                                                                                                                                                                                                                                                                                                                                                                                                                                                                                                                                                                                                                                                                                                                                                                                                                                                                                                                                                                                                                                                                                                                                                                                                                                                                                                                                                                                                                                                                                                                                                                                                                                                                                                                                                                                                                                                                                                                                                                                                                                                                                                                                                                                                                                                                                                                                                                                                                                                                                                                                                                                                                                                                                                                                                                                                                                                                                                                                                                                                                                                                                                                                                                                                                                                                                                                                                                                                                     5\n",
       "                                                                                                                                                                                                                                                                                                                                                                                                                                                                                                                                                                                                                                                                                                                                                                                                                                                                                                                                                                                                                                                                                                                                                                                                                                                                                                                                                                                                                                                                                                                                                                                                                                                                                                                                                                                                                                                                                                                                                                                                                                                                                                                                                                                                                                                                                                                                                                                                                                                                                                                                                                                                                                                                                                                                                                                                                                                                                                                                                                                                                                                                                                                                                                                                                                                                                                                                                                                                                                                                                                                                                                                                                                                                                                                                                                                                                                                                                                                                                                                                                                                                              ..\n",
       "I regularly make on time payments online to the credit card \" XXXX '', fromantic XXXX. For some reason, a payment I made online in XXXX was not taken from my bank account. When I called to find out what had happened, the employee I spoke with said he saw the payment and to \" give it a few days ''. So, I waited, and saw that it still had not withdrawn. I called back and the employee I spoke to asked which website I paid on. Apparently, according to him, they sent out emails that the website changed. I received no email, and told them I ticked on the card 's site \" Paper Mail Only '' option. He said that the company decided to send emails because it was \" so sudden a change ''. Yet, I was still able to make payments online on the old site. Unfortunately the payments did n't take. There were no disclaimers or notices on the old site that they changed addresses. The employees I spoke with previously did n't even mention the site change. I disputed with them, and they eventually admitted fault and refunded my late fees and took the payment. However, the credit reporting was reported as over limit with a number that did n't even reflect my balance. I called to dispute it again, and they said it would be taken care of. As of XXXX, nothing was done, and the balance still did n't match the reporting. I had a balance of XXXX, yet they reported it as XXXX. They were also reporting me as 30,60,90 days past due. I disputed with trans union and they found my claims to be correct. NOTHING has changed on the credit reporting as of today, XXXX/XXXX/2015. My credit has been SEVERELY damaged because of this. Now, they are saying my payments do not go through online because of an incorrect account number, yet, nothing is wrong. After disputing it YET AGAIN, they refunded the late fees and took my payment over the phone ( at a XXXX phone pay fee ). Now, my payment was due yesterday, but still has n't posted on my bank account. I double checked my account info on their website and it is correct. I have a feeling they are going to try to get me to pay for the over the phone fee yet again. This is criminal practice. The last rep I spoke with told me that being over balance would n't hurt my credit, then proceeded to ask me personal questions about where I live. This is illegal, is it not? I want my credit back, these criminals held accountable, and this balance fixed!                                                                                                                                                                                                                                                                                                                                                                                                                                                                                                                                                                                                                                                                                                                                                                                                                                                                                                                                                                                                                                                                                                                                                                                                                                                                                                                                                                                                                                                                                                                                                                                             1\n",
       "The description of my credit activity is not mine!                                                                                                                                                                                                                                                                                                                                                                                                                                                                                                                                                                                                                                                                                                                                                                                                                                                                                                                                                                                                                                                                                                                                                                                                                                                                                                                                                                                                                                                                                                                                                                                                                                                                                                                                                                                                                                                                                                                                                                                                                                                                                                                                                                                                                                                                                                                                                                                                                                                                                                                                                                                                                                                                                                                                                                                                                                                                                                                                                                                                                                                                                                                                                                                                                                                                                                                                                                                                                                                                                                                                                                                                                                                                                                                                                                                                                                                                                                                                                                                                                             1\n",
       "first I never ever lived in XXXX, ,Mississipppi . Next I never apply for credit with XXXX Bank                                                                                                                                                                                                                                                                                                                                                                                                                                                                                                                                                                                                                                                                                                                                                                                                                                                                                                                                                                                                                                                                                                                                                                                                                                                                                                                                                                                                                                                                                                                                                                                                                                                                                                                                                                                                                                                                                                                                                                                                                                                                                                                                                                                                                                                                                                                                                                                                                                                                                                                                                                                                                                                                                                                                                                                                                                                                                                                                                                                                                                                                                                                                                                                                                                                                                                                                                                                                                                                                                                                                                                                                                                                                                                                                                                                                                                                                                                                                                                                 1\n",
       "I am currently paying off a Discover Loan through XXXX XXXX XXXX law firm ( debt collector ) and I have been since XXXX 2012. XXXX XXXX XXXX, XXXX are now trying to collect on the SAME debt!                                                                                                                                                                                                                                                                                                                                                                                                                                                                                                                                                                                                                                                                                                                                                                                                                                                                                                                                                                                                                                                                                                                                                                                                                                                                                                                                                                                                                                                                                                                                                                                                                                                                                                                                                                                                                                                                                                                                                                                                                                                                                                                                                                                                                                                                                                                                                                                                                                                                                                                                                                                                                                                                                                                                                                                                                                                                                                                                                                                                                                                                                                                                                                                                                                                                                                                                                                                                                                                                                                                                                                                                                                                                                                                                                                                                                                                                                 1\n",
       "I have repeatedly disputed XXXX accounts with Navient, which from my research were recently purchased from another lender. I have asked on more than XXXX occasion that all communication be done in writing only, so that I may keep records. \\n\\nNavient has instead chosen to spoof their number and repeatedly call me looking for the account holder ( which i am not ). It is ILLEGAL for a collections agent to block, alter, or otherwise attempt to make their phone number appear as a local caller instead of the actual phone number.                                                                                                                                                                                                                                                                                                                                                                                                                                                                                                                                                                                                                                                                                                                                                                                                                                                                                                                                                                                                                                                                                                                                                                                                                                                                                                                                                                                                                                                                                                                                                                                                                                                                                                                                                                                                                                                                                                                                                                                                                                                                                                                                                                                                                                                                                                                                                                                                                                                                                                                                                                                                                                                                                                                                                                                                                                                                                                                                                                                                                                                                                                                                                                                                                                                                                                                                                                                                                                                                                                                              1\n",
       "I discovered that late charges were being added to my account after my account was transferred from One Main Financial to CitiFinancial, XXXX, XXXX office around XX/XX/XXXX. When I asked CitiFinancial about this they could not give me an answer. I finally read on the back of my statement that any payment made would apply to interest and principal only. No amount was being applied to the late charges they could not identify. The XXXX, XXXX office is now closed and the account has been transferred to XXXX, XXXX. They have agreed to apply any overage I pay on my mortgage payment to the late charges. However, I am being told that if I owe as much as one {$1.00} late charge that I am being sent a Homeownership Counseling letter that is required of them by the Consumer Financial Protection Bureau. I called the phone number in the letter and a complaint was made to you in my behalf. Your response was that you could not accept my complaint unless it was signed, therefore, I was told to go on line to file my complaint. I also am receiving collection calls prior to my grace period days being up because of the Consumer Financial Protection Bureau. I am also being treated in the same manner when I use the telephone to make my monthly payment because of the Consumer Financial Protection Bureau. The first thing they say to me after I tell them I am calling in my payment is \" This is an attempt to collect a debt and information you give may be used for that purpose. This call may be recorded etc. \" They tell me that they will continue to make collection calls to me every month and use the collection language every time I call to make a payment until the unidentified late charges are cleared up. On XX/XX/XXXX I received a letter from XXXX XXXX stating he had been unable to contact me. He called while I was at work and I told him I would call him back. I called back and left a message that I was returning his call. I called back on the next day they were in the office and spoke with a lady and she said she would tell him I called. All this took place before he sent the letter on XX/XX/XXXX. I consider myself a decent customer paying on time. At least XXXX % of my monthly social security check is being paid to CitiFinancial. They received Bailout Money from the Federal Government but, they would not lower my interest rate and they did not offer HARP loans. My home is underwater, has been devalued over 80 %. They send me offers from various lenders to refinance but, the lenders will not refinance unless I pay the difference in what I owe and the amount they will finance. Also I must reside as a primary resident in the home for six months before they will even consider refinancing at all. I have asked for the Center Manager, XXXX XXXX XXXX to call me but she has never called. I saw a program about something similar to my case on TV, only the people could not pay. They wound up letting the bank foreclose and then buying it back from an investor. I am XXXX years old and I can not handle being treated this way. I am in fear of having a XXXX or a XXXX XXXX from getting so upset by the way I am being treated by the so called requirements of the Consumer Financial Protection Bureau. Also, YOU never returned my call before the first complaint was filed. Adult Protection Services will be my next call for this abuse I am going through for such a few dollars. Right now it is down to {$300.00} but, I do not have the money to pay this in full to keep from being harassed even if I can keep my home.                                                                                                                                                                                                                                                                                                                                                                                                     1\n",
       "Please refer to original complaint # XXXXXXXXBrief summary, I made final payment on HELOC on XX/XX/XXXX in the amount of {$45.00}. On XX/XX/XXXX more than 7 years later, I get a notice of a lien hold on my house in the amount of {$36.00}. So I submitted a complaint to you. \\nOn XX/XX/XXXX, I get a call from XXXX XXXX at XXXX xt XXXX confirming that there was never any communication made to me about outstanding fees. She stated the only communication they sent me was dated XXXX that the account was at a XXXX balance and instructions on how to pull more money out. She advised that the {$36.00} were fees when I closed my account, that the {$45.00} was interest and the reason that I was not told about the {$36.00} fee could be from the Wamu merger. She assured me that the lien would be lifted and she would send me a letter stating so. \\nI got her letter dated XX/XX/XXXX advising that this communication is an attempt to collect a dept. Which is in direct conflict to what she told me on the phone the day before. \\nI tried to log on to my account several times to file a dispute, however, can not log in. I called your tech support on XXXX, was able to get in and now today XXXX am locked out again.                                                                                                                                                                                                                                                                                                                                                                                                                                                                                                                                                                                                                                                                                                                                                                                                                                                                                                                                                                                                                                                                                                                                                                                                                                                                                                                                                                                                                                                                                                                                                                                                                                                                                                                                                                                                                                                                                                                                                                                                                                                                                                                                                                                                                                                                                                                                                                                                                                                                                                                                                                                                                                                                                                                                                                                                                       1\n",
       "i recently make a purchase using how payment metode paypal butthe seller never give me the service i make a claim inside paypal butthey go in seller favor this is the unique transaction number XXXX and i thinking this is fraudulent seller soplease helpme to get back my money                                                                                                                                                                                                                                                                                                                                                                                                                                                                                                                                                                                                                                                                                                                                                                                                                                                                                                                                                                                                                                                                                                                                                                                                                                                                                                                                                                                                                                                                                                                                                                                                                                                                                                                                                                                                                                                                                                                                                                                                                                                                                                                                                                                                                                                                                                                                                                                                                                                                                                                                                                                                                                                                                                                                                                                                                                                                                                                                                                                                                                                                                                                                                                                                                                                                                                                                                                                                                                                                                                                                                                                                                                                                                                                                                                                            1\n",
       "only autorized XXXX pull on XXXX XXXX 2015 and that was XXXX XXXX                                                                                                                                                                                                                                                                                                                                                                                                                                                                                                                                                                                                                                                                                                                                                                                                                                                                                                                                                                                                                                                                                                                                                                                                                                                                                                                                                                                                                                                                                                                                                                                                                                                                                                                                                                                                                                                                                                                                                                                                                                                                                                                                                                                                                                                                                                                                                                                                                                                                                                                                                                                                                                                                                                                                                                                                                                                                                                                                                                                                                                                                                                                                                                                                                                                                                                                                                                                                                                                                                                                                                                                                                                                                                                                                                                                                                                                                                                                                                                                                              1\n",
       "Contacted Experian after getting a credit report from XXXX XXXX showing my Social Security Number for only their credit reporting agency was completely wrong. This caused a lot of negative reporting items to show up on my credit report and is keeping me from closing my loan. I sent proof of social security and my identification as well as a form from the social security administration. They claimed it would be taken care of immediately. I have been trying to get it resolved since XX/XX/XXXX. My loan is clear to close and still it has not changed with Experian and I am not able to close my loan. this is causing me financial distress. I have called in to Experian and have had my loan officer as well and each time they claim it will be fixed. When I asked them to send me proof its been changed they tell me they will send it and never do. I need this resolved right away!                                                                                                                                                                                                                                                                                                                                                                                                                                                                                                                                                                                                                                                                                                                                                                                                                                                                                                                                                                                                                                                                                                                                                                                                                                                                                                                                                                                                                                                                                                                                                                                                                                                                                                                                                                                                                                                                                                                                                                                                                                                                                                                                                                                                                                                                                                                                                                                                                                                                                                                                                                                                                                                                                                                                                                                                                                                                                                                                                                                                                                                                                                                                                                1\n",
       "I was notify by my credit union of the writ of garnishment. They have put a hold on my account and my step-father account too. I do not recall this credit card account. I did not receive either notice of either kind. The debt collector paid the amount owed or make a settlement offer. I repeat I do not recall this account.                                                                                                                                                                                                                                                                                                                                                                                                                                                                                                                                                                                                                                                                                                                                                                                                                                                                                                                                                                                                                                                                                                                                                                                                                                                                                                                                                                                                                                                                                                                                                                                                                                                                                                                                                                                                                                                                                                                                                                                                                                                                                                                                                                                                                                                                                                                                                                                                                                                                                                                                                                                                                                                                                                                                                                                                                                                                                                                                                                                                                                                                                                                                                                                                                                                                                                                                                                                                                                                                                                                                                                                                                                                                                                                                            1\n",
       "XX/XX/XXXX modification granted. Error made where late payments added to payments. Customer Account manager told my wife and I NOT to make a payment until they corrected it. Spent every month updating modification documents. Foreclosure proceedings began. The sell date was for XX/XX/XXXX. XX/XX/XXXX the XXXX modification package was sent to Bank of America. Was told that the sale was stopped. The last notice of the sale was in the state paper on XX/XX/XXXX. XXXX requests for validation of debt has been ignored. Told on XX/XX/XXXX house sold on XX/XX/XXXX. On XX/XX/XXXX found house on site listed as REO to be sold on XXXX starting bid at {$25000.00} on XX/XX/XXXX-XX/XX/XXXX. XXXX customer service managers assigned since XX/XX/XXXX. XXXX faxes sent giving the permission for Bank of America to discuss loan with my wife. XXXX appointments scheduled for customer account manager to call to discuss account. No calls received. Sat on hold for XXXX hours for one call XXXX times. Wrong phone number given on the loan modification status web site. An extension number was never given, without extension number call would hang up on my wife. Bank of America is guilty of breaking several laws : refusal to validate debt, dual tracking of a foreclosure ( packet in more than 37 days before the sale ), not posting notice in local paper, when posted it was in a state paper not widely circulated in our area more than 10 days before the sale. We were not properly notified of the foreclosure. The attorney 's letter was received almost 1 month after XX/XX/XXXX.                                                                                                                                                                                                                                                                                                                                                                                                                                                                                                                                                                                                                                                                                                                                                                                                                                                                                                                                                                                                                                                                                                                                                                                                                                                                                                                                                                                                                                                                                                                                                                                                                                                                                                                                                                                                                                                                                                                                                                                                                                                                                                                                                                                                                                                                                                                                                                                                                                                     1\n",
       "On XX/XX/XXXX, I mailed a money order in the amount of {$120.00} to XXXX XXXX for payment of a medical bill showing on our credit report. Enclosed with the payment was a letter of explanation to XXXX XXXX. Also on XX/XX/XXXX, I mailed a money order in the amount of {$150.00} to XXXX XXXX for payment of a medical bill for my husband, XXXX XXXX showing on our credit report. Enclosed with the payment was a letter of explanation to XXXX XXXX. \\nOn Tuesday, XX/XX/XXXX, I called Revenue Collection to follow up on the XXXX payments since I had not received anything in writing as requested in both letters of XX/XX/XXXX. I spoke with XXXX XXXX who informed me that XXXX XXXX handles only municipal collections and does not deal with unpaid medical bills for collection. XXXX XXXX stated that the XXXX payments in question had been posted to fines imposed by the City of XXXX for non-filing of business tax return in XX/XX/XXXX. I requested documentation to prove that the medical bill payments sent to XXXX XXXX where applied to the City of XXXX. XXXX XXXX offered to write a letter stating the payments were posted to fines imposed by the City of XXXX for non-filing of business tax return in XX/XX/XXXX. I declined this offer as proof. I requested that XXXX XXXX send me an internal record that showed this transaction had occurred with the City of XXXX. XXXX XXXX stated that she would have to call me back the next day. \\nI did not hear from XXXX XXXX on Wednesday, XXXX XXXX. Therefore, I sent XXXX XXXX an email requesting that the combined amount of {$270.00} be returned to us since they did not provide proof of payment to the City of XXXX. On Thursday, XXXX XXXX, I received an email from XXXX XXXX XXXX, VP of Operations for XXXX XXXX XXXX ( see copy of email ). XXXX XXXX states that the payments made to XXXX XXXX was my error. XXXX XXXX is the bureau listed on the report for the unpaid medical bills. \\nOn XXXX XXXX, I visited the office for City of XXXX business tax issues. A representative examined my file and found that no payments had been made by XXXX XXXX. \\nAccording to Fair Debt Collection Practice Act 809. Validation of debts, ( a ) Within five days after the initial communication with a consumer in connection with the collection of any debt, a debt collector shall, unless the following information is contained in the initial communication or the consumer has paid the debt, send the consumer a written notice containing ( 1 ) the amount of the debt ; ( 2 ) the name of the creditor to whom the debt is owed ; ( 3 ) a statement that unless the consumer, within thirty days after receipt of the notice, disputes the validity of the debt, or any portion thereof, the debt will be assumed to be valid by the debt collector. \\nThe law does not specify which party needs to initiate communication. It is my position that initial communication with XXXX XXXX occurred about XX/XX/XXXX when the payments for unpaid medical bills were sent with letters of explanation. It is my position that XXXX XXXX should have sent written notice that the accounts referenced in the letters of XXXX XXXX were not in their possession. By law, this should have occurred within five days of the receipt of payment for the medical bills. It is my position that XXXX XXXX should have notified me in writing within 5 days of the receipt of payments for medical bills that they intended to pay the City of XXXX with the money orders clearly sent for a different purpose.                                                                                                                                                                                                                                                                                                                                                                                                                                                              1\n",
       "Do to health issues, loss of employment and a divorce I fell behind which sent me in to the foreclosure process. This started in XXXX, I made every attempt to get a loan modification. I was assigned a Single Point if contact, XXXX throughout the 3 yr process. I 've never spoken to XXXX them. I 've spend over 40 hrs on hold, being transferred to n fro from Dept to Dept. I ended up having to file bankruptcy to get them to work with me. This entire bankruptcy cost me more than my arrears. I finally got my loan modification in XXXX of XXXX. Thank you. But because I was still in the bankruptcy process I was n't allowed to make payments online. To make a payment by phone I 'm charged an extra {$15.00} per month. I 've been told for 3 months now I can pay online but when I try, I receive a msg telling me I have to call. Then I 'm charged extra, on hold and bounced to a minimum if XXXX depts and told I should pay online to avoid the {$15.00} charge. I 'd love to. I 'm very grateful to have gotten the loan modification and am doing great financially but feel I 'm still be prohibited from paying in a normal manner, and charged a bogus fee. This month I started trying to pay on the XXXX and was unable to get payment thru til the XXXX due to being bounced and on hold. I have to work, when I 'm available to hold for extended periods the phone lines are closed. Sometimes people really are trying. But the loop and hoop sytem puts them further behind.                                                                                                                                                                                                                                                                                                                                                                                                                                                                                                                                                                                                                                                                                                                                                                                                                                                                                                                                                                                                                                                                                                                                                                                                                                                                                                                                                                                                                                                                                                                                                                                                                                                                                                                                                                                                                                                                                                                                                                                                                                                                                                                                                                                                                                                                                                                                                                                                                                                                                                                                                            1\n",
       "Esser, James & Associates called my fathers phone and stated that they were trying to get a hold of me. They stated that their client is giving me one last chance to speak to them before the start the litigation process. They left message also stating that if he is in contact with me to please have me call them at XXXX. I am not associated with my father except by address from XXXX years ago. It startled my father in thinking I was in trouble because of the agents tone by stating \" last chance ''.                                                                                                                                                                                                                                                                                                                                                                                                                                                                                                                                                                                                                                                                                                                                                                                                                                                                                                                                                                                                                                                                                                                                                                                                                                                                                                                                                                                                                                                                                                                                                                                                                                                                                                                                                                                                                                                                                                                                                                                                                                                                                                                                                                                                                                                                                                                                                                                                                                                                                                                                                                                                                                                                                                                                                                                                                                                                                                                                                                                                                                                                                                                                                                                                                                                                                                                                                                                                                                                                                                                                                         1\n",
       "I can not get these people to stop taking this money out for some insurance that would pay off the money on this card- The card companies wo n't block it and the insurance company wo n't stop taking it! I have called a number of times over the last 5 years to both and I just get the run around! Can you help me? \\nCapital One XX/XX/XXXX XXXX XXXX XXXX XXXX Household Bank XX/XX/XXXX XX/XX/XXXX NUF IPP XXXX XXXX                                                                                                                                                                                                                                                                                                                                                                                                                                                                                                                                                                                                                                                                                                                                                                                                                                                                                                                                                                                                                                                                                                                                                                                                                                                                                                                                                                                                                                                                                                                                                                                                                                                                                                                                                                                                                                                                                                                                                                                                                                                                                                                                                                                                                                                                                                                                                                                                                                                                                                                                                                                                                                                                                                                                                                                                                                                                                                                                                                                                                                                                                                                                                                                                                                                                                                                                                                                                                                                                                                                                                                                                                                                   1\n",
       "XXXX I use discover card to get XXXX tickets they cancel they won't put credit back on card please help me thank you XXXX Arkansas XXXX that's my address call me                                                                                                                                                                                                                                                                                                                                                                                                                                                                                                                                                                                                                                                                                                                                                                                                                                                                                                                                                                                                                                                                                                                                                                                                                                                                                                                                                                                                                                                                                                                                                                                                                                                                                                                                                                                                                                                                                                                                                                                                                                                                                                                                                                                                                                                                                                                                                                                                                                                                                                                                                                                                                                                                                                                                                                                                                                                                                                                                                                                                                                                                                                                                                                                                                                                                                                                                                                                                                                                                                                                                                                                                                                                                                                                                                                                                                                                                                                              1\n",
       "In XXXX XXXX, I financed a car with a XXXX year, XXXX payment loan from XXXX. In XXXX, Santander Consumer USA ( \" SCUSA '' ) acquired part of XXXX 's auto loan portfolio and began servicing my loan. On XXXX XXXX, XXXX, SCUSA sent me a Welcome email that attempted to unilaterally change the contract ( attached ). I had just been released from the hospital after surgery for a XXXX XXXX, I was n't in an ideal state of mind to discuss new terms. \\n\\nI have made all XXXX payments required under the contract ( attached ) and have full documentation of this, via XXXX my bank and SCUSA statements. Additionally, SCUSA has confirmed my timely payments to the credit bureaus ( see attached ). \\n\\nIn early XXXX I prepared to make my final payment ( per my maturity date in XXXX XXXX ) ; the SCUSA website indicated a payoff amount of almost {$10000.00}. Shocked, I contacted SCUSA asking for an explanation. Customer service was evasive and refused to provide any useful information, instead forwarding a copy of their Privacy Policy & Opt-Out form ( attached ) for me to sign. Last month I sent a certified letter to SCUSA 's CEO requesting detailed account information clearly indicating payments made, fees assessed and the basis for these under my original contract with XXXX. I have yet to receive a reply. \\n\\nA simple review of the numbers reveals the problems with SCUSA 's position. My contract provides for about a {$28.00} fee if my payment is late, so even if my payment were late every time, ( which it was not, as evidenced by SCUSA 's own reporting to XXXX ), the fees over XXXX months would sum only to about {$2000.00}. That 's far less than the amount SCUSA alleges I owe. \\n\\nThe SCUSA payment history ( example attached ) provided to customers is limited and confusing. The catchall notation \" Misc. Fees '' makes it very easy for SCUSA to impose unwarranted fees and to seek money that it is not legally owed. The only identifiable fee in the payment history is the so-called {$10.00} \" convenience fee '' I have been charged monthly for online processing to ensure ACH payments are timely applied, thus avoiding interest accrual. In other words, SCUSA charges {$11.00} for cashing my check. \\n\\nSCUSA is notorious for billing irregularities. An internet search reveals thousands of complaints that XXXX have had with this bank for similar issues, and multiple lawsuits alleging inappropriate billing practices. For example, in the Powers case against SCUSA ( XXXX XXXX Santander Consumer USA XXXX Inc., Docket # XXXX, D. XXXX. ) the judge noted that SCUSA 's own Senior Vice President \" could not determine what particular payment was applied to what month '' and on the subject of late fees, he \" could not determine whether an entry titled 'Late charge assessment ' reflected a late charge or did not reflect a late charge. '' The court said that it could n't figure out the fees either. How can SCUSA 's customers be expected to understand this if the bank 's own executives ca n't? Can companies legally demand payment for money they are n't owed? \\n\\nIn the XXXX case, SCUSA voluntarily agreed to provide the consumer with a schedule itemizing the application of her payments and the effects of each payment on the status of the account. SCUSA also provided details about all invoices and how fees were assessed. If SCUSA can do it for some customers, why not for everyone? \\n\\nI have asked SCUSA for my automobile title and to confirm that the loan is paid in full, or a clear explanation for the inflated payoff amount. I fear they will provide neither and simply continue to send invoices for money I do not owe. \\n\\nI do not understand how a XXXX bank can send invoices to customers and refuse to provide any reasonable explanation as to the basis for the charges. I believe I am legally entitled at this time to a copy of my contract noted \" paid in full, '' and the title for my car.      1\n",
       "Green Tree ( for Georgia ) I paid my {$1300.00} mortgage payment on XX/XX/XXXX, due XX/XX/XXXX, the same amount I always pay. However, escrow caused the amount to change. Therefore, I owe {$34.00} in addition to what I paid on XX/XX/XXXX. XXXX, XXXX called me today, XX/XX/XXXX, at XXXX XXXX., threatened me, said if I did n't pay {$34.00} by the close of business today I would be charged {$54.00} late fee. And it would go on my credit. Why did n't he call sooner? Because he will take my money over the phone for a {$12.00} transaction fee. **So I must immediately pay {$34.00} plus {$12.00} payment fee, or be charged {$54.00} late fee. ** I did n't pay it. He harassed me about next month 's payment, when would I pay that, and it 's not due until XX/XX/XXXX. I make payments usually before the due date each month. \\nOnly one number for Green Tree : XXXX -- XXXX, XXXX is rude and wo n't help me, said I would be charged the late fee if the full amount of my mortgage payment was not received today, XX/XX/XXXX. I tried to get a payoff amount, and ca n't get that. I contacted the only other number I could find ( refinancing ) and they would n't even help me with a payoff amount! They hide like mice behind one phone number with very few options. Also my social security number is never recognized by this loan.                                                                                                                                                                                                                                                                                                                                                                                                                                                                                                                                                                                                                                                                                                                                                                                                                                                                                                                                                                                                                                                                                                                                                                                                                                                                                                                                                                                                                                                                                                                                                                                                                                                                                                                                                                                                                                                                                                                                                                                                                                                                                                                                                                                                                                                                                                                                                                                                                                                                                                                                                                                                                                                                                                        1\n",
       "Our servicer, Select Portfolio Servicing in Utah, has requested require documents in order to negotiate a loan modification with the borrower. The borrower had received a completion notice from XXXX in XX/XX/XXXX, saying within one month, the examination will be notified to the borrower. The notification to this effect has never been received thus far, whereas Required Information Notice has been numerously received by the borrower. SPS has been repeatedly extending the expiration date for submission of Required Information, and the latest notification said the date has been set for XX/XX/XXXX. However, the borrower has recently been receiving numerous solicitation letters from attorneys at law and other private companies that are offering legal assistance regarding violation of \" Dual Tracking '' and \" Single Point of Contact '' because they insisted public notice has it that non-judicial trust sale date has been set for XX/XX/XXXX. The borrower has not received the Notice of Sale from Select portfolio servicing yet XXXX has listed the property to be auctioned off on XX/XX/XXXX. XXXX XXXX, Consumer Ombudsman Specialist at SPS wrote to the borrower with its carbon copy of XX/XX/XXXX addressed to CALIFORNIA ATTORNEY GENERAL 'S OFFICE, saying \" Please keep in mind that each time documents are received an Acknowledgement Letter will be sent out. Once the processor has reviewed the documents another letter will be mailed out advising of documents that are needed or advising that we have a complete packet. '' See the last paragraph of the XXXX page of the said letter by XXXX XXXX as per attached hereto. Since XX/XX/XXXX, the borrower has submitted information numerously all along, but the said Acknowledgement Letter has never been received. The borrower has received Required Information Notices with pre-printed boilerplate letters containing all-encompassing documents. The borrower has never been able to speak to the so-called XXXX relationship managers, XXXX XXXX, and XXXX XXXX, as a single point of contact, but more than a XXXX different people from SPS called the borrower, asking redundantly for already-submitted documents and information. The borrower finally gave up on talking to them on the phone and SPS notified the borrower stating they will terminate any verbal communication with borrower yet SPS calls numerous times without leaving voice mail.                                                                                                                                                                                                                                                                                                                                                                                                                                                                                                                                                                                                                                                                                                                                                                                                                                                                                                                                                                                                                                                                                                                                                                                                                                                                                                                                                                                                                                                                                                                                                                                         1\n",
       "I am still waiting for the documents I requested. \\n\\nSee attachment.                                                                                                                                                                                                                                                                                                                                                                                                                                                                                                                                                                                                                                                                                                                                                                                                                                                                                                                                                                                                                                                                                                                                                                                                                                                                                                                                                                                                                                                                                                                                                                                                                                                                                                                                                                                                                                                                                                                                                                                                                                                                                                                                                                                                                                                                                                                                                                                                                                                                                                                                                                                                                                                                                                                                                                                                                                                                                                                                                                                                                                                                                                                                                                                                                                                                                                                                                                                                                                                                                                                                                                                                                                                                                                                                                                                                                                                                                                                                                                                                          1\n",
       "BARCLAYS BANK XXXX, DE XXXX ( XXXX ) XXXXXXXXwas not authorized to pull my credit. I would like this deleted from my hard credit. It is helping to pull my score down. Thank you.                                                                                                                                                                                                                                                                                                                                                                                                                                                                                                                                                                                                                                                                                                                                                                                                                                                                                                                                                                                                                                                                                                                                                                                                                                                                                                                                                                                                                                                                                                                                                                                                                                                                                                                                                                                                                                                                                                                                                                                                                                                                                                                                                                                                                                                                                                                                                                                                                                                                                                                                                                                                                                                                                                                                                                                                                                                                                                                                                                                                                                                                                                                                                                                                                                                                                                                                                                                                                                                                                                                                                                                                                                                                                                                                                                                                                                                                                              1\n",
       "I have submitted numerous requests for verification of my accounts with XXXX XXXX XXXX, and Experian, and have yet to receive a response. They are in direct violation of the FCRA and I would like this taken care of immediately.                                                                                                                                                                                                                                                                                                                                                                                                                                                                                                                                                                                                                                                                                                                                                                                                                                                                                                                                                                                                                                                                                                                                                                                                                                                                                                                                                                                                                                                                                                                                                                                                                                                                                                                                                                                                                                                                                                                                                                                                                                                                                                                                                                                                                                                                                                                                                                                                                                                                                                                                                                                                                                                                                                                                                                                                                                                                                                                                                                                                                                                                                                                                                                                                                                                                                                                                                                                                                                                                                                                                                                                                                                                                                                                                                                                                                                            1\n",
       "Pursuant to the Fair Debt Collection Practices Act, I sent this company a request to validate a frivilous account they had reported on my account. The company responded refusing to provide any proof and persevered with reporting this frivolous account on my credit report.                                                                                                                                                                                                                                                                                                                                                                                                                                                                                                                                                                                                                                                                                                                                                                                                                                                                                                                                                                                                                                                                                                                                                                                                                                                                                                                                                                                                                                                                                                                                                                                                                                                                                                                                                                                                                                                                                                                                                                                                                                                                                                                                                                                                                                                                                                                                                                                                                                                                                                                                                                                                                                                                                                                                                                                                                                                                                                                                                                                                                                                                                                                                                                                                                                                                                                                                                                                                                                                                                                                                                                                                                                                                                                                                                                                               1\n",
       "On Saturday, XXXX XXXX, 2015, I made an electronic deposit of my paycheck to PNC Bank on XXXX XXXX XXXX, in XXXX XXXX Maryland at around XXXX. I had been told by this bank that if I made a deposit on a weekend, no matter how late it was using the automated teller service, the deposited check/checks would be available by Monday morning and would cover my account. As of XXXX XXXX, 2015, I had approximately, {$240.00} left on my account. I made the deposit of {$730.00} on XXXX XXXX, 2015 which made my total account balance for Monday, {$940.00}. \\n\\nBy Tuesday, XXXX XXXX, 2015, I received a notice in my e-mail that I was overdrawn in my account. PNC, deliberately held back the funds until other debit transactions where charged to my account because according to my statement, all the transactions including my deposit were all done on the same day, XXXX XXXX. My check for {$730.00}, had been deposited way before then. Plus, I was charged a double overdraft charge. This is not fair to consumers who have to pay their bills and are trying to do the best they can to manage them. \\n\\nI called PNC bank and I spoke with a Consumer Service Consultant, XXXX XXXX XXXX, who was rude, and kept trying to talk over me when I was trying to explain the issue that I needed help with. I kept asking to her to please let me speak with a Supervisor but she refused to let me and told me that their was nothing that a Supervisor could do to help me. She also refused to refund the overdraft fees and would not listen to any reason. \\n\\nI had explained to XXXX XXXX that I recently had had surgery and was unable to drive. My paycheck did not arrive until Saturday and I had to wait until someone to come and drive me to the bank in order to make the deposit. I had also explained to her that teller at the XXXX XXXX branch had told me that if I make a deposit using the automated system on a weekend, that my deposit would be recognized in my account the very next day, .. and that is the truth! \\n\\nI also have a screen capture of my account transaction from XXXX XXXX, 2015 to XXXX XXXX, 2015 for proof of this issue which I would like to get resolved. \\n\\nThank you for your patience.                                                                                                                                                                                                                                                                                                                                                                                                                                                                                                                                                                                                                                                                                                                                                                                                                                                                                                                                                                                                                                                                                                                                                                                                                                                                                                                                                                                                                                                                                                                                                                                                                                                                                                                                                                                                         1\n",
       "I try and opening a account with wells fargo i want to know why it wont let me and they told me to contact the consumer finance for more info                                                                                                                                                                                                                                                                                                                                                                                                                                                                                                                                                                                                                                                                                                                                                                                                                                                                                                                                                                                                                                                                                                                                                                                                                                                                                                                                                                                                                                                                                                                                                                                                                                                                                                                                                                                                                                                                                                                                                                                                                                                                                                                                                                                                                                                                                                                                                                                                                                                                                                                                                                                                                                                                                                                                                                                                                                                                                                                                                                                                                                                                                                                                                                                                                                                                                                                                                                                                                                                                                                                                                                                                                                                                                                                                                                                                                                                                                                                                  1\n",
       "I have been trying to do a short sale for almost a year. The bank seems to think that I can afford the mortgage and they keep forcing me into a modification. I am desperate as I can not afford the mortgage, the bank is being unreasonable and I have had several offers on the property for the current market value, but the bank is trying their hardest to set me and my family up for failure. they are not doing what the government says the lender should to provide alternatives to me as a homeowner. Now they are talking about foreclosing if I do not sign off on a modification. I thought that the bank was supposed to assist me with foreclosure alternatives? If so, they are failing miserably.                                                                                                                                                                                                                                                                                                                                                                                                                                                                                                                                                                                                                                                                                                                                                                                                                                                                                                                                                                                                                                                                                                                                                                                                                                                                                                                                                                                                                                                                                                                                                                                                                                                                                                                                                                                                                                                                                                                                                                                                                                                                                                                                                                                                                                                                                                                                                                                                                                                                                                                                                                                                                                                                                                                                                                                                                                                                                                                                                                                                                                                                                                                                                                                                                                                                                                                                                          1\n",
       "Hello, Well, I 've been hoping HARP3 will pass, but that wo n't happen. We 've called Wells Fargo & XXXX ( owns our mortgage loan ) and we keep getting the run around. Wells Fargo says to call XXXX, XXXX says they ca n't help us. Our loan is n't with XXXX or XXXX, my husband and I have great credit and we 've paid on time - our house is worth less than what we paid for in 2005. \\nAfter all this time, we still ca n't refinance!                                                                                                                                                                                                                                                                                                                                                                                                                                                                                                                                                                                                                                                                                                                                                                                                                                                                                                                                                                                                                                                                                                                                                                                                                                                                                                                                                                                                                                                                                                                                                                                                                                                                                                                                                                                                                                                                                                                                                                                                                                                                                                                                                                                                                                                                                                                                                                                                                                                                                                                                                                                                                                                                                                                                                                                                                                                                                                                                                                                                                                                                                                                                                                                                                                                                                                                                                                                                                                                                                                                                                                                                                                 1\n",
       "I had requested my credit report from Trans Union after a mortgage company claimed that all XXXX of my reports were very negative. Since I had a score in the XXXX just a month ago, I knew there was a problem and wanted to find out what was going on. I had to pay {$1.00} to Trans Unionand I saw the report and my FICO score online ( which was in the XXXX ). The next day, I received an e-mail from then stating that the {$1.00} enroled me into a credit monitoring service and if I did n't opt out in XXXX days they would deduct {$17.00} from my checking every month! I had reported a similar problem with XXXX, and they let me opt out. However, with Trans Union, there is no way to contact them to stop the payment.                                                                                                                                                                                                                                                                                                                                                                                                                                                                                                                                                                                                                                                                                                                                                                                                                                                                                                                                                                                                                                                                                                                                                                                                                                                                                                                                                                                                                                                                                                                                                                                                                                                                                                                                                                                                                                                                                                                                                                                                                                                                                                                                                                                                                                                                                                                                                                                                                                                                                                                                                                                                                                                                                                                                                                                                                                                                                                                                                                                                                                                                                                                                                                                                                                                                                                                                    1\n",
       "I was lay off from my job on XX/XX/2014 making it impossible to pay back a XXXX pay day loan with Checksmart and a $XXXX loan XXXX. I have tried to make arrangements to pay back through an installment plan. Instead I am getting threatening phone calls about being summoned because of fraudulent transactions compromising my social security. I have checked the number that calls and I have read some comments about being a collection agency. The number is XXXX Pleas help me stopping the illegal practice by the collection agency.                                                                                                                                                                                                                                                                                                                                                                                                                                                                                                                                                                                                                                                                                                                                                                                                                                                                                                                                                                                                                                                                                                                                                                                                                                                                                                                                                                                                                                                                                                                                                                                                                                                                                                                                                                                                                                                                                                                                                                                                                                                                                                                                                                                                                                                                                                                                                                                                                                                                                                                                                                                                                                                                                                                                                                                                                                                                                                                                                                                                                                                                                                                                                                                                                                                                                                                                                                                                                                                                                                                              1\n",
       "Name: Consumer complaint narrative, dtype: int64"
      ]
     },
     "execution_count": 183,
     "metadata": {},
     "output_type": "execute_result"
    }
   ],
   "source": [
    "df['Consumer complaint narrative'].value_counts().T"
   ]
  },
  {
   "cell_type": "code",
   "execution_count": 184,
   "metadata": {
    "collapsed": false
   },
   "outputs": [],
   "source": [
    "#df=df.sample(frac=0.1,replace=True)"
   ]
  },
  {
   "cell_type": "code",
   "execution_count": 185,
   "metadata": {
    "collapsed": false
   },
   "outputs": [
    {
     "data": {
      "text/plain": [
       "(537992, 18)"
      ]
     },
     "execution_count": 185,
     "metadata": {},
     "output_type": "execute_result"
    }
   ],
   "source": [
    "df.shape"
   ]
  },
  {
   "cell_type": "code",
   "execution_count": 186,
   "metadata": {
    "collapsed": false
   },
   "outputs": [
    {
     "data": {
      "text/plain": [
       "(3559,)"
      ]
     },
     "execution_count": 186,
     "metadata": {},
     "output_type": "execute_result"
    }
   ],
   "source": [
    "df['Company'].value_counts(dropna=False).shape"
   ]
  },
  {
   "cell_type": "code",
   "execution_count": 187,
   "metadata": {
    "collapsed": false
   },
   "outputs": [
    {
     "data": {
      "text/plain": [
       "Mortgage                   182212\n",
       "Debt collection             97237\n",
       "Credit reporting            87166\n",
       "Credit card                 64639\n",
       "Bank account or service     60977\n",
       "Consumer Loan               20100\n",
       "Student loan                15392\n",
       "Payday loan                  3751\n",
       "Money transfers              3669\n",
       "Prepaid card                 2345\n",
       "Other financial service       504\n",
       "Name: Product, dtype: int64"
      ]
     },
     "execution_count": 187,
     "metadata": {},
     "output_type": "execute_result"
    }
   ],
   "source": [
    "df['Product'].value_counts(dropna=False)"
   ]
  },
  {
   "cell_type": "code",
   "execution_count": 188,
   "metadata": {
    "collapsed": false
   },
   "outputs": [
    {
     "data": {
      "text/plain": [
       "(68,)"
      ]
     },
     "execution_count": 188,
     "metadata": {},
     "output_type": "execute_result"
    }
   ],
   "source": [
    "df['Sub-issue'].value_counts().shape"
   ]
  },
  {
   "cell_type": "code",
   "execution_count": 189,
   "metadata": {
    "collapsed": false,
    "scrolled": true
   },
   "outputs": [
    {
     "data": {
      "text/plain": [
       "Loan modification,collection,foreclosure    95392\n",
       "Incorrect information on credit report      63350\n",
       "Loan servicing, payments, escrow account    58655\n",
       "Cont'd attempts collect debt not owed       40685\n",
       "Account opening, closing, or management     25940\n",
       "Communication tactics                       17700\n",
       "Disclosure verification of debt             17431\n",
       "Deposits and withdrawals                    16770\n",
       "Application, originator, mortgage broker    12969\n",
       "Billing disputes                            10715\n",
       "Other                                       10481\n",
       "Credit reporting company's investigation     9943\n",
       "Managing the loan or lease                   9501\n",
       "Problems caused by my funds being low        8836\n",
       "False statements or representation           7972\n",
       "Unable to get credit report/credit score     7774\n",
       "Improper contact or sharing of info          7139\n",
       "Settlement process and costs                 6719\n",
       "Problems when you are unable to pay          6658\n",
       "Taking/threatening an illegal action         6310\n",
       "Identity theft / Fraud / Embezzlement        5703\n",
       "Dealing with my lender or servicer           5594\n",
       "Making/receiving payments, sending money     5211\n",
       "Closing/Cancelling account                   4639\n",
       "APR or interest rate                         4534\n",
       "Credit decision / Underwriting               4300\n",
       "Using a debit or ATM card                    4212\n",
       "Repaying your loan                           3845\n",
       "Can't repay my loan                          3771\n",
       "Improper use of my credit report             3253\n",
       "                                            ...  \n",
       "Other service issues                          337\n",
       "Can't stop charges to bank account            335\n",
       "Payment to acct not credited                  284\n",
       "Applied for loan/did not receive money        278\n",
       "Arbitration                                   247\n",
       "Sale of account                               239\n",
       "Shopping for a line of credit                 230\n",
       "Wrong amount charged or received              197\n",
       "Cash advance                                  187\n",
       "Charged bank acct wrong day or amt            187\n",
       "Overlimit fee                                 175\n",
       "Balance transfer fee                          166\n",
       "Cash advance fee                              156\n",
       "Adding money                                  148\n",
       "Customer service/Customer relations           146\n",
       "Incorrect/missing disclosures or info         144\n",
       "Fees                                          132\n",
       "Convenience checks                            113\n",
       "Excessive fees                                 56\n",
       "Unexpected/Other fees                          54\n",
       "Lender repossessed or sold the vehicle         47\n",
       "Advertising, marketing or disclosures          40\n",
       "Overdraft, savings or rewards features         30\n",
       "Disclosures                                    27\n",
       "Lost or stolen check                           26\n",
       "Lost or stolen money order                     20\n",
       "Incorrect exchange rate                        13\n",
       "Lender sold the property                        5\n",
       "Lender damaged or destroyed vehicle             5\n",
       "Lender damaged or destroyed property            1\n",
       "Name: Issue, dtype: int64"
      ]
     },
     "execution_count": 189,
     "metadata": {},
     "output_type": "execute_result"
    }
   ],
   "source": [
    "df['Issue'].value_counts()"
   ]
  },
  {
   "cell_type": "code",
   "execution_count": 190,
   "metadata": {
    "collapsed": false
   },
   "outputs": [
    {
     "data": {
      "text/plain": [
       "NaN                                                                                                                        462070\n",
       "Company chooses not to provide a public response                                                                            52483\n",
       "Company believes it acted appropriately as authorized by contract or law                                                    13855\n",
       "Company has responded to the consumer and the CFPB and chooses not to provide a public response                              3283\n",
       "Company believes complaint caused principally by actions of third party outside the control or direction of the company      1412\n",
       "Company disputes the facts presented in the complaint                                                                        1288\n",
       "Company believes the complaint is the result of a misunderstanding                                                           1247\n",
       "Company can't verify or dispute the facts in the complaint                                                                    987\n",
       "Company believes complaint is the result of an isolated error                                                                 888\n",
       "Company believes complaint represents an opportunity for improvement to better serve consumers                                454\n",
       "Company believes complaint relates to a discontinued policy or procedure                                                       25\n",
       "Name: Company public response, dtype: int64"
      ]
     },
     "execution_count": 190,
     "metadata": {},
     "output_type": "execute_result"
    }
   ],
   "source": [
    "df['Company public response'].value_counts(dropna=False)"
   ]
  },
  {
   "cell_type": "code",
   "execution_count": 191,
   "metadata": {
    "collapsed": false
   },
   "outputs": [
    {
     "data": {
      "text/plain": [
       "Closed with explanation            390227\n",
       "Closed with non-monetary relief     67985\n",
       "Closed with monetary relief         37186\n",
       "Closed without relief               17909\n",
       "Closed                              13069\n",
       "Closed with relief                   5305\n",
       "In progress                          3667\n",
       "Untimely response                    2644\n",
       "Name: Company response to consumer, dtype: int64"
      ]
     },
     "execution_count": 191,
     "metadata": {},
     "output_type": "execute_result"
    }
   ],
   "source": [
    "df['Company response to consumer'].value_counts(dropna=False)"
   ]
  },
  {
   "cell_type": "code",
   "execution_count": 192,
   "metadata": {
    "collapsed": false
   },
   "outputs": [
    {
     "data": {
      "text/plain": [
       "NaN                              462725\n",
       "Older American                    43743\n",
       "Servicemember                     25396\n",
       "Older American, Servicemember      6128\n",
       "Name: Tags, dtype: int64"
      ]
     },
     "execution_count": 192,
     "metadata": {},
     "output_type": "execute_result"
    }
   ],
   "source": [
    "df['Tags'].value_counts(dropna=False)"
   ]
  },
  {
   "cell_type": "code",
   "execution_count": 193,
   "metadata": {
    "collapsed": false
   },
   "outputs": [
    {
     "data": {
      "text/plain": [
       "'12/31/2015'"
      ]
     },
     "execution_count": 193,
     "metadata": {},
     "output_type": "execute_result"
    }
   ],
   "source": [
    "df['Date received'].max()"
   ]
  },
  {
   "cell_type": "code",
   "execution_count": 194,
   "metadata": {
    "collapsed": false
   },
   "outputs": [
    {
     "data": {
      "text/plain": [
       "'01/01/2012'"
      ]
     },
     "execution_count": 194,
     "metadata": {},
     "output_type": "execute_result"
    }
   ],
   "source": [
    "df['Date received'].min()"
   ]
  },
  {
   "cell_type": "code",
   "execution_count": 195,
   "metadata": {
    "collapsed": false
   },
   "outputs": [
    {
     "data": {
      "text/plain": [
       "Web            348870\n",
       "Referral       106700\n",
       "Phone           38683\n",
       "Postal mail     35504\n",
       "Fax              7888\n",
       "Email             344\n",
       "NaN                 3\n",
       "Name: Submitted via, dtype: int64"
      ]
     },
     "execution_count": 195,
     "metadata": {},
     "output_type": "execute_result"
    }
   ],
   "source": [
    "df['Submitted via'].value_counts(dropna=False)"
   ]
  },
  {
   "cell_type": "code",
   "execution_count": 196,
   "metadata": {
    "collapsed": false
   },
   "outputs": [
    {
     "data": {
      "text/plain": [
       "Yes    524461\n",
       "No      13531\n",
       "Name: Timely response?, dtype: int64"
      ]
     },
     "execution_count": 196,
     "metadata": {},
     "output_type": "execute_result"
    }
   ],
   "source": [
    "df['Timely response?'].value_counts(dropna=False)"
   ]
  },
  {
   "cell_type": "code",
   "execution_count": 197,
   "metadata": {
    "collapsed": false
   },
   "outputs": [
    {
     "data": {
      "text/plain": [
       "No     429175\n",
       "Yes    108817\n",
       "Name: Consumer disputed?, dtype: int64"
      ]
     },
     "execution_count": 197,
     "metadata": {},
     "output_type": "execute_result"
    }
   ],
   "source": [
    "df['Consumer disputed?'].value_counts(dropna=False)"
   ]
  },
  {
   "cell_type": "code",
   "execution_count": 198,
   "metadata": {
    "collapsed": true
   },
   "outputs": [],
   "source": [
    "company_complaitns_counts = df['Company'].value_counts()\n",
    "df['company_complaint_counts'] = df['Company'].apply(lambda x: company_complaitns_counts[x])"
   ]
  },
  {
   "cell_type": "code",
   "execution_count": 199,
   "metadata": {
    "collapsed": false
   },
   "outputs": [],
   "source": [
    "company = pd.crosstab(df['Company'], df['Consumer disputed?'])"
   ]
  },
  {
   "cell_type": "code",
   "execution_count": 204,
   "metadata": {
    "collapsed": false
   },
   "outputs": [
    {
     "data": {
      "text/html": [
       "<div>\n",
       "<table border=\"1\" class=\"dataframe\">\n",
       "  <thead>\n",
       "    <tr style=\"text-align: right;\">\n",
       "      <th>Consumer disputed?</th>\n",
       "      <th>No</th>\n",
       "      <th>Yes</th>\n",
       "      <th>dispute_rate</th>\n",
       "    </tr>\n",
       "    <tr>\n",
       "      <th>Company</th>\n",
       "      <th></th>\n",
       "      <th></th>\n",
       "      <th></th>\n",
       "    </tr>\n",
       "  </thead>\n",
       "  <tbody>\n",
       "    <tr>\n",
       "      <th>(Former)Shapiro, Swertfeger &amp; Hasty, LLP</th>\n",
       "      <td>4</td>\n",
       "      <td>0</td>\n",
       "      <td>0.000000</td>\n",
       "    </tr>\n",
       "    <tr>\n",
       "      <th>1st 2nd Mortgage Company Of NJ, Inc.</th>\n",
       "      <td>1</td>\n",
       "      <td>0</td>\n",
       "      <td>0.000000</td>\n",
       "    </tr>\n",
       "    <tr>\n",
       "      <th>1st Alliance Lending</th>\n",
       "      <td>11</td>\n",
       "      <td>2</td>\n",
       "      <td>0.153846</td>\n",
       "    </tr>\n",
       "    <tr>\n",
       "      <th>1st Capital Mortgage, LLC</th>\n",
       "      <td>0</td>\n",
       "      <td>1</td>\n",
       "      <td>1.000000</td>\n",
       "    </tr>\n",
       "    <tr>\n",
       "      <th>1st Fidelity Loan Servicing</th>\n",
       "      <td>5</td>\n",
       "      <td>0</td>\n",
       "      <td>0.000000</td>\n",
       "    </tr>\n",
       "  </tbody>\n",
       "</table>\n",
       "</div>"
      ],
      "text/plain": [
       "Consumer disputed?                        No  Yes  dispute_rate\n",
       "Company                                                        \n",
       "(Former)Shapiro, Swertfeger & Hasty, LLP   4    0      0.000000\n",
       "1st 2nd Mortgage Company Of NJ, Inc.       1    0      0.000000\n",
       "1st Alliance Lending                      11    2      0.153846\n",
       "1st Capital Mortgage, LLC                  0    1      1.000000\n",
       "1st Fidelity Loan Servicing                5    0      0.000000"
      ]
     },
     "execution_count": 204,
     "metadata": {},
     "output_type": "execute_result"
    }
   ],
   "source": [
    "company.head()"
   ]
  },
  {
   "cell_type": "code",
   "execution_count": 205,
   "metadata": {
    "collapsed": false
   },
   "outputs": [],
   "source": [
    "company['dispute_rate'] = company.Yes / (company.Yes + company.No)"
   ]
  },
  {
   "cell_type": "code",
   "execution_count": 206,
   "metadata": {
    "collapsed": false,
    "scrolled": false
   },
   "outputs": [],
   "source": [
    "company['company'] = company.index"
   ]
  },
  {
   "cell_type": "code",
   "execution_count": 207,
   "metadata": {
    "collapsed": true
   },
   "outputs": [],
   "source": [
    "company['complaint_counts'] = company['company'].apply(lambda x: company_complaitns_counts[x])"
   ]
  },
  {
   "cell_type": "code",
   "execution_count": 208,
   "metadata": {
    "collapsed": false
   },
   "outputs": [],
   "source": [
    "company = company.sort_values('complaint_counts', ascending=False)"
   ]
  },
  {
   "cell_type": "code",
   "execution_count": 224,
   "metadata": {
    "collapsed": false,
    "scrolled": true
   },
   "outputs": [
    {
     "data": {
      "image/png": "[encoded data removed]",
      "text/plain": [
       "<matplotlib.figure.Figure at 0x7fa3609eabd0>"
      ]
     },
     "metadata": {},
     "output_type": "display_data"
    }
   ],
   "source": [
    "fig = plt.figure(figsize=(16,6))\n",
    "plt.plot(company['complaint_counts'],company['dispute_rate'],marker='o')\n",
    "plt.xlim([0.0, 56000])\n",
    "plt.ylim([0.0, 0.8])\n",
    "plt.xlabel('company complaint counts')\n",
    "plt.ylabel('complaint dispute rate')\n",
    "plt.title('')\n",
    "font = {'family' : 'normal',\n",
    "        'weight' : 'bold',\n",
    "        'size'   : 22}\n",
    "plt.rcParams.update({'font.size': 16})\n",
    "\n",
    "plt.show()\n",
    "fig.savefig('disputerate_complaintcount.png')"
   ]
  },
  {
   "cell_type": "code",
   "execution_count": 213,
   "metadata": {
    "collapsed": false
   },
   "outputs": [
    {
     "data": {
      "text/html": [
       "<div>\n",
       "<table border=\"1\" class=\"dataframe\">\n",
       "  <thead>\n",
       "    <tr style=\"text-align: right;\">\n",
       "      <th></th>\n",
       "      <th>Date received</th>\n",
       "      <th>Product</th>\n",
       "      <th>Sub-product</th>\n",
       "      <th>Issue</th>\n",
       "      <th>Sub-issue</th>\n",
       "      <th>Consumer complaint narrative</th>\n",
       "      <th>Company public response</th>\n",
       "      <th>Company</th>\n",
       "      <th>State</th>\n",
       "      <th>ZIP code</th>\n",
       "      <th>Tags</th>\n",
       "      <th>Consumer consent provided?</th>\n",
       "      <th>Submitted via</th>\n",
       "      <th>Date sent to company</th>\n",
       "      <th>Company response to consumer</th>\n",
       "      <th>Timely response?</th>\n",
       "      <th>Consumer disputed?</th>\n",
       "      <th>Complaint ID</th>\n",
       "      <th>company_complaint_counts</th>\n",
       "    </tr>\n",
       "  </thead>\n",
       "  <tbody>\n",
       "    <tr>\n",
       "      <th>0</th>\n",
       "      <td>03/21/2016</td>\n",
       "      <td>Debt collection</td>\n",
       "      <td>Other (i.e. phone, health club, etc.)</td>\n",
       "      <td>Cont'd attempts collect debt not owed</td>\n",
       "      <td>Debt was paid</td>\n",
       "      <td>NaN</td>\n",
       "      <td>Company believes it acted appropriately as aut...</td>\n",
       "      <td>Eastern Account Systems of Connecticut, Inc.</td>\n",
       "      <td>CA</td>\n",
       "      <td>900XX</td>\n",
       "      <td>NaN</td>\n",
       "      <td>NaN</td>\n",
       "      <td>Web</td>\n",
       "      <td>03/21/2016</td>\n",
       "      <td>Closed with explanation</td>\n",
       "      <td>Yes</td>\n",
       "      <td>No</td>\n",
       "      <td>1841695</td>\n",
       "      <td>101</td>\n",
       "    </tr>\n",
       "    <tr>\n",
       "      <th>1</th>\n",
       "      <td>03/21/2016</td>\n",
       "      <td>Consumer Loan</td>\n",
       "      <td>Personal line of credit</td>\n",
       "      <td>Problems when you are unable to pay</td>\n",
       "      <td>NaN</td>\n",
       "      <td>NaN</td>\n",
       "      <td>NaN</td>\n",
       "      <td>OneMain Financial Holdings, LLC</td>\n",
       "      <td>AL</td>\n",
       "      <td>35094</td>\n",
       "      <td>NaN</td>\n",
       "      <td>NaN</td>\n",
       "      <td>Phone</td>\n",
       "      <td>03/21/2016</td>\n",
       "      <td>In progress</td>\n",
       "      <td>Yes</td>\n",
       "      <td>No</td>\n",
       "      <td>1842862</td>\n",
       "      <td>719</td>\n",
       "    </tr>\n",
       "    <tr>\n",
       "      <th>2</th>\n",
       "      <td>03/21/2016</td>\n",
       "      <td>Debt collection</td>\n",
       "      <td>Other (i.e. phone, health club, etc.)</td>\n",
       "      <td>Cont'd attempts collect debt not owed</td>\n",
       "      <td>Debt is not mine</td>\n",
       "      <td>NaN</td>\n",
       "      <td>NaN</td>\n",
       "      <td>Transworld Systems Inc.</td>\n",
       "      <td>CT</td>\n",
       "      <td>06516</td>\n",
       "      <td>NaN</td>\n",
       "      <td>NaN</td>\n",
       "      <td>Web</td>\n",
       "      <td>03/21/2016</td>\n",
       "      <td>In progress</td>\n",
       "      <td>Yes</td>\n",
       "      <td>No</td>\n",
       "      <td>1841754</td>\n",
       "      <td>1371</td>\n",
       "    </tr>\n",
       "    <tr>\n",
       "      <th>3</th>\n",
       "      <td>03/21/2016</td>\n",
       "      <td>Consumer Loan</td>\n",
       "      <td>Vehicle loan</td>\n",
       "      <td>Taking out the loan or lease</td>\n",
       "      <td>NaN</td>\n",
       "      <td>NaN</td>\n",
       "      <td>NaN</td>\n",
       "      <td>Navy FCU</td>\n",
       "      <td>VA</td>\n",
       "      <td>235XX</td>\n",
       "      <td>Servicemember</td>\n",
       "      <td>NaN</td>\n",
       "      <td>Web</td>\n",
       "      <td>03/21/2016</td>\n",
       "      <td>In progress</td>\n",
       "      <td>Yes</td>\n",
       "      <td>No</td>\n",
       "      <td>1841976</td>\n",
       "      <td>1552</td>\n",
       "    </tr>\n",
       "    <tr>\n",
       "      <th>4</th>\n",
       "      <td>03/21/2016</td>\n",
       "      <td>Bank account or service</td>\n",
       "      <td>Checking account</td>\n",
       "      <td>Problems caused by my funds being low</td>\n",
       "      <td>NaN</td>\n",
       "      <td>NaN</td>\n",
       "      <td>NaN</td>\n",
       "      <td>Navy FCU</td>\n",
       "      <td>IN</td>\n",
       "      <td>46143</td>\n",
       "      <td>NaN</td>\n",
       "      <td>NaN</td>\n",
       "      <td>Referral</td>\n",
       "      <td>03/21/2016</td>\n",
       "      <td>In progress</td>\n",
       "      <td>Yes</td>\n",
       "      <td>No</td>\n",
       "      <td>1842011</td>\n",
       "      <td>1552</td>\n",
       "    </tr>\n",
       "  </tbody>\n",
       "</table>\n",
       "</div>"
      ],
      "text/plain": [
       "  Date received                  Product  \\\n",
       "0    03/21/2016          Debt collection   \n",
       "1    03/21/2016            Consumer Loan   \n",
       "2    03/21/2016          Debt collection   \n",
       "3    03/21/2016            Consumer Loan   \n",
       "4    03/21/2016  Bank account or service   \n",
       "\n",
       "                             Sub-product  \\\n",
       "0  Other (i.e. phone, health club, etc.)   \n",
       "1                Personal line of credit   \n",
       "2  Other (i.e. phone, health club, etc.)   \n",
       "3                           Vehicle loan   \n",
       "4                       Checking account   \n",
       "\n",
       "                                   Issue         Sub-issue  \\\n",
       "0  Cont'd attempts collect debt not owed     Debt was paid   \n",
       "1    Problems when you are unable to pay               NaN   \n",
       "2  Cont'd attempts collect debt not owed  Debt is not mine   \n",
       "3           Taking out the loan or lease               NaN   \n",
       "4  Problems caused by my funds being low               NaN   \n",
       "\n",
       "  Consumer complaint narrative  \\\n",
       "0                          NaN   \n",
       "1                          NaN   \n",
       "2                          NaN   \n",
       "3                          NaN   \n",
       "4                          NaN   \n",
       "\n",
       "                             Company public response  \\\n",
       "0  Company believes it acted appropriately as aut...   \n",
       "1                                                NaN   \n",
       "2                                                NaN   \n",
       "3                                                NaN   \n",
       "4                                                NaN   \n",
       "\n",
       "                                        Company State ZIP code           Tags  \\\n",
       "0  Eastern Account Systems of Connecticut, Inc.    CA    900XX            NaN   \n",
       "1               OneMain Financial Holdings, LLC    AL    35094            NaN   \n",
       "2                       Transworld Systems Inc.    CT    06516            NaN   \n",
       "3                                      Navy FCU    VA    235XX  Servicemember   \n",
       "4                                      Navy FCU    IN    46143            NaN   \n",
       "\n",
       "  Consumer consent provided? Submitted via Date sent to company  \\\n",
       "0                        NaN           Web           03/21/2016   \n",
       "1                        NaN         Phone           03/21/2016   \n",
       "2                        NaN           Web           03/21/2016   \n",
       "3                        NaN           Web           03/21/2016   \n",
       "4                        NaN      Referral           03/21/2016   \n",
       "\n",
       "  Company response to consumer Timely response? Consumer disputed?  \\\n",
       "0      Closed with explanation              Yes                 No   \n",
       "1                  In progress              Yes                 No   \n",
       "2                  In progress              Yes                 No   \n",
       "3                  In progress              Yes                 No   \n",
       "4                  In progress              Yes                 No   \n",
       "\n",
       "   Complaint ID  company_complaint_counts  \n",
       "0       1841695                       101  \n",
       "1       1842862                       719  \n",
       "2       1841754                      1371  \n",
       "3       1841976                      1552  \n",
       "4       1842011                      1552  "
      ]
     },
     "execution_count": 213,
     "metadata": {},
     "output_type": "execute_result"
    }
   ],
   "source": [
    "df.head()"
   ]
  },
  {
   "cell_type": "code",
   "execution_count": 212,
   "metadata": {
    "collapsed": false
   },
   "outputs": [
    {
     "data": {
      "text/plain": [
       "Bank of America                                 55052\n",
       "Wells Fargo & Company                           41057\n",
       "JPMorgan Chase & Co.                            33075\n",
       "Equifax                                         30115\n",
       "Experian                                        29426\n",
       "Citibank                                        24879\n",
       "TransUnion Intermediate Holdings, Inc.          24169\n",
       "Ocwen                                           20614\n",
       "Capital One                                     15269\n",
       "Nationstar Mortgage                             12840\n",
       "U.S. Bancorp                                     9326\n",
       "Synchrony Financial                              9159\n",
       "Ditech Financial LLC                             8434\n",
       "Navient Solutions, Inc.                          7775\n",
       "PNC Bank N.A.                                    6807\n",
       "Encore Capital Group                             6124\n",
       "HSBC North America Holdings Inc.                 6057\n",
       "Amex                                             5559\n",
       "SunTrust Banks, Inc.                             4737\n",
       "Discover                                         4600\n",
       "TD Bank US Holding Company                       4426\n",
       "Select Portfolio Servicing, Inc                  4166\n",
       "Portfolio Recovery Associates, Inc.              3239\n",
       "Citizens Financial Group, Inc.                   3052\n",
       "Fifth Third Financial Corporation                2795\n",
       "Kyanite Services, Inc.                           2730\n",
       "Barclays PLC                                     2629\n",
       "ERC Holdings LLC                                 2593\n",
       "BB&T Financial                                   2485\n",
       "M&T Bank Corporation                             2424\n",
       "                                                ...  \n",
       "Headwaters Financial Corp.                          1\n",
       "Granite Law Group, PLLC                             1\n",
       "FHC Mortgage                                        1\n",
       "Trinity Reverse Mortgage                            1\n",
       "Cheadle Law Firm                                    1\n",
       "DMA Financial Corp.                                 1\n",
       "Udren Law Offices, P.C.                             1\n",
       "Upstate Collection Center, Inc.                     1\n",
       "DLG LLC                                             1\n",
       "Century Finance, Inc.                               1\n",
       "Irongate Home Finance, LLC                          1\n",
       "The AAA Company                                     1\n",
       "Grace Recovery Services, Inc.                       1\n",
       "DRIVEiT Holdings, Inc.                              1\n",
       "South Exchange Inc                                  1\n",
       "F&M Mortgage Group, LLC                             1\n",
       "Flat Branch Mortgage, Inc.                          1\n",
       "RD Fuller Company, LLC                              1\n",
       "Welts, White & Fontaine, P.C.                       1\n",
       "DSW Mortgage, Inc.                                  1\n",
       "The Law Office of Richard M Kitrick Esq. LLC        1\n",
       "Collection Specialists                              1\n",
       "Quick Bridge Funding, LLC                           1\n",
       "North American Collectors, Inc.                     1\n",
       "Spiriter LLC                                        1\n",
       "JP Development, Inc.                                1\n",
       "Robert P. Tomasso Mortgage Company, Inc             1\n",
       "Garner & Conner, PLLC                               1\n",
       "Tal Lewis Incorporated                              1\n",
       "Crown Mortgage Company                              1\n",
       "Name: Company, dtype: int64"
      ]
     },
     "execution_count": 212,
     "metadata": {},
     "output_type": "execute_result"
    }
   ],
   "source": [
    "df['Company'].value_counts()"
   ]
  },
  {
   "cell_type": "code",
   "execution_count": null,
   "metadata": {
    "collapsed": false
   },
   "outputs": [],
   "source": [
    "temp= pd.crosstab(df['Product'], df['Consumer disputed?'])"
   ]
  },
  {
   "cell_type": "code",
   "execution_count": null,
   "metadata": {
    "collapsed": false
   },
   "outputs": [],
   "source": [
    "temp.plot(kind='bar',figsize=(8,6))## The disputed percentages are about same between \n",
    "###Consent and Consent Not \"complaint narrative text\"."
   ]
  },
  {
   "cell_type": "code",
   "execution_count": null,
   "metadata": {
    "collapsed": false
   },
   "outputs": [],
   "source": [
    "temp1= pd.crosstab(df['Company response to consumer'], df['Consumer disputed?'])"
   ]
  },
  {
   "cell_type": "code",
   "execution_count": null,
   "metadata": {
    "collapsed": false
   },
   "outputs": [],
   "source": [
    "temp1"
   ]
  },
  {
   "cell_type": "code",
   "execution_count": null,
   "metadata": {
    "collapsed": false
   },
   "outputs": [],
   "source": [
    "temp1.plot(kind='bar',figsize=(8,6)) ###Most cases are fall in closed with explaination"
   ]
  },
  {
   "cell_type": "code",
   "execution_count": null,
   "metadata": {
    "collapsed": true
   },
   "outputs": [],
   "source": [
    "temp3= pd.crosstab(df['Product'], df['Consumer disputed?'])"
   ]
  },
  {
   "cell_type": "code",
   "execution_count": null,
   "metadata": {
    "collapsed": false
   },
   "outputs": [],
   "source": [
    "temp3.plot(kind='bar',figsize=(8,6))"
   ]
  },
  {
   "cell_type": "code",
   "execution_count": null,
   "metadata": {
    "collapsed": false
   },
   "outputs": [],
   "source": [
    "##plt.hist(np.log(df['Company'].value_counts()))\n",
    "##plt.xlabel(df['Company'].value_counts().index)"
   ]
  },
  {
   "cell_type": "code",
   "execution_count": null,
   "metadata": {
    "collapsed": false
   },
   "outputs": [],
   "source": [
    "df['State'].value_counts().shape"
   ]
  },
  {
   "cell_type": "code",
   "execution_count": null,
   "metadata": {
    "collapsed": false
   },
   "outputs": [],
   "source": [
    "df['Date received']=pd.DatetimeIndex(df['Date received'],format='%m/%d/%Y').date\n",
    "df['Date sent to company']=pd.DatetimeIndex(df['Date sent to company'],format='%m/%d/%Y').date"
   ]
  },
  {
   "cell_type": "code",
   "execution_count": null,
   "metadata": {
    "collapsed": false
   },
   "outputs": [],
   "source": [
    "df[df['Date received']!=df['Date sent to company']].shape"
   ]
  },
  {
   "cell_type": "markdown",
   "metadata": {},
   "source": [
    "## Missing Value Handling"
   ]
  },
  {
   "cell_type": "code",
   "execution_count": null,
   "metadata": {
    "collapsed": false
   },
   "outputs": [],
   "source": [
    "df[pd.isnull(df['Issue'])]"
   ]
  },
  {
   "cell_type": "code",
   "execution_count": null,
   "metadata": {
    "collapsed": false
   },
   "outputs": [],
   "source": [
    "df['Sub-product'].fillna('Not Provided',inplace=True)\n",
    "df['Sub-issue'].fillna('Not Provided',inplace=True)\n",
    "df['Consumer complaint narrative'].fillna('None or Not Provided',inplace=True)\n",
    "###Combine \"company public missing value\" with \"Company chose not to provide\"\n",
    "df['Company public response'].fillna('Company chooses not to provide',inplace=True) \n",
    "\n",
    "###Combine missing value of \"Issue\" with \"Other\"\n",
    "df['Issue'].fillna('Other',inplace=True) \n",
    "\n",
    "### Replace missing vlaues of 'Tags' with \"'Unknown'\n",
    "df['Tags'].fillna('Unknown',inplace=True) \n",
    "\n",
    "### Replace missing vlaues of 'Submitted via' with \"'other'\n",
    "df['Submitted via'].fillna('Other',inplace=True) \n",
    "\n",
    "###Combine missing value,other,and withdrawn of \"Consumer consent provided? \" \n",
    "###with Consumer consent not provided, since only users's complaints narrative will be provided\n",
    "### with the type of Consumer consent provided\n",
    "df['Consumer consent provided?'].fillna('Consent not provided',inplace=True) \n",
    "df['Consumer consent provided?']=df['Consumer consent provided?'].apply(lambda x: \n",
    "            'Consent not provided' if x=='Other' or x=='Consent withdrawn' else x)"
   ]
  },
  {
   "cell_type": "code",
   "execution_count": null,
   "metadata": {
    "collapsed": false
   },
   "outputs": [],
   "source": [
    "### Fill missing 'State' info using valide zipcode.\n",
    "from pyzipcode import ZipCodeDatabase\n",
    "zip=ZipCodeDatabase()\n",
    "for i in df[pd.isnull(df['State'])&pd.notnull(df['ZIP code'])].index:\n",
    "    try:\n",
    "        df['State'][i]=str(zip[df['ZIP code'][i]].state)\n",
    "    except:\n",
    "        continue"
   ]
  },
  {
   "cell_type": "code",
   "execution_count": null,
   "metadata": {
    "collapsed": false
   },
   "outputs": [],
   "source": [
    "df[pd.isnull(df['State'])&pd.isnull(df['ZIP code'])].shape ###Still 4268 users has no state info"
   ]
  },
  {
   "cell_type": "code",
   "execution_count": null,
   "metadata": {
    "collapsed": true
   },
   "outputs": [],
   "source": [
    "df['State'].fillna('Not provided',inplace=True)\n",
    "df['ZIP code'].fillna('Not Provided',inplace=True)"
   ]
  },
  {
   "cell_type": "code",
   "execution_count": null,
   "metadata": {
    "collapsed": false
   },
   "outputs": [],
   "source": [
    "df['Consumer consent provided?'].value_counts(dropna=False)"
   ]
  },
  {
   "cell_type": "code",
   "execution_count": null,
   "metadata": {
    "collapsed": false
   },
   "outputs": [],
   "source": [
    "df.info()"
   ]
  },
  {
   "cell_type": "code",
   "execution_count": null,
   "metadata": {
    "collapsed": false
   },
   "outputs": [],
   "source": [
    "df.head()"
   ]
  },
  {
   "cell_type": "code",
   "execution_count": null,
   "metadata": {
    "collapsed": false
   },
   "outputs": [],
   "source": [
    "print df.groupby(df['Consumer disputed?'])['Date received']"
   ]
  },
  {
   "cell_type": "code",
   "execution_count": null,
   "metadata": {
    "collapsed": true
   },
   "outputs": [],
   "source": [
    "df=df[df['Consumer complaint narrative']!= 'None or Not Provided']"
   ]
  },
  {
   "cell_type": "markdown",
   "metadata": {},
   "source": [
    "# Feature Engineering"
   ]
  },
  {
   "cell_type": "markdown",
   "metadata": {},
   "source": [
    "## Creating label"
   ]
  },
  {
   "cell_type": "code",
   "execution_count": null,
   "metadata": {
    "collapsed": false
   },
   "outputs": [],
   "source": [
    "replace={'Yes':True, 'No':False}"
   ]
  },
  {
   "cell_type": "code",
   "execution_count": null,
   "metadata": {
    "collapsed": false
   },
   "outputs": [],
   "source": [
    "df['Consumer disputed?']= df['Consumer disputed?'].apply(lambda x: replace[x])"
   ]
  },
  {
   "cell_type": "markdown",
   "metadata": {
    "collapsed": true
   },
   "source": [
    "## Feature creating"
   ]
  },
  {
   "cell_type": "code",
   "execution_count": null,
   "metadata": {
    "collapsed": true
   },
   "outputs": [],
   "source": [
    "#Creat a dataframe including all the features in the model\n",
    "df_model = DataFrame()"
   ]
  },
  {
   "cell_type": "code",
   "execution_count": null,
   "metadata": {
    "collapsed": true
   },
   "outputs": [],
   "source": [
    "#Create 'consent provided' Boolean feature\n",
    "replace1={'Consent provided':True, 'Consent not provided':False}\n",
    "df_model['Consumer consent provided?']= df['Consumer consent provided?'].apply(lambda x: replace1[x])"
   ]
  },
  {
   "cell_type": "code",
   "execution_count": null,
   "metadata": {
    "collapsed": false
   },
   "outputs": [],
   "source": [
    "#Create the number of compliants of each company as a feature\n",
    "company_complaitns_counts = df['Company'].value_counts()\n",
    "df_model['company_complaint_counts'] = df['Company'].apply(lambda x: company_complaitns_counts[x])"
   ]
  },
  {
   "cell_type": "code",
   "execution_count": null,
   "metadata": {
    "collapsed": true
   },
   "outputs": [],
   "source": [
    "feature_for_model=['Product', 'Sub-product','Issue','Sub-issue', 'Company public response','Tags',\n",
    "                'Company response to consumer', 'State']\n",
    "for name in feature_for_model:\n",
    "    repl={}\n",
    "    i=0\n",
    "    for value in df[name].unique():\n",
    "        repl[value] = i\n",
    "        i+=1\n",
    "       \n",
    "    df[name] = df[name].apply(lambda x: repl[x])\n",
    "    df_model[name] = df[name].astype('category')\n",
    "           "
   ]
  },
  {
   "cell_type": "code",
   "execution_count": null,
   "metadata": {
    "collapsed": true
   },
   "outputs": [],
   "source": [
    "##process time refers to days between the date CFPB received complaitns and the date \n",
    "##when complaints were sent to company on behal of comsume\n",
    "df['Process time']=(df['Date sent to company']-df['Date received']).astype('timedelta64[D]').astype(int)\n",
    "df_model=pd.concat([df_model,df['Process time']],axis=1)"
   ]
  },
  {
   "cell_type": "code",
   "execution_count": null,
   "metadata": {
    "collapsed": false
   },
   "outputs": [],
   "source": [
    "#Create 'Timely response\" boolean feature\n",
    "df['Timely response?'] = df['Timely response?'].apply(lambda x: replace[x])\n",
    "df_model=pd.concat([df_model,df['Timely response?']],axis=1)"
   ]
  },
  {
   "cell_type": "code",
   "execution_count": null,
   "metadata": {
    "collapsed": false
   },
   "outputs": [],
   "source": [
    "##Create features about complaint submitted time\n",
    "df_model['Date_received_year'] = df['Date received'].apply(lambda x: x.year)\n",
    "df_model['Date_received_month'] = df['Date received'].apply(lambda x: x.month)\n",
    "df_model['Date_received_day'] = df['Date received'].apply(lambda x: x.day)"
   ]
  },
  {
   "cell_type": "code",
   "execution_count": null,
   "metadata": {
    "collapsed": false
   },
   "outputs": [],
   "source": [
    "df_model.head().T"
   ]
  },
  {
   "cell_type": "markdown",
   "metadata": {},
   "source": [
    "# Modeling"
   ]
  },
  {
   "cell_type": "code",
   "execution_count": null,
   "metadata": {
    "collapsed": true
   },
   "outputs": [],
   "source": [
    "from sklearn.naive_bayes import MultinomialNB\n",
    "from sklearn.feature_extraction.text import TfidfVectorizer\n",
    "from sklearn.cross_validation import train_test_split\n",
    "import sklearn.metrics as skm\n",
    "from sklearn.pipeline import Pipeline\n",
    "from scipy import interp\n",
    "from nltk import word_tokenize\n",
    "from nltk.stem.snowball import SnowballStemmer\n",
    "from sklearn.linear_model import LogisticRegression\n",
    "from sklearn.grid_search import GridSearchCV\n",
    "from sklearn.feature_extraction.text import CountVectorizer\n",
    "from sklearn.feature_extraction.text import TfidfTransformer\n",
    "from sklearn.linear_model import SGDClassifier\n",
    "from sklearn.multiclass import OneVsRestClassifier\n",
    "from sklearn.ensemble import RandomForestClassifier"
   ]
  },
  {
   "cell_type": "markdown",
   "metadata": {},
   "source": [
    "## Modeling with non-complaint narrative text features"
   ]
  },
  {
   "cell_type": "code",
   "execution_count": null,
   "metadata": {
    "collapsed": true
   },
   "outputs": [],
   "source": [
    "X = df_model.values\n",
    "y = df['Consumer disputed?'].values"
   ]
  },
  {
   "cell_type": "code",
   "execution_count": null,
   "metadata": {
    "collapsed": true
   },
   "outputs": [],
   "source": [
    "X_train, X_test, y_train, y_test = train_test_split(X, y, test_size=0.20, random_state=67)"
   ]
  },
  {
   "cell_type": "code",
   "execution_count": null,
   "metadata": {
    "collapsed": false
   },
   "outputs": [],
   "source": [
    "from sklearn.preprocessing import StandardScaler\n",
    "scaler = StandardScaler()\n",
    "scaler.fit(X_train)  \n",
    "X_train = scaler.transform(X_train)\n",
    "X_test = scaler.transform(X_test)  "
   ]
  },
  {
   "cell_type": "markdown",
   "metadata": {},
   "source": [
    "### First Logistic Regression Model"
   ]
  },
  {
   "cell_type": "code",
   "execution_count": null,
   "metadata": {
    "collapsed": false
   },
   "outputs": [],
   "source": [
    "lr = LogisticRegression(class_weight='auto')\n",
    "lr.fit(X_train, y_train)"
   ]
  },
  {
   "cell_type": "code",
   "execution_count": null,
   "metadata": {
    "collapsed": false
   },
   "outputs": [],
   "source": [
    "lr.score(X_test,y_test)"
   ]
  },
  {
   "cell_type": "code",
   "execution_count": null,
   "metadata": {
    "collapsed": true
   },
   "outputs": [],
   "source": [
    "v_probs = lr.predict_proba(X_test)[:, 1]"
   ]
  },
  {
   "cell_type": "code",
   "execution_count": null,
   "metadata": {
    "collapsed": false
   },
   "outputs": [],
   "source": [
    "def roc_curve(probabilities, labels):\n",
    "    '''\n",
    "    INPUT: numpy array, numpy array\n",
    "    OUTPUT: list, list, list\n",
    "\n",
    "    Take a numpy array of the predicted probabilities and a numpy array of the\n",
    "    true labels.\n",
    "    Return the True Positive Rates, False Positive Rates and Thresholds for the\n",
    "    ROC curve.\n",
    "    '''\n",
    "\n",
    "    thresholds = np.sort(probabilities)\n",
    "\n",
    "    tprs = []\n",
    "    fprs = []\n",
    "\n",
    "    num_positive_cases = sum(labels)\n",
    "    num_negative_cases = len(labels) - num_positive_cases\n",
    "\n",
    "    for threshold in thresholds:\n",
    "        # With this threshold, give the prediction of each instance\n",
    "        predicted_positive = probabilities >= threshold\n",
    "        # Calculate the number of correctly predicted positive cases\n",
    "        true_positives = np.sum(predicted_positive * labels)\n",
    "        # Calculate the number of incorrectly predicted positive cases\n",
    "        false_positives = np.sum(predicted_positive) - true_positives\n",
    "        # Calculate the True Positive Rate\n",
    "        tpr = true_positives / float(num_positive_cases)\n",
    "        # Calculate the False Positive Rate\n",
    "        fpr = false_positives / float(num_negative_cases)\n",
    "\n",
    "        fprs.append(fpr)\n",
    "        tprs.append(tpr)\n",
    "    \n",
    "    return tprs, fprs, thresholds.tolist()\n",
    "\n",
    "def plot_roc(v_probs, y_test, title, xlabel, ylabel):\n",
    "    # ROC\n",
    "    fig = plt.figure(figsize = (8,6))\n",
    "    tpr, fpr, thresholds = roc_curve(v_probs, y_test)\n",
    "    \n",
    "    import sklearn.metrics as skm\n",
    "    auc = skm.roc_auc_score(y_test, v_probs)\n",
    "\n",
    "    plt.hold(True)\n",
    "    plt.plot(fpr, tpr)\n",
    "\n",
    "    # 45 degree line\n",
    "    xx = np.linspace(0, 1.0, 20)\n",
    "    plt.plot(xx, xx, color='red')\n",
    "\n",
    "    plt.xlabel(xlabel)\n",
    "    plt.ylabel(ylabel)\n",
    "    plt.title(title)\n",
    "\n",
    "    plt.show()\n",
    "    fig.savefig(title+'.png')"
   ]
  },
  {
   "cell_type": "code",
   "execution_count": null,
   "metadata": {
    "collapsed": false
   },
   "outputs": [],
   "source": [
    "plot_roc(v_probs, y_test, \"ROC plot of  complaint dispute\", \n",
    "         \"False Positive Rate (1 - Specificity)\", \"True Positive Rate (Sensitivity, Recall)\")"
   ]
  },
  {
   "cell_type": "code",
   "execution_count": null,
   "metadata": {
    "collapsed": false
   },
   "outputs": [],
   "source": [
    "import sklearn.metrics as skm\n",
    "skm.roc_auc_score(y_test, v_probs)"
   ]
  },
  {
   "cell_type": "code",
   "execution_count": null,
   "metadata": {
    "collapsed": false
   },
   "outputs": [],
   "source": [
    "v_probs.shape"
   ]
  },
  {
   "cell_type": "code",
   "execution_count": null,
   "metadata": {
    "collapsed": false
   },
   "outputs": [],
   "source": [
    "skm.recall_score(y_test, lr.predict(X_test))"
   ]
  },
  {
   "cell_type": "code",
   "execution_count": null,
   "metadata": {
    "collapsed": false
   },
   "outputs": [],
   "source": [
    "pd.crosstab(y_test, lr.predict(X_test))"
   ]
  },
  {
   "cell_type": "code",
   "execution_count": null,
   "metadata": {
    "collapsed": true
   },
   "outputs": [],
   "source": [
    "from sklearn.metrics import confusion_matrix\n",
    "\n",
    "def plot_confusion_matrix(model, X_test, y_true):\n",
    "    cm = confusion_matrix(y_true, model.predict(X_test))\n",
    "\n",
    "    print(cm)\n",
    "\n",
    "    # Show confusion matrix in a separate window\n",
    "    plt.matshow(cm)\n",
    "    plt.title('Confusion matrix')\n",
    "    plt.colorbar()\n",
    "    plt.ylabel('True label')\n",
    "    plt.xlabel('Predicted label')\n",
    "    plt.show()"
   ]
  },
  {
   "cell_type": "code",
   "execution_count": null,
   "metadata": {
    "collapsed": false
   },
   "outputs": [],
   "source": [
    "plot_confusion_matrix(lr, X_test, y_test)"
   ]
  },
  {
   "cell_type": "markdown",
   "metadata": {},
   "source": [
    "### Now try descision tree model"
   ]
  },
  {
   "cell_type": "code",
   "execution_count": null,
   "metadata": {
    "collapsed": false
   },
   "outputs": [],
   "source": [
    "## Random Forest Classifier\n",
    "rfc = RandomForestClassifier(n_estimators=2000, n_jobs=-1, class_weight='auto', max_features=1)\n",
    "rfc.fit(X_train, y_train)"
   ]
  },
  {
   "cell_type": "code",
   "execution_count": null,
   "metadata": {
    "collapsed": false
   },
   "outputs": [],
   "source": [
    "rfc.score(X_test, y_test)"
   ]
  },
  {
   "cell_type": "code",
   "execution_count": null,
   "metadata": {
    "collapsed": false
   },
   "outputs": [],
   "source": [
    "pd.crosstab(y_test, rfc.predict(X_test))"
   ]
  },
  {
   "cell_type": "code",
   "execution_count": null,
   "metadata": {
    "collapsed": false
   },
   "outputs": [],
   "source": [
    "skm.roc_auc_score(y_test, rfc.predict_proba(X_test)[:, 1])"
   ]
  },
  {
   "cell_type": "code",
   "execution_count": null,
   "metadata": {
    "collapsed": false
   },
   "outputs": [],
   "source": [
    "skm.recall_score(y_test, rfc.predict(X_test))"
   ]
  },
  {
   "cell_type": "code",
   "execution_count": null,
   "metadata": {
    "collapsed": false
   },
   "outputs": [],
   "source": [
    "plot_confusion_matrix(rfc, X_test, y_test)"
   ]
  },
  {
   "cell_type": "code",
   "execution_count": null,
   "metadata": {
    "collapsed": true
   },
   "outputs": [],
   "source": [
    "def plot_importance(clf, X, max_features=10):\n",
    "    '''Plot feature importance'''\n",
    "    feature_importance = clf.feature_importances_\n",
    "    # make importances relative to max importance\n",
    "    feature_importance = 100.0 * (feature_importance / feature_importance.max())\n",
    "    sorted_idx = np.argsort(feature_importance)\n",
    "    pos = np.arange(sorted_idx.shape[0]) + .5\n",
    "    \n",
    "    # Show only top features\n",
    "    pos = pos[-max_features:]\n",
    "    feature_importance = (feature_importance[sorted_idx])[-max_features:]\n",
    "    feature_names = (X.columns[sorted_idx])[-max_features:]\n",
    "    \n",
    "    plt.barh(pos, feature_importance, align='center')\n",
    "    plt.yticks(pos, feature_names)\n",
    "    plt.xlabel('Relative Importance')\n",
    "    plt.title('Variable Importance')"
   ]
  },
  {
   "cell_type": "code",
   "execution_count": null,
   "metadata": {
    "collapsed": false
   },
   "outputs": [],
   "source": [
    "plot_importance(rfc, df_model, max_features=10)"
   ]
  },
  {
   "cell_type": "code",
   "execution_count": null,
   "metadata": {
    "collapsed": true
   },
   "outputs": [],
   "source": [
    "#Create features about 'Consumenr complaint narrative'\n",
    "\n",
    "from string import punctuation, ascii_letters\n",
    "\n",
    "def process_text_field(text):\n",
    "    '''\n",
    "    text: string\n",
    "    OUTPUT: int, int, int, float (length, word count, uppercase_count_rate, punctuation_rate)\n",
    "    '''\n",
    "    length = len(text)\n",
    "    word_count = 0\n",
    "    last_char = False\n",
    "    for c in text:\n",
    "        if c in ascii_letters:\n",
    "            if last_char==False:\n",
    "                word_count += 1\n",
    "                last_char=True\n",
    "        else:\n",
    "            last_char = False\n",
    "    \n",
    "    punct_count = 0\n",
    "    uppercase_count = 0\n",
    "    for c in text:\n",
    "        if c in punctuation:\n",
    "            punct_count += 1\n",
    "        if c.isupper():\n",
    "            uppercase_count += 1\n",
    "    punctuation_rate = punct_count / float(length+1)\n",
    "    uppercase_count_rate = uppercase_count / float(length+1)\n",
    "    \n",
    "    return length, word_count, uppercase_count_rate, punctuation_rate\n",
    "\n",
    "def process_text_column(df, fieldname):\n",
    "    length_list = []\n",
    "    word_count_list = []\n",
    "    punctuation_rate_list = []\n",
    "    uppercase_count_rate_list=[]\n",
    "    for row_ix in df.index:\n",
    "        length, word_count, uppercase_count_rate, punctuation_rate = process_text_field(df[fieldname][row_ix])\n",
    "        length_list.append(length)\n",
    "        word_count_list.append(word_count)\n",
    "        uppercase_count_rate_list.append(uppercase_count_rate)\n",
    "        punctuation_rate_list.append(punctuation_rate)\n",
    "    return length_list, word_count_list, uppercase_count_rate_list, punctuation_rate_list"
   ]
  },
  {
   "cell_type": "code",
   "execution_count": null,
   "metadata": {
    "collapsed": false
   },
   "outputs": [],
   "source": [
    "stemmer = SnowballStemmer(\"english\")\n",
    "\n",
    "def stem_tokens(tokens, stemmer):\n",
    "    stemmed=[]\n",
    "    for item in tokens:\n",
    "        stemmed.append(stemmer.stem(item))\n",
    "    return stemmed\n",
    "\n",
    "def tokenize(text):\n",
    "    tokens = word_tokenize(text)\n",
    "    stems = stem_tokens(tokens, stemmer)\n",
    "    return stems"
   ]
  },
  {
   "cell_type": "markdown",
   "metadata": {},
   "source": [
    "### Model with features extracted from \"Consumer complaint narrative\""
   ]
  },
  {
   "cell_type": "code",
   "execution_count": null,
   "metadata": {
    "collapsed": false
   },
   "outputs": [],
   "source": [
    "#df=df[df['Consumer complaint narrative']!= 'None or Not Provided']"
   ]
  },
  {
   "cell_type": "code",
   "execution_count": null,
   "metadata": {
    "collapsed": false
   },
   "outputs": [],
   "source": [
    "chars_to_remove = ['XX', 'XXX', 'XXXX']\n",
    "df['Consumer complaint narrative'] = df['Consumer complaint narrative'].apply(lambda x: x.translate(None, ''.join(chars_to_remove)))"
   ]
  },
  {
   "cell_type": "code",
   "execution_count": null,
   "metadata": {
    "collapsed": false
   },
   "outputs": [],
   "source": [
    "X_word = df['Consumer complaint narrative'].values\n",
    "y = df['Consumer disputed?'].values"
   ]
  },
  {
   "cell_type": "code",
   "execution_count": null,
   "metadata": {
    "collapsed": false
   },
   "outputs": [],
   "source": [
    "X_word.shape"
   ]
  },
  {
   "cell_type": "code",
   "execution_count": null,
   "metadata": {
    "collapsed": true
   },
   "outputs": [],
   "source": [
    "X_train_word, X_test_word, y_train, y_test = train_test_split(X_word, y, test_size=0.20, random_state=67)\n",
    "vectorizer = TfidfVectorizer(stop_words='english',lowercase=False, min_df=0.001, max_df = 0.2,\n",
    "                             )\n",
    "words_matrix_train = vectorizer.fit_transform(X_train_word)\n",
    "words_matrix_test = vectorizer.transform(X_test_word)\n",
    "words_matrix = vectorizer.transform(X_word)"
   ]
  },
  {
   "cell_type": "code",
   "execution_count": null,
   "metadata": {
    "collapsed": false
   },
   "outputs": [],
   "source": [
    "words_matrix.shape"
   ]
  },
  {
   "cell_type": "code",
   "execution_count": null,
   "metadata": {
    "collapsed": false
   },
   "outputs": [],
   "source": [
    "#MultinomialNB classifier directly using tfidf text\n",
    "\n",
    "model = MultinomialNB()\n",
    "model.fit(words_matrix_train, y_train)\n",
    "\n",
    "##Model evaluation via 'Consumer complaint narrative' only\n",
    "\n",
    "model.score(words_matrix_test,y_test)\n",
    "skm.roc_auc_score(y_test, model.predict_proba(words_matrix_test)[:, 1])"
   ]
  },
  {
   "cell_type": "code",
   "execution_count": null,
   "metadata": {
    "collapsed": false
   },
   "outputs": [],
   "source": [
    "# random forest directly using tfidf\n",
    "rfc = RandomForestClassifier(n_estimators=2000, n_jobs=-1, class_weight='auto' )\n",
    "rfc.fit(words_matrix_train, y_train)\n",
    "skm.roc_auc_score(y_test, rfc.predict_proba(words_matrix_test)[:, 1])"
   ]
  },
  {
   "cell_type": "code",
   "execution_count": null,
   "metadata": {
    "collapsed": false
   },
   "outputs": [],
   "source": [
    "#plot_importance(rfc, words_matrix, max_features=10)"
   ]
  },
  {
   "cell_type": "code",
   "execution_count": null,
   "metadata": {
    "collapsed": false
   },
   "outputs": [],
   "source": [
    "y_test.shape"
   ]
  },
  {
   "cell_type": "code",
   "execution_count": null,
   "metadata": {
    "collapsed": false
   },
   "outputs": [],
   "source": [
    "v_prob = rfc.predict_proba(words_matrix_test)[:, 1]"
   ]
  },
  {
   "cell_type": "code",
   "execution_count": null,
   "metadata": {
    "collapsed": false
   },
   "outputs": [],
   "source": [
    "v_prob.shape"
   ]
  },
  {
   "cell_type": "code",
   "execution_count": null,
   "metadata": {
    "collapsed": false
   },
   "outputs": [],
   "source": [
    "plot_roc(v_prob, y_test, \"ROC plot of  complaint dispute prediction, auc = 0.67\", \n",
    "         \"False Positive Rate (1 - Specificity)\", \"True Positive Rate (Sensitivity, Recall)\")"
   ]
  },
  {
   "cell_type": "code",
   "execution_count": null,
   "metadata": {
    "collapsed": true
   },
   "outputs": [],
   "source": [
    "features = np.array(vectorizer.get_feature_names())"
   ]
  },
  {
   "cell_type": "code",
   "execution_count": null,
   "metadata": {
    "collapsed": false
   },
   "outputs": [],
   "source": [
    "type(features)"
   ]
  },
  {
   "cell_type": "code",
   "execution_count": null,
   "metadata": {
    "collapsed": false
   },
   "outputs": [],
   "source": [
    "table = DataFrame(words_matrix.toarray(), columns = features)"
   ]
  },
  {
   "cell_type": "code",
   "execution_count": null,
   "metadata": {
    "collapsed": false
   },
   "outputs": [],
   "source": [
    "table.head()"
   ]
  },
  {
   "cell_type": "code",
   "execution_count": null,
   "metadata": {
    "collapsed": false,
    "scrolled": true
   },
   "outputs": [],
   "source": [
    "plot_importance(rfc, table, max_features=20)"
   ]
  },
  {
   "cell_type": "code",
   "execution_count": null,
   "metadata": {
    "collapsed": true
   },
   "outputs": [],
   "source": [
    "from sklearn.linear_model import SGDClassifier"
   ]
  },
  {
   "cell_type": "code",
   "execution_count": null,
   "metadata": {
    "collapsed": false
   },
   "outputs": [],
   "source": [
    "sgd = SGDClassifier(loss= 'log')"
   ]
  },
  {
   "cell_type": "code",
   "execution_count": null,
   "metadata": {
    "collapsed": false
   },
   "outputs": [],
   "source": [
    "sgd.fit(words_matrix_train, y_train)"
   ]
  },
  {
   "cell_type": "code",
   "execution_count": null,
   "metadata": {
    "collapsed": false
   },
   "outputs": [],
   "source": [
    "skm.roc_auc_score(y_test, sgd.predict_proba(words_matrix_test)[:, 1])"
   ]
  },
  {
   "cell_type": "code",
   "execution_count": null,
   "metadata": {
    "collapsed": false,
    "scrolled": true
   },
   "outputs": [],
   "source": [
    "plot_roc(sgd.predict_proba(words_matrix_test)[:, 1], y_test, \"ROC plot of  complaint dispute prediction, auc = 0.65\", \n",
    "         \"False Positive Rate (1 - Specificity)\", \"True Positive Rate (Sensitivity, Recall)\")"
   ]
  },
  {
   "cell_type": "code",
   "execution_count": null,
   "metadata": {
    "collapsed": false
   },
   "outputs": [],
   "source": [
    "#prediction according to threshold value.\n",
    "def model_predict(probs, threshold):\n",
    "    pred = []\n",
    "    for prob in probs:\n",
    "        if prob>=threshold:\n",
    "            pred.append(1)\n",
    "        else: pred.append(0)\n",
    "    return np.array(pred)"
   ]
  },
  {
   "cell_type": "code",
   "execution_count": null,
   "metadata": {
    "collapsed": true
   },
   "outputs": [],
   "source": [
    "probs = sgd.predict_proba(words_matrix_test)[:, 1]"
   ]
  },
  {
   "cell_type": "code",
   "execution_count": null,
   "metadata": {
    "collapsed": false
   },
   "outputs": [],
   "source": [
    "probs.shape"
   ]
  },
  {
   "cell_type": "code",
   "execution_count": null,
   "metadata": {
    "collapsed": false
   },
   "outputs": [],
   "source": [
    "predict = np.array(model_predict(probs, 0.2))"
   ]
  },
  {
   "cell_type": "code",
   "execution_count": null,
   "metadata": {
    "collapsed": false
   },
   "outputs": [],
   "source": [
    "len(predict)"
   ]
  },
  {
   "cell_type": "code",
   "execution_count": null,
   "metadata": {
    "collapsed": false
   },
   "outputs": [],
   "source": [
    "pd.crosstab(y_test,predict)"
   ]
  },
  {
   "cell_type": "code",
   "execution_count": null,
   "metadata": {
    "collapsed": true
   },
   "outputs": [],
   "source": [
    "def plot_curve(probabilities, labels, title):\n",
    "    '''\n",
    "    INPUT: numpy array, numpy array\n",
    "    OUTPUT: list, list, list\n",
    "\n",
    "    Take a numpy array of the predicted probabilities and a numpy array of the\n",
    "    true labels.\n",
    "    Return the True Positive Rates, False Positive Rates and Thresholds for the\n",
    "    ROC curve.\n",
    "    '''\n",
    "\n",
    "    thresholds = np.sort(probabilities)\n",
    "\n",
    "    tprs = []\n",
    "    fprs = []\n",
    "    fnrs = []\n",
    "    accus = []\n",
    "\n",
    "    num_positive_cases = sum(labels)\n",
    "    num_negative_cases = len(labels) - num_positive_cases\n",
    "   \n",
    "\n",
    "    for threshold in thresholds:\n",
    "        # With this threshold, give the prediction of each instance\n",
    "        predicted_positive = probabilities >= threshold\n",
    "        predicted = np.array([1 if i >= threshold else 0 for i in probabilities])\n",
    "        # Calculate the number of correctly predicted positive cases\n",
    "        true_positives = np.sum(predicted_positive * labels)\n",
    "        # Calculate the number of incorrectly predicted positive cases\n",
    "        false_positives = np.sum(predicted_positive) - true_positives\n",
    "        # Calculate the True Positive Rate\n",
    "        tpr = true_positives / float(num_positive_cases)\n",
    "        # Calculate the False Positive Rate\n",
    "        fpr = false_positives / float(num_negative_cases)\n",
    "        # Calculate the False Negative Rate\n",
    "        fnr = 1 - tpr\n",
    "        # Calculate the overall accuracy\n",
    "        accu = float(np.sum(predicted==labels))/len(labels)\n",
    "\n",
    "        fprs.append(fpr)\n",
    "        tprs.append(tpr)\n",
    "        fnrs.append(fnr)\n",
    "        accus.append(accu)\n",
    "        \n",
    "    fig = plt.figure(figsize=(8,6))   \n",
    "    plt.xlim([np.min(probabilities), np.max(probabilities)])\n",
    "    plt.ylim([0.0, 1.05])\n",
    "    plt.plot(thresholds.tolist(),fprs,  label = 'false positive rate')\n",
    "    plt.plot(thresholds.tolist(),fnrs, label = 'false negative rate')\n",
    "    plt.plot(thresholds.tolist(),accus, label = 'overall accuracy')\n",
    "    plt.plot(np.repeat([0.20],100), np.linspace(0,1.05,100), 'k--', label = 'selected threshold')\n",
    "    plt.legend(loc=\"lower right\")\n",
    "    plt.title(title)\n",
    "    plt.show()\n",
    "    fig.savefig('threshold_select.png')\n"
   ]
  },
  {
   "cell_type": "code",
   "execution_count": null,
   "metadata": {
    "collapsed": false
   },
   "outputs": [],
   "source": [
    "plot_curve(probs, y_test, 'SGD Classifier')"
   ]
  },
  {
   "cell_type": "code",
   "execution_count": null,
   "metadata": {
    "collapsed": true
   },
   "outputs": [],
   "source": []
  },
  {
   "cell_type": "code",
   "execution_count": null,
   "metadata": {
    "collapsed": true
   },
   "outputs": [],
   "source": []
  }
 ],
 "metadata": {
  "kernelspec": {
   "display_name": "Python 2",
   "language": "python",
   "name": "python2"
  },
  "language_info": {
   "codemirror_mode": {
    "name": "ipython",
    "version": 2
   },
   "file_extension": ".py",
   "mimetype": "text/x-python",
   "name": "python",
   "nbconvert_exporter": "python",
   "pygments_lexer": "ipython2",
   "version": "2.7.11"
  }
 },
 "nbformat": 4,
 "nbformat_minor": 0
}
