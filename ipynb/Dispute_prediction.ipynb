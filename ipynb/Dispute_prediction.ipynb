{
 "cells": [
  {
   "cell_type": "code",
   "execution_count": 1,
   "metadata": {
    "collapsed": false
   },
   "outputs": [],
   "source": [
    "import pandas as pd\n",
    "from pandas import DataFrame, Series\n",
    "import numpy as np\n",
    "import matplotlib.pyplot as plt\n",
    "import datetime\n",
    "import random\n",
    "from sklearn.feature_extraction.text import TfidfVectorizer,CountVectorizer\n",
    "from sklearn.preprocessing import StandardScaler\n",
    "%matplotlib inline"
   ]
  },
  {
   "cell_type": "markdown",
   "metadata": {},
   "source": [
    "# Exploratory Data Analysis"
   ]
  },
  {
   "cell_type": "markdown",
   "metadata": {},
   "source": [
    "## Data Overview"
   ]
  },
  {
   "cell_type": "code",
   "execution_count": 2,
   "metadata": {
    "collapsed": false
   },
   "outputs": [
    {
     "name": "stderr",
     "output_type": "stream",
     "text": [
      "/home/ubuntu/anaconda2/lib/python2.7/site-packages/IPython/core/interactiveshell.py:2902: DtypeWarning: Columns (5,6,11) have mixed types. Specify dtype option on import or set low_memory=False.\n",
      "  interactivity=interactivity, compiler=compiler, result=result)\n"
     ]
    }
   ],
   "source": [
    "df=pd.read_csv('Consumer_complaints.csv')"
   ]
  },
  {
   "cell_type": "code",
   "execution_count": 3,
   "metadata": {
    "collapsed": false,
    "scrolled": false
   },
   "outputs": [
    {
     "data": {
      "text/html": [
       "<div>\n",
       "<table border=\"1\" class=\"dataframe\">\n",
       "  <thead>\n",
       "    <tr style=\"text-align: right;\">\n",
       "      <th></th>\n",
       "      <th>0</th>\n",
       "      <th>1</th>\n",
       "      <th>2</th>\n",
       "      <th>3</th>\n",
       "      <th>4</th>\n",
       "      <th>5</th>\n",
       "      <th>6</th>\n",
       "      <th>7</th>\n",
       "      <th>8</th>\n",
       "      <th>9</th>\n",
       "      <th>10</th>\n",
       "      <th>11</th>\n",
       "      <th>12</th>\n",
       "      <th>13</th>\n",
       "      <th>14</th>\n",
       "    </tr>\n",
       "  </thead>\n",
       "  <tbody>\n",
       "    <tr>\n",
       "      <th>Date received</th>\n",
       "      <td>03/21/2016</td>\n",
       "      <td>03/21/2016</td>\n",
       "      <td>03/21/2016</td>\n",
       "      <td>03/21/2016</td>\n",
       "      <td>03/21/2016</td>\n",
       "      <td>03/21/2016</td>\n",
       "      <td>03/21/2016</td>\n",
       "      <td>03/21/2016</td>\n",
       "      <td>03/21/2016</td>\n",
       "      <td>03/21/2016</td>\n",
       "      <td>03/21/2016</td>\n",
       "      <td>03/21/2016</td>\n",
       "      <td>03/21/2016</td>\n",
       "      <td>03/20/2016</td>\n",
       "      <td>03/20/2016</td>\n",
       "    </tr>\n",
       "    <tr>\n",
       "      <th>Product</th>\n",
       "      <td>Debt collection</td>\n",
       "      <td>Consumer Loan</td>\n",
       "      <td>Debt collection</td>\n",
       "      <td>Consumer Loan</td>\n",
       "      <td>Bank account or service</td>\n",
       "      <td>Debt collection</td>\n",
       "      <td>Debt collection</td>\n",
       "      <td>Mortgage</td>\n",
       "      <td>Debt collection</td>\n",
       "      <td>Debt collection</td>\n",
       "      <td>Debt collection</td>\n",
       "      <td>Credit reporting</td>\n",
       "      <td>Debt collection</td>\n",
       "      <td>Debt collection</td>\n",
       "      <td>Debt collection</td>\n",
       "    </tr>\n",
       "    <tr>\n",
       "      <th>Sub-product</th>\n",
       "      <td>Other (i.e. phone, health club, etc.)</td>\n",
       "      <td>Personal line of credit</td>\n",
       "      <td>Other (i.e. phone, health club, etc.)</td>\n",
       "      <td>Vehicle loan</td>\n",
       "      <td>Checking account</td>\n",
       "      <td>Other (i.e. phone, health club, etc.)</td>\n",
       "      <td>Other (i.e. phone, health club, etc.)</td>\n",
       "      <td>Conventional fixed mortgage</td>\n",
       "      <td>Auto</td>\n",
       "      <td>Other (i.e. phone, health club, etc.)</td>\n",
       "      <td>Other (i.e. phone, health club, etc.)</td>\n",
       "      <td>NaN</td>\n",
       "      <td>Medical</td>\n",
       "      <td>Mortgage</td>\n",
       "      <td>Medical</td>\n",
       "    </tr>\n",
       "    <tr>\n",
       "      <th>Issue</th>\n",
       "      <td>Cont'd attempts collect debt not owed</td>\n",
       "      <td>Problems when you are unable to pay</td>\n",
       "      <td>Cont'd attempts collect debt not owed</td>\n",
       "      <td>Taking out the loan or lease</td>\n",
       "      <td>Problems caused by my funds being low</td>\n",
       "      <td>False statements or representation</td>\n",
       "      <td>Cont'd attempts collect debt not owed</td>\n",
       "      <td>Loan servicing, payments, escrow account</td>\n",
       "      <td>Cont'd attempts collect debt not owed</td>\n",
       "      <td>False statements or representation</td>\n",
       "      <td>Cont'd attempts collect debt not owed</td>\n",
       "      <td>Unable to get credit report/credit score</td>\n",
       "      <td>Cont'd attempts collect debt not owed</td>\n",
       "      <td>Disclosure verification of debt</td>\n",
       "      <td>Disclosure verification of debt</td>\n",
       "    </tr>\n",
       "    <tr>\n",
       "      <th>Sub-issue</th>\n",
       "      <td>Debt was paid</td>\n",
       "      <td>NaN</td>\n",
       "      <td>Debt is not mine</td>\n",
       "      <td>NaN</td>\n",
       "      <td>NaN</td>\n",
       "      <td>Attempted to collect wrong amount</td>\n",
       "      <td>Debt is not mine</td>\n",
       "      <td>NaN</td>\n",
       "      <td>Debt is not mine</td>\n",
       "      <td>Attempted to collect wrong amount</td>\n",
       "      <td>Debt resulted from identity theft</td>\n",
       "      <td>Problem getting report or credit score</td>\n",
       "      <td>Debt is not mine</td>\n",
       "      <td>Right to dispute notice not received</td>\n",
       "      <td>Right to dispute notice not received</td>\n",
       "    </tr>\n",
       "    <tr>\n",
       "      <th>Consumer complaint narrative</th>\n",
       "      <td>NaN</td>\n",
       "      <td>NaN</td>\n",
       "      <td>NaN</td>\n",
       "      <td>NaN</td>\n",
       "      <td>NaN</td>\n",
       "      <td>NaN</td>\n",
       "      <td>NaN</td>\n",
       "      <td>NaN</td>\n",
       "      <td>NaN</td>\n",
       "      <td>NaN</td>\n",
       "      <td>NaN</td>\n",
       "      <td>NaN</td>\n",
       "      <td>NaN</td>\n",
       "      <td>NaN</td>\n",
       "      <td>NaN</td>\n",
       "    </tr>\n",
       "    <tr>\n",
       "      <th>Company public response</th>\n",
       "      <td>Company believes it acted appropriately as aut...</td>\n",
       "      <td>NaN</td>\n",
       "      <td>NaN</td>\n",
       "      <td>NaN</td>\n",
       "      <td>NaN</td>\n",
       "      <td>NaN</td>\n",
       "      <td>Company believes it acted appropriately as aut...</td>\n",
       "      <td>NaN</td>\n",
       "      <td>Company believes the complaint is the result o...</td>\n",
       "      <td>Company believes it acted appropriately as aut...</td>\n",
       "      <td>Company believes it acted appropriately as aut...</td>\n",
       "      <td>Company believes complaint caused principally ...</td>\n",
       "      <td>NaN</td>\n",
       "      <td>NaN</td>\n",
       "      <td>NaN</td>\n",
       "    </tr>\n",
       "    <tr>\n",
       "      <th>Company</th>\n",
       "      <td>Eastern Account Systems of Connecticut, Inc.</td>\n",
       "      <td>OneMain Financial Holdings, LLC</td>\n",
       "      <td>Transworld Systems Inc.</td>\n",
       "      <td>Navy FCU</td>\n",
       "      <td>Navy FCU</td>\n",
       "      <td>Hunter Warfield, Inc.</td>\n",
       "      <td>Amsher Collection Services, Inc.</td>\n",
       "      <td>Bayview Loan Servicing, LLC</td>\n",
       "      <td>CCS Financial Services, Inc.</td>\n",
       "      <td>Titan Receivables, Inc.</td>\n",
       "      <td>Professional Placement Services, LLC</td>\n",
       "      <td>Credit Karma, Inc.</td>\n",
       "      <td>Amsher Collection Services, Inc.</td>\n",
       "      <td>Ocwen</td>\n",
       "      <td>Asset Recovery Inc</td>\n",
       "    </tr>\n",
       "    <tr>\n",
       "      <th>State</th>\n",
       "      <td>CA</td>\n",
       "      <td>AL</td>\n",
       "      <td>CT</td>\n",
       "      <td>VA</td>\n",
       "      <td>IN</td>\n",
       "      <td>OH</td>\n",
       "      <td>OR</td>\n",
       "      <td>VA</td>\n",
       "      <td>CA</td>\n",
       "      <td>CA</td>\n",
       "      <td>MN</td>\n",
       "      <td>CA</td>\n",
       "      <td>AL</td>\n",
       "      <td>NC</td>\n",
       "      <td>NY</td>\n",
       "    </tr>\n",
       "    <tr>\n",
       "      <th>ZIP code</th>\n",
       "      <td>900XX</td>\n",
       "      <td>35094</td>\n",
       "      <td>06516</td>\n",
       "      <td>235XX</td>\n",
       "      <td>46143</td>\n",
       "      <td>43016</td>\n",
       "      <td>976XX</td>\n",
       "      <td>234XX</td>\n",
       "      <td>913XX</td>\n",
       "      <td>953XX</td>\n",
       "      <td>554XX</td>\n",
       "      <td>94134</td>\n",
       "      <td>35135</td>\n",
       "      <td>280XX</td>\n",
       "      <td>115XX</td>\n",
       "    </tr>\n",
       "    <tr>\n",
       "      <th>Tags</th>\n",
       "      <td>NaN</td>\n",
       "      <td>NaN</td>\n",
       "      <td>NaN</td>\n",
       "      <td>Servicemember</td>\n",
       "      <td>NaN</td>\n",
       "      <td>NaN</td>\n",
       "      <td>NaN</td>\n",
       "      <td>NaN</td>\n",
       "      <td>Servicemember</td>\n",
       "      <td>NaN</td>\n",
       "      <td>Servicemember</td>\n",
       "      <td>NaN</td>\n",
       "      <td>NaN</td>\n",
       "      <td>NaN</td>\n",
       "      <td>NaN</td>\n",
       "    </tr>\n",
       "    <tr>\n",
       "      <th>Consumer consent provided?</th>\n",
       "      <td>NaN</td>\n",
       "      <td>NaN</td>\n",
       "      <td>NaN</td>\n",
       "      <td>NaN</td>\n",
       "      <td>NaN</td>\n",
       "      <td>NaN</td>\n",
       "      <td>NaN</td>\n",
       "      <td>NaN</td>\n",
       "      <td>NaN</td>\n",
       "      <td>NaN</td>\n",
       "      <td>NaN</td>\n",
       "      <td>Consent not provided</td>\n",
       "      <td>NaN</td>\n",
       "      <td>NaN</td>\n",
       "      <td>NaN</td>\n",
       "    </tr>\n",
       "    <tr>\n",
       "      <th>Submitted via</th>\n",
       "      <td>Web</td>\n",
       "      <td>Phone</td>\n",
       "      <td>Web</td>\n",
       "      <td>Web</td>\n",
       "      <td>Referral</td>\n",
       "      <td>Web</td>\n",
       "      <td>Web</td>\n",
       "      <td>Web</td>\n",
       "      <td>Web</td>\n",
       "      <td>Web</td>\n",
       "      <td>Web</td>\n",
       "      <td>Web</td>\n",
       "      <td>Web</td>\n",
       "      <td>Web</td>\n",
       "      <td>Web</td>\n",
       "    </tr>\n",
       "    <tr>\n",
       "      <th>Date sent to company</th>\n",
       "      <td>03/21/2016</td>\n",
       "      <td>03/21/2016</td>\n",
       "      <td>03/21/2016</td>\n",
       "      <td>03/21/2016</td>\n",
       "      <td>03/21/2016</td>\n",
       "      <td>03/21/2016</td>\n",
       "      <td>03/21/2016</td>\n",
       "      <td>03/21/2016</td>\n",
       "      <td>03/21/2016</td>\n",
       "      <td>03/21/2016</td>\n",
       "      <td>03/21/2016</td>\n",
       "      <td>03/21/2016</td>\n",
       "      <td>03/21/2016</td>\n",
       "      <td>03/20/2016</td>\n",
       "      <td>03/20/2016</td>\n",
       "    </tr>\n",
       "    <tr>\n",
       "      <th>Company response to consumer</th>\n",
       "      <td>Closed with explanation</td>\n",
       "      <td>In progress</td>\n",
       "      <td>In progress</td>\n",
       "      <td>In progress</td>\n",
       "      <td>In progress</td>\n",
       "      <td>In progress</td>\n",
       "      <td>Closed with explanation</td>\n",
       "      <td>In progress</td>\n",
       "      <td>Closed with explanation</td>\n",
       "      <td>Closed with explanation</td>\n",
       "      <td>Closed with explanation</td>\n",
       "      <td>Closed with explanation</td>\n",
       "      <td>In progress</td>\n",
       "      <td>Closed with explanation</td>\n",
       "      <td>In progress</td>\n",
       "    </tr>\n",
       "    <tr>\n",
       "      <th>Timely response?</th>\n",
       "      <td>Yes</td>\n",
       "      <td>Yes</td>\n",
       "      <td>Yes</td>\n",
       "      <td>Yes</td>\n",
       "      <td>Yes</td>\n",
       "      <td>Yes</td>\n",
       "      <td>Yes</td>\n",
       "      <td>Yes</td>\n",
       "      <td>Yes</td>\n",
       "      <td>Yes</td>\n",
       "      <td>Yes</td>\n",
       "      <td>Yes</td>\n",
       "      <td>Yes</td>\n",
       "      <td>Yes</td>\n",
       "      <td>Yes</td>\n",
       "    </tr>\n",
       "    <tr>\n",
       "      <th>Consumer disputed?</th>\n",
       "      <td>No</td>\n",
       "      <td>No</td>\n",
       "      <td>No</td>\n",
       "      <td>No</td>\n",
       "      <td>No</td>\n",
       "      <td>No</td>\n",
       "      <td>No</td>\n",
       "      <td>No</td>\n",
       "      <td>No</td>\n",
       "      <td>No</td>\n",
       "      <td>No</td>\n",
       "      <td>No</td>\n",
       "      <td>No</td>\n",
       "      <td>No</td>\n",
       "      <td>No</td>\n",
       "    </tr>\n",
       "    <tr>\n",
       "      <th>Complaint ID</th>\n",
       "      <td>1841695</td>\n",
       "      <td>1842862</td>\n",
       "      <td>1841754</td>\n",
       "      <td>1841976</td>\n",
       "      <td>1842011</td>\n",
       "      <td>1841345</td>\n",
       "      <td>1841387</td>\n",
       "      <td>1841285</td>\n",
       "      <td>1841983</td>\n",
       "      <td>1842392</td>\n",
       "      <td>1840772</td>\n",
       "      <td>1840797</td>\n",
       "      <td>1840920</td>\n",
       "      <td>1840900</td>\n",
       "      <td>1840866</td>\n",
       "    </tr>\n",
       "  </tbody>\n",
       "</table>\n",
       "</div>"
      ],
      "text/plain": [
       "                                                                             0   \\\n",
       "Date received                                                        03/21/2016   \n",
       "Product                                                         Debt collection   \n",
       "Sub-product                               Other (i.e. phone, health club, etc.)   \n",
       "Issue                                     Cont'd attempts collect debt not owed   \n",
       "Sub-issue                                                         Debt was paid   \n",
       "Consumer complaint narrative                                                NaN   \n",
       "Company public response       Company believes it acted appropriately as aut...   \n",
       "Company                            Eastern Account Systems of Connecticut, Inc.   \n",
       "State                                                                        CA   \n",
       "ZIP code                                                                  900XX   \n",
       "Tags                                                                        NaN   \n",
       "Consumer consent provided?                                                  NaN   \n",
       "Submitted via                                                               Web   \n",
       "Date sent to company                                                 03/21/2016   \n",
       "Company response to consumer                            Closed with explanation   \n",
       "Timely response?                                                            Yes   \n",
       "Consumer disputed?                                                           No   \n",
       "Complaint ID                                                            1841695   \n",
       "\n",
       "                                                               1   \\\n",
       "Date received                                          03/21/2016   \n",
       "Product                                             Consumer Loan   \n",
       "Sub-product                               Personal line of credit   \n",
       "Issue                         Problems when you are unable to pay   \n",
       "Sub-issue                                                     NaN   \n",
       "Consumer complaint narrative                                  NaN   \n",
       "Company public response                                       NaN   \n",
       "Company                           OneMain Financial Holdings, LLC   \n",
       "State                                                          AL   \n",
       "ZIP code                                                    35094   \n",
       "Tags                                                          NaN   \n",
       "Consumer consent provided?                                    NaN   \n",
       "Submitted via                                               Phone   \n",
       "Date sent to company                                   03/21/2016   \n",
       "Company response to consumer                          In progress   \n",
       "Timely response?                                              Yes   \n",
       "Consumer disputed?                                             No   \n",
       "Complaint ID                                              1842862   \n",
       "\n",
       "                                                                 2   \\\n",
       "Date received                                            03/21/2016   \n",
       "Product                                             Debt collection   \n",
       "Sub-product                   Other (i.e. phone, health club, etc.)   \n",
       "Issue                         Cont'd attempts collect debt not owed   \n",
       "Sub-issue                                          Debt is not mine   \n",
       "Consumer complaint narrative                                    NaN   \n",
       "Company public response                                         NaN   \n",
       "Company                                     Transworld Systems Inc.   \n",
       "State                                                            CT   \n",
       "ZIP code                                                      06516   \n",
       "Tags                                                            NaN   \n",
       "Consumer consent provided?                                      NaN   \n",
       "Submitted via                                                   Web   \n",
       "Date sent to company                                     03/21/2016   \n",
       "Company response to consumer                            In progress   \n",
       "Timely response?                                                Yes   \n",
       "Consumer disputed?                                               No   \n",
       "Complaint ID                                                1841754   \n",
       "\n",
       "                                                        3   \\\n",
       "Date received                                   03/21/2016   \n",
       "Product                                      Consumer Loan   \n",
       "Sub-product                                   Vehicle loan   \n",
       "Issue                         Taking out the loan or lease   \n",
       "Sub-issue                                              NaN   \n",
       "Consumer complaint narrative                           NaN   \n",
       "Company public response                                NaN   \n",
       "Company                                           Navy FCU   \n",
       "State                                                   VA   \n",
       "ZIP code                                             235XX   \n",
       "Tags                                         Servicemember   \n",
       "Consumer consent provided?                             NaN   \n",
       "Submitted via                                          Web   \n",
       "Date sent to company                            03/21/2016   \n",
       "Company response to consumer                   In progress   \n",
       "Timely response?                                       Yes   \n",
       "Consumer disputed?                                      No   \n",
       "Complaint ID                                       1841976   \n",
       "\n",
       "                                                                 4   \\\n",
       "Date received                                            03/21/2016   \n",
       "Product                                     Bank account or service   \n",
       "Sub-product                                        Checking account   \n",
       "Issue                         Problems caused by my funds being low   \n",
       "Sub-issue                                                       NaN   \n",
       "Consumer complaint narrative                                    NaN   \n",
       "Company public response                                         NaN   \n",
       "Company                                                    Navy FCU   \n",
       "State                                                            IN   \n",
       "ZIP code                                                      46143   \n",
       "Tags                                                            NaN   \n",
       "Consumer consent provided?                                      NaN   \n",
       "Submitted via                                              Referral   \n",
       "Date sent to company                                     03/21/2016   \n",
       "Company response to consumer                            In progress   \n",
       "Timely response?                                                Yes   \n",
       "Consumer disputed?                                               No   \n",
       "Complaint ID                                                1842011   \n",
       "\n",
       "                                                                 5   \\\n",
       "Date received                                            03/21/2016   \n",
       "Product                                             Debt collection   \n",
       "Sub-product                   Other (i.e. phone, health club, etc.)   \n",
       "Issue                            False statements or representation   \n",
       "Sub-issue                         Attempted to collect wrong amount   \n",
       "Consumer complaint narrative                                    NaN   \n",
       "Company public response                                         NaN   \n",
       "Company                                       Hunter Warfield, Inc.   \n",
       "State                                                            OH   \n",
       "ZIP code                                                      43016   \n",
       "Tags                                                            NaN   \n",
       "Consumer consent provided?                                      NaN   \n",
       "Submitted via                                                   Web   \n",
       "Date sent to company                                     03/21/2016   \n",
       "Company response to consumer                            In progress   \n",
       "Timely response?                                                Yes   \n",
       "Consumer disputed?                                               No   \n",
       "Complaint ID                                                1841345   \n",
       "\n",
       "                                                                             6   \\\n",
       "Date received                                                        03/21/2016   \n",
       "Product                                                         Debt collection   \n",
       "Sub-product                               Other (i.e. phone, health club, etc.)   \n",
       "Issue                                     Cont'd attempts collect debt not owed   \n",
       "Sub-issue                                                      Debt is not mine   \n",
       "Consumer complaint narrative                                                NaN   \n",
       "Company public response       Company believes it acted appropriately as aut...   \n",
       "Company                                        Amsher Collection Services, Inc.   \n",
       "State                                                                        OR   \n",
       "ZIP code                                                                  976XX   \n",
       "Tags                                                                        NaN   \n",
       "Consumer consent provided?                                                  NaN   \n",
       "Submitted via                                                               Web   \n",
       "Date sent to company                                                 03/21/2016   \n",
       "Company response to consumer                            Closed with explanation   \n",
       "Timely response?                                                            Yes   \n",
       "Consumer disputed?                                                           No   \n",
       "Complaint ID                                                            1841387   \n",
       "\n",
       "                                                                    7   \\\n",
       "Date received                                               03/21/2016   \n",
       "Product                                                       Mortgage   \n",
       "Sub-product                                Conventional fixed mortgage   \n",
       "Issue                         Loan servicing, payments, escrow account   \n",
       "Sub-issue                                                          NaN   \n",
       "Consumer complaint narrative                                       NaN   \n",
       "Company public response                                            NaN   \n",
       "Company                                    Bayview Loan Servicing, LLC   \n",
       "State                                                               VA   \n",
       "ZIP code                                                         234XX   \n",
       "Tags                                                               NaN   \n",
       "Consumer consent provided?                                         NaN   \n",
       "Submitted via                                                      Web   \n",
       "Date sent to company                                        03/21/2016   \n",
       "Company response to consumer                               In progress   \n",
       "Timely response?                                                   Yes   \n",
       "Consumer disputed?                                                  No   \n",
       "Complaint ID                                                   1841285   \n",
       "\n",
       "                                                                             8   \\\n",
       "Date received                                                        03/21/2016   \n",
       "Product                                                         Debt collection   \n",
       "Sub-product                                                                Auto   \n",
       "Issue                                     Cont'd attempts collect debt not owed   \n",
       "Sub-issue                                                      Debt is not mine   \n",
       "Consumer complaint narrative                                                NaN   \n",
       "Company public response       Company believes the complaint is the result o...   \n",
       "Company                                            CCS Financial Services, Inc.   \n",
       "State                                                                        CA   \n",
       "ZIP code                                                                  913XX   \n",
       "Tags                                                              Servicemember   \n",
       "Consumer consent provided?                                                  NaN   \n",
       "Submitted via                                                               Web   \n",
       "Date sent to company                                                 03/21/2016   \n",
       "Company response to consumer                            Closed with explanation   \n",
       "Timely response?                                                            Yes   \n",
       "Consumer disputed?                                                           No   \n",
       "Complaint ID                                                            1841983   \n",
       "\n",
       "                                                                             9   \\\n",
       "Date received                                                        03/21/2016   \n",
       "Product                                                         Debt collection   \n",
       "Sub-product                               Other (i.e. phone, health club, etc.)   \n",
       "Issue                                        False statements or representation   \n",
       "Sub-issue                                     Attempted to collect wrong amount   \n",
       "Consumer complaint narrative                                                NaN   \n",
       "Company public response       Company believes it acted appropriately as aut...   \n",
       "Company                                                 Titan Receivables, Inc.   \n",
       "State                                                                        CA   \n",
       "ZIP code                                                                  953XX   \n",
       "Tags                                                                        NaN   \n",
       "Consumer consent provided?                                                  NaN   \n",
       "Submitted via                                                               Web   \n",
       "Date sent to company                                                 03/21/2016   \n",
       "Company response to consumer                            Closed with explanation   \n",
       "Timely response?                                                            Yes   \n",
       "Consumer disputed?                                                           No   \n",
       "Complaint ID                                                            1842392   \n",
       "\n",
       "                                                                             10  \\\n",
       "Date received                                                        03/21/2016   \n",
       "Product                                                         Debt collection   \n",
       "Sub-product                               Other (i.e. phone, health club, etc.)   \n",
       "Issue                                     Cont'd attempts collect debt not owed   \n",
       "Sub-issue                                     Debt resulted from identity theft   \n",
       "Consumer complaint narrative                                                NaN   \n",
       "Company public response       Company believes it acted appropriately as aut...   \n",
       "Company                                    Professional Placement Services, LLC   \n",
       "State                                                                        MN   \n",
       "ZIP code                                                                  554XX   \n",
       "Tags                                                              Servicemember   \n",
       "Consumer consent provided?                                                  NaN   \n",
       "Submitted via                                                               Web   \n",
       "Date sent to company                                                 03/21/2016   \n",
       "Company response to consumer                            Closed with explanation   \n",
       "Timely response?                                                            Yes   \n",
       "Consumer disputed?                                                           No   \n",
       "Complaint ID                                                            1840772   \n",
       "\n",
       "                                                                             11  \\\n",
       "Date received                                                        03/21/2016   \n",
       "Product                                                        Credit reporting   \n",
       "Sub-product                                                                 NaN   \n",
       "Issue                                  Unable to get credit report/credit score   \n",
       "Sub-issue                                Problem getting report or credit score   \n",
       "Consumer complaint narrative                                                NaN   \n",
       "Company public response       Company believes complaint caused principally ...   \n",
       "Company                                                      Credit Karma, Inc.   \n",
       "State                                                                        CA   \n",
       "ZIP code                                                                  94134   \n",
       "Tags                                                                        NaN   \n",
       "Consumer consent provided?                                 Consent not provided   \n",
       "Submitted via                                                               Web   \n",
       "Date sent to company                                                 03/21/2016   \n",
       "Company response to consumer                            Closed with explanation   \n",
       "Timely response?                                                            Yes   \n",
       "Consumer disputed?                                                           No   \n",
       "Complaint ID                                                            1840797   \n",
       "\n",
       "                                                                 12  \\\n",
       "Date received                                            03/21/2016   \n",
       "Product                                             Debt collection   \n",
       "Sub-product                                                 Medical   \n",
       "Issue                         Cont'd attempts collect debt not owed   \n",
       "Sub-issue                                          Debt is not mine   \n",
       "Consumer complaint narrative                                    NaN   \n",
       "Company public response                                         NaN   \n",
       "Company                            Amsher Collection Services, Inc.   \n",
       "State                                                            AL   \n",
       "ZIP code                                                      35135   \n",
       "Tags                                                            NaN   \n",
       "Consumer consent provided?                                      NaN   \n",
       "Submitted via                                                   Web   \n",
       "Date sent to company                                     03/21/2016   \n",
       "Company response to consumer                            In progress   \n",
       "Timely response?                                                Yes   \n",
       "Consumer disputed?                                               No   \n",
       "Complaint ID                                                1840920   \n",
       "\n",
       "                                                                13  \\\n",
       "Date received                                           03/20/2016   \n",
       "Product                                            Debt collection   \n",
       "Sub-product                                               Mortgage   \n",
       "Issue                              Disclosure verification of debt   \n",
       "Sub-issue                     Right to dispute notice not received   \n",
       "Consumer complaint narrative                                   NaN   \n",
       "Company public response                                        NaN   \n",
       "Company                                                      Ocwen   \n",
       "State                                                           NC   \n",
       "ZIP code                                                     280XX   \n",
       "Tags                                                           NaN   \n",
       "Consumer consent provided?                                     NaN   \n",
       "Submitted via                                                  Web   \n",
       "Date sent to company                                    03/20/2016   \n",
       "Company response to consumer               Closed with explanation   \n",
       "Timely response?                                               Yes   \n",
       "Consumer disputed?                                              No   \n",
       "Complaint ID                                               1840900   \n",
       "\n",
       "                                                                14  \n",
       "Date received                                           03/20/2016  \n",
       "Product                                            Debt collection  \n",
       "Sub-product                                                Medical  \n",
       "Issue                              Disclosure verification of debt  \n",
       "Sub-issue                     Right to dispute notice not received  \n",
       "Consumer complaint narrative                                   NaN  \n",
       "Company public response                                        NaN  \n",
       "Company                                         Asset Recovery Inc  \n",
       "State                                                           NY  \n",
       "ZIP code                                                     115XX  \n",
       "Tags                                                           NaN  \n",
       "Consumer consent provided?                                     NaN  \n",
       "Submitted via                                                  Web  \n",
       "Date sent to company                                    03/20/2016  \n",
       "Company response to consumer                           In progress  \n",
       "Timely response?                                               Yes  \n",
       "Consumer disputed?                                              No  \n",
       "Complaint ID                                               1840866  "
      ]
     },
     "execution_count": 3,
     "metadata": {},
     "output_type": "execute_result"
    }
   ],
   "source": [
    "df.head(15).T"
   ]
  },
  {
   "cell_type": "code",
   "execution_count": 4,
   "metadata": {
    "collapsed": false
   },
   "outputs": [
    {
     "data": {
      "text/plain": [
       "(537992, 18)"
      ]
     },
     "execution_count": 4,
     "metadata": {},
     "output_type": "execute_result"
    }
   ],
   "source": [
    "df.shape"
   ]
  },
  {
   "cell_type": "code",
   "execution_count": 5,
   "metadata": {
    "collapsed": false
   },
   "outputs": [
    {
     "name": "stdout",
     "output_type": "stream",
     "text": [
      "<class 'pandas.core.frame.DataFrame'>\n",
      "Int64Index: 537992 entries, 0 to 537991\n",
      "Data columns (total 18 columns):\n",
      "Date received                   537992 non-null object\n",
      "Product                         537992 non-null object\n",
      "Sub-product                     386187 non-null object\n",
      "Issue                           537979 non-null object\n",
      "Sub-issue                       203546 non-null object\n",
      "Consumer complaint narrative    59697 non-null object\n",
      "Company public response         75922 non-null object\n",
      "Company                         537992 non-null object\n",
      "State                           530979 non-null object\n",
      "ZIP code                        533186 non-null object\n",
      "Tags                            75267 non-null object\n",
      "Consumer consent provided?      110728 non-null object\n",
      "Submitted via                   537989 non-null object\n",
      "Date sent to company            537992 non-null object\n",
      "Company response to consumer    537992 non-null object\n",
      "Timely response?                537992 non-null object\n",
      "Consumer disputed?              537992 non-null object\n",
      "Complaint ID                    537992 non-null int64\n",
      "dtypes: int64(1), object(17)\n",
      "memory usage: 78.0+ MB\n"
     ]
    }
   ],
   "source": [
    "df.info()"
   ]
  },
  {
   "cell_type": "code",
   "execution_count": 7,
   "metadata": {
    "collapsed": false
   },
   "outputs": [],
   "source": [
    "#df=df.sample(frac=0.1,replace=True)"
   ]
  },
  {
   "cell_type": "code",
   "execution_count": 8,
   "metadata": {
    "collapsed": false
   },
   "outputs": [
    {
     "data": {
      "text/plain": [
       "(537992, 18)"
      ]
     },
     "execution_count": 8,
     "metadata": {},
     "output_type": "execute_result"
    }
   ],
   "source": [
    "df.shape"
   ]
  },
  {
   "cell_type": "code",
   "execution_count": 9,
   "metadata": {
    "collapsed": false
   },
   "outputs": [
    {
     "data": {
      "text/plain": [
       "(3559,)"
      ]
     },
     "execution_count": 9,
     "metadata": {},
     "output_type": "execute_result"
    }
   ],
   "source": [
    "df['Company'].value_counts(dropna=False).shape"
   ]
  },
  {
   "cell_type": "code",
   "execution_count": 10,
   "metadata": {
    "collapsed": false
   },
   "outputs": [
    {
     "data": {
      "text/plain": [
       "Mortgage                   182212\n",
       "Debt collection             97237\n",
       "Credit reporting            87166\n",
       "Credit card                 64639\n",
       "Bank account or service     60977\n",
       "Consumer Loan               20100\n",
       "Student loan                15392\n",
       "Payday loan                  3751\n",
       "Money transfers              3669\n",
       "Prepaid card                 2345\n",
       "Other financial service       504\n",
       "Name: Product, dtype: int64"
      ]
     },
     "execution_count": 10,
     "metadata": {},
     "output_type": "execute_result"
    }
   ],
   "source": [
    "df['Product'].value_counts(dropna=False)"
   ]
  },
  {
   "cell_type": "code",
   "execution_count": 11,
   "metadata": {
    "collapsed": false
   },
   "outputs": [
    {
     "data": {
      "text/plain": [
       "(68,)"
      ]
     },
     "execution_count": 11,
     "metadata": {},
     "output_type": "execute_result"
    }
   ],
   "source": [
    "df['Sub-issue'].value_counts().shape"
   ]
  },
  {
   "cell_type": "code",
   "execution_count": 12,
   "metadata": {
    "collapsed": false,
    "scrolled": true
   },
   "outputs": [
    {
     "data": {
      "text/plain": [
       "Loan modification,collection,foreclosure    95392\n",
       "Incorrect information on credit report      63350\n",
       "Loan servicing, payments, escrow account    58655\n",
       "Cont'd attempts collect debt not owed       40685\n",
       "Account opening, closing, or management     25940\n",
       "Communication tactics                       17700\n",
       "Disclosure verification of debt             17431\n",
       "Deposits and withdrawals                    16770\n",
       "Application, originator, mortgage broker    12969\n",
       "Billing disputes                            10715\n",
       "Other                                       10481\n",
       "Credit reporting company's investigation     9943\n",
       "Managing the loan or lease                   9501\n",
       "Problems caused by my funds being low        8836\n",
       "False statements or representation           7972\n",
       "Unable to get credit report/credit score     7774\n",
       "Improper contact or sharing of info          7139\n",
       "Settlement process and costs                 6719\n",
       "Problems when you are unable to pay          6658\n",
       "Taking/threatening an illegal action         6310\n",
       "Identity theft / Fraud / Embezzlement        5703\n",
       "Dealing with my lender or servicer           5594\n",
       "Making/receiving payments, sending money     5211\n",
       "Closing/Cancelling account                   4639\n",
       "APR or interest rate                         4534\n",
       "Credit decision / Underwriting               4300\n",
       "Using a debit or ATM card                    4212\n",
       "Repaying your loan                           3845\n",
       "Can't repay my loan                          3771\n",
       "Improper use of my credit report             3253\n",
       "                                            ...  \n",
       "Other service issues                          337\n",
       "Can't stop charges to bank account            335\n",
       "Payment to acct not credited                  284\n",
       "Applied for loan/did not receive money        278\n",
       "Arbitration                                   247\n",
       "Sale of account                               239\n",
       "Shopping for a line of credit                 230\n",
       "Wrong amount charged or received              197\n",
       "Cash advance                                  187\n",
       "Charged bank acct wrong day or amt            187\n",
       "Overlimit fee                                 175\n",
       "Balance transfer fee                          166\n",
       "Cash advance fee                              156\n",
       "Adding money                                  148\n",
       "Customer service/Customer relations           146\n",
       "Incorrect/missing disclosures or info         144\n",
       "Fees                                          132\n",
       "Convenience checks                            113\n",
       "Excessive fees                                 56\n",
       "Unexpected/Other fees                          54\n",
       "Lender repossessed or sold the vehicle         47\n",
       "Advertising, marketing or disclosures          40\n",
       "Overdraft, savings or rewards features         30\n",
       "Disclosures                                    27\n",
       "Lost or stolen check                           26\n",
       "Lost or stolen money order                     20\n",
       "Incorrect exchange rate                        13\n",
       "Lender sold the property                        5\n",
       "Lender damaged or destroyed vehicle             5\n",
       "Lender damaged or destroyed property            1\n",
       "Name: Issue, dtype: int64"
      ]
     },
     "execution_count": 12,
     "metadata": {},
     "output_type": "execute_result"
    }
   ],
   "source": [
    "df['Issue'].value_counts()"
   ]
  },
  {
   "cell_type": "code",
   "execution_count": 13,
   "metadata": {
    "collapsed": false
   },
   "outputs": [
    {
     "data": {
      "text/plain": [
       "NaN                                                                                                                        462070\n",
       "Company chooses not to provide a public response                                                                            52483\n",
       "Company believes it acted appropriately as authorized by contract or law                                                    13855\n",
       "Company has responded to the consumer and the CFPB and chooses not to provide a public response                              3283\n",
       "Company believes complaint caused principally by actions of third party outside the control or direction of the company      1412\n",
       "Company disputes the facts presented in the complaint                                                                        1288\n",
       "Company believes the complaint is the result of a misunderstanding                                                           1247\n",
       "Company can't verify or dispute the facts in the complaint                                                                    987\n",
       "Company believes complaint is the result of an isolated error                                                                 888\n",
       "Company believes complaint represents an opportunity for improvement to better serve consumers                                454\n",
       "Company believes complaint relates to a discontinued policy or procedure                                                       25\n",
       "Name: Company public response, dtype: int64"
      ]
     },
     "execution_count": 13,
     "metadata": {},
     "output_type": "execute_result"
    }
   ],
   "source": [
    "df['Company public response'].value_counts(dropna=False)"
   ]
  },
  {
   "cell_type": "code",
   "execution_count": 14,
   "metadata": {
    "collapsed": false
   },
   "outputs": [
    {
     "data": {
      "text/plain": [
       "Closed with explanation            390227\n",
       "Closed with non-monetary relief     67985\n",
       "Closed with monetary relief         37186\n",
       "Closed without relief               17909\n",
       "Closed                              13069\n",
       "Closed with relief                   5305\n",
       "In progress                          3667\n",
       "Untimely response                    2644\n",
       "Name: Company response to consumer, dtype: int64"
      ]
     },
     "execution_count": 14,
     "metadata": {},
     "output_type": "execute_result"
    }
   ],
   "source": [
    "df['Company response to consumer'].value_counts(dropna=False)"
   ]
  },
  {
   "cell_type": "code",
   "execution_count": 15,
   "metadata": {
    "collapsed": false
   },
   "outputs": [
    {
     "data": {
      "text/plain": [
       "NaN                              462725\n",
       "Older American                    43743\n",
       "Servicemember                     25396\n",
       "Older American, Servicemember      6128\n",
       "Name: Tags, dtype: int64"
      ]
     },
     "execution_count": 15,
     "metadata": {},
     "output_type": "execute_result"
    }
   ],
   "source": [
    "df['Tags'].value_counts(dropna=False)"
   ]
  },
  {
   "cell_type": "code",
   "execution_count": 16,
   "metadata": {
    "collapsed": false
   },
   "outputs": [
    {
     "data": {
      "text/plain": [
       "'12/31/2015'"
      ]
     },
     "execution_count": 16,
     "metadata": {},
     "output_type": "execute_result"
    }
   ],
   "source": [
    "df['Date received'].max()"
   ]
  },
  {
   "cell_type": "code",
   "execution_count": 17,
   "metadata": {
    "collapsed": false
   },
   "outputs": [
    {
     "data": {
      "text/plain": [
       "'01/01/2012'"
      ]
     },
     "execution_count": 17,
     "metadata": {},
     "output_type": "execute_result"
    }
   ],
   "source": [
    "df['Date received'].min()"
   ]
  },
  {
   "cell_type": "code",
   "execution_count": 18,
   "metadata": {
    "collapsed": false
   },
   "outputs": [
    {
     "data": {
      "text/plain": [
       "Web            348870\n",
       "Referral       106700\n",
       "Phone           38683\n",
       "Postal mail     35504\n",
       "Fax              7888\n",
       "Email             344\n",
       "NaN                 3\n",
       "Name: Submitted via, dtype: int64"
      ]
     },
     "execution_count": 18,
     "metadata": {},
     "output_type": "execute_result"
    }
   ],
   "source": [
    "df['Submitted via'].value_counts(dropna=False)"
   ]
  },
  {
   "cell_type": "code",
   "execution_count": 19,
   "metadata": {
    "collapsed": false
   },
   "outputs": [
    {
     "data": {
      "text/plain": [
       "Yes    524461\n",
       "No      13531\n",
       "Name: Timely response?, dtype: int64"
      ]
     },
     "execution_count": 19,
     "metadata": {},
     "output_type": "execute_result"
    }
   ],
   "source": [
    "df['Timely response?'].value_counts(dropna=False)"
   ]
  },
  {
   "cell_type": "code",
   "execution_count": 20,
   "metadata": {
    "collapsed": false
   },
   "outputs": [
    {
     "data": {
      "text/plain": [
       "No     429175\n",
       "Yes    108817\n",
       "Name: Consumer disputed?, dtype: int64"
      ]
     },
     "execution_count": 20,
     "metadata": {},
     "output_type": "execute_result"
    }
   ],
   "source": [
    "df['Consumer disputed?'].value_counts(dropna=False)"
   ]
  },
  {
   "cell_type": "code",
   "execution_count": 21,
   "metadata": {
    "collapsed": true
   },
   "outputs": [],
   "source": [
    "company_complaitns_counts = df['Company'].value_counts()\n",
    "df['company_complaint_counts'] = df['Company'].apply(lambda x: company_complaitns_counts[x])"
   ]
  },
  {
   "cell_type": "code",
   "execution_count": 22,
   "metadata": {
    "collapsed": false
   },
   "outputs": [],
   "source": [
    "company = pd.crosstab(df['Company'], df['Consumer disputed?'])"
   ]
  },
  {
   "cell_type": "code",
   "execution_count": 23,
   "metadata": {
    "collapsed": false
   },
   "outputs": [
    {
     "data": {
      "text/html": [
       "<div>\n",
       "<table border=\"1\" class=\"dataframe\">\n",
       "  <thead>\n",
       "    <tr style=\"text-align: right;\">\n",
       "      <th>Consumer disputed?</th>\n",
       "      <th>No</th>\n",
       "      <th>Yes</th>\n",
       "    </tr>\n",
       "    <tr>\n",
       "      <th>Company</th>\n",
       "      <th></th>\n",
       "      <th></th>\n",
       "    </tr>\n",
       "  </thead>\n",
       "  <tbody>\n",
       "    <tr>\n",
       "      <th>(Former)Shapiro, Swertfeger &amp; Hasty, LLP</th>\n",
       "      <td>4</td>\n",
       "      <td>0</td>\n",
       "    </tr>\n",
       "    <tr>\n",
       "      <th>1st 2nd Mortgage Company Of NJ, Inc.</th>\n",
       "      <td>1</td>\n",
       "      <td>0</td>\n",
       "    </tr>\n",
       "    <tr>\n",
       "      <th>1st Alliance Lending</th>\n",
       "      <td>11</td>\n",
       "      <td>2</td>\n",
       "    </tr>\n",
       "    <tr>\n",
       "      <th>1st Capital Mortgage, LLC</th>\n",
       "      <td>0</td>\n",
       "      <td>1</td>\n",
       "    </tr>\n",
       "    <tr>\n",
       "      <th>1st Fidelity Loan Servicing</th>\n",
       "      <td>5</td>\n",
       "      <td>0</td>\n",
       "    </tr>\n",
       "  </tbody>\n",
       "</table>\n",
       "</div>"
      ],
      "text/plain": [
       "Consumer disputed?                        No  Yes\n",
       "Company                                          \n",
       "(Former)Shapiro, Swertfeger & Hasty, LLP   4    0\n",
       "1st 2nd Mortgage Company Of NJ, Inc.       1    0\n",
       "1st Alliance Lending                      11    2\n",
       "1st Capital Mortgage, LLC                  0    1\n",
       "1st Fidelity Loan Servicing                5    0"
      ]
     },
     "execution_count": 23,
     "metadata": {},
     "output_type": "execute_result"
    }
   ],
   "source": [
    "company.head()"
   ]
  },
  {
   "cell_type": "code",
   "execution_count": 24,
   "metadata": {
    "collapsed": false
   },
   "outputs": [],
   "source": [
    "company['dispute_rate'] = company.Yes / (company.Yes + company.No)"
   ]
  },
  {
   "cell_type": "code",
   "execution_count": 25,
   "metadata": {
    "collapsed": false,
    "scrolled": false
   },
   "outputs": [],
   "source": [
    "company['company'] = company.index"
   ]
  },
  {
   "cell_type": "code",
   "execution_count": 26,
   "metadata": {
    "collapsed": true
   },
   "outputs": [],
   "source": [
    "company['complaint_counts'] = company['company'].apply(lambda x: company_complaitns_counts[x])"
   ]
  },
  {
   "cell_type": "code",
   "execution_count": 27,
   "metadata": {
    "collapsed": false
   },
   "outputs": [],
   "source": [
    "company = company.sort_values('complaint_counts', ascending=False)"
   ]
  },
  {
   "cell_type": "code",
   "execution_count": 28,
   "metadata": {
    "collapsed": false
   },
   "outputs": [
    {
     "data": {
      "text/html": [
       "<div>\n",
       "<table border=\"1\" class=\"dataframe\">\n",
       "  <thead>\n",
       "    <tr style=\"text-align: right;\">\n",
       "      <th>Consumer disputed?</th>\n",
       "      <th>No</th>\n",
       "      <th>Yes</th>\n",
       "      <th>dispute_rate</th>\n",
       "      <th>company</th>\n",
       "      <th>complaint_counts</th>\n",
       "    </tr>\n",
       "    <tr>\n",
       "      <th>Company</th>\n",
       "      <th></th>\n",
       "      <th></th>\n",
       "      <th></th>\n",
       "      <th></th>\n",
       "      <th></th>\n",
       "    </tr>\n",
       "  </thead>\n",
       "  <tbody>\n",
       "    <tr>\n",
       "      <th>Bank of America</th>\n",
       "      <td>42792</td>\n",
       "      <td>12260</td>\n",
       "      <td>0.222699</td>\n",
       "      <td>Bank of America</td>\n",
       "      <td>55052</td>\n",
       "    </tr>\n",
       "    <tr>\n",
       "      <th>Wells Fargo &amp; Company</th>\n",
       "      <td>31585</td>\n",
       "      <td>9472</td>\n",
       "      <td>0.230704</td>\n",
       "      <td>Wells Fargo &amp; Company</td>\n",
       "      <td>41057</td>\n",
       "    </tr>\n",
       "    <tr>\n",
       "      <th>JPMorgan Chase &amp; Co.</th>\n",
       "      <td>25556</td>\n",
       "      <td>7519</td>\n",
       "      <td>0.227332</td>\n",
       "      <td>JPMorgan Chase &amp; Co.</td>\n",
       "      <td>33075</td>\n",
       "    </tr>\n",
       "    <tr>\n",
       "      <th>Equifax</th>\n",
       "      <td>23807</td>\n",
       "      <td>6308</td>\n",
       "      <td>0.209464</td>\n",
       "      <td>Equifax</td>\n",
       "      <td>30115</td>\n",
       "    </tr>\n",
       "    <tr>\n",
       "      <th>Experian</th>\n",
       "      <td>25683</td>\n",
       "      <td>3743</td>\n",
       "      <td>0.127200</td>\n",
       "      <td>Experian</td>\n",
       "      <td>29426</td>\n",
       "    </tr>\n",
       "    <tr>\n",
       "      <th>Citibank</th>\n",
       "      <td>19748</td>\n",
       "      <td>5131</td>\n",
       "      <td>0.206238</td>\n",
       "      <td>Citibank</td>\n",
       "      <td>24879</td>\n",
       "    </tr>\n",
       "    <tr>\n",
       "      <th>TransUnion Intermediate Holdings, Inc.</th>\n",
       "      <td>20510</td>\n",
       "      <td>3659</td>\n",
       "      <td>0.151392</td>\n",
       "      <td>TransUnion Intermediate Holdings, Inc.</td>\n",
       "      <td>24169</td>\n",
       "    </tr>\n",
       "    <tr>\n",
       "      <th>Ocwen</th>\n",
       "      <td>15605</td>\n",
       "      <td>5009</td>\n",
       "      <td>0.242990</td>\n",
       "      <td>Ocwen</td>\n",
       "      <td>20614</td>\n",
       "    </tr>\n",
       "    <tr>\n",
       "      <th>Capital One</th>\n",
       "      <td>12393</td>\n",
       "      <td>2876</td>\n",
       "      <td>0.188355</td>\n",
       "      <td>Capital One</td>\n",
       "      <td>15269</td>\n",
       "    </tr>\n",
       "    <tr>\n",
       "      <th>Nationstar Mortgage</th>\n",
       "      <td>9755</td>\n",
       "      <td>3085</td>\n",
       "      <td>0.240265</td>\n",
       "      <td>Nationstar Mortgage</td>\n",
       "      <td>12840</td>\n",
       "    </tr>\n",
       "    <tr>\n",
       "      <th>U.S. Bancorp</th>\n",
       "      <td>7225</td>\n",
       "      <td>2101</td>\n",
       "      <td>0.225284</td>\n",
       "      <td>U.S. Bancorp</td>\n",
       "      <td>9326</td>\n",
       "    </tr>\n",
       "    <tr>\n",
       "      <th>Synchrony Financial</th>\n",
       "      <td>7785</td>\n",
       "      <td>1374</td>\n",
       "      <td>0.150016</td>\n",
       "      <td>Synchrony Financial</td>\n",
       "      <td>9159</td>\n",
       "    </tr>\n",
       "    <tr>\n",
       "      <th>Ditech Financial LLC</th>\n",
       "      <td>6557</td>\n",
       "      <td>1877</td>\n",
       "      <td>0.222552</td>\n",
       "      <td>Ditech Financial LLC</td>\n",
       "      <td>8434</td>\n",
       "    </tr>\n",
       "    <tr>\n",
       "      <th>Navient Solutions, Inc.</th>\n",
       "      <td>6320</td>\n",
       "      <td>1455</td>\n",
       "      <td>0.187138</td>\n",
       "      <td>Navient Solutions, Inc.</td>\n",
       "      <td>7775</td>\n",
       "    </tr>\n",
       "    <tr>\n",
       "      <th>PNC Bank N.A.</th>\n",
       "      <td>5536</td>\n",
       "      <td>1271</td>\n",
       "      <td>0.186720</td>\n",
       "      <td>PNC Bank N.A.</td>\n",
       "      <td>6807</td>\n",
       "    </tr>\n",
       "    <tr>\n",
       "      <th>Encore Capital Group</th>\n",
       "      <td>4960</td>\n",
       "      <td>1164</td>\n",
       "      <td>0.190072</td>\n",
       "      <td>Encore Capital Group</td>\n",
       "      <td>6124</td>\n",
       "    </tr>\n",
       "    <tr>\n",
       "      <th>HSBC North America Holdings Inc.</th>\n",
       "      <td>4680</td>\n",
       "      <td>1377</td>\n",
       "      <td>0.227340</td>\n",
       "      <td>HSBC North America Holdings Inc.</td>\n",
       "      <td>6057</td>\n",
       "    </tr>\n",
       "    <tr>\n",
       "      <th>Amex</th>\n",
       "      <td>4054</td>\n",
       "      <td>1505</td>\n",
       "      <td>0.270732</td>\n",
       "      <td>Amex</td>\n",
       "      <td>5559</td>\n",
       "    </tr>\n",
       "    <tr>\n",
       "      <th>SunTrust Banks, Inc.</th>\n",
       "      <td>3739</td>\n",
       "      <td>998</td>\n",
       "      <td>0.210682</td>\n",
       "      <td>SunTrust Banks, Inc.</td>\n",
       "      <td>4737</td>\n",
       "    </tr>\n",
       "    <tr>\n",
       "      <th>Discover</th>\n",
       "      <td>3704</td>\n",
       "      <td>896</td>\n",
       "      <td>0.194783</td>\n",
       "      <td>Discover</td>\n",
       "      <td>4600</td>\n",
       "    </tr>\n",
       "    <tr>\n",
       "      <th>TD Bank US Holding Company</th>\n",
       "      <td>3446</td>\n",
       "      <td>980</td>\n",
       "      <td>0.221419</td>\n",
       "      <td>TD Bank US Holding Company</td>\n",
       "      <td>4426</td>\n",
       "    </tr>\n",
       "    <tr>\n",
       "      <th>Select Portfolio Servicing, Inc</th>\n",
       "      <td>3111</td>\n",
       "      <td>1055</td>\n",
       "      <td>0.253241</td>\n",
       "      <td>Select Portfolio Servicing, Inc</td>\n",
       "      <td>4166</td>\n",
       "    </tr>\n",
       "    <tr>\n",
       "      <th>Portfolio Recovery Associates, Inc.</th>\n",
       "      <td>2524</td>\n",
       "      <td>715</td>\n",
       "      <td>0.220747</td>\n",
       "      <td>Portfolio Recovery Associates, Inc.</td>\n",
       "      <td>3239</td>\n",
       "    </tr>\n",
       "    <tr>\n",
       "      <th>Citizens Financial Group, Inc.</th>\n",
       "      <td>2475</td>\n",
       "      <td>577</td>\n",
       "      <td>0.189056</td>\n",
       "      <td>Citizens Financial Group, Inc.</td>\n",
       "      <td>3052</td>\n",
       "    </tr>\n",
       "    <tr>\n",
       "      <th>Fifth Third Financial Corporation</th>\n",
       "      <td>2265</td>\n",
       "      <td>530</td>\n",
       "      <td>0.189624</td>\n",
       "      <td>Fifth Third Financial Corporation</td>\n",
       "      <td>2795</td>\n",
       "    </tr>\n",
       "    <tr>\n",
       "      <th>Kyanite Services, Inc.</th>\n",
       "      <td>2116</td>\n",
       "      <td>614</td>\n",
       "      <td>0.224908</td>\n",
       "      <td>Kyanite Services, Inc.</td>\n",
       "      <td>2730</td>\n",
       "    </tr>\n",
       "    <tr>\n",
       "      <th>Barclays PLC</th>\n",
       "      <td>2138</td>\n",
       "      <td>491</td>\n",
       "      <td>0.186763</td>\n",
       "      <td>Barclays PLC</td>\n",
       "      <td>2629</td>\n",
       "    </tr>\n",
       "    <tr>\n",
       "      <th>ERC Holdings LLC</th>\n",
       "      <td>2037</td>\n",
       "      <td>556</td>\n",
       "      <td>0.214423</td>\n",
       "      <td>ERC Holdings LLC</td>\n",
       "      <td>2593</td>\n",
       "    </tr>\n",
       "    <tr>\n",
       "      <th>BB&amp;T Financial</th>\n",
       "      <td>1899</td>\n",
       "      <td>586</td>\n",
       "      <td>0.235815</td>\n",
       "      <td>BB&amp;T Financial</td>\n",
       "      <td>2485</td>\n",
       "    </tr>\n",
       "    <tr>\n",
       "      <th>M&amp;T Bank Corporation</th>\n",
       "      <td>1946</td>\n",
       "      <td>478</td>\n",
       "      <td>0.197195</td>\n",
       "      <td>M&amp;T Bank Corporation</td>\n",
       "      <td>2424</td>\n",
       "    </tr>\n",
       "    <tr>\n",
       "      <th>...</th>\n",
       "      <td>...</td>\n",
       "      <td>...</td>\n",
       "      <td>...</td>\n",
       "      <td>...</td>\n",
       "      <td>...</td>\n",
       "    </tr>\n",
       "    <tr>\n",
       "      <th>Pacific Mortgage Advisors, Inc.</th>\n",
       "      <td>1</td>\n",
       "      <td>0</td>\n",
       "      <td>0.000000</td>\n",
       "      <td>Pacific Mortgage Advisors, Inc.</td>\n",
       "      <td>1</td>\n",
       "    </tr>\n",
       "    <tr>\n",
       "      <th>Pacific National Lending, Inc.</th>\n",
       "      <td>1</td>\n",
       "      <td>0</td>\n",
       "      <td>0.000000</td>\n",
       "      <td>Pacific National Lending, Inc.</td>\n",
       "      <td>1</td>\n",
       "    </tr>\n",
       "    <tr>\n",
       "      <th>Pacific Residential Mortgage, LLC</th>\n",
       "      <td>0</td>\n",
       "      <td>1</td>\n",
       "      <td>1.000000</td>\n",
       "      <td>Pacific Residential Mortgage, LLC</td>\n",
       "      <td>1</td>\n",
       "    </tr>\n",
       "    <tr>\n",
       "      <th>Pacor Mortgage Corp.</th>\n",
       "      <td>1</td>\n",
       "      <td>0</td>\n",
       "      <td>0.000000</td>\n",
       "      <td>Pacor Mortgage Corp.</td>\n",
       "      <td>1</td>\n",
       "    </tr>\n",
       "    <tr>\n",
       "      <th>Palisades Capital, LLC</th>\n",
       "      <td>1</td>\n",
       "      <td>0</td>\n",
       "      <td>0.000000</td>\n",
       "      <td>Palisades Capital, LLC</td>\n",
       "      <td>1</td>\n",
       "    </tr>\n",
       "    <tr>\n",
       "      <th>Palisades Funding Corporation</th>\n",
       "      <td>1</td>\n",
       "      <td>0</td>\n",
       "      <td>0.000000</td>\n",
       "      <td>Palisades Funding Corporation</td>\n",
       "      <td>1</td>\n",
       "    </tr>\n",
       "    <tr>\n",
       "      <th>Panteris &amp; Panteris, LLP</th>\n",
       "      <td>1</td>\n",
       "      <td>0</td>\n",
       "      <td>0.000000</td>\n",
       "      <td>Panteris &amp; Panteris, LLP</td>\n",
       "      <td>1</td>\n",
       "    </tr>\n",
       "    <tr>\n",
       "      <th>Paragon Home Loans, Inc</th>\n",
       "      <td>1</td>\n",
       "      <td>0</td>\n",
       "      <td>0.000000</td>\n",
       "      <td>Paragon Home Loans, Inc</td>\n",
       "      <td>1</td>\n",
       "    </tr>\n",
       "    <tr>\n",
       "      <th>Paris and Paris, LLP</th>\n",
       "      <td>1</td>\n",
       "      <td>0</td>\n",
       "      <td>0.000000</td>\n",
       "      <td>Paris and Paris, LLP</td>\n",
       "      <td>1</td>\n",
       "    </tr>\n",
       "    <tr>\n",
       "      <th>Credit Bureau of Marianna, Inc</th>\n",
       "      <td>1</td>\n",
       "      <td>0</td>\n",
       "      <td>0.000000</td>\n",
       "      <td>Credit Bureau of Marianna, Inc</td>\n",
       "      <td>1</td>\n",
       "    </tr>\n",
       "    <tr>\n",
       "      <th>Partridge Snow &amp; Hahn LLP</th>\n",
       "      <td>1</td>\n",
       "      <td>0</td>\n",
       "      <td>0.000000</td>\n",
       "      <td>Partridge Snow &amp; Hahn LLP</td>\n",
       "      <td>1</td>\n",
       "    </tr>\n",
       "    <tr>\n",
       "      <th>Credit Bureau of Howell County, LLC</th>\n",
       "      <td>0</td>\n",
       "      <td>1</td>\n",
       "      <td>1.000000</td>\n",
       "      <td>Credit Bureau of Howell County, LLC</td>\n",
       "      <td>1</td>\n",
       "    </tr>\n",
       "    <tr>\n",
       "      <th>Credit Bureau of Farmington, Inc</th>\n",
       "      <td>1</td>\n",
       "      <td>0</td>\n",
       "      <td>0.000000</td>\n",
       "      <td>Credit Bureau of Farmington, Inc</td>\n",
       "      <td>1</td>\n",
       "    </tr>\n",
       "    <tr>\n",
       "      <th>Pearl Loans, Inc.</th>\n",
       "      <td>1</td>\n",
       "      <td>0</td>\n",
       "      <td>0.000000</td>\n",
       "      <td>Pearl Loans, Inc.</td>\n",
       "      <td>1</td>\n",
       "    </tr>\n",
       "    <tr>\n",
       "      <th>Contemporary Information Corp</th>\n",
       "      <td>0</td>\n",
       "      <td>1</td>\n",
       "      <td>1.000000</td>\n",
       "      <td>Contemporary Information Corp</td>\n",
       "      <td>1</td>\n",
       "    </tr>\n",
       "    <tr>\n",
       "      <th>Pennsylvania Auto Credit, Inc.</th>\n",
       "      <td>1</td>\n",
       "      <td>0</td>\n",
       "      <td>0.000000</td>\n",
       "      <td>Pennsylvania Auto Credit, Inc.</td>\n",
       "      <td>1</td>\n",
       "    </tr>\n",
       "    <tr>\n",
       "      <th>Credit Bureau Central Inc (MS)</th>\n",
       "      <td>1</td>\n",
       "      <td>0</td>\n",
       "      <td>0.000000</td>\n",
       "      <td>Credit Bureau Central Inc (MS)</td>\n",
       "      <td>1</td>\n",
       "    </tr>\n",
       "    <tr>\n",
       "      <th>Peoples Financial Corporation</th>\n",
       "      <td>1</td>\n",
       "      <td>0</td>\n",
       "      <td>0.000000</td>\n",
       "      <td>Peoples Financial Corporation</td>\n",
       "      <td>1</td>\n",
       "    </tr>\n",
       "    <tr>\n",
       "      <th>Credit Associates, Inc. (MO)</th>\n",
       "      <td>1</td>\n",
       "      <td>0</td>\n",
       "      <td>0.000000</td>\n",
       "      <td>Credit Associates, Inc. (MO)</td>\n",
       "      <td>1</td>\n",
       "    </tr>\n",
       "    <tr>\n",
       "      <th>Credit &amp; Collection Recovery Services, Inc.</th>\n",
       "      <td>1</td>\n",
       "      <td>0</td>\n",
       "      <td>0.000000</td>\n",
       "      <td>Credit &amp; Collection Recovery Services, Inc.</td>\n",
       "      <td>1</td>\n",
       "    </tr>\n",
       "    <tr>\n",
       "      <th>Counselors Title LLC</th>\n",
       "      <td>0</td>\n",
       "      <td>1</td>\n",
       "      <td>1.000000</td>\n",
       "      <td>Counselors Title LLC</td>\n",
       "      <td>1</td>\n",
       "    </tr>\n",
       "    <tr>\n",
       "      <th>Corporate Investors Mortgage Group, Inc.</th>\n",
       "      <td>1</td>\n",
       "      <td>0</td>\n",
       "      <td>0.000000</td>\n",
       "      <td>Corporate Investors Mortgage Group, Inc.</td>\n",
       "      <td>1</td>\n",
       "    </tr>\n",
       "    <tr>\n",
       "      <th>Pinebrook Holdings, LLC</th>\n",
       "      <td>0</td>\n",
       "      <td>1</td>\n",
       "      <td>1.000000</td>\n",
       "      <td>Pinebrook Holdings, LLC</td>\n",
       "      <td>1</td>\n",
       "    </tr>\n",
       "    <tr>\n",
       "      <th>Cornerstone Legal Group, LLC</th>\n",
       "      <td>1</td>\n",
       "      <td>0</td>\n",
       "      <td>0.000000</td>\n",
       "      <td>Cornerstone Legal Group, LLC</td>\n",
       "      <td>1</td>\n",
       "    </tr>\n",
       "    <tr>\n",
       "      <th>Cornerstone Home Mortgage</th>\n",
       "      <td>1</td>\n",
       "      <td>0</td>\n",
       "      <td>0.000000</td>\n",
       "      <td>Cornerstone Home Mortgage</td>\n",
       "      <td>1</td>\n",
       "    </tr>\n",
       "    <tr>\n",
       "      <th>Cordoba &amp; Associates</th>\n",
       "      <td>1</td>\n",
       "      <td>0</td>\n",
       "      <td>0.000000</td>\n",
       "      <td>Cordoba &amp; Associates</td>\n",
       "      <td>1</td>\n",
       "    </tr>\n",
       "    <tr>\n",
       "      <th>Continental Title Holding Co., Inc.</th>\n",
       "      <td>1</td>\n",
       "      <td>0</td>\n",
       "      <td>0.000000</td>\n",
       "      <td>Continental Title Holding Co., Inc.</td>\n",
       "      <td>1</td>\n",
       "    </tr>\n",
       "    <tr>\n",
       "      <th>Continental Currency Services, Inc.</th>\n",
       "      <td>1</td>\n",
       "      <td>0</td>\n",
       "      <td>0.000000</td>\n",
       "      <td>Continental Currency Services, Inc.</td>\n",
       "      <td>1</td>\n",
       "    </tr>\n",
       "    <tr>\n",
       "      <th>Pluese, Becker &amp; Saltzman, LLC</th>\n",
       "      <td>1</td>\n",
       "      <td>0</td>\n",
       "      <td>0.000000</td>\n",
       "      <td>Pluese, Becker &amp; Saltzman, LLC</td>\n",
       "      <td>1</td>\n",
       "    </tr>\n",
       "    <tr>\n",
       "      <th>Consider It Collected, LLC</th>\n",
       "      <td>1</td>\n",
       "      <td>0</td>\n",
       "      <td>0.000000</td>\n",
       "      <td>Consider It Collected, LLC</td>\n",
       "      <td>1</td>\n",
       "    </tr>\n",
       "  </tbody>\n",
       "</table>\n",
       "<p>3559 rows × 5 columns</p>\n",
       "</div>"
      ],
      "text/plain": [
       "Consumer disputed?                              No    Yes  dispute_rate  \\\n",
       "Company                                                                   \n",
       "Bank of America                              42792  12260      0.222699   \n",
       "Wells Fargo & Company                        31585   9472      0.230704   \n",
       "JPMorgan Chase & Co.                         25556   7519      0.227332   \n",
       "Equifax                                      23807   6308      0.209464   \n",
       "Experian                                     25683   3743      0.127200   \n",
       "Citibank                                     19748   5131      0.206238   \n",
       "TransUnion Intermediate Holdings, Inc.       20510   3659      0.151392   \n",
       "Ocwen                                        15605   5009      0.242990   \n",
       "Capital One                                  12393   2876      0.188355   \n",
       "Nationstar Mortgage                           9755   3085      0.240265   \n",
       "U.S. Bancorp                                  7225   2101      0.225284   \n",
       "Synchrony Financial                           7785   1374      0.150016   \n",
       "Ditech Financial LLC                          6557   1877      0.222552   \n",
       "Navient Solutions, Inc.                       6320   1455      0.187138   \n",
       "PNC Bank N.A.                                 5536   1271      0.186720   \n",
       "Encore Capital Group                          4960   1164      0.190072   \n",
       "HSBC North America Holdings Inc.              4680   1377      0.227340   \n",
       "Amex                                          4054   1505      0.270732   \n",
       "SunTrust Banks, Inc.                          3739    998      0.210682   \n",
       "Discover                                      3704    896      0.194783   \n",
       "TD Bank US Holding Company                    3446    980      0.221419   \n",
       "Select Portfolio Servicing, Inc               3111   1055      0.253241   \n",
       "Portfolio Recovery Associates, Inc.           2524    715      0.220747   \n",
       "Citizens Financial Group, Inc.                2475    577      0.189056   \n",
       "Fifth Third Financial Corporation             2265    530      0.189624   \n",
       "Kyanite Services, Inc.                        2116    614      0.224908   \n",
       "Barclays PLC                                  2138    491      0.186763   \n",
       "ERC Holdings LLC                              2037    556      0.214423   \n",
       "BB&T Financial                                1899    586      0.235815   \n",
       "M&T Bank Corporation                          1946    478      0.197195   \n",
       "...                                            ...    ...           ...   \n",
       "Pacific Mortgage Advisors, Inc.                  1      0      0.000000   \n",
       "Pacific National Lending, Inc.                   1      0      0.000000   \n",
       "Pacific Residential Mortgage, LLC                0      1      1.000000   \n",
       "Pacor Mortgage Corp.                             1      0      0.000000   \n",
       "Palisades Capital, LLC                           1      0      0.000000   \n",
       "Palisades Funding Corporation                    1      0      0.000000   \n",
       "Panteris & Panteris, LLP                         1      0      0.000000   \n",
       "Paragon Home Loans, Inc                          1      0      0.000000   \n",
       "Paris and Paris, LLP                             1      0      0.000000   \n",
       "Credit Bureau of Marianna, Inc                   1      0      0.000000   \n",
       "Partridge Snow & Hahn LLP                        1      0      0.000000   \n",
       "Credit Bureau of Howell County, LLC              0      1      1.000000   \n",
       "Credit Bureau of Farmington, Inc                 1      0      0.000000   \n",
       "Pearl Loans, Inc.                                1      0      0.000000   \n",
       "Contemporary Information Corp                    0      1      1.000000   \n",
       "Pennsylvania Auto Credit, Inc.                   1      0      0.000000   \n",
       "Credit Bureau Central Inc (MS)                   1      0      0.000000   \n",
       "Peoples Financial Corporation                    1      0      0.000000   \n",
       "Credit Associates, Inc. (MO)                     1      0      0.000000   \n",
       "Credit & Collection Recovery Services, Inc.      1      0      0.000000   \n",
       "Counselors Title LLC                             0      1      1.000000   \n",
       "Corporate Investors Mortgage Group, Inc.         1      0      0.000000   \n",
       "Pinebrook Holdings, LLC                          0      1      1.000000   \n",
       "Cornerstone Legal Group, LLC                     1      0      0.000000   \n",
       "Cornerstone Home Mortgage                        1      0      0.000000   \n",
       "Cordoba & Associates                             1      0      0.000000   \n",
       "Continental Title Holding Co., Inc.              1      0      0.000000   \n",
       "Continental Currency Services, Inc.              1      0      0.000000   \n",
       "Pluese, Becker & Saltzman, LLC                   1      0      0.000000   \n",
       "Consider It Collected, LLC                       1      0      0.000000   \n",
       "\n",
       "Consumer disputed?                                                               company  \\\n",
       "Company                                                                                    \n",
       "Bank of America                                                          Bank of America   \n",
       "Wells Fargo & Company                                              Wells Fargo & Company   \n",
       "JPMorgan Chase & Co.                                                JPMorgan Chase & Co.   \n",
       "Equifax                                                                          Equifax   \n",
       "Experian                                                                        Experian   \n",
       "Citibank                                                                        Citibank   \n",
       "TransUnion Intermediate Holdings, Inc.            TransUnion Intermediate Holdings, Inc.   \n",
       "Ocwen                                                                              Ocwen   \n",
       "Capital One                                                                  Capital One   \n",
       "Nationstar Mortgage                                                  Nationstar Mortgage   \n",
       "U.S. Bancorp                                                                U.S. Bancorp   \n",
       "Synchrony Financial                                                  Synchrony Financial   \n",
       "Ditech Financial LLC                                                Ditech Financial LLC   \n",
       "Navient Solutions, Inc.                                          Navient Solutions, Inc.   \n",
       "PNC Bank N.A.                                                              PNC Bank N.A.   \n",
       "Encore Capital Group                                                Encore Capital Group   \n",
       "HSBC North America Holdings Inc.                        HSBC North America Holdings Inc.   \n",
       "Amex                                                                                Amex   \n",
       "SunTrust Banks, Inc.                                                SunTrust Banks, Inc.   \n",
       "Discover                                                                        Discover   \n",
       "TD Bank US Holding Company                                    TD Bank US Holding Company   \n",
       "Select Portfolio Servicing, Inc                          Select Portfolio Servicing, Inc   \n",
       "Portfolio Recovery Associates, Inc.                  Portfolio Recovery Associates, Inc.   \n",
       "Citizens Financial Group, Inc.                            Citizens Financial Group, Inc.   \n",
       "Fifth Third Financial Corporation                      Fifth Third Financial Corporation   \n",
       "Kyanite Services, Inc.                                            Kyanite Services, Inc.   \n",
       "Barclays PLC                                                                Barclays PLC   \n",
       "ERC Holdings LLC                                                        ERC Holdings LLC   \n",
       "BB&T Financial                                                            BB&T Financial   \n",
       "M&T Bank Corporation                                                M&T Bank Corporation   \n",
       "...                                                                                  ...   \n",
       "Pacific Mortgage Advisors, Inc.                          Pacific Mortgage Advisors, Inc.   \n",
       "Pacific National Lending, Inc.                            Pacific National Lending, Inc.   \n",
       "Pacific Residential Mortgage, LLC                      Pacific Residential Mortgage, LLC   \n",
       "Pacor Mortgage Corp.                                                Pacor Mortgage Corp.   \n",
       "Palisades Capital, LLC                                            Palisades Capital, LLC   \n",
       "Palisades Funding Corporation                              Palisades Funding Corporation   \n",
       "Panteris & Panteris, LLP                                        Panteris & Panteris, LLP   \n",
       "Paragon Home Loans, Inc                                          Paragon Home Loans, Inc   \n",
       "Paris and Paris, LLP                                                Paris and Paris, LLP   \n",
       "Credit Bureau of Marianna, Inc                            Credit Bureau of Marianna, Inc   \n",
       "Partridge Snow & Hahn LLP                                      Partridge Snow & Hahn LLP   \n",
       "Credit Bureau of Howell County, LLC                  Credit Bureau of Howell County, LLC   \n",
       "Credit Bureau of Farmington, Inc                        Credit Bureau of Farmington, Inc   \n",
       "Pearl Loans, Inc.                                                      Pearl Loans, Inc.   \n",
       "Contemporary Information Corp                              Contemporary Information Corp   \n",
       "Pennsylvania Auto Credit, Inc.                            Pennsylvania Auto Credit, Inc.   \n",
       "Credit Bureau Central Inc (MS)                            Credit Bureau Central Inc (MS)   \n",
       "Peoples Financial Corporation                              Peoples Financial Corporation   \n",
       "Credit Associates, Inc. (MO)                                Credit Associates, Inc. (MO)   \n",
       "Credit & Collection Recovery Services, Inc.  Credit & Collection Recovery Services, Inc.   \n",
       "Counselors Title LLC                                                Counselors Title LLC   \n",
       "Corporate Investors Mortgage Group, Inc.        Corporate Investors Mortgage Group, Inc.   \n",
       "Pinebrook Holdings, LLC                                          Pinebrook Holdings, LLC   \n",
       "Cornerstone Legal Group, LLC                                Cornerstone Legal Group, LLC   \n",
       "Cornerstone Home Mortgage                                      Cornerstone Home Mortgage   \n",
       "Cordoba & Associates                                                Cordoba & Associates   \n",
       "Continental Title Holding Co., Inc.                  Continental Title Holding Co., Inc.   \n",
       "Continental Currency Services, Inc.                  Continental Currency Services, Inc.   \n",
       "Pluese, Becker & Saltzman, LLC                            Pluese, Becker & Saltzman, LLC   \n",
       "Consider It Collected, LLC                                    Consider It Collected, LLC   \n",
       "\n",
       "Consumer disputed?                           complaint_counts  \n",
       "Company                                                        \n",
       "Bank of America                                         55052  \n",
       "Wells Fargo & Company                                   41057  \n",
       "JPMorgan Chase & Co.                                    33075  \n",
       "Equifax                                                 30115  \n",
       "Experian                                                29426  \n",
       "Citibank                                                24879  \n",
       "TransUnion Intermediate Holdings, Inc.                  24169  \n",
       "Ocwen                                                   20614  \n",
       "Capital One                                             15269  \n",
       "Nationstar Mortgage                                     12840  \n",
       "U.S. Bancorp                                             9326  \n",
       "Synchrony Financial                                      9159  \n",
       "Ditech Financial LLC                                     8434  \n",
       "Navient Solutions, Inc.                                  7775  \n",
       "PNC Bank N.A.                                            6807  \n",
       "Encore Capital Group                                     6124  \n",
       "HSBC North America Holdings Inc.                         6057  \n",
       "Amex                                                     5559  \n",
       "SunTrust Banks, Inc.                                     4737  \n",
       "Discover                                                 4600  \n",
       "TD Bank US Holding Company                               4426  \n",
       "Select Portfolio Servicing, Inc                          4166  \n",
       "Portfolio Recovery Associates, Inc.                      3239  \n",
       "Citizens Financial Group, Inc.                           3052  \n",
       "Fifth Third Financial Corporation                        2795  \n",
       "Kyanite Services, Inc.                                   2730  \n",
       "Barclays PLC                                             2629  \n",
       "ERC Holdings LLC                                         2593  \n",
       "BB&T Financial                                           2485  \n",
       "M&T Bank Corporation                                     2424  \n",
       "...                                                       ...  \n",
       "Pacific Mortgage Advisors, Inc.                             1  \n",
       "Pacific National Lending, Inc.                              1  \n",
       "Pacific Residential Mortgage, LLC                           1  \n",
       "Pacor Mortgage Corp.                                        1  \n",
       "Palisades Capital, LLC                                      1  \n",
       "Palisades Funding Corporation                               1  \n",
       "Panteris & Panteris, LLP                                    1  \n",
       "Paragon Home Loans, Inc                                     1  \n",
       "Paris and Paris, LLP                                        1  \n",
       "Credit Bureau of Marianna, Inc                              1  \n",
       "Partridge Snow & Hahn LLP                                   1  \n",
       "Credit Bureau of Howell County, LLC                         1  \n",
       "Credit Bureau of Farmington, Inc                            1  \n",
       "Pearl Loans, Inc.                                           1  \n",
       "Contemporary Information Corp                               1  \n",
       "Pennsylvania Auto Credit, Inc.                              1  \n",
       "Credit Bureau Central Inc (MS)                              1  \n",
       "Peoples Financial Corporation                               1  \n",
       "Credit Associates, Inc. (MO)                                1  \n",
       "Credit & Collection Recovery Services, Inc.                 1  \n",
       "Counselors Title LLC                                        1  \n",
       "Corporate Investors Mortgage Group, Inc.                    1  \n",
       "Pinebrook Holdings, LLC                                     1  \n",
       "Cornerstone Legal Group, LLC                                1  \n",
       "Cornerstone Home Mortgage                                   1  \n",
       "Cordoba & Associates                                        1  \n",
       "Continental Title Holding Co., Inc.                         1  \n",
       "Continental Currency Services, Inc.                         1  \n",
       "Pluese, Becker & Saltzman, LLC                              1  \n",
       "Consider It Collected, LLC                                  1  \n",
       "\n",
       "[3559 rows x 5 columns]"
      ]
     },
     "execution_count": 28,
     "metadata": {},
     "output_type": "execute_result"
    }
   ],
   "source": [
    "company"
   ]
  },
  {
   "cell_type": "code",
   "execution_count": 29,
   "metadata": {
    "collapsed": false,
    "scrolled": true
   },
   "outputs": [
    {
     "data": {
      "image/png": "[encoded data removed]",
      "text/plain": [
       "<matplotlib.figure.Figure at 0x7f06a110df50>"
      ]
     },
     "metadata": {},
     "output_type": "display_data"
    }
   ],
   "source": [
    "fig = plt.figure(figsize=(16,6))\n",
    "plt.plot(company['complaint_counts'],company['dispute_rate'],marker='o')\n",
    "plt.xlim([0.0, 56000])\n",
    "plt.ylim([0.0, 0.8])\n",
    "plt.xlabel('company complaint counts')\n",
    "plt.ylabel('complaint dispute rate')\n",
    "plt.title('')\n",
    "font = {'family' : 'normal',\n",
    "        'weight' : 'bold',\n",
    "        'size'   : 22}\n",
    "plt.rcParams.update({'font.size': 18})\n",
    "\n",
    "plt.show()\n",
    "fig.savefig('disputerate_complaintcount.png')"
   ]
  },
  {
   "cell_type": "code",
   "execution_count": 30,
   "metadata": {
    "collapsed": false
   },
   "outputs": [],
   "source": [
    "temp= pd.crosstab(df['Product'], df['Consumer disputed?'])"
   ]
  },
  {
   "cell_type": "code",
   "execution_count": 31,
   "metadata": {
    "collapsed": false
   },
   "outputs": [
    {
     "data": {
      "text/plain": [
       "<matplotlib.axes._subplots.AxesSubplot at 0x7f06a116b390>"
      ]
     },
     "execution_count": 31,
     "metadata": {},
     "output_type": "execute_result"
    },
    {
     "data": {
      "image/png": "[encoded data removed]",
      "text/plain": [
       "<matplotlib.figure.Figure at 0x7f06a116ba50>"
      ]
     },
     "metadata": {},
     "output_type": "display_data"
    }
   ],
   "source": [
    "temp.plot(kind='bar',figsize=(8,6))## The disputed percentages are about same between \n",
    "###Consent and Consent Not \"complaint narrative text\"."
   ]
  },
  {
   "cell_type": "code",
   "execution_count": 32,
   "metadata": {
    "collapsed": false
   },
   "outputs": [],
   "source": [
    "temp1= pd.crosstab(df['Company response to consumer'], df['Consumer disputed?'])"
   ]
  },
  {
   "cell_type": "code",
   "execution_count": null,
   "metadata": {
    "collapsed": false
   },
   "outputs": [],
   "source": []
  },
  {
   "cell_type": "code",
   "execution_count": 33,
   "metadata": {
    "collapsed": false
   },
   "outputs": [
    {
     "data": {
      "text/plain": [
       "<matplotlib.axes._subplots.AxesSubplot at 0x7f0657002c10>"
      ]
     },
     "execution_count": 33,
     "metadata": {},
     "output_type": "execute_result"
    },
    {
     "data": {
      "image/png": "[encoded data removed]",
      "text/plain": [
       "<matplotlib.figure.Figure at 0x7f06a110d190>"
      ]
     },
     "metadata": {},
     "output_type": "display_data"
    }
   ],
   "source": [
    "temp1.plot(kind='bar',figsize=(8,6)) ###Most cases are fall in closed with explaination"
   ]
  },
  {
   "cell_type": "code",
   "execution_count": 34,
   "metadata": {
    "collapsed": true
   },
   "outputs": [],
   "source": [
    "temp3= pd.crosstab(df['Product'], df['Consumer disputed?'])"
   ]
  },
  {
   "cell_type": "code",
   "execution_count": 35,
   "metadata": {
    "collapsed": false
   },
   "outputs": [
    {
     "data": {
      "text/plain": [
       "<matplotlib.axes._subplots.AxesSubplot at 0x7f0656e50e50>"
      ]
     },
     "execution_count": 35,
     "metadata": {},
     "output_type": "execute_result"
    },
    {
     "data": {
      "image/png": "[encoded data removed]",
      "text/plain": [
       "<matplotlib.figure.Figure at 0x7f0656e7a790>"
      ]
     },
     "metadata": {},
     "output_type": "display_data"
    }
   ],
   "source": [
    "temp3.plot(kind='bar',figsize=(8,6))"
   ]
  },
  {
   "cell_type": "code",
   "execution_count": 36,
   "metadata": {
    "collapsed": false
   },
   "outputs": [],
   "source": [
    "##plt.hist(np.log(df['Company'].value_counts()))\n",
    "##plt.xlabel(df['Company'].value_counts().index)"
   ]
  },
  {
   "cell_type": "code",
   "execution_count": 37,
   "metadata": {
    "collapsed": false
   },
   "outputs": [
    {
     "data": {
      "text/plain": [
       "(62,)"
      ]
     },
     "execution_count": 37,
     "metadata": {},
     "output_type": "execute_result"
    }
   ],
   "source": [
    "df['State'].value_counts().shape"
   ]
  },
  {
   "cell_type": "code",
   "execution_count": 38,
   "metadata": {
    "collapsed": false
   },
   "outputs": [],
   "source": [
    "df['Date received']=pd.DatetimeIndex(df['Date received'],format='%m/%d/%Y').date\n",
    "df['Date sent to company']=pd.DatetimeIndex(df['Date sent to company'],format='%m/%d/%Y').date"
   ]
  },
  {
   "cell_type": "code",
   "execution_count": 39,
   "metadata": {
    "collapsed": false
   },
   "outputs": [
    {
     "data": {
      "text/plain": [
       "(314405, 19)"
      ]
     },
     "execution_count": 39,
     "metadata": {},
     "output_type": "execute_result"
    }
   ],
   "source": [
    "df[df['Date received']!=df['Date sent to company']].shape"
   ]
  },
  {
   "cell_type": "markdown",
   "metadata": {},
   "source": [
    "## Missing Value Handling"
   ]
  },
  {
   "cell_type": "code",
   "execution_count": 40,
   "metadata": {
    "collapsed": false
   },
   "outputs": [
    {
     "data": {
      "text/html": [
       "<div>\n",
       "<table border=\"1\" class=\"dataframe\">\n",
       "  <thead>\n",
       "    <tr style=\"text-align: right;\">\n",
       "      <th></th>\n",
       "      <th>Date received</th>\n",
       "      <th>Product</th>\n",
       "      <th>Sub-product</th>\n",
       "      <th>Issue</th>\n",
       "      <th>Sub-issue</th>\n",
       "      <th>Consumer complaint narrative</th>\n",
       "      <th>Company public response</th>\n",
       "      <th>Company</th>\n",
       "      <th>State</th>\n",
       "      <th>ZIP code</th>\n",
       "      <th>Tags</th>\n",
       "      <th>Consumer consent provided?</th>\n",
       "      <th>Submitted via</th>\n",
       "      <th>Date sent to company</th>\n",
       "      <th>Company response to consumer</th>\n",
       "      <th>Timely response?</th>\n",
       "      <th>Consumer disputed?</th>\n",
       "      <th>Complaint ID</th>\n",
       "      <th>company_complaint_counts</th>\n",
       "    </tr>\n",
       "  </thead>\n",
       "  <tbody>\n",
       "    <tr>\n",
       "      <th>22604</th>\n",
       "      <td>2016-01-24</td>\n",
       "      <td>Bank account or service</td>\n",
       "      <td>Checking account</td>\n",
       "      <td>NaN</td>\n",
       "      <td>NaN</td>\n",
       "      <td>NaN</td>\n",
       "      <td>NaN</td>\n",
       "      <td>JPMorgan Chase &amp; Co.</td>\n",
       "      <td>WI</td>\n",
       "      <td>530XX</td>\n",
       "      <td>NaN</td>\n",
       "      <td>NaN</td>\n",
       "      <td>Web</td>\n",
       "      <td>2016-01-24</td>\n",
       "      <td>Closed with explanation</td>\n",
       "      <td>Yes</td>\n",
       "      <td>Yes</td>\n",
       "      <td>1755250</td>\n",
       "      <td>33075</td>\n",
       "    </tr>\n",
       "    <tr>\n",
       "      <th>31788</th>\n",
       "      <td>2016-01-05</td>\n",
       "      <td>Bank account or service</td>\n",
       "      <td>Checking account</td>\n",
       "      <td>NaN</td>\n",
       "      <td>NaN</td>\n",
       "      <td>NaN</td>\n",
       "      <td>Company chooses not to provide a public response</td>\n",
       "      <td>Citibank</td>\n",
       "      <td>CA</td>\n",
       "      <td>912XX</td>\n",
       "      <td>Older American</td>\n",
       "      <td>NaN</td>\n",
       "      <td>Web</td>\n",
       "      <td>2016-01-05</td>\n",
       "      <td>Closed with explanation</td>\n",
       "      <td>Yes</td>\n",
       "      <td>Yes</td>\n",
       "      <td>1726979</td>\n",
       "      <td>24879</td>\n",
       "    </tr>\n",
       "    <tr>\n",
       "      <th>66703</th>\n",
       "      <td>2015-10-15</td>\n",
       "      <td>Bank account or service</td>\n",
       "      <td>Checking account</td>\n",
       "      <td>NaN</td>\n",
       "      <td>NaN</td>\n",
       "      <td>NaN</td>\n",
       "      <td>Company believes it acted appropriately as aut...</td>\n",
       "      <td>TCF National Bank</td>\n",
       "      <td>MN</td>\n",
       "      <td>553XX</td>\n",
       "      <td>NaN</td>\n",
       "      <td>NaN</td>\n",
       "      <td>Web</td>\n",
       "      <td>2015-10-15</td>\n",
       "      <td>Closed with monetary relief</td>\n",
       "      <td>Yes</td>\n",
       "      <td>No</td>\n",
       "      <td>1608941</td>\n",
       "      <td>1038</td>\n",
       "    </tr>\n",
       "    <tr>\n",
       "      <th>69600</th>\n",
       "      <td>2015-10-09</td>\n",
       "      <td>Money transfers</td>\n",
       "      <td>Domestic (US) money transfer</td>\n",
       "      <td>NaN</td>\n",
       "      <td>NaN</td>\n",
       "      <td>NaN</td>\n",
       "      <td>NaN</td>\n",
       "      <td>PayPal Holdings, Inc.</td>\n",
       "      <td>CA</td>\n",
       "      <td>900XX</td>\n",
       "      <td>NaN</td>\n",
       "      <td>NaN</td>\n",
       "      <td>Web</td>\n",
       "      <td>2015-10-09</td>\n",
       "      <td>Closed with explanation</td>\n",
       "      <td>Yes</td>\n",
       "      <td>No</td>\n",
       "      <td>1600411</td>\n",
       "      <td>2069</td>\n",
       "    </tr>\n",
       "    <tr>\n",
       "      <th>80795</th>\n",
       "      <td>2015-09-16</td>\n",
       "      <td>Consumer Loan</td>\n",
       "      <td>Vehicle loan</td>\n",
       "      <td>NaN</td>\n",
       "      <td>NaN</td>\n",
       "      <td>NaN</td>\n",
       "      <td>NaN</td>\n",
       "      <td>Santander Consumer USA Holdings Inc</td>\n",
       "      <td>OR</td>\n",
       "      <td>978XX</td>\n",
       "      <td>NaN</td>\n",
       "      <td>NaN</td>\n",
       "      <td>Web</td>\n",
       "      <td>2015-09-16</td>\n",
       "      <td>Closed with explanation</td>\n",
       "      <td>Yes</td>\n",
       "      <td>Yes</td>\n",
       "      <td>1566496</td>\n",
       "      <td>1947</td>\n",
       "    </tr>\n",
       "    <tr>\n",
       "      <th>82698</th>\n",
       "      <td>2015-09-11</td>\n",
       "      <td>Consumer Loan</td>\n",
       "      <td>Vehicle loan</td>\n",
       "      <td>NaN</td>\n",
       "      <td>NaN</td>\n",
       "      <td>NaN</td>\n",
       "      <td>Company chooses not to provide a public response</td>\n",
       "      <td>Ally Financial Inc.</td>\n",
       "      <td>TX</td>\n",
       "      <td>762XX</td>\n",
       "      <td>NaN</td>\n",
       "      <td>NaN</td>\n",
       "      <td>Web</td>\n",
       "      <td>2015-09-11</td>\n",
       "      <td>Closed with explanation</td>\n",
       "      <td>Yes</td>\n",
       "      <td>No</td>\n",
       "      <td>1560539</td>\n",
       "      <td>2215</td>\n",
       "    </tr>\n",
       "    <tr>\n",
       "      <th>109106</th>\n",
       "      <td>2015-07-21</td>\n",
       "      <td>Bank account or service</td>\n",
       "      <td>Checking account</td>\n",
       "      <td>NaN</td>\n",
       "      <td>NaN</td>\n",
       "      <td>NaN</td>\n",
       "      <td>Company chooses not to provide a public response</td>\n",
       "      <td>SunTrust Banks, Inc.</td>\n",
       "      <td>VA</td>\n",
       "      <td>22030</td>\n",
       "      <td>NaN</td>\n",
       "      <td>Consent not provided</td>\n",
       "      <td>Web</td>\n",
       "      <td>2015-07-21</td>\n",
       "      <td>Closed with monetary relief</td>\n",
       "      <td>Yes</td>\n",
       "      <td>No</td>\n",
       "      <td>1479745</td>\n",
       "      <td>4737</td>\n",
       "    </tr>\n",
       "    <tr>\n",
       "      <th>184850</th>\n",
       "      <td>2015-02-10</td>\n",
       "      <td>Bank account or service</td>\n",
       "      <td>Other bank product/service</td>\n",
       "      <td>NaN</td>\n",
       "      <td>NaN</td>\n",
       "      <td>NaN</td>\n",
       "      <td>NaN</td>\n",
       "      <td>Wells Fargo &amp; Company</td>\n",
       "      <td>FL</td>\n",
       "      <td>33428</td>\n",
       "      <td>NaN</td>\n",
       "      <td>NaN</td>\n",
       "      <td>Web</td>\n",
       "      <td>2015-02-10</td>\n",
       "      <td>Closed with explanation</td>\n",
       "      <td>Yes</td>\n",
       "      <td>No</td>\n",
       "      <td>1235087</td>\n",
       "      <td>41057</td>\n",
       "    </tr>\n",
       "    <tr>\n",
       "      <th>186858</th>\n",
       "      <td>2015-02-05</td>\n",
       "      <td>Bank account or service</td>\n",
       "      <td>Checking account</td>\n",
       "      <td>NaN</td>\n",
       "      <td>NaN</td>\n",
       "      <td>NaN</td>\n",
       "      <td>NaN</td>\n",
       "      <td>JPMorgan Chase &amp; Co.</td>\n",
       "      <td>FL</td>\n",
       "      <td>33487</td>\n",
       "      <td>Servicemember</td>\n",
       "      <td>NaN</td>\n",
       "      <td>Web</td>\n",
       "      <td>2015-02-05</td>\n",
       "      <td>Closed with monetary relief</td>\n",
       "      <td>Yes</td>\n",
       "      <td>No</td>\n",
       "      <td>1226302</td>\n",
       "      <td>33075</td>\n",
       "    </tr>\n",
       "    <tr>\n",
       "      <th>225866</th>\n",
       "      <td>2014-10-29</td>\n",
       "      <td>Consumer Loan</td>\n",
       "      <td>Vehicle loan</td>\n",
       "      <td>NaN</td>\n",
       "      <td>NaN</td>\n",
       "      <td>NaN</td>\n",
       "      <td>NaN</td>\n",
       "      <td>USAA Savings</td>\n",
       "      <td>VA</td>\n",
       "      <td>23703</td>\n",
       "      <td>Servicemember</td>\n",
       "      <td>NaN</td>\n",
       "      <td>Web</td>\n",
       "      <td>2014-10-29</td>\n",
       "      <td>Closed with monetary relief</td>\n",
       "      <td>Yes</td>\n",
       "      <td>No</td>\n",
       "      <td>1092632</td>\n",
       "      <td>2102</td>\n",
       "    </tr>\n",
       "    <tr>\n",
       "      <th>228117</th>\n",
       "      <td>2014-10-23</td>\n",
       "      <td>Bank account or service</td>\n",
       "      <td>Checking account</td>\n",
       "      <td>NaN</td>\n",
       "      <td>NaN</td>\n",
       "      <td>NaN</td>\n",
       "      <td>NaN</td>\n",
       "      <td>TD Bank US Holding Company</td>\n",
       "      <td>CT</td>\n",
       "      <td>06138</td>\n",
       "      <td>NaN</td>\n",
       "      <td>NaN</td>\n",
       "      <td>Web</td>\n",
       "      <td>2014-10-23</td>\n",
       "      <td>Closed with explanation</td>\n",
       "      <td>Yes</td>\n",
       "      <td>No</td>\n",
       "      <td>1083571</td>\n",
       "      <td>4426</td>\n",
       "    </tr>\n",
       "    <tr>\n",
       "      <th>235030</th>\n",
       "      <td>2014-10-06</td>\n",
       "      <td>Consumer Loan</td>\n",
       "      <td>Vehicle loan</td>\n",
       "      <td>NaN</td>\n",
       "      <td>NaN</td>\n",
       "      <td>NaN</td>\n",
       "      <td>NaN</td>\n",
       "      <td>Santander Consumer USA Holdings Inc</td>\n",
       "      <td>TX</td>\n",
       "      <td>75376</td>\n",
       "      <td>NaN</td>\n",
       "      <td>NaN</td>\n",
       "      <td>Web</td>\n",
       "      <td>2014-10-06</td>\n",
       "      <td>Closed with explanation</td>\n",
       "      <td>Yes</td>\n",
       "      <td>No</td>\n",
       "      <td>1059602</td>\n",
       "      <td>1947</td>\n",
       "    </tr>\n",
       "    <tr>\n",
       "      <th>239827</th>\n",
       "      <td>2014-09-25</td>\n",
       "      <td>Bank account or service</td>\n",
       "      <td>Other bank product/service</td>\n",
       "      <td>NaN</td>\n",
       "      <td>NaN</td>\n",
       "      <td>NaN</td>\n",
       "      <td>NaN</td>\n",
       "      <td>Capital One</td>\n",
       "      <td>TX</td>\n",
       "      <td>78210</td>\n",
       "      <td>NaN</td>\n",
       "      <td>NaN</td>\n",
       "      <td>Web</td>\n",
       "      <td>2014-09-25</td>\n",
       "      <td>Closed with explanation</td>\n",
       "      <td>Yes</td>\n",
       "      <td>No</td>\n",
       "      <td>1044259</td>\n",
       "      <td>15269</td>\n",
       "    </tr>\n",
       "  </tbody>\n",
       "</table>\n",
       "</div>"
      ],
      "text/plain": [
       "       Date received                  Product                   Sub-product  \\\n",
       "22604     2016-01-24  Bank account or service              Checking account   \n",
       "31788     2016-01-05  Bank account or service              Checking account   \n",
       "66703     2015-10-15  Bank account or service              Checking account   \n",
       "69600     2015-10-09          Money transfers  Domestic (US) money transfer   \n",
       "80795     2015-09-16            Consumer Loan                  Vehicle loan   \n",
       "82698     2015-09-11            Consumer Loan                  Vehicle loan   \n",
       "109106    2015-07-21  Bank account or service              Checking account   \n",
       "184850    2015-02-10  Bank account or service    Other bank product/service   \n",
       "186858    2015-02-05  Bank account or service              Checking account   \n",
       "225866    2014-10-29            Consumer Loan                  Vehicle loan   \n",
       "228117    2014-10-23  Bank account or service              Checking account   \n",
       "235030    2014-10-06            Consumer Loan                  Vehicle loan   \n",
       "239827    2014-09-25  Bank account or service    Other bank product/service   \n",
       "\n",
       "       Issue Sub-issue Consumer complaint narrative  \\\n",
       "22604    NaN       NaN                          NaN   \n",
       "31788    NaN       NaN                          NaN   \n",
       "66703    NaN       NaN                          NaN   \n",
       "69600    NaN       NaN                          NaN   \n",
       "80795    NaN       NaN                          NaN   \n",
       "82698    NaN       NaN                          NaN   \n",
       "109106   NaN       NaN                          NaN   \n",
       "184850   NaN       NaN                          NaN   \n",
       "186858   NaN       NaN                          NaN   \n",
       "225866   NaN       NaN                          NaN   \n",
       "228117   NaN       NaN                          NaN   \n",
       "235030   NaN       NaN                          NaN   \n",
       "239827   NaN       NaN                          NaN   \n",
       "\n",
       "                                  Company public response  \\\n",
       "22604                                                 NaN   \n",
       "31788    Company chooses not to provide a public response   \n",
       "66703   Company believes it acted appropriately as aut...   \n",
       "69600                                                 NaN   \n",
       "80795                                                 NaN   \n",
       "82698    Company chooses not to provide a public response   \n",
       "109106   Company chooses not to provide a public response   \n",
       "184850                                                NaN   \n",
       "186858                                                NaN   \n",
       "225866                                                NaN   \n",
       "228117                                                NaN   \n",
       "235030                                                NaN   \n",
       "239827                                                NaN   \n",
       "\n",
       "                                    Company State ZIP code            Tags  \\\n",
       "22604                  JPMorgan Chase & Co.    WI    530XX             NaN   \n",
       "31788                              Citibank    CA    912XX  Older American   \n",
       "66703                     TCF National Bank    MN    553XX             NaN   \n",
       "69600                 PayPal Holdings, Inc.    CA    900XX             NaN   \n",
       "80795   Santander Consumer USA Holdings Inc    OR    978XX             NaN   \n",
       "82698                   Ally Financial Inc.    TX    762XX             NaN   \n",
       "109106                 SunTrust Banks, Inc.    VA    22030             NaN   \n",
       "184850                Wells Fargo & Company    FL    33428             NaN   \n",
       "186858                 JPMorgan Chase & Co.    FL    33487   Servicemember   \n",
       "225866                         USAA Savings    VA    23703   Servicemember   \n",
       "228117           TD Bank US Holding Company    CT    06138             NaN   \n",
       "235030  Santander Consumer USA Holdings Inc    TX    75376             NaN   \n",
       "239827                          Capital One    TX    78210             NaN   \n",
       "\n",
       "       Consumer consent provided? Submitted via Date sent to company  \\\n",
       "22604                         NaN           Web           2016-01-24   \n",
       "31788                         NaN           Web           2016-01-05   \n",
       "66703                         NaN           Web           2015-10-15   \n",
       "69600                         NaN           Web           2015-10-09   \n",
       "80795                         NaN           Web           2015-09-16   \n",
       "82698                         NaN           Web           2015-09-11   \n",
       "109106       Consent not provided           Web           2015-07-21   \n",
       "184850                        NaN           Web           2015-02-10   \n",
       "186858                        NaN           Web           2015-02-05   \n",
       "225866                        NaN           Web           2014-10-29   \n",
       "228117                        NaN           Web           2014-10-23   \n",
       "235030                        NaN           Web           2014-10-06   \n",
       "239827                        NaN           Web           2014-09-25   \n",
       "\n",
       "       Company response to consumer Timely response? Consumer disputed?  \\\n",
       "22604       Closed with explanation              Yes                Yes   \n",
       "31788       Closed with explanation              Yes                Yes   \n",
       "66703   Closed with monetary relief              Yes                 No   \n",
       "69600       Closed with explanation              Yes                 No   \n",
       "80795       Closed with explanation              Yes                Yes   \n",
       "82698       Closed with explanation              Yes                 No   \n",
       "109106  Closed with monetary relief              Yes                 No   \n",
       "184850      Closed with explanation              Yes                 No   \n",
       "186858  Closed with monetary relief              Yes                 No   \n",
       "225866  Closed with monetary relief              Yes                 No   \n",
       "228117      Closed with explanation              Yes                 No   \n",
       "235030      Closed with explanation              Yes                 No   \n",
       "239827      Closed with explanation              Yes                 No   \n",
       "\n",
       "        Complaint ID  company_complaint_counts  \n",
       "22604        1755250                     33075  \n",
       "31788        1726979                     24879  \n",
       "66703        1608941                      1038  \n",
       "69600        1600411                      2069  \n",
       "80795        1566496                      1947  \n",
       "82698        1560539                      2215  \n",
       "109106       1479745                      4737  \n",
       "184850       1235087                     41057  \n",
       "186858       1226302                     33075  \n",
       "225866       1092632                      2102  \n",
       "228117       1083571                      4426  \n",
       "235030       1059602                      1947  \n",
       "239827       1044259                     15269  "
      ]
     },
     "execution_count": 40,
     "metadata": {},
     "output_type": "execute_result"
    }
   ],
   "source": [
    "df[pd.isnull(df['Issue'])]"
   ]
  },
  {
   "cell_type": "code",
   "execution_count": 41,
   "metadata": {
    "collapsed": false
   },
   "outputs": [],
   "source": [
    "df['Sub-product'].fillna('Not Provided',inplace=True)\n",
    "df['Sub-issue'].fillna('Not Provided',inplace=True)\n",
    "df['Consumer complaint narrative'].fillna('None or Not Provided',inplace=True)\n",
    "###Combine \"company public missing value\" with \"Company chose not to provide\"\n",
    "df['Company public response'].fillna('Company chooses not to provide',inplace=True) \n",
    "\n",
    "###Combine missing value of \"Issue\" with \"Other\"\n",
    "df['Issue'].fillna('Other',inplace=True) \n",
    "\n",
    "### Replace missing vlaues of 'Tags' with \"'Unknown'\n",
    "df['Tags'].fillna('Unknown',inplace=True) \n",
    "\n",
    "### Replace missing vlaues of 'Submitted via' with \"'other'\n",
    "df['Submitted via'].fillna('Other',inplace=True) \n",
    "\n",
    "###Combine missing value,other,and withdrawn of \"Consumer consent provided? \" \n",
    "###with Consumer consent not provided, since only users's complaints narrative will be provided\n",
    "### with the type of Consumer consent provided\n",
    "df['Consumer consent provided?'].fillna('Consent not provided',inplace=True) \n",
    "df['Consumer consent provided?']=df['Consumer consent provided?'].apply(lambda x: \n",
    "            'Consent not provided' if x=='Other' or x=='Consent withdrawn' else x)"
   ]
  },
  {
   "cell_type": "code",
   "execution_count": 42,
   "metadata": {
    "collapsed": false
   },
   "outputs": [
    {
     "name": "stderr",
     "output_type": "stream",
     "text": [
      "/home/ubuntu/anaconda2/lib/python2.7/site-packages/ipykernel/__main__.py:6: SettingWithCopyWarning: \n",
      "A value is trying to be set on a copy of a slice from a DataFrame\n",
      "\n",
      "See the caveats in the documentation: http://pandas.pydata.org/pandas-docs/stable/indexing.html#indexing-view-versus-copy\n"
     ]
    }
   ],
   "source": [
    "### Fill missing 'State' info using valide zipcode.\n",
    "from pyzipcode import ZipCodeDatabase\n",
    "zip=ZipCodeDatabase()\n",
    "for i in df[pd.isnull(df['State'])&pd.notnull(df['ZIP code'])].index:\n",
    "    try:\n",
    "        df['State'][i]=str(zip[df['ZIP code'][i]].state)\n",
    "    except:\n",
    "        continue"
   ]
  },
  {
   "cell_type": "code",
   "execution_count": 43,
   "metadata": {
    "collapsed": false
   },
   "outputs": [
    {
     "data": {
      "text/plain": [
       "(4268, 19)"
      ]
     },
     "execution_count": 43,
     "metadata": {},
     "output_type": "execute_result"
    }
   ],
   "source": [
    "df[pd.isnull(df['State'])&pd.isnull(df['ZIP code'])].shape ###Still 4268 users has no state info"
   ]
  },
  {
   "cell_type": "code",
   "execution_count": 44,
   "metadata": {
    "collapsed": true
   },
   "outputs": [],
   "source": [
    "df['State'].fillna('Not provided',inplace=True)\n",
    "df['ZIP code'].fillna('Not Provided',inplace=True)"
   ]
  },
  {
   "cell_type": "code",
   "execution_count": 45,
   "metadata": {
    "collapsed": false
   },
   "outputs": [
    {
     "data": {
      "text/plain": [
       "Consent not provided    478295\n",
       "Consent provided         59697\n",
       "Name: Consumer consent provided?, dtype: int64"
      ]
     },
     "execution_count": 45,
     "metadata": {},
     "output_type": "execute_result"
    }
   ],
   "source": [
    "df['Consumer consent provided?'].value_counts(dropna=False)"
   ]
  },
  {
   "cell_type": "code",
   "execution_count": 46,
   "metadata": {
    "collapsed": false
   },
   "outputs": [
    {
     "name": "stdout",
     "output_type": "stream",
     "text": [
      "<class 'pandas.core.frame.DataFrame'>\n",
      "Int64Index: 537992 entries, 0 to 537991\n",
      "Data columns (total 19 columns):\n",
      "Date received                   537992 non-null object\n",
      "Product                         537992 non-null object\n",
      "Sub-product                     537992 non-null object\n",
      "Issue                           537992 non-null object\n",
      "Sub-issue                       537992 non-null object\n",
      "Consumer complaint narrative    537992 non-null object\n",
      "Company public response         537992 non-null object\n",
      "Company                         537992 non-null object\n",
      "State                           537992 non-null object\n",
      "ZIP code                        537992 non-null object\n",
      "Tags                            537992 non-null object\n",
      "Consumer consent provided?      537992 non-null object\n",
      "Submitted via                   537992 non-null object\n",
      "Date sent to company            537992 non-null object\n",
      "Company response to consumer    537992 non-null object\n",
      "Timely response?                537992 non-null object\n",
      "Consumer disputed?              537992 non-null object\n",
      "Complaint ID                    537992 non-null int64\n",
      "company_complaint_counts        537992 non-null int64\n",
      "dtypes: int64(2), object(17)\n",
      "memory usage: 82.1+ MB\n"
     ]
    }
   ],
   "source": [
    "df.info()"
   ]
  },
  {
   "cell_type": "code",
   "execution_count": 47,
   "metadata": {
    "collapsed": false
   },
   "outputs": [
    {
     "data": {
      "text/html": [
       "<div>\n",
       "<table border=\"1\" class=\"dataframe\">\n",
       "  <thead>\n",
       "    <tr style=\"text-align: right;\">\n",
       "      <th></th>\n",
       "      <th>Date received</th>\n",
       "      <th>Product</th>\n",
       "      <th>Sub-product</th>\n",
       "      <th>Issue</th>\n",
       "      <th>Sub-issue</th>\n",
       "      <th>Consumer complaint narrative</th>\n",
       "      <th>Company public response</th>\n",
       "      <th>Company</th>\n",
       "      <th>State</th>\n",
       "      <th>ZIP code</th>\n",
       "      <th>Tags</th>\n",
       "      <th>Consumer consent provided?</th>\n",
       "      <th>Submitted via</th>\n",
       "      <th>Date sent to company</th>\n",
       "      <th>Company response to consumer</th>\n",
       "      <th>Timely response?</th>\n",
       "      <th>Consumer disputed?</th>\n",
       "      <th>Complaint ID</th>\n",
       "      <th>company_complaint_counts</th>\n",
       "    </tr>\n",
       "  </thead>\n",
       "  <tbody>\n",
       "    <tr>\n",
       "      <th>0</th>\n",
       "      <td>2016-03-21</td>\n",
       "      <td>Debt collection</td>\n",
       "      <td>Other (i.e. phone, health club, etc.)</td>\n",
       "      <td>Cont'd attempts collect debt not owed</td>\n",
       "      <td>Debt was paid</td>\n",
       "      <td>None or Not Provided</td>\n",
       "      <td>Company believes it acted appropriately as aut...</td>\n",
       "      <td>Eastern Account Systems of Connecticut, Inc.</td>\n",
       "      <td>CA</td>\n",
       "      <td>900XX</td>\n",
       "      <td>Unknown</td>\n",
       "      <td>Consent not provided</td>\n",
       "      <td>Web</td>\n",
       "      <td>2016-03-21</td>\n",
       "      <td>Closed with explanation</td>\n",
       "      <td>Yes</td>\n",
       "      <td>No</td>\n",
       "      <td>1841695</td>\n",
       "      <td>101</td>\n",
       "    </tr>\n",
       "    <tr>\n",
       "      <th>1</th>\n",
       "      <td>2016-03-21</td>\n",
       "      <td>Consumer Loan</td>\n",
       "      <td>Personal line of credit</td>\n",
       "      <td>Problems when you are unable to pay</td>\n",
       "      <td>Not Provided</td>\n",
       "      <td>None or Not Provided</td>\n",
       "      <td>Company chooses not to provide</td>\n",
       "      <td>OneMain Financial Holdings, LLC</td>\n",
       "      <td>AL</td>\n",
       "      <td>35094</td>\n",
       "      <td>Unknown</td>\n",
       "      <td>Consent not provided</td>\n",
       "      <td>Phone</td>\n",
       "      <td>2016-03-21</td>\n",
       "      <td>In progress</td>\n",
       "      <td>Yes</td>\n",
       "      <td>No</td>\n",
       "      <td>1842862</td>\n",
       "      <td>719</td>\n",
       "    </tr>\n",
       "    <tr>\n",
       "      <th>2</th>\n",
       "      <td>2016-03-21</td>\n",
       "      <td>Debt collection</td>\n",
       "      <td>Other (i.e. phone, health club, etc.)</td>\n",
       "      <td>Cont'd attempts collect debt not owed</td>\n",
       "      <td>Debt is not mine</td>\n",
       "      <td>None or Not Provided</td>\n",
       "      <td>Company chooses not to provide</td>\n",
       "      <td>Transworld Systems Inc.</td>\n",
       "      <td>CT</td>\n",
       "      <td>06516</td>\n",
       "      <td>Unknown</td>\n",
       "      <td>Consent not provided</td>\n",
       "      <td>Web</td>\n",
       "      <td>2016-03-21</td>\n",
       "      <td>In progress</td>\n",
       "      <td>Yes</td>\n",
       "      <td>No</td>\n",
       "      <td>1841754</td>\n",
       "      <td>1371</td>\n",
       "    </tr>\n",
       "    <tr>\n",
       "      <th>3</th>\n",
       "      <td>2016-03-21</td>\n",
       "      <td>Consumer Loan</td>\n",
       "      <td>Vehicle loan</td>\n",
       "      <td>Taking out the loan or lease</td>\n",
       "      <td>Not Provided</td>\n",
       "      <td>None or Not Provided</td>\n",
       "      <td>Company chooses not to provide</td>\n",
       "      <td>Navy FCU</td>\n",
       "      <td>VA</td>\n",
       "      <td>235XX</td>\n",
       "      <td>Servicemember</td>\n",
       "      <td>Consent not provided</td>\n",
       "      <td>Web</td>\n",
       "      <td>2016-03-21</td>\n",
       "      <td>In progress</td>\n",
       "      <td>Yes</td>\n",
       "      <td>No</td>\n",
       "      <td>1841976</td>\n",
       "      <td>1552</td>\n",
       "    </tr>\n",
       "    <tr>\n",
       "      <th>4</th>\n",
       "      <td>2016-03-21</td>\n",
       "      <td>Bank account or service</td>\n",
       "      <td>Checking account</td>\n",
       "      <td>Problems caused by my funds being low</td>\n",
       "      <td>Not Provided</td>\n",
       "      <td>None or Not Provided</td>\n",
       "      <td>Company chooses not to provide</td>\n",
       "      <td>Navy FCU</td>\n",
       "      <td>IN</td>\n",
       "      <td>46143</td>\n",
       "      <td>Unknown</td>\n",
       "      <td>Consent not provided</td>\n",
       "      <td>Referral</td>\n",
       "      <td>2016-03-21</td>\n",
       "      <td>In progress</td>\n",
       "      <td>Yes</td>\n",
       "      <td>No</td>\n",
       "      <td>1842011</td>\n",
       "      <td>1552</td>\n",
       "    </tr>\n",
       "  </tbody>\n",
       "</table>\n",
       "</div>"
      ],
      "text/plain": [
       "  Date received                  Product  \\\n",
       "0    2016-03-21          Debt collection   \n",
       "1    2016-03-21            Consumer Loan   \n",
       "2    2016-03-21          Debt collection   \n",
       "3    2016-03-21            Consumer Loan   \n",
       "4    2016-03-21  Bank account or service   \n",
       "\n",
       "                             Sub-product  \\\n",
       "0  Other (i.e. phone, health club, etc.)   \n",
       "1                Personal line of credit   \n",
       "2  Other (i.e. phone, health club, etc.)   \n",
       "3                           Vehicle loan   \n",
       "4                       Checking account   \n",
       "\n",
       "                                   Issue         Sub-issue  \\\n",
       "0  Cont'd attempts collect debt not owed     Debt was paid   \n",
       "1    Problems when you are unable to pay      Not Provided   \n",
       "2  Cont'd attempts collect debt not owed  Debt is not mine   \n",
       "3           Taking out the loan or lease      Not Provided   \n",
       "4  Problems caused by my funds being low      Not Provided   \n",
       "\n",
       "  Consumer complaint narrative  \\\n",
       "0         None or Not Provided   \n",
       "1         None or Not Provided   \n",
       "2         None or Not Provided   \n",
       "3         None or Not Provided   \n",
       "4         None or Not Provided   \n",
       "\n",
       "                             Company public response  \\\n",
       "0  Company believes it acted appropriately as aut...   \n",
       "1                     Company chooses not to provide   \n",
       "2                     Company chooses not to provide   \n",
       "3                     Company chooses not to provide   \n",
       "4                     Company chooses not to provide   \n",
       "\n",
       "                                        Company State ZIP code           Tags  \\\n",
       "0  Eastern Account Systems of Connecticut, Inc.    CA    900XX        Unknown   \n",
       "1               OneMain Financial Holdings, LLC    AL    35094        Unknown   \n",
       "2                       Transworld Systems Inc.    CT    06516        Unknown   \n",
       "3                                      Navy FCU    VA    235XX  Servicemember   \n",
       "4                                      Navy FCU    IN    46143        Unknown   \n",
       "\n",
       "  Consumer consent provided? Submitted via Date sent to company  \\\n",
       "0       Consent not provided           Web           2016-03-21   \n",
       "1       Consent not provided         Phone           2016-03-21   \n",
       "2       Consent not provided           Web           2016-03-21   \n",
       "3       Consent not provided           Web           2016-03-21   \n",
       "4       Consent not provided      Referral           2016-03-21   \n",
       "\n",
       "  Company response to consumer Timely response? Consumer disputed?  \\\n",
       "0      Closed with explanation              Yes                 No   \n",
       "1                  In progress              Yes                 No   \n",
       "2                  In progress              Yes                 No   \n",
       "3                  In progress              Yes                 No   \n",
       "4                  In progress              Yes                 No   \n",
       "\n",
       "   Complaint ID  company_complaint_counts  \n",
       "0       1841695                       101  \n",
       "1       1842862                       719  \n",
       "2       1841754                      1371  \n",
       "3       1841976                      1552  \n",
       "4       1842011                      1552  "
      ]
     },
     "execution_count": 47,
     "metadata": {},
     "output_type": "execute_result"
    }
   ],
   "source": [
    "df.head()"
   ]
  },
  {
   "cell_type": "code",
   "execution_count": 48,
   "metadata": {
    "collapsed": false
   },
   "outputs": [
    {
     "name": "stdout",
     "output_type": "stream",
     "text": [
      "<pandas.core.groupby.SeriesGroupBy object at 0x7f0656fad850>\n"
     ]
    }
   ],
   "source": [
    "print df.groupby(df['Consumer disputed?'])['Date received']"
   ]
  },
  {
   "cell_type": "code",
   "execution_count": 49,
   "metadata": {
    "collapsed": true
   },
   "outputs": [],
   "source": [
    "#df=df[df['Consumer complaint narrative']!= 'None or Not Provided']"
   ]
  },
  {
   "cell_type": "code",
   "execution_count": 50,
   "metadata": {
    "collapsed": false
   },
   "outputs": [],
   "source": [
    "temp5 = pd.crosstab(df['Consumer consent provided?'], df['Consumer disputed?'])"
   ]
  },
  {
   "cell_type": "code",
   "execution_count": 51,
   "metadata": {
    "collapsed": false
   },
   "outputs": [
    {
     "data": {
      "text/html": [
       "<div>\n",
       "<table border=\"1\" class=\"dataframe\">\n",
       "  <thead>\n",
       "    <tr style=\"text-align: right;\">\n",
       "      <th>Consumer disputed?</th>\n",
       "      <th>No</th>\n",
       "      <th>Yes</th>\n",
       "    </tr>\n",
       "    <tr>\n",
       "      <th>Consumer consent provided?</th>\n",
       "      <th></th>\n",
       "      <th></th>\n",
       "    </tr>\n",
       "  </thead>\n",
       "  <tbody>\n",
       "    <tr>\n",
       "      <th>Consent not provided</th>\n",
       "      <td>383425</td>\n",
       "      <td>94870</td>\n",
       "    </tr>\n",
       "    <tr>\n",
       "      <th>Consent provided</th>\n",
       "      <td>45750</td>\n",
       "      <td>13947</td>\n",
       "    </tr>\n",
       "  </tbody>\n",
       "</table>\n",
       "</div>"
      ],
      "text/plain": [
       "Consumer disputed?              No    Yes\n",
       "Consumer consent provided?               \n",
       "Consent not provided        383425  94870\n",
       "Consent provided             45750  13947"
      ]
     },
     "execution_count": 51,
     "metadata": {},
     "output_type": "execute_result"
    }
   ],
   "source": [
    "temp5"
   ]
  },
  {
   "cell_type": "code",
   "execution_count": 52,
   "metadata": {
    "collapsed": false
   },
   "outputs": [
    {
     "data": {
      "text/plain": [
       "Consent not provided    478295\n",
       "Consent provided         59697\n",
       "Name: Consumer consent provided?, dtype: int64"
      ]
     },
     "execution_count": 52,
     "metadata": {},
     "output_type": "execute_result"
    }
   ],
   "source": [
    "df['Consumer consent provided?'].value_counts()"
   ]
  },
  {
   "cell_type": "markdown",
   "metadata": {},
   "source": [
    "# Feature Engineering"
   ]
  },
  {
   "cell_type": "markdown",
   "metadata": {},
   "source": [
    "## Creating label"
   ]
  },
  {
   "cell_type": "code",
   "execution_count": 53,
   "metadata": {
    "collapsed": false
   },
   "outputs": [],
   "source": [
    "replace={'Yes':True, 'No':False}"
   ]
  },
  {
   "cell_type": "code",
   "execution_count": 54,
   "metadata": {
    "collapsed": false
   },
   "outputs": [],
   "source": [
    "df['Consumer disputed?']= df['Consumer disputed?'].apply(lambda x: replace[x])"
   ]
  },
  {
   "cell_type": "markdown",
   "metadata": {
    "collapsed": true
   },
   "source": [
    "## Feature creating"
   ]
  },
  {
   "cell_type": "code",
   "execution_count": 55,
   "metadata": {
    "collapsed": true
   },
   "outputs": [],
   "source": [
    "#Creat a dataframe including all the features in the model\n",
    "df_model = DataFrame()"
   ]
  },
  {
   "cell_type": "code",
   "execution_count": 56,
   "metadata": {
    "collapsed": true
   },
   "outputs": [],
   "source": [
    "#Create 'consent provided' Boolean feature\n",
    "replace1={'Consent provided':True, 'Consent not provided':False}\n",
    "df_model['Consumer consent provided?']= df['Consumer consent provided?'].apply(lambda x: replace1[x])"
   ]
  },
  {
   "cell_type": "code",
   "execution_count": 57,
   "metadata": {
    "collapsed": false
   },
   "outputs": [],
   "source": [
    "#Create the number of compliants of each company as a feature\n",
    "company_complaitns_counts = df['Company'].value_counts()\n",
    "df_model['company_complaint_counts'] = df['Company'].apply(lambda x: company_complaitns_counts[x])"
   ]
  },
  {
   "cell_type": "code",
   "execution_count": 58,
   "metadata": {
    "collapsed": true
   },
   "outputs": [],
   "source": [
    "feature_for_model=['Product', 'Sub-product','Issue','Sub-issue', 'Company public response','Tags',\n",
    "                'Company response to consumer', 'State']\n",
    "for name in feature_for_model:\n",
    "    repl={}\n",
    "    i=0\n",
    "    for value in df[name].unique():\n",
    "        repl[value] = i\n",
    "        i+=1\n",
    "       \n",
    "    df[name] = df[name].apply(lambda x: repl[x])\n",
    "    df_model[name] = df[name].astype('category')\n",
    "           "
   ]
  },
  {
   "cell_type": "code",
   "execution_count": 59,
   "metadata": {
    "collapsed": true
   },
   "outputs": [],
   "source": [
    "##process time refers to days between the date CFPB received complaitns and the date \n",
    "##when complaints were sent to company on behal of comsume\n",
    "df['Process time']=(df['Date sent to company']-df['Date received']).astype('timedelta64[D]').astype(int)\n",
    "df_model=pd.concat([df_model,df['Process time']],axis=1)"
   ]
  },
  {
   "cell_type": "code",
   "execution_count": 60,
   "metadata": {
    "collapsed": false
   },
   "outputs": [],
   "source": [
    "#Create 'Timely response\" boolean feature\n",
    "df['Timely response?'] = df['Timely response?'].apply(lambda x: replace[x])\n",
    "df_model=pd.concat([df_model,df['Timely response?']],axis=1)"
   ]
  },
  {
   "cell_type": "code",
   "execution_count": 61,
   "metadata": {
    "collapsed": false
   },
   "outputs": [],
   "source": [
    "##Create features about complaint submitted time\n",
    "df_model['Date_received_year'] = df['Date received'].apply(lambda x: x.year)\n",
    "df_model['Date_received_month'] = df['Date received'].apply(lambda x: x.month)\n",
    "df_model['Date_received_day'] = df['Date received'].apply(lambda x: x.day)"
   ]
  },
  {
   "cell_type": "code",
   "execution_count": 62,
   "metadata": {
    "collapsed": false
   },
   "outputs": [
    {
     "data": {
      "text/html": [
       "<div>\n",
       "<table border=\"1\" class=\"dataframe\">\n",
       "  <thead>\n",
       "    <tr style=\"text-align: right;\">\n",
       "      <th></th>\n",
       "      <th>0</th>\n",
       "      <th>1</th>\n",
       "      <th>2</th>\n",
       "      <th>3</th>\n",
       "      <th>4</th>\n",
       "    </tr>\n",
       "  </thead>\n",
       "  <tbody>\n",
       "    <tr>\n",
       "      <th>Consumer consent provided?</th>\n",
       "      <td>False</td>\n",
       "      <td>False</td>\n",
       "      <td>False</td>\n",
       "      <td>False</td>\n",
       "      <td>False</td>\n",
       "    </tr>\n",
       "    <tr>\n",
       "      <th>company_complaint_counts</th>\n",
       "      <td>101</td>\n",
       "      <td>719</td>\n",
       "      <td>1371</td>\n",
       "      <td>1552</td>\n",
       "      <td>1552</td>\n",
       "    </tr>\n",
       "    <tr>\n",
       "      <th>Product</th>\n",
       "      <td>0</td>\n",
       "      <td>1</td>\n",
       "      <td>0</td>\n",
       "      <td>1</td>\n",
       "      <td>2</td>\n",
       "    </tr>\n",
       "    <tr>\n",
       "      <th>Sub-product</th>\n",
       "      <td>0</td>\n",
       "      <td>1</td>\n",
       "      <td>0</td>\n",
       "      <td>2</td>\n",
       "      <td>3</td>\n",
       "    </tr>\n",
       "    <tr>\n",
       "      <th>Issue</th>\n",
       "      <td>0</td>\n",
       "      <td>1</td>\n",
       "      <td>0</td>\n",
       "      <td>2</td>\n",
       "      <td>3</td>\n",
       "    </tr>\n",
       "    <tr>\n",
       "      <th>Sub-issue</th>\n",
       "      <td>0</td>\n",
       "      <td>1</td>\n",
       "      <td>2</td>\n",
       "      <td>1</td>\n",
       "      <td>1</td>\n",
       "    </tr>\n",
       "    <tr>\n",
       "      <th>Company public response</th>\n",
       "      <td>0</td>\n",
       "      <td>1</td>\n",
       "      <td>1</td>\n",
       "      <td>1</td>\n",
       "      <td>1</td>\n",
       "    </tr>\n",
       "    <tr>\n",
       "      <th>Tags</th>\n",
       "      <td>0</td>\n",
       "      <td>0</td>\n",
       "      <td>0</td>\n",
       "      <td>1</td>\n",
       "      <td>0</td>\n",
       "    </tr>\n",
       "    <tr>\n",
       "      <th>Company response to consumer</th>\n",
       "      <td>0</td>\n",
       "      <td>1</td>\n",
       "      <td>1</td>\n",
       "      <td>1</td>\n",
       "      <td>1</td>\n",
       "    </tr>\n",
       "    <tr>\n",
       "      <th>State</th>\n",
       "      <td>0</td>\n",
       "      <td>1</td>\n",
       "      <td>2</td>\n",
       "      <td>3</td>\n",
       "      <td>4</td>\n",
       "    </tr>\n",
       "    <tr>\n",
       "      <th>Process time</th>\n",
       "      <td>0</td>\n",
       "      <td>0</td>\n",
       "      <td>0</td>\n",
       "      <td>0</td>\n",
       "      <td>0</td>\n",
       "    </tr>\n",
       "    <tr>\n",
       "      <th>Timely response?</th>\n",
       "      <td>True</td>\n",
       "      <td>True</td>\n",
       "      <td>True</td>\n",
       "      <td>True</td>\n",
       "      <td>True</td>\n",
       "    </tr>\n",
       "    <tr>\n",
       "      <th>Date_received_year</th>\n",
       "      <td>2016</td>\n",
       "      <td>2016</td>\n",
       "      <td>2016</td>\n",
       "      <td>2016</td>\n",
       "      <td>2016</td>\n",
       "    </tr>\n",
       "    <tr>\n",
       "      <th>Date_received_month</th>\n",
       "      <td>3</td>\n",
       "      <td>3</td>\n",
       "      <td>3</td>\n",
       "      <td>3</td>\n",
       "      <td>3</td>\n",
       "    </tr>\n",
       "    <tr>\n",
       "      <th>Date_received_day</th>\n",
       "      <td>21</td>\n",
       "      <td>21</td>\n",
       "      <td>21</td>\n",
       "      <td>21</td>\n",
       "      <td>21</td>\n",
       "    </tr>\n",
       "  </tbody>\n",
       "</table>\n",
       "</div>"
      ],
      "text/plain": [
       "                                  0      1      2      3      4\n",
       "Consumer consent provided?    False  False  False  False  False\n",
       "company_complaint_counts        101    719   1371   1552   1552\n",
       "Product                           0      1      0      1      2\n",
       "Sub-product                       0      1      0      2      3\n",
       "Issue                             0      1      0      2      3\n",
       "Sub-issue                         0      1      2      1      1\n",
       "Company public response           0      1      1      1      1\n",
       "Tags                              0      0      0      1      0\n",
       "Company response to consumer      0      1      1      1      1\n",
       "State                             0      1      2      3      4\n",
       "Process time                      0      0      0      0      0\n",
       "Timely response?               True   True   True   True   True\n",
       "Date_received_year             2016   2016   2016   2016   2016\n",
       "Date_received_month               3      3      3      3      3\n",
       "Date_received_day                21     21     21     21     21"
      ]
     },
     "execution_count": 62,
     "metadata": {},
     "output_type": "execute_result"
    }
   ],
   "source": [
    "df_model.head().T"
   ]
  },
  {
   "cell_type": "markdown",
   "metadata": {},
   "source": [
    "# Modeling"
   ]
  },
  {
   "cell_type": "code",
   "execution_count": 63,
   "metadata": {
    "collapsed": true
   },
   "outputs": [],
   "source": [
    "from sklearn.naive_bayes import MultinomialNB\n",
    "from sklearn.feature_extraction.text import TfidfVectorizer\n",
    "from sklearn.cross_validation import train_test_split\n",
    "import sklearn.metrics as skm\n",
    "from sklearn.pipeline import Pipeline\n",
    "from scipy import interp\n",
    "from nltk import word_tokenize\n",
    "from nltk.stem.snowball import SnowballStemmer\n",
    "from sklearn.linear_model import LogisticRegression\n",
    "from sklearn.grid_search import GridSearchCV\n",
    "from sklearn.feature_extraction.text import CountVectorizer\n",
    "from sklearn.feature_extraction.text import TfidfTransformer\n",
    "from sklearn.linear_model import SGDClassifier\n",
    "from sklearn.multiclass import OneVsRestClassifier\n",
    "from sklearn.ensemble import RandomForestClassifier"
   ]
  },
  {
   "cell_type": "markdown",
   "metadata": {},
   "source": [
    "## Modeling with non-complaint narrative text features"
   ]
  },
  {
   "cell_type": "code",
   "execution_count": 64,
   "metadata": {
    "collapsed": true
   },
   "outputs": [],
   "source": [
    "X = df_model.values\n",
    "y = df['Consumer disputed?'].values"
   ]
  },
  {
   "cell_type": "code",
   "execution_count": 65,
   "metadata": {
    "collapsed": true
   },
   "outputs": [],
   "source": [
    "X_train, X_test, y_train, y_test = train_test_split(X, y, test_size=0.20, random_state=67)"
   ]
  },
  {
   "cell_type": "code",
   "execution_count": 66,
   "metadata": {
    "collapsed": false
   },
   "outputs": [
    {
     "name": "stderr",
     "output_type": "stream",
     "text": [
      "/home/ubuntu/anaconda2/lib/python2.7/site-packages/sklearn/utils/validation.py:420: DataConversionWarning: Data with input dtype object was converted to float64 by StandardScaler.\n",
      "  warnings.warn(msg, DataConversionWarning)\n",
      "/home/ubuntu/anaconda2/lib/python2.7/site-packages/sklearn/utils/validation.py:420: DataConversionWarning: Data with input dtype object was converted to float64 by StandardScaler.\n",
      "  warnings.warn(msg, DataConversionWarning)\n",
      "/home/ubuntu/anaconda2/lib/python2.7/site-packages/sklearn/utils/validation.py:420: DataConversionWarning: Data with input dtype object was converted to float64 by StandardScaler.\n",
      "  warnings.warn(msg, DataConversionWarning)\n"
     ]
    }
   ],
   "source": [
    "from sklearn.preprocessing import StandardScaler\n",
    "scaler = StandardScaler()\n",
    "scaler.fit(X_train)  \n",
    "X_train = scaler.transform(X_train)\n",
    "X_test = scaler.transform(X_test)  "
   ]
  },
  {
   "cell_type": "markdown",
   "metadata": {},
   "source": [
    "### First Logistic Regression Model"
   ]
  },
  {
   "cell_type": "code",
   "execution_count": 67,
   "metadata": {
    "collapsed": false
   },
   "outputs": [
    {
     "name": "stderr",
     "output_type": "stream",
     "text": [
      "/home/ubuntu/anaconda2/lib/python2.7/site-packages/sklearn/utils/class_weight.py:62: DeprecationWarning: The class_weight='auto' heuristic is deprecated in 0.17 in favor of a new heuristic class_weight='balanced'. 'auto' will be removed in 0.19\n",
      "  \" 0.19\", DeprecationWarning)\n"
     ]
    },
    {
     "data": {
      "text/plain": [
       "LogisticRegression(C=1.0, class_weight='auto', dual=False, fit_intercept=True,\n",
       "          intercept_scaling=1, max_iter=100, multi_class='ovr', n_jobs=1,\n",
       "          penalty='l2', random_state=None, solver='liblinear', tol=0.0001,\n",
       "          verbose=0, warm_start=False)"
      ]
     },
     "execution_count": 67,
     "metadata": {},
     "output_type": "execute_result"
    }
   ],
   "source": [
    "lr = LogisticRegression(class_weight='auto')\n",
    "lr.fit(X_train, y_train)"
   ]
  },
  {
   "cell_type": "code",
   "execution_count": 68,
   "metadata": {
    "collapsed": false
   },
   "outputs": [
    {
     "data": {
      "text/plain": [
       "0.53863883493341014"
      ]
     },
     "execution_count": 68,
     "metadata": {},
     "output_type": "execute_result"
    }
   ],
   "source": [
    "lr.score(X_test,y_test)"
   ]
  },
  {
   "cell_type": "code",
   "execution_count": 69,
   "metadata": {
    "collapsed": true
   },
   "outputs": [],
   "source": [
    "v_probs = lr.predict_proba(X_test)[:, 1]"
   ]
  },
  {
   "cell_type": "code",
   "execution_count": 70,
   "metadata": {
    "collapsed": false
   },
   "outputs": [],
   "source": [
    "def roc_curve(probabilities, labels):\n",
    "    '''\n",
    "    INPUT: numpy array, numpy array\n",
    "    OUTPUT: list, list, list\n",
    "\n",
    "    Take a numpy array of the predicted probabilities and a numpy array of the\n",
    "    true labels.\n",
    "    Return the True Positive Rates, False Positive Rates and Thresholds for the\n",
    "    ROC curve.\n",
    "    '''\n",
    "\n",
    "    thresholds = np.sort(probabilities)\n",
    "\n",
    "    tprs = []\n",
    "    fprs = []\n",
    "\n",
    "    num_positive_cases = sum(labels)\n",
    "    num_negative_cases = len(labels) - num_positive_cases\n",
    "\n",
    "    for threshold in thresholds:\n",
    "        # With this threshold, give the prediction of each instance\n",
    "        predicted_positive = probabilities >= threshold\n",
    "        # Calculate the number of correctly predicted positive cases\n",
    "        true_positives = np.sum(predicted_positive * labels)\n",
    "        # Calculate the number of incorrectly predicted positive cases\n",
    "        false_positives = np.sum(predicted_positive) - true_positives\n",
    "        # Calculate the True Positive Rate\n",
    "        tpr = true_positives / float(num_positive_cases)\n",
    "        # Calculate the False Positive Rate\n",
    "        fpr = false_positives / float(num_negative_cases)\n",
    "\n",
    "        fprs.append(fpr)\n",
    "        tprs.append(tpr)\n",
    "    \n",
    "    return tprs, fprs, thresholds.tolist()\n",
    "\n",
    "def plot_roc(v_probs, y_test, title, xlabel, ylabel):\n",
    "    # ROC\n",
    "    fig = plt.figure(figsize = (8,6))\n",
    "    tpr, fpr, thresholds = roc_curve(v_probs, y_test)\n",
    "    \n",
    "    import sklearn.metrics as skm\n",
    "    auc = skm.roc_auc_score(y_test, v_probs)\n",
    "\n",
    "    plt.hold(True)\n",
    "    plt.plot(fpr, tpr)\n",
    "\n",
    "    # 45 degree line\n",
    "    xx = np.linspace(0, 1.0, 20)\n",
    "    plt.plot(xx, xx, 'k--')\n",
    "\n",
    "    plt.xlabel(xlabel)\n",
    "    plt.ylabel(ylabel)\n",
    "    plt.title(title)\n",
    "\n",
    "    plt.show()\n",
    "    fig.savefig(title+'.png')"
   ]
  },
  {
   "cell_type": "code",
   "execution_count": 71,
   "metadata": {
    "collapsed": false
   },
   "outputs": [
    {
     "data": {
      "image/png": "[encoded data removed]",
      "text/plain": [
       "<matplotlib.figure.Figure at 0x7f0629d4d690>"
      ]
     },
     "metadata": {},
     "output_type": "display_data"
    }
   ],
   "source": [
    "plot_roc(v_probs, y_test, \"ROC plot of  complaint dispute using non-text features, auc = 0.57\", \n",
    "         \"False Positive Rate (1 - Specificity)\", \"True Positive Rate (Sensitivity, Recall)\")"
   ]
  },
  {
   "cell_type": "code",
   "execution_count": 72,
   "metadata": {
    "collapsed": false
   },
   "outputs": [
    {
     "data": {
      "text/plain": [
       "0.57078450366682487"
      ]
     },
     "execution_count": 72,
     "metadata": {},
     "output_type": "execute_result"
    }
   ],
   "source": [
    "import sklearn.metrics as skm\n",
    "skm.roc_auc_score(y_test, v_probs)"
   ]
  },
  {
   "cell_type": "code",
   "execution_count": 73,
   "metadata": {
    "collapsed": false
   },
   "outputs": [
    {
     "data": {
      "text/plain": [
       "(107599,)"
      ]
     },
     "execution_count": 73,
     "metadata": {},
     "output_type": "execute_result"
    }
   ],
   "source": [
    "v_probs.shape"
   ]
  },
  {
   "cell_type": "code",
   "execution_count": 74,
   "metadata": {
    "collapsed": false
   },
   "outputs": [
    {
     "data": {
      "text/plain": [
       "0.57189104194607598"
      ]
     },
     "execution_count": 74,
     "metadata": {},
     "output_type": "execute_result"
    }
   ],
   "source": [
    "skm.recall_score(y_test, lr.predict(X_test))"
   ]
  },
  {
   "cell_type": "code",
   "execution_count": 75,
   "metadata": {
    "collapsed": false
   },
   "outputs": [
    {
     "data": {
      "text/html": [
       "<div>\n",
       "<table border=\"1\" class=\"dataframe\">\n",
       "  <thead>\n",
       "    <tr style=\"text-align: right;\">\n",
       "      <th>col_0</th>\n",
       "      <th>False</th>\n",
       "      <th>True</th>\n",
       "    </tr>\n",
       "    <tr>\n",
       "      <th>row_0</th>\n",
       "      <th></th>\n",
       "      <th></th>\n",
       "    </tr>\n",
       "  </thead>\n",
       "  <tbody>\n",
       "    <tr>\n",
       "      <th>False</th>\n",
       "      <td>45591</td>\n",
       "      <td>40385</td>\n",
       "    </tr>\n",
       "    <tr>\n",
       "      <th>True</th>\n",
       "      <td>9257</td>\n",
       "      <td>12366</td>\n",
       "    </tr>\n",
       "  </tbody>\n",
       "</table>\n",
       "</div>"
      ],
      "text/plain": [
       "col_0  False  True \n",
       "row_0              \n",
       "False  45591  40385\n",
       "True    9257  12366"
      ]
     },
     "execution_count": 75,
     "metadata": {},
     "output_type": "execute_result"
    }
   ],
   "source": [
    "pd.crosstab(y_test, lr.predict(X_test))"
   ]
  },
  {
   "cell_type": "code",
   "execution_count": 76,
   "metadata": {
    "collapsed": true
   },
   "outputs": [],
   "source": [
    "from sklearn.metrics import confusion_matrix\n",
    "\n",
    "def plot_confusion_matrix(model, X_test, y_true):\n",
    "    cm = confusion_matrix(y_true, model.predict(X_test))\n",
    "\n",
    "    print(cm)\n",
    "\n",
    "    # Show confusion matrix in a separate window\n",
    "    plt.matshow(cm)\n",
    "    plt.title('Confusion matrix')\n",
    "    plt.colorbar()\n",
    "    plt.ylabel('True label')\n",
    "    plt.xlabel('Predicted label')\n",
    "    plt.show()"
   ]
  },
  {
   "cell_type": "code",
   "execution_count": 77,
   "metadata": {
    "collapsed": false
   },
   "outputs": [
    {
     "name": "stdout",
     "output_type": "stream",
     "text": [
      "[[45591 40385]\n",
      " [ 9257 12366]]\n"
     ]
    },
    {
     "data": {
      "image/png": "[encoded data removed]",
      "text/plain": [
       "<matplotlib.figure.Figure at 0x7f0657078890>"
      ]
     },
     "metadata": {},
     "output_type": "display_data"
    }
   ],
   "source": [
    "plot_confusion_matrix(lr, X_test, y_test)"
   ]
  },
  {
   "cell_type": "markdown",
   "metadata": {},
   "source": [
    "### Now try descision tree model"
   ]
  },
  {
   "cell_type": "code",
   "execution_count": 78,
   "metadata": {
    "collapsed": false
   },
   "outputs": [
    {
     "data": {
      "text/plain": [
       "RandomForestClassifier(bootstrap=True, class_weight='auto', criterion='gini',\n",
       "            max_depth=None, max_features=1, max_leaf_nodes=None,\n",
       "            min_samples_leaf=1, min_samples_split=2,\n",
       "            min_weight_fraction_leaf=0.0, n_estimators=2000, n_jobs=-1,\n",
       "            oob_score=False, random_state=None, verbose=0,\n",
       "            warm_start=False)"
      ]
     },
     "execution_count": 78,
     "metadata": {},
     "output_type": "execute_result"
    }
   ],
   "source": [
    "## Random Forest Classifier\n",
    "rfc = RandomForestClassifier(n_estimators=2000, n_jobs=-1, class_weight='auto', max_features=1)\n",
    "rfc.fit(X_train, y_train)"
   ]
  },
  {
   "cell_type": "code",
   "execution_count": 79,
   "metadata": {
    "collapsed": false
   },
   "outputs": [
    {
     "data": {
      "text/plain": [
       "0.79438470617756674"
      ]
     },
     "execution_count": 79,
     "metadata": {},
     "output_type": "execute_result"
    }
   ],
   "source": [
    "rfc.score(X_test, y_test)"
   ]
  },
  {
   "cell_type": "code",
   "execution_count": 80,
   "metadata": {
    "collapsed": false
   },
   "outputs": [
    {
     "data": {
      "text/html": [
       "<div>\n",
       "<table border=\"1\" class=\"dataframe\">\n",
       "  <thead>\n",
       "    <tr style=\"text-align: right;\">\n",
       "      <th>col_0</th>\n",
       "      <th>False</th>\n",
       "      <th>True</th>\n",
       "    </tr>\n",
       "    <tr>\n",
       "      <th>row_0</th>\n",
       "      <th></th>\n",
       "      <th></th>\n",
       "    </tr>\n",
       "  </thead>\n",
       "  <tbody>\n",
       "    <tr>\n",
       "      <th>False</th>\n",
       "      <td>84591</td>\n",
       "      <td>1385</td>\n",
       "    </tr>\n",
       "    <tr>\n",
       "      <th>True</th>\n",
       "      <td>20739</td>\n",
       "      <td>884</td>\n",
       "    </tr>\n",
       "  </tbody>\n",
       "</table>\n",
       "</div>"
      ],
      "text/plain": [
       "col_0  False  True \n",
       "row_0              \n",
       "False  84591   1385\n",
       "True   20739    884"
      ]
     },
     "execution_count": 80,
     "metadata": {},
     "output_type": "execute_result"
    }
   ],
   "source": [
    "pd.crosstab(y_test, rfc.predict(X_test))"
   ]
  },
  {
   "cell_type": "code",
   "execution_count": 81,
   "metadata": {
    "collapsed": false
   },
   "outputs": [
    {
     "data": {
      "text/plain": [
       "0.61690180079745383"
      ]
     },
     "execution_count": 81,
     "metadata": {},
     "output_type": "execute_result"
    }
   ],
   "source": [
    "skm.roc_auc_score(y_test, rfc.predict_proba(X_test)[:, 1])"
   ]
  },
  {
   "cell_type": "code",
   "execution_count": 82,
   "metadata": {
    "collapsed": false
   },
   "outputs": [
    {
     "data": {
      "text/plain": [
       "0.040882393747398604"
      ]
     },
     "execution_count": 82,
     "metadata": {},
     "output_type": "execute_result"
    }
   ],
   "source": [
    "skm.recall_score(y_test, rfc.predict(X_test))"
   ]
  },
  {
   "cell_type": "code",
   "execution_count": 83,
   "metadata": {
    "collapsed": false
   },
   "outputs": [
    {
     "name": "stdout",
     "output_type": "stream",
     "text": [
      "[[84591  1385]\n",
      " [20739   884]]\n"
     ]
    },
    {
     "data": {
      "image/png": "[encoded data removed]",
      "text/plain": [
       "<matplotlib.figure.Figure at 0x7f0629869650>"
      ]
     },
     "metadata": {},
     "output_type": "display_data"
    }
   ],
   "source": [
    "plot_confusion_matrix(rfc, X_test, y_test)"
   ]
  },
  {
   "cell_type": "code",
   "execution_count": 84,
   "metadata": {
    "collapsed": true
   },
   "outputs": [],
   "source": [
    "def plot_importance(clf, X, max_features=10):\n",
    "    '''Plot feature importance'''\n",
    "    feature_importance = clf.feature_importances_\n",
    "    # make importances relative to max importance\n",
    "    feature_importance = 100.0 * (feature_importance / feature_importance.max())\n",
    "    sorted_idx = np.argsort(feature_importance)\n",
    "    pos = np.arange(sorted_idx.shape[0]) + .5\n",
    "    \n",
    "    # Show only top features\n",
    "    pos = pos[-max_features:]\n",
    "    feature_importance = (feature_importance[sorted_idx])[-max_features:]\n",
    "    feature_names = (X.columns[sorted_idx])[-max_features:]\n",
    "    \n",
    "    plt.barh(pos, feature_importance, align='center')\n",
    "    plt.yticks(pos, feature_names)\n",
    "    plt.xlabel('Relative Importance')\n",
    "    plt.title('Variable Importance')"
   ]
  },
  {
   "cell_type": "code",
   "execution_count": 85,
   "metadata": {
    "collapsed": false
   },
   "outputs": [
    {
     "data": {
      "image/png": "[encoded data removed]",
      "text/plain": [
       "<matplotlib.figure.Figure at 0x7f06297f71d0>"
      ]
     },
     "metadata": {},
     "output_type": "display_data"
    }
   ],
   "source": [
    "plot_importance(rfc, df_model, max_features=10)"
   ]
  },
  {
   "cell_type": "code",
   "execution_count": 86,
   "metadata": {
    "collapsed": true
   },
   "outputs": [],
   "source": [
    "#Create features about 'Consumenr complaint narrative'\n",
    "\n",
    "from string import punctuation, ascii_letters\n",
    "\n",
    "def process_text_field(text):\n",
    "    '''\n",
    "    text: string\n",
    "    OUTPUT: int, int, int, float (length, word count, uppercase_count_rate, punctuation_rate)\n",
    "    '''\n",
    "    length = len(text)\n",
    "    word_count = 0\n",
    "    last_char = False\n",
    "    for c in text:\n",
    "        if c in ascii_letters:\n",
    "            if last_char==False:\n",
    "                word_count += 1\n",
    "                last_char=True\n",
    "        else:\n",
    "            last_char = False\n",
    "    \n",
    "    punct_count = 0\n",
    "    uppercase_count = 0\n",
    "    for c in text:\n",
    "        if c in punctuation:\n",
    "            punct_count += 1\n",
    "        if c.isupper():\n",
    "            uppercase_count += 1\n",
    "    punctuation_rate = punct_count / float(length+1)\n",
    "    uppercase_count_rate = uppercase_count / float(length+1)\n",
    "    \n",
    "    return length, word_count, uppercase_count_rate, punctuation_rate\n",
    "\n",
    "def process_text_column(df, fieldname):\n",
    "    length_list = []\n",
    "    word_count_list = []\n",
    "    punctuation_rate_list = []\n",
    "    uppercase_count_rate_list=[]\n",
    "    for row_ix in df.index:\n",
    "        length, word_count, uppercase_count_rate, punctuation_rate = process_text_field(df[fieldname][row_ix])\n",
    "        length_list.append(length)\n",
    "        word_count_list.append(word_count)\n",
    "        uppercase_count_rate_list.append(uppercase_count_rate)\n",
    "        punctuation_rate_list.append(punctuation_rate)\n",
    "    return length_list, word_count_list, uppercase_count_rate_list, punctuation_rate_list"
   ]
  },
  {
   "cell_type": "code",
   "execution_count": 87,
   "metadata": {
    "collapsed": false
   },
   "outputs": [],
   "source": [
    "stemmer = SnowballStemmer(\"english\")\n",
    "\n",
    "def stem_tokens(tokens, stemmer):\n",
    "    stemmed=[]\n",
    "    for item in tokens:\n",
    "        stemmed.append(stemmer.stem(item))\n",
    "    return stemmed\n",
    "\n",
    "def tokenize(text):\n",
    "    tokens = word_tokenize(text)\n",
    "    stems = stem_tokens(tokens, stemmer)\n",
    "    return stems"
   ]
  },
  {
   "cell_type": "markdown",
   "metadata": {},
   "source": [
    "### Model with features extracted from \"Consumer complaint narrative\""
   ]
  },
  {
   "cell_type": "code",
   "execution_count": 88,
   "metadata": {
    "collapsed": false
   },
   "outputs": [],
   "source": [
    "df=df[df['Consumer complaint narrative']!= 'None or Not Provided']"
   ]
  },
  {
   "cell_type": "code",
   "execution_count": 89,
   "metadata": {
    "collapsed": false
   },
   "outputs": [],
   "source": [
    "chars_to_remove = ['XX', 'XXX', 'XXXX']\n",
    "df['Consumer complaint narrative'] = df['Consumer complaint narrative'].apply(lambda x: x.translate(None, ''.join(chars_to_remove)))"
   ]
  },
  {
   "cell_type": "code",
   "execution_count": 90,
   "metadata": {
    "collapsed": false
   },
   "outputs": [],
   "source": [
    "X_word = df['Consumer complaint narrative'].values\n",
    "y = df['Consumer disputed?'].values"
   ]
  },
  {
   "cell_type": "code",
   "execution_count": 91,
   "metadata": {
    "collapsed": false
   },
   "outputs": [
    {
     "data": {
      "text/plain": [
       "(59697,)"
      ]
     },
     "execution_count": 91,
     "metadata": {},
     "output_type": "execute_result"
    }
   ],
   "source": [
    "X_word.shape"
   ]
  },
  {
   "cell_type": "code",
   "execution_count": 92,
   "metadata": {
    "collapsed": true
   },
   "outputs": [],
   "source": [
    "X_train_word, X_test_word, y_train, y_test = train_test_split(X_word, y, test_size=0.20, random_state=67)\n",
    "vectorizer = TfidfVectorizer(stop_words='english',lowercase=False, min_df=0.001, max_df = 0.2,\n",
    "                             )\n",
    "words_matrix_train = vectorizer.fit_transform(X_train_word)\n",
    "words_matrix_test = vectorizer.transform(X_test_word)\n",
    "words_matrix = vectorizer.transform(X_word)"
   ]
  },
  {
   "cell_type": "code",
   "execution_count": 93,
   "metadata": {
    "collapsed": false
   },
   "outputs": [
    {
     "data": {
      "text/plain": [
       "(59697, 5136)"
      ]
     },
     "execution_count": 93,
     "metadata": {},
     "output_type": "execute_result"
    }
   ],
   "source": [
    "words_matrix.shape"
   ]
  },
  {
   "cell_type": "code",
   "execution_count": 94,
   "metadata": {
    "collapsed": false
   },
   "outputs": [
    {
     "data": {
      "text/plain": [
       "0.62575286653651596"
      ]
     },
     "execution_count": 94,
     "metadata": {},
     "output_type": "execute_result"
    }
   ],
   "source": [
    "#MultinomialNB classifier directly using tfidf text\n",
    "\n",
    "model = MultinomialNB()\n",
    "model.fit(words_matrix_train, y_train)\n",
    "\n",
    "##Model evaluation via 'Consumer complaint narrative' only\n",
    "\n",
    "model.score(words_matrix_test,y_test)\n",
    "skm.roc_auc_score(y_test, model.predict_proba(words_matrix_test)[:, 1])"
   ]
  },
  {
   "cell_type": "code",
   "execution_count": 95,
   "metadata": {
    "collapsed": false
   },
   "outputs": [
    {
     "data": {
      "text/plain": [
       "0.66520146880469211"
      ]
     },
     "execution_count": 95,
     "metadata": {},
     "output_type": "execute_result"
    }
   ],
   "source": [
    "# random forest directly using tfidf\n",
    "rfc = RandomForestClassifier(n_estimators=500, n_jobs=-1, class_weight='auto' )\n",
    "rfc.fit(words_matrix_train, y_train)\n",
    "skm.roc_auc_score(y_test, rfc.predict_proba(words_matrix_test)[:, 1])"
   ]
  },
  {
   "cell_type": "code",
   "execution_count": 96,
   "metadata": {
    "collapsed": false
   },
   "outputs": [],
   "source": [
    "#plot_importance(rfc, words_matrix, max_features=10)"
   ]
  },
  {
   "cell_type": "code",
   "execution_count": 97,
   "metadata": {
    "collapsed": false
   },
   "outputs": [
    {
     "data": {
      "text/plain": [
       "(11940,)"
      ]
     },
     "execution_count": 97,
     "metadata": {},
     "output_type": "execute_result"
    }
   ],
   "source": [
    "y_test.shape"
   ]
  },
  {
   "cell_type": "code",
   "execution_count": 98,
   "metadata": {
    "collapsed": false
   },
   "outputs": [],
   "source": [
    "v_prob = rfc.predict_proba(words_matrix_test)[:, 1]"
   ]
  },
  {
   "cell_type": "code",
   "execution_count": 99,
   "metadata": {
    "collapsed": false
   },
   "outputs": [
    {
     "data": {
      "text/plain": [
       "(11940,)"
      ]
     },
     "execution_count": 99,
     "metadata": {},
     "output_type": "execute_result"
    }
   ],
   "source": [
    "v_prob.shape"
   ]
  },
  {
   "cell_type": "code",
   "execution_count": 100,
   "metadata": {
    "collapsed": false
   },
   "outputs": [
    {
     "data": {
      "image/png": "[encoded data removed]",
      "text/plain": [
       "<matplotlib.figure.Figure at 0x7f06328532d0>"
      ]
     },
     "metadata": {},
     "output_type": "display_data"
    }
   ],
   "source": [
    "plot_roc(v_prob, y_test, \"ROC plot of  complaint dispute prediction with text features, auc = 0.67\", \n",
    "         \"False Positive Rate (1 - Specificity)\", \"True Positive Rate (Sensitivity, Recall)\")"
   ]
  },
  {
   "cell_type": "code",
   "execution_count": 101,
   "metadata": {
    "collapsed": true
   },
   "outputs": [],
   "source": [
    "features = np.array(vectorizer.get_feature_names())"
   ]
  },
  {
   "cell_type": "code",
   "execution_count": 102,
   "metadata": {
    "collapsed": false
   },
   "outputs": [
    {
     "data": {
      "text/plain": [
       "numpy.ndarray"
      ]
     },
     "execution_count": 102,
     "metadata": {},
     "output_type": "execute_result"
    }
   ],
   "source": [
    "type(features)"
   ]
  },
  {
   "cell_type": "code",
   "execution_count": 103,
   "metadata": {
    "collapsed": false
   },
   "outputs": [],
   "source": [
    "table = DataFrame(words_matrix.toarray(), columns = features)"
   ]
  },
  {
   "cell_type": "code",
   "execution_count": 104,
   "metadata": {
    "collapsed": false
   },
   "outputs": [
    {
     "data": {
      "text/html": [
       "<div>\n",
       "<table border=\"1\" class=\"dataframe\">\n",
       "  <thead>\n",
       "    <tr style=\"text-align: right;\">\n",
       "      <th></th>\n",
       "      <th>000</th>\n",
       "      <th>10</th>\n",
       "      <th>100</th>\n",
       "      <th>1000</th>\n",
       "      <th>10000</th>\n",
       "      <th>100000</th>\n",
       "      <th>11</th>\n",
       "      <th>110</th>\n",
       "      <th>1100</th>\n",
       "      <th>11000</th>\n",
       "      <th>...</th>\n",
       "      <th>yelled</th>\n",
       "      <th>yelling</th>\n",
       "      <th>yes</th>\n",
       "      <th>yesterday</th>\n",
       "      <th>young</th>\n",
       "      <th>yr</th>\n",
       "      <th>yrs</th>\n",
       "      <th>zero</th>\n",
       "      <th>zip</th>\n",
       "      <th>zone</th>\n",
       "    </tr>\n",
       "  </thead>\n",
       "  <tbody>\n",
       "    <tr>\n",
       "      <th>0</th>\n",
       "      <td>0</td>\n",
       "      <td>0</td>\n",
       "      <td>0</td>\n",
       "      <td>0</td>\n",
       "      <td>0</td>\n",
       "      <td>0</td>\n",
       "      <td>0</td>\n",
       "      <td>0</td>\n",
       "      <td>0</td>\n",
       "      <td>0</td>\n",
       "      <td>...</td>\n",
       "      <td>0</td>\n",
       "      <td>0</td>\n",
       "      <td>0</td>\n",
       "      <td>0</td>\n",
       "      <td>0</td>\n",
       "      <td>0</td>\n",
       "      <td>0.39087</td>\n",
       "      <td>0</td>\n",
       "      <td>0</td>\n",
       "      <td>0</td>\n",
       "    </tr>\n",
       "    <tr>\n",
       "      <th>1</th>\n",
       "      <td>0</td>\n",
       "      <td>0</td>\n",
       "      <td>0</td>\n",
       "      <td>0</td>\n",
       "      <td>0</td>\n",
       "      <td>0</td>\n",
       "      <td>0</td>\n",
       "      <td>0</td>\n",
       "      <td>0</td>\n",
       "      <td>0</td>\n",
       "      <td>...</td>\n",
       "      <td>0</td>\n",
       "      <td>0</td>\n",
       "      <td>0</td>\n",
       "      <td>0</td>\n",
       "      <td>0</td>\n",
       "      <td>0</td>\n",
       "      <td>0.00000</td>\n",
       "      <td>0</td>\n",
       "      <td>0</td>\n",
       "      <td>0</td>\n",
       "    </tr>\n",
       "    <tr>\n",
       "      <th>2</th>\n",
       "      <td>0</td>\n",
       "      <td>0</td>\n",
       "      <td>0</td>\n",
       "      <td>0</td>\n",
       "      <td>0</td>\n",
       "      <td>0</td>\n",
       "      <td>0</td>\n",
       "      <td>0</td>\n",
       "      <td>0</td>\n",
       "      <td>0</td>\n",
       "      <td>...</td>\n",
       "      <td>0</td>\n",
       "      <td>0</td>\n",
       "      <td>0</td>\n",
       "      <td>0</td>\n",
       "      <td>0</td>\n",
       "      <td>0</td>\n",
       "      <td>0.00000</td>\n",
       "      <td>0</td>\n",
       "      <td>0</td>\n",
       "      <td>0</td>\n",
       "    </tr>\n",
       "    <tr>\n",
       "      <th>3</th>\n",
       "      <td>0</td>\n",
       "      <td>0</td>\n",
       "      <td>0</td>\n",
       "      <td>0</td>\n",
       "      <td>0</td>\n",
       "      <td>0</td>\n",
       "      <td>0</td>\n",
       "      <td>0</td>\n",
       "      <td>0</td>\n",
       "      <td>0</td>\n",
       "      <td>...</td>\n",
       "      <td>0</td>\n",
       "      <td>0</td>\n",
       "      <td>0</td>\n",
       "      <td>0</td>\n",
       "      <td>0</td>\n",
       "      <td>0</td>\n",
       "      <td>0.00000</td>\n",
       "      <td>0</td>\n",
       "      <td>0</td>\n",
       "      <td>0</td>\n",
       "    </tr>\n",
       "    <tr>\n",
       "      <th>4</th>\n",
       "      <td>0</td>\n",
       "      <td>0</td>\n",
       "      <td>0</td>\n",
       "      <td>0</td>\n",
       "      <td>0</td>\n",
       "      <td>0</td>\n",
       "      <td>0</td>\n",
       "      <td>0</td>\n",
       "      <td>0</td>\n",
       "      <td>0</td>\n",
       "      <td>...</td>\n",
       "      <td>0</td>\n",
       "      <td>0</td>\n",
       "      <td>0</td>\n",
       "      <td>0</td>\n",
       "      <td>0</td>\n",
       "      <td>0</td>\n",
       "      <td>0.00000</td>\n",
       "      <td>0</td>\n",
       "      <td>0</td>\n",
       "      <td>0</td>\n",
       "    </tr>\n",
       "  </tbody>\n",
       "</table>\n",
       "<p>5 rows × 5136 columns</p>\n",
       "</div>"
      ],
      "text/plain": [
       "   000  10  100  1000  10000  100000  11  110  1100  11000  ...   yelled  \\\n",
       "0    0   0    0     0      0       0   0    0     0      0  ...        0   \n",
       "1    0   0    0     0      0       0   0    0     0      0  ...        0   \n",
       "2    0   0    0     0      0       0   0    0     0      0  ...        0   \n",
       "3    0   0    0     0      0       0   0    0     0      0  ...        0   \n",
       "4    0   0    0     0      0       0   0    0     0      0  ...        0   \n",
       "\n",
       "   yelling  yes  yesterday  young  yr      yrs  zero  zip  zone  \n",
       "0        0    0          0      0   0  0.39087     0    0     0  \n",
       "1        0    0          0      0   0  0.00000     0    0     0  \n",
       "2        0    0          0      0   0  0.00000     0    0     0  \n",
       "3        0    0          0      0   0  0.00000     0    0     0  \n",
       "4        0    0          0      0   0  0.00000     0    0     0  \n",
       "\n",
       "[5 rows x 5136 columns]"
      ]
     },
     "execution_count": 104,
     "metadata": {},
     "output_type": "execute_result"
    }
   ],
   "source": [
    "table.head()"
   ]
  },
  {
   "cell_type": "code",
   "execution_count": 127,
   "metadata": {
    "collapsed": false,
    "scrolled": true
   },
   "outputs": [
    {
     "data": {
      "image/png": "[encoded data removed]",
      "text/plain": [
       "<matplotlib.figure.Figure at 0x7f06329c9b50>"
      ]
     },
     "metadata": {},
     "output_type": "display_data"
    }
   ],
   "source": [
    "plot_importance(rfc, table, max_features=20)\n",
    "font = {'family' : 'normal',\n",
    "        'weight' : 'bold',\n",
    "        'size'   : 22}\n",
    "plt.rcParams.update({'font.size': 12})"
   ]
  },
  {
   "cell_type": "code",
   "execution_count": 106,
   "metadata": {
    "collapsed": true
   },
   "outputs": [],
   "source": [
    "from sklearn.linear_model import SGDClassifier"
   ]
  },
  {
   "cell_type": "code",
   "execution_count": 107,
   "metadata": {
    "collapsed": false
   },
   "outputs": [],
   "source": [
    "sgd = SGDClassifier(loss= 'log')"
   ]
  },
  {
   "cell_type": "code",
   "execution_count": 108,
   "metadata": {
    "collapsed": false
   },
   "outputs": [
    {
     "data": {
      "text/plain": [
       "SGDClassifier(alpha=0.0001, average=False, class_weight=None, epsilon=0.1,\n",
       "       eta0=0.0, fit_intercept=True, l1_ratio=0.15,\n",
       "       learning_rate='optimal', loss='log', n_iter=5, n_jobs=1,\n",
       "       penalty='l2', power_t=0.5, random_state=None, shuffle=True,\n",
       "       verbose=0, warm_start=False)"
      ]
     },
     "execution_count": 108,
     "metadata": {},
     "output_type": "execute_result"
    }
   ],
   "source": [
    "sgd.fit(words_matrix_train, y_train)"
   ]
  },
  {
   "cell_type": "code",
   "execution_count": 109,
   "metadata": {
    "collapsed": false
   },
   "outputs": [
    {
     "data": {
      "text/plain": [
       "0.64544095207402785"
      ]
     },
     "execution_count": 109,
     "metadata": {},
     "output_type": "execute_result"
    }
   ],
   "source": [
    "skm.roc_auc_score(y_test, sgd.predict_proba(words_matrix_test)[:, 1])"
   ]
  },
  {
   "cell_type": "code",
   "execution_count": 110,
   "metadata": {
    "collapsed": false,
    "scrolled": true
   },
   "outputs": [
    {
     "data": {
      "image/png": "[encoded data removed]",
      "text/plain": [
       "<matplotlib.figure.Figure at 0x7f0632c139d0>"
      ]
     },
     "metadata": {},
     "output_type": "display_data"
    }
   ],
   "source": [
    "plot_roc(sgd.predict_proba(words_matrix_test)[:, 1], y_test, \"ROC plot of  complaint dispute prediction, auc = 0.65\", \n",
    "         \"False Positive Rate (1 - Specificity)\", \"True Positive Rate (Sensitivity, Recall)\")"
   ]
  },
  {
   "cell_type": "code",
   "execution_count": 111,
   "metadata": {
    "collapsed": false
   },
   "outputs": [],
   "source": [
    "#prediction according to threshold value.\n",
    "def model_predict(probs, threshold):\n",
    "    pred = []\n",
    "    for prob in probs:\n",
    "        if prob>=threshold:\n",
    "            pred.append(1)\n",
    "        else: pred.append(0)\n",
    "    return np.array(pred)"
   ]
  },
  {
   "cell_type": "code",
   "execution_count": 112,
   "metadata": {
    "collapsed": true
   },
   "outputs": [],
   "source": [
    "probs = sgd.predict_proba(words_matrix_test)[:, 1]"
   ]
  },
  {
   "cell_type": "code",
   "execution_count": 113,
   "metadata": {
    "collapsed": false
   },
   "outputs": [
    {
     "data": {
      "text/plain": [
       "(11940,)"
      ]
     },
     "execution_count": 113,
     "metadata": {},
     "output_type": "execute_result"
    }
   ],
   "source": [
    "probs.shape"
   ]
  },
  {
   "cell_type": "code",
   "execution_count": 114,
   "metadata": {
    "collapsed": false
   },
   "outputs": [],
   "source": [
    "predict = np.array(model_predict(probs, 0.2))"
   ]
  },
  {
   "cell_type": "code",
   "execution_count": 115,
   "metadata": {
    "collapsed": false
   },
   "outputs": [
    {
     "data": {
      "text/plain": [
       "11940"
      ]
     },
     "execution_count": 115,
     "metadata": {},
     "output_type": "execute_result"
    }
   ],
   "source": [
    "len(predict)"
   ]
  },
  {
   "cell_type": "code",
   "execution_count": 116,
   "metadata": {
    "collapsed": false
   },
   "outputs": [
    {
     "data": {
      "text/html": [
       "<div>\n",
       "<table border=\"1\" class=\"dataframe\">\n",
       "  <thead>\n",
       "    <tr style=\"text-align: right;\">\n",
       "      <th>col_0</th>\n",
       "      <th>0</th>\n",
       "      <th>1</th>\n",
       "    </tr>\n",
       "    <tr>\n",
       "      <th>row_0</th>\n",
       "      <th></th>\n",
       "      <th></th>\n",
       "    </tr>\n",
       "  </thead>\n",
       "  <tbody>\n",
       "    <tr>\n",
       "      <th>False</th>\n",
       "      <td>3800</td>\n",
       "      <td>5271</td>\n",
       "    </tr>\n",
       "    <tr>\n",
       "      <th>True</th>\n",
       "      <td>690</td>\n",
       "      <td>2179</td>\n",
       "    </tr>\n",
       "  </tbody>\n",
       "</table>\n",
       "</div>"
      ],
      "text/plain": [
       "col_0     0     1\n",
       "row_0            \n",
       "False  3800  5271\n",
       "True    690  2179"
      ]
     },
     "execution_count": 116,
     "metadata": {},
     "output_type": "execute_result"
    }
   ],
   "source": [
    "pd.crosstab(y_test,predict)"
   ]
  },
  {
   "cell_type": "code",
   "execution_count": 123,
   "metadata": {
    "collapsed": true
   },
   "outputs": [],
   "source": [
    "def plot_curve(probabilities, labels, title):\n",
    "    '''\n",
    "    INPUT: numpy array, numpy array\n",
    "    OUTPUT: list, list, list\n",
    "\n",
    "    Take a numpy array of the predicted probabilities and a numpy array of the\n",
    "    true labels.\n",
    "    Return the True Positive Rates, False Positive Rates and Thresholds for the\n",
    "    ROC curve.\n",
    "    '''\n",
    "\n",
    "    thresholds = np.sort(probabilities)\n",
    "\n",
    "    tprs = []\n",
    "    fprs = []\n",
    "    fnrs = []\n",
    "    accus = []\n",
    "\n",
    "    num_positive_cases = sum(labels)\n",
    "    num_negative_cases = len(labels) - num_positive_cases\n",
    "   \n",
    "\n",
    "    for threshold in thresholds:\n",
    "        # With this threshold, give the prediction of each instance\n",
    "        predicted_positive = probabilities >= threshold\n",
    "        predicted = np.array([1 if i >= threshold else 0 for i in probabilities])\n",
    "        # Calculate the number of correctly predicted positive cases\n",
    "        true_positives = np.sum(predicted_positive * labels)\n",
    "        # Calculate the number of incorrectly predicted positive cases\n",
    "        false_positives = np.sum(predicted_positive) - true_positives\n",
    "        # Calculate the True Positive Rate\n",
    "        tpr = true_positives / float(num_positive_cases)\n",
    "        # Calculate the False Positive Rate\n",
    "        fpr = false_positives / float(num_negative_cases)\n",
    "        # Calculate the False Negative Rate\n",
    "        fnr = 1 - tpr\n",
    "        # Calculate the overall accuracy\n",
    "        accu = float(np.sum(predicted==labels))/len(labels)\n",
    "\n",
    "        fprs.append(fpr)\n",
    "        tprs.append(tpr)\n",
    "        fnrs.append(fnr)\n",
    "        accus.append(accu)\n",
    "        \n",
    "    fig = plt.figure(figsize=(8,6))   \n",
    "    plt.xlim([np.min(probabilities), np.max(probabilities)])\n",
    "    plt.ylim([0.0, 1.05])\n",
    "    plt.plot(thresholds.tolist(),fprs,  label = 'false positive rate')\n",
    "    plt.plot(thresholds.tolist(),fnrs, label = 'false negative rate')\n",
    "    plt.plot(thresholds.tolist(),accus, label = 'overall accuracy')\n",
    "    plt.plot(np.repeat([0.228],100), np.linspace(0,1.05,100), 'k--', label = 'selected threshold')\n",
    "    plt.legend(loc=\"lower right\")\n",
    "    plt.title(title)\n",
    "    plt.show()\n",
    "    fig.savefig('threshold_select.png')\n"
   ]
  },
  {
   "cell_type": "code",
   "execution_count": 124,
   "metadata": {
    "collapsed": false
   },
   "outputs": [
    {
     "data": {
      "image/png": "[encoded data removed]",
      "text/plain": [
       "<matplotlib.figure.Figure at 0x7f063274ff10>"
      ]
     },
     "metadata": {},
     "output_type": "display_data"
    }
   ],
   "source": [
    "plot_curve(probs, y_test, 'SGD Classifier')"
   ]
  },
  {
   "cell_type": "code",
   "execution_count": null,
   "metadata": {
    "collapsed": true
   },
   "outputs": [],
   "source": []
  },
  {
   "cell_type": "code",
   "execution_count": null,
   "metadata": {
    "collapsed": true
   },
   "outputs": [],
   "source": []
  }
 ],
 "metadata": {
  "kernelspec": {
   "display_name": "Python 2",
   "language": "python",
   "name": "python2"
  },
  "language_info": {
   "codemirror_mode": {
    "name": "ipython",
    "version": 2
   },
   "file_extension": ".py",
   "mimetype": "text/x-python",
   "name": "python",
   "nbconvert_exporter": "python",
   "pygments_lexer": "ipython2",
   "version": "2.7.11"
  }
 },
 "nbformat": 4,
 "nbformat_minor": 0
}
